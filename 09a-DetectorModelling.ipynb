{
 "cells": [
  {
   "cell_type": "raw",
   "metadata": {},
   "source": [
    "%This notebook demonstrates the use of the workpackage template, replace with your own.\n",
    "\n",
    "\\documentclass[english]{workpackage}[1996/06/02]\n",
    "\n",
    "% input the common preamble content (required by the ipnb2latex converter)\n",
    "\\input{header.tex}\n",
    "\n",
    "% then follows the rest of the preamble to be placed before the begin document\n",
    "% this preamble content is special to the documentclass you defined above.\n",
    "\\WPproject{Computational Radiometry}           % project name\n",
    "\\WPequipment{}         % equipment name\n",
    "\\WPsubject{09a InSb Detector Modelling}           % main heading \n",
    "\\WPconclusions{} \n",
    "\\WPclassification{} \n",
    "\\WPdocauthor{CJ Willers}\n",
    "\\WPcurrentpackdate{\\today}\n",
    "\\WPcurrentpacknumber{} % work package number\n",
    "\\WPdocnumber{}         % this doc number hosts all the work packages\n",
    "\\WPprevpackdate{}      % work package which this one supersedes\n",
    "\\WPprevpacknumber{}    % work package which this one supersedes\n",
    "\\WPsuperpackdate{}     % work package which comes after this one\n",
    "\\WPsuperpacknumber{}   % work package which comes after this one\n",
    "\\WPdocontractdetails{false}\n",
    "\\WPcontractname{}      % contract name \n",
    "\\WPorderno{}           % contract order number\n",
    "\\WPmilestonenumber{}   % contract milestone number\n",
    "\\WPmilestonetitle{}    % contract milestone title\n",
    "\\WPcontractline{}      % contract milestone line number \n",
    "\\WPdocECPnumber{}      % ecp\\ecr number\n",
    "\\WPdistribution{}\n",
    "\n",
    "% this is entered just before the end{document}\n",
    "\\newcommand{\\atendofdoc}{\n",
    "\\bibliographystyle{IEEEtran}\n",
    "\\bibliography{09a-DetectorModelling}\n",
    "}\n",
    "\n",
    "%and finally the document begin.\n",
    "\\begin{document}\n",
    "\\WPlayout\n"
   ]
  },
  {
   "cell_type": "markdown",
   "metadata": {},
   "source": [
    "# 9 Detector Modelling"
   ]
  },
  {
   "cell_type": "code",
   "execution_count": 60,
   "metadata": {},
   "outputs": [],
   "source": [
    "# to prepare the python environment\n",
    "\n",
    "import numpy as np\n",
    "import pandas as pd\n",
    "\n",
    "from IPython.display import display\n",
    "from IPython.display import Image\n",
    "from IPython.display import HTML\n",
    "\n",
    "import pyradi.rydetector as rydetector\n",
    "import pyradi.ryplot as ryplot\n",
    "import pyradi.ryplanck as ryplanck\n"
   ]
  },
  {
   "cell_type": "markdown",
   "metadata": {},
   "source": [
    "This notebook forms part of a series on computational optical radiometry\n",
    "These notebooks are constantly revised and updated, please revisit from time to time.  \n",
    "\n",
    "The source for this notebook is available at   \n",
    "https://github.com/NelisW/ComputationalRadiometry/blob/master/09a-DetectorModelling.ipynb"
   ]
  },
  {
   "cell_type": "markdown",
   "metadata": {},
   "source": [
    "The date of this document and module versions used in this document are given at the end of the file.  \n",
    "Feedback is appreciated: neliswillers at gmail dot com."
   ]
  },
  {
   "cell_type": "markdown",
   "metadata": {},
   "source": [
    "## Overview"
   ]
  },
  {
   "cell_type": "markdown",
   "metadata": {},
   "source": [
    "The pyradi rydetector  module models the primary functionality of optical detectors.  This notebook demonstrates the development of a simple single element InSb detector model suitable for high-level system modelling.  The performance of the detector is described in terms of its figures of merit. The theoretical background to this model is covered the text book.  "
   ]
  },
  {
   "cell_type": "markdown",
   "metadata": {},
   "source": [
    "## Concept"
   ]
  },
  {
   "cell_type": "markdown",
   "metadata": {},
   "source": [
    "The detector is modelled as a bulk material device, where a fraction of the incident photons are absorbed in the material and then converted to an electrical signal.  "
   ]
  },
  {
   "cell_type": "markdown",
   "metadata": {},
   "source": [
    "## Analysis"
   ]
  },
  {
   "cell_type": "markdown",
   "metadata": {},
   "source": [
    "### Detector material properties"
   ]
  },
  {
   "cell_type": "markdown",
   "metadata": {},
   "source": [
    "Calculate the bandgap $E_g$ of the InSb material at the detector operating temperature (80 K), using \n",
    "(Eq 5.3) imlemented in rydetector.EgVarshni\n",
    "$$\n",
    "    E_g = E_{g}(0) -\\left(\\frac{A T^2}{T + B}\\right).\n",
    "$$ \n",
    "\n",
    "The Varshni model (Eq 5.3) is an approximated empirical fit to predict a semiconductor bandgap at a given temperature. The approximation employs three parameters: the reference bandgap at a\n",
    "given temperature (usually 0 K), plus two parameters to predict the bandgap at other temperatures (relative to the reference bandgap). Several sets of different Varshni parameters were proposed (Table A.6) by Madelung, Piprek, and Dhanaraj, for the references see my book) using different reference bandgap values, and also based on different experimental data. The bandgap calculation considers three different sets of feasible Varshni coefficients.\n",
    "\n",
    "The detector cutoff wavelength is calculated from $\\lambda_c = 1.24/E_g$.\n",
    "\n",
    "The data storage in the following cell is done in a Pandas dataframe, simply because it is easier to manipulate and display.  The detector parameters are entered as entries into the dataframe and then the Varshni equation is used to calculate Eg in a new row. Next the Eg values are used to calculate the cutoff wavelength $\\lambda_c$.  All the data are neatly then displayed in the HTML table."
   ]
  },
  {
   "cell_type": "code",
   "execution_count": 61,
   "metadata": {
    "collapsed": false,
    "jupyter": {
     "outputs_hidden": false
    }
   },
   "outputs": [
    {
     "name": "stdout",
     "output_type": "stream",
     "text": [
      "Madelung's value for Eg 0.2333793103448276 is used in the rest of this analysis.\n",
      "lambda_c is 5.3132387706855795.\n"
     ]
    },
    {
     "data": {
      "text/html": [
       "<div>\n",
       "<style scoped>\n",
       "    .dataframe tbody tr th:only-of-type {\n",
       "        vertical-align: middle;\n",
       "    }\n",
       "\n",
       "    .dataframe tbody tr th {\n",
       "        vertical-align: top;\n",
       "    }\n",
       "\n",
       "    .dataframe thead th {\n",
       "        text-align: right;\n",
       "    }\n",
       "</style>\n",
       "<table border=\"1\" class=\"dataframe\">\n",
       "  <thead>\n",
       "    <tr style=\"text-align: right;\">\n",
       "      <th></th>\n",
       "      <th>Madelung</th>\n",
       "      <th>Piprek</th>\n",
       "      <th>Dhanaraj</th>\n",
       "    </tr>\n",
       "  </thead>\n",
       "  <tbody>\n",
       "    <tr>\n",
       "      <th>Eg(0)</th>\n",
       "      <td>0.240000</td>\n",
       "      <td>0.235000</td>\n",
       "      <td>0.235000</td>\n",
       "    </tr>\n",
       "    <tr>\n",
       "      <th>A</th>\n",
       "      <td>0.000600</td>\n",
       "      <td>0.000320</td>\n",
       "      <td>0.000310</td>\n",
       "    </tr>\n",
       "    <tr>\n",
       "      <th>B</th>\n",
       "      <td>500.000000</td>\n",
       "      <td>170.000000</td>\n",
       "      <td>452.000000</td>\n",
       "    </tr>\n",
       "    <tr>\n",
       "      <th>T</th>\n",
       "      <td>80.000000</td>\n",
       "      <td>80.000000</td>\n",
       "      <td>80.000000</td>\n",
       "    </tr>\n",
       "    <tr>\n",
       "      <th>Eg</th>\n",
       "      <td>0.233379</td>\n",
       "      <td>0.226808</td>\n",
       "      <td>0.231271</td>\n",
       "    </tr>\n",
       "    <tr>\n",
       "      <th>$\\lambda_c$</th>\n",
       "      <td>5.313239</td>\n",
       "      <td>5.467179</td>\n",
       "      <td>5.361683</td>\n",
       "    </tr>\n",
       "  </tbody>\n",
       "</table>\n",
       "</div>"
      ],
      "text/plain": [
       "               Madelung      Piprek    Dhanaraj\n",
       "Eg(0)          0.240000    0.235000    0.235000\n",
       "A              0.000600    0.000320    0.000310\n",
       "B            500.000000  170.000000  452.000000\n",
       "T             80.000000   80.000000   80.000000\n",
       "Eg             0.233379    0.226808    0.231271\n",
       "$\\lambda_c$    5.313239    5.467179    5.361683"
      ]
     },
     "execution_count": 61,
     "metadata": {},
     "output_type": "execute_result"
    }
   ],
   "source": [
    "# to calculate the semiconductor properties\n",
    "tempDet = 80  # detector temperature in K\n",
    "varshni = pd.DataFrame({ 'Madelung' : pd.Series([0.24, 6e-4, 500, tempDet], index=['Eg(0)','A','B','T']),\n",
    "           'Piprek' : pd.Series([0.235, 3.2e-4, 170, tempDet], index=['Eg(0)','A','B','T']),\n",
    "           'Dhanaraj' : pd.Series([0.235, 3.1e-4, 452, tempDet], index=['Eg(0)','A','B','T'])})\n",
    "eg = pd.DataFrame(varshni.apply(lambda x: rydetector.EgVarshni(x['Eg(0)'], x['A'], x['B'], x['T']), axis=0)).T\n",
    "lambdaC = 1.24 / eg\n",
    "varshni = pd.concat([varshni, eg], axis=0).rename({0:'Eg'})\n",
    "varshni = pd.concat([varshni, lambdaC], axis=0).rename({0:'$\\lambda_c$'})\n",
    "Eg = varshni['Madelung']['Eg']\n",
    "print(\"Madelung's value for Eg {} is used in the rest of this analysis.\".format(Eg))\n",
    "print(\"lambda_c is {}.\".format(1.24/Eg))\n",
    "varshni"
   ]
  },
  {
   "cell_type": "markdown",
   "metadata": {},
   "source": [
    "The spectral absorption coefficient is calculated by using (Eq 5.78) and (Eq 5.79)\n",
    "\n",
    "$$\n",
    "\\alpha_{\\nu} \\propto \\sqrt{h\\nu-E_g} \\approx \\alpha_{\\lambda_c} +  \\alpha_0\\sqrt{h\\nu-E_g} \\;\\; {\\rm for} \\;\\; h\\nu>E_g.\n",
    "$$\n",
    "and \n",
    "$$\n",
    "\\alpha_{\\nu} = \\alpha_{\\lambda_c}\\exp\\left[\\frac{h\\nu-E_g}{kT}\\right] \\;\\; {\\rm for} \\;\\; h\\nu<E_g.\n",
    "$$\n",
    "the data in (Table A.6). \n",
    "\n",
    "The quantum efficiency is calculated by using (Eq 5.87 and 5.88)\n",
    "$$\n",
    "\\frac{J}{q E_q}=\\eta=(1-\\rho)(1-e^{- \\alpha d})\n",
    "$$\n",
    "and\n",
    "$$\n",
    "\\rho=\n",
    "\\left(\n",
    "\\frac{n_2-n_1}{n_2+n_1}\n",
    "\\right)^2,\n",
    "$$\n",
    "with a refractive index of 3.42 for the detector and 1.0 for air, a depletion layer thickness of 5 $\\mu$m, and the spectral absorption coefficient calculated above. \n",
    "\n",
    "The spectral responsivity is calculated using the spectral quantum efficiency and (Eq. 5.5)\n",
    "$$\n",
    "{\\cal R}_{e\\lambda}\n",
    "=\\frac{i_d}{\\Phi_{e}} \n",
    "= \\frac{i_d}{\\frac{hc}{\\lambda}\\Phi_{q}}\n",
    "=\\left\\{\n",
    "\\begin{array}{ll}\n",
    "\\frac{\\eta q\\lambda G}{hc}\n",
    "&{\\rm for\\ \\ } \\lambda \\leq \\lambda_c\\\\\n",
    "0.0\n",
    "&{\\rm for\\ \\ } \\lambda >\\lambda_c\\\\\n",
    "\\end{array}\n",
    "\\right.\n",
    "$$\n",
    "The gain of the photovoltaic detector is 1.0. "
   ]
  },
  {
   "cell_type": "code",
   "execution_count": 62,
   "metadata": {
    "collapsed": false,
    "jupyter": {
     "outputs_hidden": false
    }
   },
   "outputs": [],
   "source": [
    "# to define detector parameters\n",
    "# wavelength in micrometers, remember to scale down in functions.\n",
    "wavelength = np.linspace(1, 5.5, 200)    \n",
    "\n",
    "a0 = 1.9e4 * 100   # absorption coefficient [m-1], Eq3.5 & 3.6 Dereniak\n",
    "a0p = 800 * 100    # absorption coefficient [m-1] Eq3.5 & 3.6 Dereniak\n",
    "d1 = 0                # start of the detector depletion layer in meter\n",
    "d2 = 5e-6             # end of the detector depletion layer in meter\n",
    "n1 = 1.0              # refraction index of the air\n",
    "n2 = 3.42        # refraction index of the semiconductor being analyzed\n",
    "theta1 = 0.0        # radiation incident angle in radians\n",
    "\n",
    "absorption = rydetector.Absorption(wavelength / 1e6, Eg, tempDet, a0, a0p)\n",
    "quantumEffic = rydetector.QuantumEfficiency(absorption, d1, d2, theta1, n1, n2)\n",
    "responsivity = rydetector.Responsivity(wavelength / 1e6,quantumEffic)"
   ]
  },
  {
   "cell_type": "code",
   "execution_count": 63,
   "metadata": {
    "collapsed": false,
    "jupyter": {
     "outputs_hidden": false
    }
   },
   "outputs": [
    {
     "data": {
      "image/png": "[encoded data removed]",
      "text/plain": [
       "<Figure size 648x288 with 1 Axes>"
      ]
     },
     "metadata": {
      "needs_background": "light"
     },
     "output_type": "display_data"
    }
   ],
   "source": [
    "# to plot absorption coefficient\n",
    "absFig = ryplot.Plotter(1,figsize=(9,4))\n",
    "absFig.semilogY(1,wavelength,absorption,'Absorption Coefficient',\\\n",
    "    r'Wavelength [$\\mu$m]',r'Absorption Coefficient [m$^{-1}$]');"
   ]
  },
  {
   "cell_type": "code",
   "execution_count": 64,
   "metadata": {
    "collapsed": false,
    "jupyter": {
     "outputs_hidden": false
    }
   },
   "outputs": [
    {
     "data": {
      "image/png": "[encoded data removed]",
      "text/plain": [
       "<Figure size 648x288 with 1 Axes>"
      ]
     },
     "metadata": {
      "needs_background": "light"
     },
     "output_type": "display_data"
    }
   ],
   "source": [
    "# to plot quantum efficiency\n",
    "QE = ryplot.Plotter(1,figsize=(9,4))\n",
    "QE.plot(1,wavelength,quantumEffic,'Spectral Quantum Efficiency',\\\n",
    "    r'Wavelength [$\\mu$m]','Quantum Efficiency');"
   ]
  },
  {
   "cell_type": "code",
   "execution_count": 65,
   "metadata": {
    "collapsed": false,
    "jupyter": {
     "outputs_hidden": false
    }
   },
   "outputs": [
    {
     "data": {
      "image/png": "[encoded data removed]",
      "text/plain": [
       "<Figure size 648x288 with 1 Axes>"
      ]
     },
     "metadata": {
      "needs_background": "light"
     },
     "output_type": "display_data"
    }
   ],
   "source": [
    "# to plot spectral response\n",
    "Respons = ryplot.Plotter(1,figsize=(9,4))\n",
    "Respons.plot(1,wavelength,responsivity,'Spectral Responsivity',\\\n",
    "    r'Wavelength [$\\mu$m]','Responsivity [A/W]');"
   ]
  },
  {
   "cell_type": "markdown",
   "metadata": {},
   "source": [
    "Calculate the spectral photon and radiant irradiance on the detector for a test source blackbody source with unity emissivity and temperature $T_s = 2000$ K.  The source area $A_s = 33$ mm$^2$, located a distance $R = 100$ mm from the detector. The irradiance is calculated as \n",
    "$$\n",
    "E_{s\\lambda}=\\epsilon_{\\lambda} M_\\lambda(T_s)\\omega/\\pi=M(T_s)A_s/(\\pi R^2),\n",
    "$$\n",
    "where the spectral exitance is given by (Eq. 3.1 and 3.3) for radiant and photon exitance, respectively.\n",
    "$$\n",
    "M_{e\\lambda}(T)\n",
    "=\\frac{2\\pi h c^2}{\\lambda^5 \\left(e^{hc/(\\lambda kT)}-1\\right)} \n",
    "=\\frac{c_{1e\\lambda}}{\\lambda^5 \\left(e^{c_{2\\lambda}/(\\lambda T)}-1\\right)}\n",
    "$$\n",
    "and\n",
    "$$\n",
    "M_{q\\lambda}(T)\n",
    "=\\frac{2\\pi c}{\\lambda^4 \\left(e^{hc/(\\lambda kT)}-1\\right)}\n",
    "=\\frac{c_{1q\\lambda}}{\\lambda^4 \\left(e^{c_{2\\lambda}/(\\lambda T)}-1\\right)}\n",
    "$$"
   ]
  },
  {
   "cell_type": "code",
   "execution_count": 66,
   "metadata": {
    "collapsed": false,
    "jupyter": {
     "outputs_hidden": false
    }
   },
   "outputs": [
    {
     "name": "stdout",
     "output_type": "stream",
     "text": [
      "Source temperature             = 2000 K\n",
      "Source emissivity              = 1.0 \n",
      "Source distance                = 0.1 m\n",
      "Source area                    = 3.3e-05 m2\n",
      "Source solid angle             = 0.0032999999999999995 sr\n"
     ]
    }
   ],
   "source": [
    "# to prepare for detector signal current calculation\n",
    "tempSource = 2000       # source temperature in K\n",
    "emisSource = 1.0          # source emissivity\n",
    "distance = 0.1      # distance between source and detector\n",
    "areaSource = 0.000033     # source area in m2\n",
    "solidAngSource = areaSource / (distance ** 2)\n",
    "print (\"Source temperature             = {0} K\".format(tempSource))\n",
    "print (\"Source emissivity              = {0} \".format(emisSource))\n",
    "print (\"Source distance                = {0} m\".format(distance))\n",
    "print (\"Source area                    = {0} m2\".format(areaSource))\n",
    "print (\"Source solid angle             = {0} sr\".format(solidAngSource))\n",
    "EsourceQL =(emisSource * ryplanck.planck(wavelength,tempSource,'ql') \\\n",
    "    * solidAngSource) / (np.pi )\n",
    "EsourceEL = (emisSource * ryplanck.planck(wavelength, tempSource,'el')*\\\n",
    "    solidAngSource) / (np.pi )\n"
   ]
  },
  {
   "cell_type": "markdown",
   "metadata": {},
   "source": [
    "Calculate the spectral photon and radiant irradiance on the detector for a hemispherical background blackbody source with unity emissivity and temperature of 280 K.  The calculation is done as above but for an hemispherical solid angle."
   ]
  },
  {
   "cell_type": "code",
   "execution_count": 67,
   "metadata": {
    "collapsed": false,
    "jupyter": {
     "outputs_hidden": false
    }
   },
   "outputs": [
    {
     "name": "stdout",
     "output_type": "stream",
     "text": [
      "Background temperature         = 280.0 K\n",
      "Background emissivity          = 1.0 \n",
      "Background solid angle         = 3.141592653589793 sr\n"
     ]
    }
   ],
   "source": [
    "# to prepare for detector background current calculation \n",
    "tempBkg = 280.0              # background temperature in K\n",
    "emisBkg = 1.0                # background emissivity\n",
    "solidAngBkg = np.pi       # background is hemisphere\n",
    "\n",
    "print (\"Background temperature         = {0} K\".format(tempBkg))\n",
    "print (\"Background emissivity          = {0} \".format(emisBkg))\n",
    "print (\"Background solid angle         = {0} sr\".format(solidAngBkg))\n",
    "\n",
    "#spectral irradiance for test setup, for both source and background\n",
    "# in units of photon rate q/(s.m2)\n",
    "EbkgQL = (emisBkg * ryplanck.planck(wavelength, tempBkg, 'ql') * \\\n",
    "    solidAngBkg ) / (np.pi )\n",
    "#in radiant units W/m2\n",
    "EbkgEL = (emisBkg * ryplanck.planck(wavelength, tempBkg, 'el') * \\\n",
    "    solidAngBkg) / (np.pi )\n"
   ]
  },
  {
   "cell_type": "markdown",
   "metadata": {},
   "source": [
    "Calculate the current through the detector for source and background irradiance using a simplified version of (Eq. 6.17):\n",
    "$$\n",
    " i_{\\cal R}=\n",
    "A_{d} \\widehat{\\cal R}\n",
    "\\int_{0}^{\\infty} E_{s\\lambda}{\\cal R}_\\lambda\\,\n",
    "d\\lambda,\n",
    "$$\n",
    "using the spectral responsivity calculated  above.  The following calculation is performed for both the radiant irradiance and photon irradiance, and should yield the same resulting current.\n",
    "\n",
    "The detector area is 200 $\\mu$m by 200 $\\mu$m."
   ]
  },
  {
   "cell_type": "code",
   "execution_count": 68,
   "metadata": {
    "collapsed": false,
    "jupyter": {
     "outputs_hidden": false
    }
   },
   "outputs": [
    {
     "name": "stdout",
     "output_type": "stream",
     "text": [
      "\n",
      "Detector current source        = 4.120e-05 A and 4.120e-05 A\n",
      "Detector current background    = 3.588e-07 A and 3.588e-07 A\n",
      "Detector current total         = 4.155e-05 A and 4.155e-05 A\n"
     ]
    }
   ],
   "source": [
    "# to calculate the detector currents\n",
    "import scipy.constants as const\n",
    "areaDet = (200e-6) ** 2   # detector area in m2\n",
    "\n",
    "iSourceE = np.trapz(EsourceEL * areaDet * responsivity, wavelength)\n",
    "iBkgE = np.trapz(EbkgEL * areaDet * responsivity, wavelength)\n",
    "iSourceQ = np.trapz(EsourceQL * areaDet * quantumEffic * const.e,wavelength)\n",
    "iBkgQ = np.trapz(EbkgQL * areaDet * quantumEffic * const.e, wavelength)\n",
    "iTotalE = iSourceE + iBkgE\n",
    "iTotalQ = iSourceQ + iBkgQ\n",
    "\n",
    "print (\"\\nDetector current source        = {0:.3e} A and {1:.3e} A\".\\\n",
    "    format(iSourceQ,iSourceE))\n",
    "print (\"Detector current background    = {0:.3e} A and {1:.3e} A\".\\\n",
    "    format(iBkgQ,iBkgE))\n",
    "print (\"Detector current total         = {0:.3e} A and {1:.3e} A\".\\\n",
    "    format(iTotalQ,iTotalE))"
   ]
  },
  {
   "cell_type": "markdown",
   "metadata": {},
   "source": [
    "Calculate the detector reverse saturation current $I_{\\rm sat}$. First, calculate the carrier diffusion lengths $L_e$ and $L_h$ by using (Eq. 5.125 and 5.126)\n",
    "\n",
    "$$\n",
    "L_h = \\sqrt{kT\\mu_h \\tau_h/q}\n",
    "$$\n",
    "and\n",
    "$$\n",
    "L_e = \\sqrt{kT\\mu_e \\tau_e/q}\n",
    "$$\n",
    "Second, calculate the intrinsic carrier concentration $n_i$ using (Eq. 5.74)\n",
    "$$\n",
    "n_i^2 = n p = 4 \\left(\\frac{2\\pi k T}{h^2}\\right)^3 \\exp\\left[\\frac{-E_g}{kT}\\right]\\left(m^*_h m^*_e\\right)^{3/2}\n",
    "$$\n",
    "The donor concentration is calculated using (Eq. 5.76 and 5.77)\n",
    "$$\n",
    "p_n = n^2_i/n_n = n^2_i/n_d.\n",
    "$$\n",
    "and \n",
    "$$\n",
    "n_p = n^2_i/p_p = n^2_i/n_a.\n",
    "$$\n",
    "to determine the concentration of carriers.\n",
    "Finally, calculate the reverse-saturation current with (Eq. 5.131)\n",
    "$$\n",
    "I_{\\rm sat}=q A_d \\left(\n",
    "\\frac{n_i^2 L_e}{n_a \\tau_e} +    \\frac{n_i^2 L_h}{n_d \\tau_h}\n",
    "\\right)\n",
    "$$ "
   ]
  },
  {
   "cell_type": "markdown",
   "metadata": {},
   "source": [
    "The values used in this calculation for the InSb detector are as follows:\n",
    "electron mobility 100.0 cm$^2$/(V$\\cdot$s);\n",
    "electron lifetime  $1\\times10^{-8}$ s;\n",
    "hole mobility  1.0  cm$^2$/(V$\\cdot$s);\n",
    "hole lifetime  $1\\times10^{-8}$ s;\n",
    "electron effective mass 0.014 of electron mass;\n",
    "hole effective mass 0.43 of electron mass;\n",
    "acceptor concentration $1\\times10^{16}$ m$^{-3}$;\n",
    "donor concentration $1\\times10^{16}$ m$^{-3}$;\n",
    "$E_g$ as calculated  above; and \n",
    "detector temperature of 80 K. \n"
   ]
  },
  {
   "cell_type": "code",
   "execution_count": 69,
   "metadata": {
    "collapsed": false,
    "jupyter": {
     "outputs_hidden": false
    }
   },
   "outputs": [
    {
     "name": "stdout",
     "output_type": "stream",
     "text": [
      "I0               = 6.480223667228038e-08 [A] \n",
      "ni               = 3327344312803649.5 [m-3] \n"
     ]
    }
   ],
   "source": [
    "# to calculate the reverse saturation current\n",
    "eMob = 100.0    # electron mobility - m2/V.s\n",
    "hMob = 1.0    # hole mobility - m2/V.s\n",
    "tauE = 1e-8    # electron lifetime - s\n",
    "tauH = 1e-8    # electron lifetime - s\n",
    "me = 0.014 * const.m_e    # electron effective mass\n",
    "mh = 0.43 * const.m_e     # hole effective mass\n",
    "na = 1e16        # doping = acceptor concentration - m-3\n",
    "nd = 1e16        # doping = donor concentration - m-3\n",
    "Isat,ni = rydetector.Isaturation(eMob, tauE, hMob, tauH, me, \n",
    "                                 mh, na, nd, Eg, tempDet, areaDet)\n",
    "print (\"I0               = {0} [A] \".format(Isat))\n",
    "print (\"ni               = {0} [m-3] \".format(ni))"
   ]
  },
  {
   "cell_type": "markdown",
   "metadata": {},
   "source": [
    "Calculate the current-voltage relationship using (Eq 5.128)\n",
    "$$\n",
    "I=\n",
    "I_{\\rm sat}\n",
    "e^{qV/(kT\\beta)}\n",
    "-\n",
    "I_{\\rm sat}\n",
    " -I_{ph},\n",
    "$$\n",
    "\n",
    "The saturation current $I_{\\rm sat}$ is calculated as explained  above.  The photocurrent is determined from (Eq. 5.4 and 5.5)\n",
    "\n",
    "$$\n",
    "{\\cal R}_{q\\lambda}=\\frac{i_d}{\\Phi_{q}} \n",
    "=\\left\\{\\begin{array}{ll}\n",
    "\\eta q G\n",
    "&{\\rm for\\ \\ } \\lambda \\leq \\lambda_c\\\\\n",
    "0.0\n",
    "&{\\rm for\\ \\ } \\lambda >\\lambda_c\\\\\n",
    "\\end{array},\n",
    "\\right. \n",
    "$$\n",
    "and \n",
    "$$\n",
    "{\\cal R}_{e\\lambda}\n",
    "=\\frac{i_d}{\\Phi_{e}} \n",
    "= \\frac{i_d}{\\frac{hc}{\\lambda}\\Phi_{q}}\n",
    "=\\left\\{\n",
    "\\begin{array}{ll}\n",
    "\\frac{\\eta q\\lambda G}{hc}\n",
    "&{\\rm for\\ \\ } \\lambda \\leq \\lambda_c\\\\\n",
    "0.0\n",
    "&{\\rm for\\ \\ } \\lambda >\\lambda_c\\\\\n",
    "\\end{array}\n",
    "\\right.\n",
    "$$\n",
    "\n",
    "The value of $\\beta$ is determined as explained in (Sec. 5.9.2).  The value for $\\beta=1.7$ is used here because InSb operation is dominated by g-r current (for references see my book).\n",
    "\n",
    "The current-voltage relationship can be calculated for different background flux values, such as 'dark' ($I_{ph}=0$), or for different irradiance values, such as those calculated above.\n",
    "\n",
    "The following figure shows the current-voltage relationship for three cases: (a) the dark current (i.e., no background flux), (b) hemispherical background flux at 280 K, and (c) the test source flux.  \n",
    "\n",
    "Note that the y axis is logarithmic to show detail: *negative values are shown positive because the logarithm of a negative number is not defined*.\n",
    "\n",
    "Note that the dark current I-V curve is close to the background current I-V curve, while the test source curve is shifted down by almost two orders of magnitude; this is caused by the photon current resulting from the test source flux."
   ]
  },
  {
   "cell_type": "code",
   "execution_count": 70,
   "metadata": {
    "collapsed": false,
    "jupyter": {
     "outputs_hidden": false
    }
   },
   "outputs": [
    {
     "data": {
      "image/png": "[encoded data removed]",
      "text/plain": [
       "<Figure size 648x576 with 2 Axes>"
      ]
     },
     "metadata": {
      "needs_background": "light"
     },
     "output_type": "display_data"
    }
   ],
   "source": [
    "# to plot the IV curves\n",
    "IVbeta = 1.7     # 1 = dominanr diffusion current, 2 = g-r dominant\n",
    "Vbias = np.linspace(-200e-3, 100e-3, 200) # bias voltage range\n",
    "ixvDark = rydetector.IXV(Vbias, IVbeta, tempDet, 0, Isat)\n",
    "ixvBackgnd = rydetector.IXV(Vbias, IVbeta, tempDet, iBkgE, Isat)\n",
    "ixvTotalE = rydetector.IXV(Vbias, IVbeta, tempDet, iTotalE, Isat)\n",
    "IXVplot = ryplot.Plotter(1,2,1,figsize=(9,8))\n",
    "IXVplot.semilogY(1,Vbias,np.abs(ixvDark) * 1e6, plotCol=['g'],label=['Dark'])\n",
    "IXVplot.semilogY(1,Vbias,np.abs(ixvBackgnd) * 1e6, plotCol=['r'],label=['Background'])\n",
    "IXVplot.semilogY(1,Vbias,np.abs(ixvTotalE) * 1e6,'IxV Curve',\\\n",
    "    'Voltage [V]','|Current| [uA]',plotCol=['b'],label=['Test source'])\n",
    "IXVplot.plot(2,Vbias,ixvDark * 1e6, plotCol=['g'],label=['Dark'])\n",
    "IXVplot.plot(2,Vbias,ixvBackgnd * 1e6, plotCol=['r'],label=['Background'])\n",
    "IXVplot.plot(2,Vbias,ixvTotalE * 1e6,'IxV Curve',\\\n",
    "    'Voltage [V]','|Current| [uA]',plotCol=['b'],label=['Test source']);"
   ]
  },
  {
   "cell_type": "markdown",
   "metadata": {},
   "source": [
    "(Eq. 5.140) is used to calculate the detector's dynamic resistance under zero-bias voltage, \n",
    "$$\n",
    "R_0=-\\left.\\left(\\frac{dI}{dV}\\right)^{-1}\\right\\vert_{V=0} = \\frac{\\beta k T}{q I_{\\rm sat}}\n",
    "$$\n",
    " using the reverse-saturation current calculated  above.\n",
    " \n",
    "The Johnson noise is calculated using (Eq 5.141) \n",
    "$$\n",
    "i_n^2 \n",
    "= \\frac{4kT}{R_0}\n",
    "=\\frac{4q I_{\\rm sat}}{\\beta }\n",
    "=\\frac{2(2q I_{\\rm sat})}{\\beta },\n",
    "$$\n",
    "\n",
    "The noise PSD for the three current components: (a) diffusion, (b) thermal excitation, and (c) photocurrent is calculated using (Eq. 5.143).\n",
    "$$\n",
    "i^2_n=2q  I_{\\rm sat} e^{qV/(kT\\beta)}  + 2q  I_{\\rm sat}  + 2q   I_{ph}\n",
    "$$\n",
    "\n",
    "The total noise is found by adding all four components in quadrature."
   ]
  },
  {
   "cell_type": "code",
   "execution_count": 71,
   "metadata": {
    "collapsed": false,
    "jupyter": {
     "outputs_hidden": false
    }
   },
   "outputs": [
    {
     "name": "stdout",
     "output_type": "stream",
     "text": [
      "R0=              = 180851.36930976599 Ohm\n",
      "NBW=             = 100.0 Hz\n",
      "iNoiseTotal      = 4.253495459385366e-12 A\n",
      "iNoise Johnson=  = 1.5629883099729602e-12 A\n",
      "iNoise shot      = 3.955918498389444e-12 A\n"
     ]
    }
   ],
   "source": [
    "# to calculate R0A product\n",
    "deltaFreq = 100.0      # measurement or desirable bandwidth - Hertz\n",
    "iNoisePsd, R0, johnsonPsd, shotPsd = rydetector.Noise(tempDet, IVbeta, Isat, iBkgE)\n",
    "iNoise = iNoisePsd * np.sqrt(deltaFreq)\n",
    "\n",
    "print('R0=              = {0} Ohm'.format(R0))\n",
    "print('NBW=             = {0} Hz'.format(deltaFreq))\n",
    "print(\"iNoiseTotal      = {0} A\".format(iNoise))\n",
    "print(\"iNoise Johnson=  = {0} A\".format(johnsonPsd * np.sqrt(deltaFreq)))\n",
    "print(\"iNoise shot      = {0} A\".format(shotPsd * np.sqrt(deltaFreq)))"
   ]
  },
  {
   "cell_type": "markdown",
   "metadata": {},
   "source": [
    "The NEP is determined from  (Eq. 5.25)\n",
    "$$\n",
    "{NEP}_\\lambda=\\frac{i_d \\sqrt{\\Delta{}f}}{{\\cal R}_\\lambda}\n",
    "$$\n",
    "with the spectral responsivity calculated and the noise current calculated above.  The NEP is calculated and shown next."
   ]
  },
  {
   "cell_type": "code",
   "execution_count": 72,
   "metadata": {
    "collapsed": false,
    "jupyter": {
     "outputs_hidden": false
    }
   },
   "outputs": [
    {
     "data": {
      "image/png": "[encoded data removed]",
      "text/plain": [
       "<Figure size 648x288 with 1 Axes>"
      ]
     },
     "metadata": {
      "needs_background": "light"
     },
     "output_type": "display_data"
    }
   ],
   "source": [
    "# to calculate NEP\n",
    "NEPower, detectivity = rydetector.NEP(iNoise, responsivity)\n",
    "NEPfig = ryplot.Plotter(1,figsize=(9,4))\n",
    "NEPfig.plot(1,wavelength,NEPower,'Spectral Noise Equivalent Power',\\\n",
    "    r'Wavelength [$\\mu$m]','NEP [W]',\\\n",
    "    pltaxis=[np.min(wavelength), np.max(wavelength), 0,NEPower[0]]);"
   ]
  },
  {
   "cell_type": "markdown",
   "metadata": {},
   "source": [
    "The $D^\\ast$ is calculated from the area of the detector, the noise bandwidth, the noise, and the responsivity, by (Eq. 5.26)\n",
    "$$\n",
    "D^\\ast_\\lambda\n",
    "=\\frac{\\sqrt{\\Delta{}f A_d}}{{NEP}_\\lambda}\n",
    "=\\frac{{\\cal R}_\\lambda \\sqrt{\\Delta{}f A_d} }{i_d \\sqrt{\\Delta{}f}  }\n",
    "$$"
   ]
  },
  {
   "cell_type": "code",
   "execution_count": 73,
   "metadata": {
    "collapsed": false,
    "jupyter": {
     "outputs_hidden": false
    }
   },
   "outputs": [
    {
     "data": {
      "image/png": "[encoded data removed]",
      "text/plain": [
       "<Figure size 648x288 with 1 Axes>"
      ]
     },
     "metadata": {
      "needs_background": "light"
     },
     "output_type": "display_data"
    }
   ],
   "source": [
    "# to calculate Dstar\n",
    "#use either of the following two forms:\n",
    "#dStar = rydetector.DStar(areaDet, deltaFreq, iNoise, responsivity) # units in cm\n",
    "dStar = rydetector.DStar(areaDet, 1, iNoisePsd, responsivity) # units in cm\n",
    "\n",
    "DStarfig = ryplot.Plotter(1,figsize=(9,4))\n",
    "DStarfig.plot(1,wavelength,dStar,'Spectral normalized detectivity',\\\n",
    "    r'Wavelength [$\\mu$m]',r'D* [cm$\\sqrt{{\\rm Hz}}$/W]');"
   ]
  },
  {
   "cell_type": "markdown",
   "metadata": {},
   "source": [
    "## Python and module versions, and dates"
   ]
  },
  {
   "cell_type": "code",
   "execution_count": 74,
   "metadata": {
    "collapsed": false,
    "jupyter": {
     "outputs_hidden": false
    }
   },
   "outputs": [
    {
     "name": "stdout",
     "output_type": "stream",
     "text": [
      "Software versions\n",
      "Python:   3.8.3 64bit [MSC v.1916 64 bit (AMD64)]\n",
      "IPython:   7.30.1\n",
      "OS:   Windows 10 10.0.19041 SP0\n",
      "matplotlib:   3.5.1\n",
      "numpy:   1.20.3\n",
      "pyradi:   1.1.4\n",
      "scipy:   1.7.3\n",
      "pandas:   1.3.5\n",
      "Mon Jan 10 16:55:04 2022 South Africa Standard Time\n"
     ]
    }
   ],
   "source": [
    "# to plot software versions\n",
    "# https://github.com/rasbt/watermark\n",
    "try:\n",
    "    import pyradi.ryutils as ryutils\n",
    "    print(ryutils.VersionInformation('matplotlib,numpy,pyradi,scipy,pandas'))\n",
    "except:\n",
    "    print(\"pyradi.ryutils not found\")"
   ]
  },
  {
   "cell_type": "code",
   "execution_count": null,
   "metadata": {
    "collapsed": false,
    "jupyter": {
     "outputs_hidden": false
    }
   },
   "outputs": [],
   "source": []
  }
 ],
 "metadata": {
  "anaconda-cloud": {},
  "kernelspec": {
   "display_name": "Python 3 (ipykernel)",
   "language": "python",
   "name": "python3"
  },
  "language_info": {
   "codemirror_mode": {
    "name": "ipython",
    "version": 3
   },
   "file_extension": ".py",
   "mimetype": "text/x-python",
   "name": "python",
   "nbconvert_exporter": "python",
   "pygments_lexer": "ipython3",
   "version": "3.8.3"
  }
 },
 "nbformat": 4,
 "nbformat_minor": 4
}
