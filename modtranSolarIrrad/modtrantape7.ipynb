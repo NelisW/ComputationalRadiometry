{
 "cells": [
  {
   "cell_type": "raw",
   "id": "8951f9e9-892f-4f2f-8bb9-11595ea4b9ab",
   "metadata": {},
   "source": [
    "%This notebook demonstrates the use of the workpackage template, replace with your own.\n",
    "\n",
    "\\documentclass[english]{workpackage}[1996/06/02]\n",
    "\n",
    "% input the common preamble content (required by the ipnb2latex converter)\n",
    "\\input{header.tex}\n",
    "\n",
    "% the following three lines are required to support the tikz examples\n",
    "%\\usepackage{tikz}\n",
    "%\\usepackage{sansmath}\n",
    "%\\usetikzlibrary{shadings,intersections}\n",
    "\n",
    "% then follows the rest of the preamble to be placed before the begin document\n",
    "% this preamble content is special to the documentclass you defined above.\n",
    "\\WPproject{My Project}           % project name\n",
    "\\WPequipment{Work package demonstrator}         % equipment name\n",
    "\\WPsubject{How to use the converter to create a work package}           % main heading \n",
    "\\WPconclusions{\\begin{enumerate}\n",
    "\\item This work package demonstrates the use of the converter.\n",
    "\\item It was tested with and should work on Python 3.5 and up.\n",
    "\\end{enumerate}} \n",
    "\\WPclassification{Unclassified} \n",
    "\\WPdocauthor{CJ Willers}\n",
    "\\WPcurrentpackdate{\\today}\n",
    "\\WPcurrentpacknumber{0001} % work package number\n",
    "\\WPdocnumber{}         % this doc number hosts all the work packages\n",
    "\\WPprevpackdate{}      % work package which this one supersedes\n",
    "\\WPprevpacknumber{}    % work package which this one supersedes\n",
    "\\WPsuperpackdate{}     % work package which comes after this one\n",
    "\\WPsuperpacknumber{}   % work package which comes after this one\n",
    "\\WPdocontractdetails{false}\n",
    "\\WPcontractname{}      % contract name \n",
    "\\WPorderno{}           % contract order number\n",
    "\\WPmilestonenumber{}   % contract milestone number\n",
    "\\WPmilestonetitle{}    % contract milestone title\n",
    "\\WPcontractline{}      % contract milestone line number \n",
    "\\WPdocECPnumber{1234567}      % ecp/ecr number\n",
    "\\WPdistribution{\n",
    "%\\vspace{0.1mm}\n",
    "%\\begin{tabular}{lllll}\n",
    "%Name 1 & Name 12 & Name 3 & Name 4 & Name 5\\\\\n",
    "%Name 6 & Name 7 & \\multicolumn{3}{l}{Master:  some repo}\\\\\n",
    "%\\end{tabular}\n",
    "}\n",
    "\n",
    "% bibfile added in this notebook\n",
    "%\\addbibresource{./modtrantape7.bib}  \n",
    "\n",
    "% this is entered just before the end{document}\n",
    "\\newcommand{\\atendofdoc}{\n",
    "\\bibliographystyle{IEEEtran}\n",
    "\\bibliography{modtrantape7}\n",
    "}\n",
    "\n",
    "%and finally the document begin.\n",
    "\\begin{document}\n",
    "\\WPlayout\n"
   ]
  },
  {
   "cell_type": "raw",
   "id": "1c80302c-fe41-4d3a-b115-90d4d13044f4",
   "metadata": {},
   "source": [
    "% https://www.soda-pro.com/soda-products\n",
    "% https://www.nrel.gov/grid/solar-resource/spectra-wehrli.html\n"
   ]
  },
  {
   "cell_type": "markdown",
   "id": "3e08dcfb-a209-41a5-be27-7557dd26f41b",
   "metadata": {},
   "source": [
    "# Modtran Tape7 Data Analysis"
   ]
  },
  {
   "cell_type": "code",
   "execution_count": 1,
   "id": "north-street",
   "metadata": {},
   "outputs": [],
   "source": [
    "###\n",
    "import os\n",
    "import numpy as np\n",
    "import pandas as pd\n",
    "from scipy.interpolate import  interp1d\n",
    "\n",
    "import pyradi.ryplot as ryplot\n",
    "import pyradi.ryplanck as ryplanck\n",
    "import pyradi.rymodtran as rymodtran\n",
    "import pyradi.ryutils as ryutils"
   ]
  },
  {
   "cell_type": "markdown",
   "id": "741505d8-c548-4f28-a239-e9fb9bc06d8e",
   "metadata": {
    "tags": []
   },
   "source": [
    "## Modtran Runs\n",
    "\n",
    "Several different path geometries were investigated, all for the same atmospheric model. The atmospheric model used here is not important, it merely serves as common model. For reference, this model has custom vertical profiles with max altitude of 30.03~km, with high ground temperature and 10 km visibility Navy Maritime aerosol, and specifies the standard Modtran Desert albedo.\n",
    "\n",
    "Note that Modtran does not assume any vertical profiles values higher than the highest given tape5 profile data, longer/higher paths are truncated to the upper limit in the profile.\n",
    "\n",
    "The path geometries with identifiers are shown in Figure~\\ref{fig:pathgeometry01}."
   ]
  },
  {
   "cell_type": "markdown",
   "id": "ce8effbf-f505-4b70-8c76-99d056bdc4f8",
   "metadata": {
    "figureCaption": {
     "caption": "Path geometries",
     "label": "fig:pathgeometry01",
     "locator": "tbph",
     "width": "1"
    },
    "run_control": {
     "frozen": false,
     "read_only": false
    },
    "tags": []
   },
   "source": [
    "![](images/pathgeometry01.png)"
   ]
  },
  {
   "cell_type": "markdown",
   "id": "14448838-bfe8-4ec7-86a8-07c152a3c647",
   "metadata": {
    "run_control": {
     "frozen": false,
     "read_only": false
    },
    "tableCaption": {
     "caption": "Path geometries",
     "label": "tab:pathgeometry01",
     "locator": "tbph",
     "width": "1"
    },
    "tags": []
   },
   "source": [
    "|Run |ID|Path | H1 | H2 | Zenith | \n",
    "| --| ---| ---| ---|---|--|\n",
    "|obs |o |slant path | 12.027|0.027| 118.8|\n",
    "|low |l |slant path | 0.037 | 0.027| 118.8|\n",
    "|med |m |slant path | 3 | 0.027| 118.8|\n",
    "|sun |s |slant path to space | 0.027|30.03 | 21.33 |\n",
    "|upp |u |slant path to space | 30.03|0.027  |180 |"
   ]
  },
  {
   "cell_type": "markdown",
   "id": "fa3f36a5-145b-4fd4-a2ee-c6f3d952dee1",
   "metadata": {},
   "source": [
    "The Modtran tape6 files reported the follwing path calculations:"
   ]
  },
  {
   "cell_type": "markdown",
   "id": "edd0abb0-004a-4821-80e9-c23816a7c455",
   "metadata": {},
   "source": [
    "obs\n",
    "\n",
    "     SUMMARY OF LINE-OF-SIGHT No.  1 GEOMETRY CALCULATION\n",
    "\n",
    "              H1ALT   =   12.02700 KM\n",
    "              H2ALT   =    0.02700 KM\n",
    "              OBSZEN  =  118.80000 DEG\n",
    "              HRANGE  =   24.98077 KM\n",
    "              ECA     =    0.19685 DEG\n",
    "              BCKZEN  =   61.37906 DEG\n",
    "              HMIN    =    0.02700 KM\n",
    "              BENDING =    0.01778 DEG\n",
    "              CKRANG  =    0.00000 KM\n",
    "              LENN    =          0"
   ]
  },
  {
   "cell_type": "markdown",
   "id": "5d78f5ff-9de8-40f2-8f4c-1fe56f67f73c",
   "metadata": {},
   "source": [
    "low \n",
    "\n",
    "     SUMMARY OF LINE-OF-SIGHT No.  1 GEOMETRY CALCULATION\n",
    "\n",
    "              H1ALT   =    0.03700 KM\n",
    "              H2ALT   =    0.02700 KM\n",
    "              OBSZEN  =  118.80000 DEG\n",
    "              HRANGE  =    0.02076 KM\n",
    "              ECA     =    0.00016 DEG\n",
    "              BCKZEN  =   61.20023 DEG\n",
    "              HMIN    =    0.02700 KM\n",
    "              BENDING =   -0.00006 DEG\n",
    "              CKRANG  =    0.00000 KM\n",
    "              LENN    =          0\n",
    "\n"
   ]
  },
  {
   "cell_type": "markdown",
   "id": "9670df86-7fa2-48c5-8c01-2dd4635c7032",
   "metadata": {},
   "source": [
    "med \n",
    "\n",
    "     SUMMARY OF LINE-OF-SIGHT No.  1 GEOMETRY CALCULATION\n",
    "\n",
    "              H1ALT   =    3.00000 KM\n",
    "              H2ALT   =    0.02700 KM\n",
    "              OBSZEN  =  118.80000 DEG\n",
    "              HRANGE  =    6.17544 KM\n",
    "              ECA     =    0.04866 DEG\n",
    "              BCKZEN  =   61.24339 DEG\n",
    "              HMIN    =    0.02700 KM\n",
    "              BENDING =    0.00527 DEG\n",
    "              CKRANG  =    0.00000 KM\n",
    "              LENN    =          0\n"
   ]
  },
  {
   "cell_type": "markdown",
   "id": "757bb1bf-103c-4ae1-ad47-2b9786ad1086",
   "metadata": {},
   "source": [
    "sun  (highest layer at 30.03 km)\n",
    "\n",
    "     SUMMARY OF LINE-OF-SIGHT No.  1 GEOMETRY CALCULATION\n",
    "\n",
    "              H1ALT   =    0.02700 KM\n",
    "              H2ALT   =   30.03000 KM\n",
    "              OBSZEN  =   21.33000 DEG\n",
    "              HRANGE  =   32.19863 KM\n",
    "              ECA     =    0.10485 DEG\n",
    "              BCKZEN  =  158.76947 DEG\n",
    "              HMIN    =    0.02700 KM\n",
    "              BENDING =    0.00538 DEG\n",
    "              CKRANG  =    0.00000 KM\n",
    "              LENN    =          0\n"
   ]
  },
  {
   "cell_type": "markdown",
   "id": "02e8d646-dcdd-4a2a-aaff-811d46d372c3",
   "metadata": {},
   "source": [
    "upp  (highest layer at 30.03 km)\n",
    "\n",
    "     SUMMARY OF LINE-OF-SIGHT No.  1 GEOMETRY CALCULATION\n",
    "\n",
    "              H1ALT   =   30.03000 KM\n",
    "              H2ALT   =    0.02700 KM\n",
    "              OBSZEN  =  180.00000 DEG\n",
    "              HRANGE  =   30.00300 KM\n",
    "              ECA     =    0.00000 DEG\n",
    "              BCKZEN  =    0.00000 DEG\n",
    "              HMIN    =    0.02700 KM\n",
    "              BENDING =    0.00000 DEG\n",
    "              CKRANG  =    0.00000 KM\n",
    "              LENN    =          0\n"
   ]
  },
  {
   "cell_type": "code",
   "execution_count": 2,
   "id": "67f2c2bd-11f8-4d17-b4e9-329caeebee96",
   "metadata": {},
   "outputs": [],
   "source": [
    "###\n",
    "dicPaths = {\n",
    "'o':['[o] obs H1=12, H2=0.027, OBSZEN=118, HRANGE=25 km','g'],\n",
    "'l':['[l] low H1=0.037, H2=0.027, OBSZEN=118, HRANGE=0.02 km','y'],\n",
    "'m':['[m] low H1=3, H2=0.027, OBSZEN=118, HRANGE=6.2 km','c'],\n",
    "'s':['[s] sun H1=0.027, H2=30, OBSZEN=21, HRANGE=32.2 km','r'],\n",
    "'u':['[u] upp H1=30, H2=0.027, OBSZEN=180, HRANGE=30 km','b']\n",
    "}"
   ]
  },
  {
   "cell_type": "code",
   "execution_count": 4,
   "id": "e54d94e3-9b22-4f40-8aa3-2ab7d3eadb90",
   "metadata": {},
   "outputs": [],
   "source": [
    "## to define a function to load and interpolate the tape7 files\n",
    "def loadinter(filename,wli):\n",
    "    tape7 = rymodtran.loadtape7(filename, ['FREQ', 'REF_SOL','DEPTH','SOL@OBS','GRND_RFLT','DRCT_RFLT',\n",
    "                                          'PTH_THRML','THRML_SCT','SURF_EMIS','SOL_SCAT','SING_SCAT','TOTAL_RAD'] )\n",
    "\n",
    "    waven = tape7[:,0]\n",
    "\n",
    "    # transmittance observer to ground\n",
    "    tau = np.exp(-tape7[:,2])\n",
    "    intfn = interp1d(1e4/waven,tau)\n",
    "    tau = intfn(wli).reshape(-1,1)\n",
    "    \n",
    "    # convert from cm2 to m2\n",
    "    refsoln = tape7[:,1]*1e4\n",
    "    solobsn = tape7[:,3]*1e4\n",
    "    grndrfltn = tape7[:,4]*1e4\n",
    "    drctrfltn = tape7[:,5]*1e4\n",
    "\n",
    "    # convert to per micron spectral density and interpolate to new vector\n",
    "    (wavel, refsol) = ryutils.convertSpectralDensity(waven, refsoln, 'nl',outspecdomainFix=True,outspecdomain=wli)\n",
    "    (wavel, solobs) = ryutils.convertSpectralDensity(waven, solobsn, 'nl',outspecdomainFix=True,outspecdomain=wli)\n",
    "    (wavel, grndrflt) = ryutils.convertSpectralDensity(waven, grndrfltn, 'nl',outspecdomainFix=True,outspecdomain=wli)\n",
    "    (wavel, drctrflt) = ryutils.convertSpectralDensity(waven, drctrfltn, 'nl',outspecdomainFix=True,outspecdomain=wli)\n",
    "    \n",
    "    \n",
    "    \n",
    "    \n",
    "    \n",
    "    return wavel, tau, refsol, solobs, grndrflt, drctrflt\n"
   ]
  },
  {
   "cell_type": "markdown",
   "id": "a8ac6547-1418-4dd5-ad0f-658b2d28d5fe",
   "metadata": {},
   "source": [
    "The `FREQ`, `REF_SOL`,`DEPTH`,`SOL@OBS`,`GRND_RFLT`,`DRCT_RFLT` columns are read from the Modtran tape7 files, for each of the paths.  The Modtran spectral albedo for Desert was extracted from the Modtran data folders and read here.  Next,  the Wehrli standard extraterrestrial (TOA) solar irradiance values are also read from a data file (https://www.nrel.gov/grid/solar-resource/spectra-wehrli.html). Finally a very simple blackbody model is used to calculate the model for TOA extraterrestrial solar irradiance."
   ]
  },
  {
   "cell_type": "code",
   "execution_count": 6,
   "id": "eefdaed3-9a0d-4c72-9c7a-1589936f44b2",
   "metadata": {},
   "outputs": [],
   "source": [
    "## to load all the data\n",
    "wli = np.linspace(1e4/33330.00, 1e4/10000.00,300)\n",
    "\n",
    "# lod the three cases of modtran runa\n",
    "wavelo, tauo, refsolo, solobso, grndrflto, drctrflto = loadinter('data/obs/tape5.tp7',wli)\n",
    "wavell, taul, refsoll, solobsl, grndrfltl, drctrfltl = loadinter('data/low/tape5.tp7',wli)\n",
    "wavelm, taum, refsolm, solobsm, grndrfltm, drctrfltm = loadinter('data/med/tape5.tp7',wli)\n",
    "wavels, taus, refsols, solobss, grndrflts, drctrflts = loadinter('data/sun/tape5.tp7',wli)\n",
    "wavelu, tauu, refsolu, solobsu, grndrfltu, drctrfltu = loadinter('data/upp/tape5.tp7',wli)\n",
    "\n",
    "albedod = np.loadtxt('data/albedo.dat')\n",
    "intfn = interp1d(albedod[:,0],albedod[:,1])\n",
    "albedo = intfn(wavelo).reshape(-1,1)\n",
    "\n",
    "wehrli85d = np.loadtxt('data/wehrli85.txt',skiprows=3)\n",
    "intfn = interp1d(wehrli85d[:,0]/1000.,wehrli85d[:,1]*1000.)\n",
    "wehrli85 = intfn(wavelo).reshape(-1,1) \n",
    "\n",
    "Tsun = 5850\n",
    "Esun = 2.17e-5 * ryplanck.planck(wavelo,Tsun,'el') "
   ]
  },
  {
   "cell_type": "markdown",
   "id": "73ca37d2-2238-46ea-aa0c-764c7278c69d",
   "metadata": {},
   "source": [
    "The path transmittance values are shown in Figure~\\ref{fig:pathtransmittance}.  For each line in the plot is shown the heights `H1` and `H2`, the `OBSZEN` azimuth angle in degrees and the path `HRANGE` path length.\n",
    "\n",
    "The relative ratios of transmittance values agree with absorber amounts expectations."
   ]
  },
  {
   "cell_type": "code",
   "execution_count": 7,
   "id": "8760bde1-5f9e-489d-8071-3c30a1ad13ca",
   "metadata": {
    "figureCaption": {
     "caption": "Path transmittance",
     "label": "fig:pathtransmittance",
     "locator": "tbph",
     "width": "1"
    },
    "run_control": {
     "frozen": false,
     "read_only": false
    },
    "tags": []
   },
   "outputs": [
    {
     "data": {
      "image/png": "[encoded data removed]",
      "text/plain": [
       "<Figure size 864x360 with 1 Axes>"
      ]
     },
     "metadata": {
      "needs_background": "light"
     },
     "output_type": "display_data"
    }
   ],
   "source": [
    "## to plot transmittance data\n",
    "p = ryplot.Plotter(1, 1, 1, figsize=(12,5))\n",
    "p.plot(1,wavelo,tauo,label=[dicPaths['o'][0]],plotCol=dicPaths['o'][1])\n",
    "p.plot(1,wavelo,taul,label=[dicPaths['l'][0]],plotCol=dicPaths['l'][1])\n",
    "p.plot(1,wavelo,taum,label=[dicPaths['m'][0]],plotCol=dicPaths['m'][1])\n",
    "p.plot(1,wavelo,taus,label=[dicPaths['s'][0]],plotCol=dicPaths['s'][1])\n",
    "p.plot(1,wavelo,tauu,label=[dicPaths['u'][0]],plotCol=dicPaths['u'][1],linestyle=['--'],\n",
    "       ptitle='Transmittance',xlabel='Wavelength um',ylabel='Transmittance',\n",
    "       pltaxis=[0.3,1,0,1],maxNX=8);\n"
   ]
  },
  {
   "cell_type": "markdown",
   "id": "f41878ea-354f-4143-a69d-903ce9093e31",
   "metadata": {},
   "source": [
    "Figure~\\ref{fig:SOLOBS} shows `SOL@OBS`: the  irradiance at the obsever, as well as the Wehrli and simple blackbody TOA irradiance values.\n",
    "\n",
    "Note that the two cases with high altitude `H1` values (o and u) have irradiance values close to the TOA irradiance.  We can therefore conclude that `SOL@OBS` includes the path transmittance from the sun to the observer at `H1`."
   ]
  },
  {
   "cell_type": "code",
   "execution_count": null,
   "id": "e7f5791b-d864-4678-b878-d1120b6b05d1",
   "metadata": {
    "figureCaption": {
     "caption": "SOL@OBS: irradiance at the observer",
     "label": "fig:SOLOBS",
     "locator": "tbph",
     "width": "1"
    },
    "run_control": {
     "frozen": false,
     "read_only": false
    },
    "tags": []
   },
   "outputs": [],
   "source": [
    "## to plot SOL@OBS data\n",
    "r = ryplot.Plotter(1, 1, 1, figsize=(15,7))\n",
    "\n",
    "# r.plot(1,wavelo,solobso*taus,label=['solobso*taus'],plotCol='m')\n",
    "r.plot(1,wavelo,solobso,label=[dicPaths['o'][0]],plotCol=dicPaths['o'][1])\n",
    "r.plot(1,wavelo,solobsl,label=[dicPaths['l'][0]],plotCol=dicPaths['l'][1])\n",
    "r.plot(1,wavelo,solobsm,label=[dicPaths['m'][0]],plotCol=dicPaths['m'][1])\n",
    "r.plot(1,wavelo,solobss,label=[dicPaths['s'][0]],plotCol=dicPaths['s'][1],linestyle=['--'])\n",
    "r.plot(1,wavelo,solobsu,label=[dicPaths['u'][0]],plotCol=dicPaths['u'][1],linestyle=['--'])\n",
    "r.plot(1,wavelo,Esun,plotCol='k',label=[f'Scaled {Tsun} K blackbody'])\n",
    "r.plot(1,wavelo,wehrli85,plotCol='m',label=[f'Wehrli 1985 standard'],\n",
    "       ptitle='SOL@OBS Irradiance',xlabel='Wavelength um',ylabel='Irradiance W/(m2.um)',\n",
    "       pltaxis=[0.3,1,0,2200],maxNX=8);"
   ]
  },
  {
   "cell_type": "markdown",
   "id": "f33ff052-daa3-418b-9e60-abb41bb5bc62",
   "metadata": {
    "run_control": {
     "frozen": false,
     "read_only": false
    },
    "tags": []
   },
   "source": [
    "Figure~\\ref{fig:REFSOL} shows that `REFSOL` appears to be the unity-albedo ground-reflected solar irradiance at `H1`.  This is \n",
    "$$\\textrm{REFSOL} = \\tau_\\textrm{sun}\\tau_\\textrm{path} \\textrm{E}_\\textrm{extra-terr}\n",
    "$$\n",
    "Upward looking paths (such as `sun`) do not provide relevant `REFSOL` values and is not considered here.\n",
    "There is a reasonably good match  for all the cases between the Modtran results (solid colour lines) and the first-principles calculation using Wehrli and the Modtran transmittance values (black dashed lines)."
   ]
  },
  {
   "cell_type": "code",
   "execution_count": null,
   "id": "2f97f27c-f201-4621-a2ad-285c47fbcafa",
   "metadata": {
    "figureCaption": {
     "caption": "REFSOL: irradiance at the observer",
     "label": "fig:REFSOL",
     "locator": "tbph",
     "width": "1"
    },
    "run_control": {
     "frozen": false,
     "read_only": false
    },
    "tags": []
   },
   "outputs": [],
   "source": [
    "## to plot REFSOL data\n",
    "\n",
    "r = ryplot.Plotter(1, 2, 2, figsize=(15,10))\n",
    "\n",
    "r.plot(1,wavelo,refsoll,label=[dicPaths['l'][0]],plotCol=dicPaths['l'][1])\n",
    "r.plot(1,wavelo,wehrli85*taus*taul,label=['wehrli85 * taus * taul'],plotCol='k',linestyle=['--'],\n",
    "    ptitle='REF SOL Irradiance',xlabel='Wavelength um',ylabel='Irradiance W/(m2.um)',\n",
    "    pltaxis=[0.3,1,0,1000],maxNX=8);\n",
    "\n",
    "r.plot(2,wavelo,refsolm,label=[dicPaths['m'][0]],plotCol=dicPaths['m'][1])\n",
    "r.plot(2,wavelo,wehrli85*taus*taum,label=['wehrli85*taus*taum'],plotCol='k',linestyle=['--'],\n",
    "    ptitle='REF SOL Irradiance',xlabel='Wavelength um',ylabel='Irradiance W/(m2.um)',\n",
    "    pltaxis=[0.3,1,0,1000],maxNX=8);\n",
    "\n",
    "r.plot(3,wavelo,refsolo,label=[dicPaths['o'][0]],plotCol=dicPaths['o'][1])\n",
    "r.plot(3,wavelo,wehrli85*taus*tauo,label=['wehrli85 * taus * tauo'],plotCol='k',linestyle=['--'],\n",
    "    ptitle='REF SOL Irradiance',xlabel='Wavelength um',ylabel='Irradiance W/(m2.um)',\n",
    "    pltaxis=[0.3,1,0,1000],maxNX=8);\n",
    "\n",
    "r.plot(4,wavelo,refsolu,label=[dicPaths['u'][0]],plotCol=dicPaths['u'][1])\n",
    "r.plot(4,wavelo,wehrli85*taus*tauu,label=['wehrli85 * taus * tauu'],plotCol='k',linestyle=['--'],\n",
    "    ptitle='REF SOL Irradiance',xlabel='Wavelength um',ylabel='Irradiance W/(m2.um)',\n",
    "    pltaxis=[0.3,1,0,1000],maxNX=8);\n"
   ]
  },
  {
   "cell_type": "markdown",
   "id": "48ed4b79-8b87-4d64-aa34-4ddf5dd2c8ea",
   "metadata": {},
   "source": [
    "\n",
    "Figure~\\ref{fig:DRCTRFLT} shows that `DRCT RFLT` appears to be the apparent ground radiance at `H2` as observed from `H1`, with non-unity-albedo ground-reflected solar (only) irradiance. This is \n",
    "\n",
    "$$\n",
    "\\textrm{DRCT RFLT} = \\alpha\\tau_\\textrm{sun}\\tau_\\textrm{path} \\textrm{E}_\\textrm{extra-terr}/\\pi\n",
    "$$\n",
    "\n",
    "Upward looking paths (such as `sun`) do not provide relevant `DRCT RFLT`  values and is not considered here.\n",
    "There is a reasonably good match  for longer distance paths (`obs` and `upp`), less so for the medium distance path (`med`) but the very short range path (`low`) shows significantly higher Modtran radiance values than does the first-principles calculation using Wehrli data.  The reason for this difference is not clear."
   ]
  },
  {
   "cell_type": "code",
   "execution_count": null,
   "id": "be994239-af9c-4b15-87a9-d17a8854ee4f",
   "metadata": {
    "figureCaption": {
     "caption": "DRCT RFLT: apparent ground radiance as seen from by the observer",
     "label": "fig:DRCTRFLT",
     "locator": "tbph",
     "width": "1"
    },
    "run_control": {
     "frozen": false,
     "read_only": false
    },
    "tags": []
   },
   "outputs": [],
   "source": [
    "## to plot DRCT RFLT data\n",
    "r = ryplot.Plotter(1, 2, 2, figsize=(15,10))\n",
    "\n",
    "r.plot(1,wavelo,drctrfltl,label=[dicPaths['l'][0]],plotCol=dicPaths['l'][1])\n",
    "r.plot(1,wavelo,wehrli85*taus*taul*albedo/np.pi,label=['wehrli85 * taus * taul * albedo / np.pi'],plotCol='k',linestyle=['--'],\n",
    "    ptitle='DRCT RFLT Radiance',xlabel='Wavelength um',ylabel='Radiance W/(m2.sr.um)',\n",
    "    pltaxis=[0.3,1,0,300],maxNX=8);\n",
    "\n",
    "r.plot(2,wavelo,drctrfltm,label=[dicPaths['m'][0]],plotCol=dicPaths['m'][1])\n",
    "r.plot(2,wavelo,wehrli85*taus*taum*albedo/np.pi,label=['wehrli85 * taus * taum * albedo / np.pi'],plotCol='k',linestyle=['--'],\n",
    "    ptitle='DRCT RFLT Radiance',xlabel='Wavelength um',ylabel='Radiance W/(m2.sr.um)',\n",
    "    pltaxis=[0.3,1,0,300],maxNX=8);\n",
    "\n",
    "r.plot(3,wavelo,drctrflto,label=[dicPaths['o'][0]],plotCol=dicPaths['o'][1])\n",
    "r.plot(3,wavelo,wehrli85*taus*tauo*albedo/np.pi,label=['wehrli85 * taus * tauo * albedo / np.pi'],plotCol='k',linestyle=['--'],\n",
    "    ptitle='DRCT RFLT Radiance',xlabel='Wavelength um',ylabel='Radiance W/(m2.sr.um)',\n",
    "    pltaxis=[0.3,1,0,300],maxNX=8);\n",
    "\n",
    "r.plot(4,wavelo,drctrfltu,label=[dicPaths['u'][0]],plotCol=dicPaths['u'][1])\n",
    "r.plot(4,wavelo,wehrli85*taus*tauu*albedo/np.pi,label=['wehrli85 * taus * tauu * albedo / np.pi'],plotCol='k',linestyle=['--'],\n",
    "    ptitle='DRCT RFLT Radiance',xlabel='Wavelength um',ylabel='Radiance W/(m2.sr.um)',\n",
    "    pltaxis=[0.3,1,0,300],maxNX=8);"
   ]
  },
  {
   "cell_type": "markdown",
   "id": "949b2d0c-ffe5-4e8c-b8c1-5af080f1344c",
   "metadata": {},
   "source": [
    "\n",
    "Figure~\\ref{fig:GRNDRFLT} shows that `GRND RFLT` appears to be the apparent ground radiance  at `H2`  as observed from `H1`, with non-unity-albedo ground-reflected solar irradiance *plus sky irradiance*.\n",
    "This is \n",
    "$$\n",
    "\\textrm{GRND RFLT} = \\alpha \\tau_\\textrm{path} (\\tau_\\textrm{sun} \\textrm{E}_\\textrm{extra-terr} + E_\\textrm{sky})/\\pi\n",
    "$$\n",
    "\n",
    "Upward looking paths (such as `sun`) do not provide relevant `GRND RFLT`  values and is not considered here.\n",
    "Given the sky reflection contribution, there is a reasonably good match  for longer distance paths (`obs` and `upp`), less so for the medium distance path (`med`), but the very short range path (`low`) shows significantly higher Modtran radiance values than does the first-principles calculation using Wehrli data.  The reason for this difference is not clear.\n"
   ]
  },
  {
   "cell_type": "code",
   "execution_count": null,
   "id": "df7ed455-0154-4e9c-b5c3-6422b80b3dbb",
   "metadata": {
    "figureCaption": {
     "caption": "GRND RFLT: apparent ground radiance as seen from by the observer",
     "label": "fig:GRNDRFLT",
     "locator": "tbph",
     "width": "1"
    },
    "run_control": {
     "frozen": false,
     "read_only": false
    },
    "tags": []
   },
   "outputs": [],
   "source": [
    "## to plot GRND RFLT data\n",
    "r = ryplot.Plotter(1, 2, 2, figsize=(15,10))\n",
    "\n",
    "r.plot(1,wavelo,grndrfltl,label=[dicPaths['l'][0]],plotCol=dicPaths['l'][1])\n",
    "r.plot(1,wavelo,wehrli85*taus*taul*albedo/np.pi,label=['wehrli85 * taus * taul * albedo / np.pi'],plotCol='k',linestyle=['--'],\n",
    "    ptitle='GRND RFLT Radiance',xlabel='Wavelength um',ylabel='Radiance W/(m2.sr.um)',\n",
    "    pltaxis=[0.3,1,0,500],maxNX=8);\n",
    "\n",
    "r.plot(2,wavelo,grndrfltm,label=[dicPaths['m'][0]],plotCol=dicPaths['m'][1])\n",
    "r.plot(2,wavelo,wehrli85*taus*taum*albedo/np.pi,label=['wehrli85 * taus * taum * albedo / np.pi'],plotCol='k',linestyle=['--'],\n",
    "    ptitle='GRND RFLT Radiance',xlabel='Wavelength um',ylabel='Radiance W/(m2.sr.um)',\n",
    "    pltaxis=[0.3,1,0,500],maxNX=8);\n",
    "\n",
    "r.plot(3,wavelo,grndrflto,label=[dicPaths['o'][0]],plotCol=dicPaths['o'][1])\n",
    "r.plot(3,wavelo,wehrli85*taus*tauo*albedo/np.pi,label=['wehrli85 * taus * tauo * albedo / np.pi'],plotCol='k',linestyle=['--'],\n",
    "    ptitle='GRND RFLT Radiance',xlabel='Wavelength um',ylabel='Radiance W/(m2.sr.um)',\n",
    "    pltaxis=[0.3,1,0,500],maxNX=8);\n",
    "\n",
    "\n",
    "r.plot(4,wavelo,grndrfltu,label=[dicPaths['u'][0]],plotCol=dicPaths['u'][1])\n",
    "r.plot(4,wavelo,wehrli85*taus*tauu*albedo/np.pi,label=['wehrli85 * taus * tauu * albedo / np.pi'],plotCol='k',linestyle=['--'],\n",
    "    ptitle='GRND RFLT Radiance',xlabel='Wavelength um',ylabel='Radiance W/(m2.sr.um)',\n",
    "    pltaxis=[0.3,1,0,500],maxNX=8);"
   ]
  },
  {
   "cell_type": "code",
   "execution_count": null,
   "id": "dfe33202-eefe-4b63-a7b1-896bf22c983d",
   "metadata": {},
   "outputs": [],
   "source": []
  },
  {
   "cell_type": "code",
   "execution_count": null,
   "id": "7c22e7b5-24df-4789-b563-defe40d0dc9b",
   "metadata": {},
   "outputs": [],
   "source": []
  },
  {
   "cell_type": "code",
   "execution_count": null,
   "id": "36d3c249-6a92-4bbc-b641-f2747d23cc9f",
   "metadata": {},
   "outputs": [],
   "source": []
  },
  {
   "cell_type": "code",
   "execution_count": null,
   "id": "1d2a580e-f9bd-4fae-926e-83b0f0351e35",
   "metadata": {},
   "outputs": [],
   "source": []
  },
  {
   "cell_type": "code",
   "execution_count": null,
   "id": "f7c4dbc6-b2bf-42dd-82e0-efab4d5e8a24",
   "metadata": {},
   "outputs": [],
   "source": [
    "# /    tape7        modtran code parameter\n",
    "#     //    ----------------------------------------\n",
    "\n",
    "#     //    PTH THRML    RADCUM = DIRECT + MULTIPLY SCATTERED THERMAL PATH RADIANCE\n",
    "#     //    THRML SCT    SUMTMS\n",
    "#     //    SURF EMIS    BBG = SURFACE EMISSION\n",
    "#     //    SOL SCAT     SUMSSR = SINGLE + MULTIPLE SOLAR SCATTERED RADIANCE\n",
    "#     //    SING SCAT    SUMSSS\n",
    "\n",
    "#     //    TOTAL RAD    SUMT = RADCUM + BBG + SUMSSR + GRNDRFLT\n",
    "\n",
    "\n",
    "#     //    FREQ         V\n",
    "#     //    TOT TRANS    TX(9)\n",
    "#     //    GRND RFLT    RFSURF = REFLECTED SURFACE TERM\n",
    "#     //    DRCT RFLT    RFLSS\n",
    "#     //    REF SOL      TSNREF\n",
    "#     //    SOL@OBS      TSNOBS\n",
    "#     //    DEPTH        ALTX9"
   ]
  },
  {
   "cell_type": "code",
   "execution_count": null,
   "id": "922c6045-107d-418d-838a-0da8004c2e4e",
   "metadata": {},
   "outputs": [],
   "source": [
    "# q = ryplot.Plotter(2, 1, 1, figsize=(12,12))\n",
    "# q.plot(1,wavelo,solobso*tauo*taus*albedo,label=['direct: solobs*tauo*taus*albedo'],pltaxis=[0.3,1,0,200],maxNX=8)\n",
    "# q.plot(1,wavelo, drctrflto*np.pi,label=['direct: drctrflt*np.pi'],pltaxis=[0.3,1,0,2020],maxNX=8)\n",
    "# q.plot(1,wavelo, refsolo*albedo,label=['direct: refsol*albedo'],pltaxis=[0.3,1,0,200],maxNX=8)\n",
    "# q.plot(1,wavelo, grndrflto*np.pi,'Exitance','Wavelength um','Exitance W/(m2.um)',\n",
    "#        label=['direct+diffuse: grndrflt*np.pi'],pltaxis=[0.3,1,0,200],maxNX=8);\n",
    "\n"
   ]
  },
  {
   "cell_type": "code",
   "execution_count": null,
   "id": "2548700b-e18b-41b5-a33b-6fc8db319a3b",
   "metadata": {},
   "outputs": [],
   "source": []
  }
 ],
 "metadata": {
  "kernelspec": {
   "display_name": "Python 3 (ipykernel)",
   "language": "python",
   "name": "python3"
  },
  "language_info": {
   "codemirror_mode": {
    "name": "ipython",
    "version": 3
   },
   "file_extension": ".py",
   "mimetype": "text/x-python",
   "name": "python",
   "nbconvert_exporter": "python",
   "pygments_lexer": "ipython3",
   "version": "3.8.3"
  }
 },
 "nbformat": 4,
 "nbformat_minor": 5
}
