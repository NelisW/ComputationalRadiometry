{
 "cells": [
  {
   "cell_type": "raw",
   "metadata": {},
   "source": [
    "%This notebook demonstrates the use of the workpackage template, replace with your own.\n",
    "\n",
    "\\documentclass[english]{workpackage}[1996/06/02]\n",
    "\n",
    "% input the common preamble content (required by the ipnb2latex converter)\n",
    "\\input{header.tex}\n",
    "\n",
    "\n",
    "% then follows the rest of the preamble to be placed before the begin document\n",
    "% this preamble content is special to the documentclass you defined above.\n",
    "\\WPproject{Computational Radiometry}           % project name\n",
    "\\WPequipment{}         % equipment name\n",
    "\\WPsubject{06  Diverse pyradi utilities}           % main heading \n",
    "\\WPconclusions{} \n",
    "\\WPclassification{} \n",
    "\\WPdocauthor{CJ Willers}\n",
    "\\WPcurrentpackdate{\\today}\n",
    "\\WPcurrentpacknumber{} % work package number\n",
    "\\WPdocnumber{}         % this doc number hosts all the work packages\n",
    "\\WPprevpackdate{}      % work package which this one supersedes\n",
    "\\WPprevpacknumber{}    % work package which this one supersedes\n",
    "\\WPsuperpackdate{}     % work package which comes after this one\n",
    "\\WPsuperpacknumber{}   % work package which comes after this one\n",
    "\\WPdocontractdetails{false}\n",
    "\\WPcontractname{}      % contract name \n",
    "\\WPorderno{}           % contract order number\n",
    "\\WPmilestonenumber{}   % contract milestone number\n",
    "\\WPmilestonetitle{}    % contract milestone title\n",
    "\\WPcontractline{}      % contract milestone line number \n",
    "\\WPdocECPnumber{}      % ecp\\ecr number\n",
    "\\WPdistribution{}\n",
    "\n",
    " \n",
    "\n",
    "% this is entered just before the end{document}\n",
    "\\newcommand{\\atendofdoc}{\n",
    "\\bibliographystyle{IEEEtran}\n",
    "\\bibliography{references}\n",
    "}\n",
    "\n",
    "%and finally the document begin.\n",
    "\\begin{document}\n",
    "\\WPlayout\n"
   ]
  },
  {
   "cell_type": "markdown",
   "metadata": {
    "run_control": {
     "frozen": false,
     "read_only": false
    }
   },
   "source": [
    "# 6 Diverse pyradi utilities"
   ]
  },
  {
   "cell_type": "markdown",
   "metadata": {
    "run_control": {
     "frozen": false,
     "read_only": false
    }
   },
   "source": [
    "This notebook forms part of a series on [computational optical radiometry](https://github.com/NelisW/ComputationalRadiometry#computational-optical-radiometry-with-pyradi).  The notebooks can be downloaded from [Github](https://github.com/NelisW/ComputationalRadiometry#computational-optical-radiometry-with-pyradi). These notebooks are constantly revised and updated, please revisit from time to time.  \n",
    "\n",
    "\n",
    "[<img src=\"https://zenodo.org/badge/doi/10.5281/zenodo.9910.png\"   align=\"left\"/>](http://dx.doi.org/10.5281/zenodo.9910)\n"
   ]
  },
  {
   "cell_type": "markdown",
   "metadata": {
    "run_control": {
     "frozen": false,
     "read_only": false
    }
   },
   "source": [
    "The date of this document and module versions used in this document are given at the end of the file.  \n",
    "Feedback is appreciated: neliswillers at gmail dot com."
   ]
  },
  {
   "cell_type": "markdown",
   "metadata": {
    "run_control": {
     "frozen": false,
     "read_only": false
    }
   },
   "source": [
    "## Overview"
   ]
  },
  {
   "cell_type": "markdown",
   "metadata": {
    "run_control": {
     "frozen": false,
     "read_only": false
    }
   },
   "source": [
    "The pyradi library has a reasonably complete collection of Planck radiator models, both spectral and wide band. A comprehensive collection of physical constants, pertinent to optical radiation is also included.  This notebook introduces these functions in the [`pyradi.ryplanck`](http://nelisw.github.io/pyradi-docs/_build/html/ryplanck.html#pyradi.ryplanck) library."
   ]
  },
  {
   "cell_type": "code",
   "execution_count": 1,
   "metadata": {
    "run_control": {
     "frozen": false,
     "read_only": false
    }
   },
   "outputs": [],
   "source": [
    "from IPython.display import display\n",
    "from IPython.display import Image\n",
    "from IPython.display import HTML"
   ]
  },
  {
   "cell_type": "code",
   "execution_count": 2,
   "metadata": {},
   "outputs": [],
   "source": [
    "%matplotlib inline\n",
    "import matplotlib.pyplot as plt\n",
    "import numpy as np\n"
   ]
  },
  {
   "cell_type": "markdown",
   "metadata": {
    "run_control": {
     "frozen": false,
     "read_only": false
    }
   },
   "source": [
    "## File and directory services"
   ]
  },
  {
   "cell_type": "markdown",
   "metadata": {
    "run_control": {
     "frozen": false,
     "read_only": false
    }
   },
   "source": [
    "### List files in a directory"
   ]
  },
  {
   "cell_type": "markdown",
   "metadata": {
    "run_control": {
     "frozen": false,
     "read_only": false
    }
   },
   "source": [
    "The [`ryfiles.listFiles`](http://nelisw.github.io/pyradi-docs/_build/html/ryfiles.html#pyradi.ryfiles.listFiles) function \n",
    "returns a list of file paths to files in a file system, searching a directory structure along the specified path, looking for files that matches the glob pattern. If specified, the search will continue into sub-directories.  A list of matching names is returned.\n",
    "The function supports a local or network reachable filesystem, but not URLs.\n",
    "\n",
    "The function signature is:  \n",
    "\n",
    "`listFiles(root, patterns='*', recurse=1, return_folders=0, useRegex=False)`\n",
    "\n",
    "- `root (string)` directory root from where the search must take place.\n",
    "- `patterns (string)` glob/regex pattern for filename matching.\n",
    "- `recurse (unt)`  flag to indicate if subdirectories must also be searched (optional).\n",
    "- `return_folders (int)`  flag to indicate if folder names must also be returned (optional).\n",
    "- `useRegex (bool)`  flag to indicate if patterns areregular expression strings (optional)."
   ]
  },
  {
   "cell_type": "code",
   "execution_count": 3,
   "metadata": {
    "run_control": {
     "frozen": false,
     "read_only": false
    }
   },
   "outputs": [
    {
     "name": "stdout",
     "output_type": "stream",
     "text": [
      "['05a-PlottingWithPyradi-GeneralAndCartesian.ipynb', '05b-PlottingWithPyradi-Polar-and-3D.ipynb', '.ipynb_checkpoints\\\\05a-PlottingWithPyradi-GeneralAndCartesian-checkpoint.ipynb', '.ipynb_checkpoints\\\\05b-PlottingWithPyradi-Polar-and-3D-checkpoint.ipynb']\n"
     ]
    }
   ],
   "source": [
    "import pyradi.ryfiles as ryfiles\n",
    "print(ryfiles.listFiles('.', '05*.ipynb'))"
   ]
  },
  {
   "cell_type": "code",
   "execution_count": 4,
   "metadata": {
    "run_control": {
     "frozen": false,
     "read_only": false
    }
   },
   "outputs": [
    {
     "name": "stdout",
     "output_type": "stream",
     "text": [
      "['05a-PlottingWithPyradi-GeneralAndCartesian.bbl', '05a-PlottingWithPyradi-GeneralAndCartesian.bib', '05a-PlottingWithPyradi-GeneralAndCartesian.blg', '05a-PlottingWithPyradi-GeneralAndCartesian.ipynb', '05a-PlottingWithPyradi-GeneralAndCartesian.log', '05a-PlottingWithPyradi-GeneralAndCartesian.pdf', '05a-PlottingWithPyradi-GeneralAndCartesian.tex', '05b-PlottingWithPyradi-Polar-and-3D.bbl', '05b-PlottingWithPyradi-Polar-and-3D.bib', '05b-PlottingWithPyradi-Polar-and-3D.blg', '05b-PlottingWithPyradi-Polar-and-3D.ipynb', '05b-PlottingWithPyradi-Polar-and-3D.log', '05b-PlottingWithPyradi-Polar-and-3D.pdf', '05b-PlottingWithPyradi-Polar-and-3D.tex', '05', '.git\\\\objects\\\\05', '.git\\\\objects\\\\06\\\\05114a0c65030f3ab63c80822e07a03700ef35', '.git\\\\objects\\\\51\\\\059c45e9c9d5cfd46021370481d725b6eecccd', '.git\\\\objects\\\\7d\\\\05a03633f8985bca427403a7ff84ba35e199e6', '.git\\\\objects\\\\99\\\\05b062b719b832d586eb36cbd3ec21fe74d328', '.git\\\\objects\\\\d8\\\\052cd1780d21a06306ec3090e7657f3ea3e17e', '.git\\\\objects\\\\d9\\\\05835262f64f8ca948425e72c5f4ee07305246', '.ipynb_checkpoints\\\\05a-PlottingWithPyradi-GeneralAndCartesian-checkpoint.ipynb', '.ipynb_checkpoints\\\\05a-PlottingWithPyradi-GeneralAndCartesian-checkpoint.pdf', '.ipynb_checkpoints\\\\05b-PlottingWithPyradi-Polar-and-3D-checkpoint.ipynb', '05\\\\05-testfile.txt', 'pic\\\\05a-PlottingWithPyradi-GeneralAndCartesian_13_1.png', 'pic\\\\05a-PlottingWithPyradi-GeneralAndCartesian_14_0.png', 'pic\\\\05a-PlottingWithPyradi-GeneralAndCartesian_15_1.png', 'pic\\\\05a-PlottingWithPyradi-GeneralAndCartesian_17_1.png', 'pic\\\\05a-PlottingWithPyradi-GeneralAndCartesian_19_0.png', 'pic\\\\05a-PlottingWithPyradi-GeneralAndCartesian_22_0.png', 'pic\\\\05a-PlottingWithPyradi-GeneralAndCartesian_22_1.png', 'pic\\\\05a-PlottingWithPyradi-GeneralAndCartesian_22_2.png', 'pic\\\\05a-PlottingWithPyradi-GeneralAndCartesian_25_0.png', 'pic\\\\05a-PlottingWithPyradi-GeneralAndCartesian_25_1.png', 'pic\\\\05a-PlottingWithPyradi-GeneralAndCartesian_25_2.png', 'pic\\\\05a-PlottingWithPyradi-GeneralAndCartesian_29_1.png', 'pic\\\\05a-PlottingWithPyradi-GeneralAndCartesian_31_1.png', 'pic\\\\05a-PlottingWithPyradi-GeneralAndCartesian_32_1.png', 'pic\\\\05a-PlottingWithPyradi-GeneralAndCartesian_34_1.png', 'pic\\\\05a-PlottingWithPyradi-GeneralAndCartesian_34_2.png', 'pic\\\\05a-PlottingWithPyradi-GeneralAndCartesian_34_3.png', 'pic\\\\05a-PlottingWithPyradi-GeneralAndCartesian_34_4.png', 'pic\\\\05a-PlottingWithPyradi-GeneralAndCartesian_34_5.png', 'pic\\\\05a-PlottingWithPyradi-GeneralAndCartesian_35_1.png', 'pic\\\\05a-PlottingWithPyradi-GeneralAndCartesian_36_2.png', 'pic\\\\05a-PlottingWithPyradi-GeneralAndCartesian_38_0.png', 'pic\\\\05a-PlottingWithPyradi-GeneralAndCartesian_38_1.png', 'pic\\\\05a-PlottingWithPyradi-GeneralAndCartesian_38_2.png', 'pic\\\\05a-PlottingWithPyradi-GeneralAndCartesian_38_3.png', 'pic\\\\05a-PlottingWithPyradi-GeneralAndCartesian_38_4.png', 'pic\\\\05a-PlottingWithPyradi-GeneralAndCartesian_38_5.png', 'pic\\\\05a-PlottingWithPyradi-GeneralAndCartesian_40_0.png', 'pic\\\\05a-PlottingWithPyradi-GeneralAndCartesian_40_1.png', 'pic\\\\05a-PlottingWithPyradi-GeneralAndCartesian_42_0.png', 'pic\\\\05a-PlottingWithPyradi-GeneralAndCartesian_43_1.png', 'pic\\\\05a-PlottingWithPyradi-GeneralAndCartesian_44_0.png', 'pic\\\\05a-PlottingWithPyradi-GeneralAndCartesian_46_1.png', 'pic\\\\05a-PlottingWithPyradi-GeneralAndCartesian_47_1.png', 'pic\\\\05a-PlottingWithPyradi-GeneralAndCartesian_48_1.png', 'pic\\\\05a-PlottingWithPyradi-GeneralAndCartesian_50_1.png', 'pic\\\\05a-PlottingWithPyradi-GeneralAndCartesian_51_2.png', 'pic\\\\05a-PlottingWithPyradi-GeneralAndCartesian_52_1.png', 'pic\\\\05a-PlottingWithPyradi-GeneralAndCartesian_53_0.png', 'pic\\\\05a-PlottingWithPyradi-GeneralAndCartesian_55_1.png', 'pic\\\\05a-PlottingWithPyradi-GeneralAndCartesian_56_0.png', 'pic\\\\05a-PlottingWithPyradi-GeneralAndCartesian_57_0.png', 'pic\\\\05a-PlottingWithPyradi-GeneralAndCartesian_60_0.png', 'pic\\\\05a-PlottingWithPyradi-GeneralAndCartesian_62_0.png', 'pic\\\\05a-PlottingWithPyradi-GeneralAndCartesian_64_0.png', 'pic\\\\05a-PlottingWithPyradi-GeneralAndCartesian_66_0.png', 'pic\\\\05a-PlottingWithPyradi-GeneralAndCartesian_68_0.png', 'pic\\\\05a-PlottingWithPyradi-GeneralAndCartesian_70_0.png', 'pic\\\\05a-PlottingWithPyradi-GeneralAndCartesian_72_0.png', 'pic\\\\05a-PlottingWithPyradi-GeneralAndCartesian_73_0.png', 'pic\\\\05a-PlottingWithPyradi-GeneralAndCartesian_74_0.png', 'pic\\\\05a-PlottingWithPyradi-GeneralAndCartesian_75_0.png', 'pic\\\\05a-PlottingWithPyradi-GeneralAndCartesian_76_0.png', 'pic\\\\05a-PlottingWithPyradi-GeneralAndCartesian_77_0.png', 'pic\\\\05a-PlottingWithPyradi-GeneralAndCartesian_78_0.png', 'pic\\\\05a-PlottingWithPyradi-GeneralAndCartesian_79_0.png', 'pic\\\\05a-PlottingWithPyradi-GeneralAndCartesian_81_0.png', 'pic\\\\05a-PlottingWithPyradi-GeneralAndCartesian_83_0.png', 'pic\\\\05a-PlottingWithPyradi-GeneralAndCartesian_84_0.png', 'pic\\\\05a-PlottingWithPyradi-GeneralAndCartesian_85_0.png', 'pic\\\\05a-PlottingWithPyradi-GeneralAndCartesian_87_0.png', 'pic\\\\05a-PlottingWithPyradi-GeneralAndCartesian_90_0.png', 'pic\\\\05a-PlottingWithPyradi-GeneralAndCartesian_91_0.png', 'pic\\\\05a-PlottingWithPyradi-GeneralAndCartesian_91_1.png', 'pic\\\\05a-PlottingWithPyradi-GeneralAndCartesian_93_0.png', 'pic\\\\05a-PlottingWithPyradi-GeneralAndCartesian_96_0.png', 'pic\\\\05a-PlottingWithPyradi-GeneralAndCartesian_97_1.png', 'pic\\\\05b-PlottingWithPyradi-Polar-and-3D_10_0.png', 'pic\\\\05b-PlottingWithPyradi-Polar-and-3D_11_0.png', 'pic\\\\05b-PlottingWithPyradi-Polar-and-3D_12_0.png', 'pic\\\\05b-PlottingWithPyradi-Polar-and-3D_13_0.png', 'pic\\\\05b-PlottingWithPyradi-Polar-and-3D_14_0.png', 'pic\\\\05b-PlottingWithPyradi-Polar-and-3D_15_0.png', 'pic\\\\05b-PlottingWithPyradi-Polar-and-3D_16_0.png', 'pic\\\\05b-PlottingWithPyradi-Polar-and-3D_17_0.png', 'pic\\\\05b-PlottingWithPyradi-Polar-and-3D_17_1.png', 'pic\\\\05b-PlottingWithPyradi-Polar-and-3D_18_1.png', 'pic\\\\05b-PlottingWithPyradi-Polar-and-3D_22_0.png', 'pic\\\\05b-PlottingWithPyradi-Polar-and-3D_23_0.png', 'pic\\\\05b-PlottingWithPyradi-Polar-and-3D_24_0.png', 'pic\\\\05b-PlottingWithPyradi-Polar-and-3D_25_0.png', 'pic\\\\05b-PlottingWithPyradi-Polar-and-3D_26_0.png', 'pic\\\\05b-PlottingWithPyradi-Polar-and-3D_27_0.png', 'pic\\\\05b-PlottingWithPyradi-Polar-and-3D_28_0.png', 'pic\\\\05b-PlottingWithPyradi-Polar-and-3D_29_0.png', 'pic\\\\05b-PlottingWithPyradi-Polar-and-3D_32_0.png', 'pic\\\\05b-PlottingWithPyradi-Polar-and-3D_33_0.png', 'pic\\\\05b-PlottingWithPyradi-Polar-and-3D_35_0.png', 'pic\\\\05b-PlottingWithPyradi-Polar-and-3D_36_0.png', 'pic\\\\05b-PlottingWithPyradi-Polar-and-3D_38_0.png', 'pic\\\\05b-PlottingWithPyradi-Polar-and-3D_39_0.png', 'pic\\\\05b-PlottingWithPyradi-Polar-and-3D_39_1.png', 'pic\\\\05b-PlottingWithPyradi-Polar-and-3D_40_0.png', 'pic\\\\05b-PlottingWithPyradi-Polar-and-3D_41_0.png', 'pic\\\\05b-PlottingWithPyradi-Polar-and-3D_46_0.png', 'pic\\\\05b-PlottingWithPyradi-Polar-and-3D_47_0.png', 'pic\\\\05b-PlottingWithPyradi-Polar-and-3D_49_0.png', 'pic\\\\05b-PlottingWithPyradi-Polar-and-3D_50_0.png', 'pic\\\\05b-PlottingWithPyradi-Polar-and-3D_54_0.png', 'pic\\\\05b-PlottingWithPyradi-Polar-and-3D_55_0.png', 'pic\\\\05b-PlottingWithPyradi-Polar-and-3D_58_0.png', 'pic\\\\05b-PlottingWithPyradi-Polar-and-3D_59_0.png', 'pic\\\\05b-PlottingWithPyradi-Polar-and-3D_59_1.png', 'pic\\\\05b-PlottingWithPyradi-Polar-and-3D_61_0.png', 'pic\\\\05b-PlottingWithPyradi-Polar-and-3D_62_0.png', 'pic\\\\05b-PlottingWithPyradi-Polar-and-3D_64_0.png', 'pic\\\\05b-PlottingWithPyradi-Polar-and-3D_65_0.png', 'pic\\\\05b-PlottingWithPyradi-Polar-and-3D_72_0.png', 'pic\\\\05b-PlottingWithPyradi-Polar-and-3D_73_0.png', 'pic\\\\05b-PlottingWithPyradi-Polar-and-3D_74_0.png', 'pic\\\\05b-PlottingWithPyradi-Polar-and-3D_75_0.png', 'pic\\\\05b-PlottingWithPyradi-Polar-and-3D_75_1.png', 'pic\\\\05b-PlottingWithPyradi-Polar-and-3D_83_0.png', 'pic\\\\05b-PlottingWithPyradi-Polar-and-3D_84_0.png', 'pic\\\\05b-PlottingWithPyradi-Polar-and-3D_85_0.png', 'pic\\\\05b-PlottingWithPyradi-Polar-and-3D_86_0.png']\n"
     ]
    }
   ],
   "source": [
    "import pyradi.ryfiles as ryfiles\n",
    "print(ryfiles.listFiles('.', '05*', return_folders=1))"
   ]
  },
  {
   "cell_type": "code",
   "execution_count": 5,
   "metadata": {
    "run_control": {
     "frozen": false,
     "read_only": false
    }
   },
   "outputs": [
    {
     "name": "stdout",
     "output_type": "stream",
     "text": [
      "[]\n"
     ]
    }
   ],
   "source": [
    "print(ryfiles.listFiles('.', '05*.ipynb', useRegex=1))"
   ]
  },
  {
   "cell_type": "code",
   "execution_count": 6,
   "metadata": {
    "run_control": {
     "frozen": false,
     "read_only": false
    }
   },
   "outputs": [
    {
     "name": "stdout",
     "output_type": "stream",
     "text": [
      "['05a-PlottingWithPyradi-GeneralAndCartesian.bbl', '05a-PlottingWithPyradi-GeneralAndCartesian.bib', '05a-PlottingWithPyradi-GeneralAndCartesian.blg', '05a-PlottingWithPyradi-GeneralAndCartesian.ipynb', '05a-PlottingWithPyradi-GeneralAndCartesian.log', '05a-PlottingWithPyradi-GeneralAndCartesian.pdf', '05a-PlottingWithPyradi-GeneralAndCartesian.tex', '05b-PlottingWithPyradi-Polar-and-3D.bbl', '05b-PlottingWithPyradi-Polar-and-3D.bib', '05b-PlottingWithPyradi-Polar-and-3D.blg', '05b-PlottingWithPyradi-Polar-and-3D.ipynb', '05b-PlottingWithPyradi-Polar-and-3D.log', '05b-PlottingWithPyradi-Polar-and-3D.pdf', '05b-PlottingWithPyradi-Polar-and-3D.tex', 'tape7-05b', '.git\\\\objects\\\\08\\\\2acc4bfa2505b8d6fe0f85446c972a05a42888', '.git\\\\objects\\\\0d\\\\7f4c205a5f765006ae18faf50ffcbe4a430767', '.git\\\\objects\\\\2f\\\\f2c19f11277ca6a4895b1fbb5fcaf805abafbc', '.git\\\\objects\\\\38\\\\4b27fe04aa105acd84ebdbb16611729d4342f4', '.git\\\\objects\\\\40\\\\dcbc05a06258a6fc781a76ef07a6ee877b65b4', '.git\\\\objects\\\\6b\\\\42dbd56bd6e9ba05a54d592cfba05733d3aa20', '.git\\\\objects\\\\78\\\\656e36efc86279d39fe23f5b7b73dac4f005b9', '.git\\\\objects\\\\7b\\\\dc9c6407a05b826590e66950ca58484a07c69b', '.git\\\\objects\\\\7d\\\\05a03633f8985bca427403a7ff84ba35e199e6', '.git\\\\objects\\\\99\\\\05b062b719b832d586eb36cbd3ec21fe74d328', '.git\\\\objects\\\\9a\\\\e05ae9a9ff4ed6b6d749d024585c86433296da', '.git\\\\objects\\\\b2\\\\bd7a8d1a1ba253d4b5cdc12a05a1b76c8a573c', '.git\\\\objects\\\\c0\\\\91f1f7728fb9da43f08705ad8ebe3968cefea6', '.git\\\\objects\\\\e8\\\\8705a4a9b8a5682b325f4fe715b42065c08d43', '.ipynb_checkpoints\\\\05a-PlottingWithPyradi-GeneralAndCartesian-checkpoint.ipynb', '.ipynb_checkpoints\\\\05a-PlottingWithPyradi-GeneralAndCartesian-checkpoint.pdf', '.ipynb_checkpoints\\\\05b-PlottingWithPyradi-Polar-and-3D-checkpoint.ipynb', 'pic\\\\05a-PlottingWithPyradi-GeneralAndCartesian_13_1.png', 'pic\\\\05a-PlottingWithPyradi-GeneralAndCartesian_14_0.png', 'pic\\\\05a-PlottingWithPyradi-GeneralAndCartesian_15_1.png', 'pic\\\\05a-PlottingWithPyradi-GeneralAndCartesian_17_1.png', 'pic\\\\05a-PlottingWithPyradi-GeneralAndCartesian_19_0.png', 'pic\\\\05a-PlottingWithPyradi-GeneralAndCartesian_22_0.png', 'pic\\\\05a-PlottingWithPyradi-GeneralAndCartesian_22_1.png', 'pic\\\\05a-PlottingWithPyradi-GeneralAndCartesian_22_2.png', 'pic\\\\05a-PlottingWithPyradi-GeneralAndCartesian_25_0.png', 'pic\\\\05a-PlottingWithPyradi-GeneralAndCartesian_25_1.png', 'pic\\\\05a-PlottingWithPyradi-GeneralAndCartesian_25_2.png', 'pic\\\\05a-PlottingWithPyradi-GeneralAndCartesian_29_1.png', 'pic\\\\05a-PlottingWithPyradi-GeneralAndCartesian_31_1.png', 'pic\\\\05a-PlottingWithPyradi-GeneralAndCartesian_32_1.png', 'pic\\\\05a-PlottingWithPyradi-GeneralAndCartesian_34_1.png', 'pic\\\\05a-PlottingWithPyradi-GeneralAndCartesian_34_2.png', 'pic\\\\05a-PlottingWithPyradi-GeneralAndCartesian_34_3.png', 'pic\\\\05a-PlottingWithPyradi-GeneralAndCartesian_34_4.png', 'pic\\\\05a-PlottingWithPyradi-GeneralAndCartesian_34_5.png', 'pic\\\\05a-PlottingWithPyradi-GeneralAndCartesian_35_1.png', 'pic\\\\05a-PlottingWithPyradi-GeneralAndCartesian_36_2.png', 'pic\\\\05a-PlottingWithPyradi-GeneralAndCartesian_38_0.png', 'pic\\\\05a-PlottingWithPyradi-GeneralAndCartesian_38_1.png', 'pic\\\\05a-PlottingWithPyradi-GeneralAndCartesian_38_2.png', 'pic\\\\05a-PlottingWithPyradi-GeneralAndCartesian_38_3.png', 'pic\\\\05a-PlottingWithPyradi-GeneralAndCartesian_38_4.png', 'pic\\\\05a-PlottingWithPyradi-GeneralAndCartesian_38_5.png', 'pic\\\\05a-PlottingWithPyradi-GeneralAndCartesian_40_0.png', 'pic\\\\05a-PlottingWithPyradi-GeneralAndCartesian_40_1.png', 'pic\\\\05a-PlottingWithPyradi-GeneralAndCartesian_42_0.png', 'pic\\\\05a-PlottingWithPyradi-GeneralAndCartesian_43_1.png', 'pic\\\\05a-PlottingWithPyradi-GeneralAndCartesian_44_0.png', 'pic\\\\05a-PlottingWithPyradi-GeneralAndCartesian_46_1.png', 'pic\\\\05a-PlottingWithPyradi-GeneralAndCartesian_47_1.png', 'pic\\\\05a-PlottingWithPyradi-GeneralAndCartesian_48_1.png', 'pic\\\\05a-PlottingWithPyradi-GeneralAndCartesian_50_1.png', 'pic\\\\05a-PlottingWithPyradi-GeneralAndCartesian_51_2.png', 'pic\\\\05a-PlottingWithPyradi-GeneralAndCartesian_52_1.png', 'pic\\\\05a-PlottingWithPyradi-GeneralAndCartesian_53_0.png', 'pic\\\\05a-PlottingWithPyradi-GeneralAndCartesian_55_1.png', 'pic\\\\05a-PlottingWithPyradi-GeneralAndCartesian_56_0.png', 'pic\\\\05a-PlottingWithPyradi-GeneralAndCartesian_57_0.png', 'pic\\\\05a-PlottingWithPyradi-GeneralAndCartesian_60_0.png', 'pic\\\\05a-PlottingWithPyradi-GeneralAndCartesian_62_0.png', 'pic\\\\05a-PlottingWithPyradi-GeneralAndCartesian_64_0.png', 'pic\\\\05a-PlottingWithPyradi-GeneralAndCartesian_66_0.png', 'pic\\\\05a-PlottingWithPyradi-GeneralAndCartesian_68_0.png', 'pic\\\\05a-PlottingWithPyradi-GeneralAndCartesian_70_0.png', 'pic\\\\05a-PlottingWithPyradi-GeneralAndCartesian_72_0.png', 'pic\\\\05a-PlottingWithPyradi-GeneralAndCartesian_73_0.png', 'pic\\\\05a-PlottingWithPyradi-GeneralAndCartesian_74_0.png', 'pic\\\\05a-PlottingWithPyradi-GeneralAndCartesian_75_0.png', 'pic\\\\05a-PlottingWithPyradi-GeneralAndCartesian_76_0.png', 'pic\\\\05a-PlottingWithPyradi-GeneralAndCartesian_77_0.png', 'pic\\\\05a-PlottingWithPyradi-GeneralAndCartesian_78_0.png', 'pic\\\\05a-PlottingWithPyradi-GeneralAndCartesian_79_0.png', 'pic\\\\05a-PlottingWithPyradi-GeneralAndCartesian_81_0.png', 'pic\\\\05a-PlottingWithPyradi-GeneralAndCartesian_83_0.png', 'pic\\\\05a-PlottingWithPyradi-GeneralAndCartesian_84_0.png', 'pic\\\\05a-PlottingWithPyradi-GeneralAndCartesian_85_0.png', 'pic\\\\05a-PlottingWithPyradi-GeneralAndCartesian_87_0.png', 'pic\\\\05a-PlottingWithPyradi-GeneralAndCartesian_90_0.png', 'pic\\\\05a-PlottingWithPyradi-GeneralAndCartesian_91_0.png', 'pic\\\\05a-PlottingWithPyradi-GeneralAndCartesian_91_1.png', 'pic\\\\05a-PlottingWithPyradi-GeneralAndCartesian_93_0.png', 'pic\\\\05a-PlottingWithPyradi-GeneralAndCartesian_96_0.png', 'pic\\\\05a-PlottingWithPyradi-GeneralAndCartesian_97_1.png', 'pic\\\\05b-PlottingWithPyradi-Polar-and-3D_10_0.png', 'pic\\\\05b-PlottingWithPyradi-Polar-and-3D_11_0.png', 'pic\\\\05b-PlottingWithPyradi-Polar-and-3D_12_0.png', 'pic\\\\05b-PlottingWithPyradi-Polar-and-3D_13_0.png', 'pic\\\\05b-PlottingWithPyradi-Polar-and-3D_14_0.png', 'pic\\\\05b-PlottingWithPyradi-Polar-and-3D_15_0.png', 'pic\\\\05b-PlottingWithPyradi-Polar-and-3D_16_0.png', 'pic\\\\05b-PlottingWithPyradi-Polar-and-3D_17_0.png', 'pic\\\\05b-PlottingWithPyradi-Polar-and-3D_17_1.png', 'pic\\\\05b-PlottingWithPyradi-Polar-and-3D_18_1.png', 'pic\\\\05b-PlottingWithPyradi-Polar-and-3D_22_0.png', 'pic\\\\05b-PlottingWithPyradi-Polar-and-3D_23_0.png', 'pic\\\\05b-PlottingWithPyradi-Polar-and-3D_24_0.png', 'pic\\\\05b-PlottingWithPyradi-Polar-and-3D_25_0.png', 'pic\\\\05b-PlottingWithPyradi-Polar-and-3D_26_0.png', 'pic\\\\05b-PlottingWithPyradi-Polar-and-3D_27_0.png', 'pic\\\\05b-PlottingWithPyradi-Polar-and-3D_28_0.png', 'pic\\\\05b-PlottingWithPyradi-Polar-and-3D_29_0.png', 'pic\\\\05b-PlottingWithPyradi-Polar-and-3D_32_0.png', 'pic\\\\05b-PlottingWithPyradi-Polar-and-3D_33_0.png', 'pic\\\\05b-PlottingWithPyradi-Polar-and-3D_35_0.png', 'pic\\\\05b-PlottingWithPyradi-Polar-and-3D_36_0.png', 'pic\\\\05b-PlottingWithPyradi-Polar-and-3D_38_0.png', 'pic\\\\05b-PlottingWithPyradi-Polar-and-3D_39_0.png', 'pic\\\\05b-PlottingWithPyradi-Polar-and-3D_39_1.png', 'pic\\\\05b-PlottingWithPyradi-Polar-and-3D_40_0.png', 'pic\\\\05b-PlottingWithPyradi-Polar-and-3D_41_0.png', 'pic\\\\05b-PlottingWithPyradi-Polar-and-3D_46_0.png', 'pic\\\\05b-PlottingWithPyradi-Polar-and-3D_47_0.png', 'pic\\\\05b-PlottingWithPyradi-Polar-and-3D_49_0.png', 'pic\\\\05b-PlottingWithPyradi-Polar-and-3D_50_0.png', 'pic\\\\05b-PlottingWithPyradi-Polar-and-3D_54_0.png', 'pic\\\\05b-PlottingWithPyradi-Polar-and-3D_55_0.png', 'pic\\\\05b-PlottingWithPyradi-Polar-and-3D_58_0.png', 'pic\\\\05b-PlottingWithPyradi-Polar-and-3D_59_0.png', 'pic\\\\05b-PlottingWithPyradi-Polar-and-3D_59_1.png', 'pic\\\\05b-PlottingWithPyradi-Polar-and-3D_61_0.png', 'pic\\\\05b-PlottingWithPyradi-Polar-and-3D_62_0.png', 'pic\\\\05b-PlottingWithPyradi-Polar-and-3D_64_0.png', 'pic\\\\05b-PlottingWithPyradi-Polar-and-3D_65_0.png', 'pic\\\\05b-PlottingWithPyradi-Polar-and-3D_72_0.png', 'pic\\\\05b-PlottingWithPyradi-Polar-and-3D_73_0.png', 'pic\\\\05b-PlottingWithPyradi-Polar-and-3D_74_0.png', 'pic\\\\05b-PlottingWithPyradi-Polar-and-3D_75_0.png', 'pic\\\\05b-PlottingWithPyradi-Polar-and-3D_75_1.png', 'pic\\\\05b-PlottingWithPyradi-Polar-and-3D_83_0.png', 'pic\\\\05b-PlottingWithPyradi-Polar-and-3D_84_0.png', 'pic\\\\05b-PlottingWithPyradi-Polar-and-3D_85_0.png', 'pic\\\\05b-PlottingWithPyradi-Polar-and-3D_86_0.png']\n"
     ]
    }
   ],
   "source": [
    "print(ryfiles.listFiles('.', '05[ab].*', useRegex=1))"
   ]
  },
  {
   "cell_type": "code",
   "execution_count": 7,
   "metadata": {
    "run_control": {
     "frozen": false,
     "read_only": false
    }
   },
   "outputs": [
    {
     "name": "stdout",
     "output_type": "stream",
     "text": [
      "['05a-PlottingWithPyradi-GeneralAndCartesian.bbl', '05a-PlottingWithPyradi-GeneralAndCartesian.bib', '05a-PlottingWithPyradi-GeneralAndCartesian.blg', '05a-PlottingWithPyradi-GeneralAndCartesian.ipynb', '05a-PlottingWithPyradi-GeneralAndCartesian.log', '05a-PlottingWithPyradi-GeneralAndCartesian.pdf', '05a-PlottingWithPyradi-GeneralAndCartesian.tex', '05b-PlottingWithPyradi-Polar-and-3D.bbl', '05b-PlottingWithPyradi-Polar-and-3D.bib', '05b-PlottingWithPyradi-Polar-and-3D.blg', '05b-PlottingWithPyradi-Polar-and-3D.ipynb', '05b-PlottingWithPyradi-Polar-and-3D.log', '05b-PlottingWithPyradi-Polar-and-3D.pdf', '05b-PlottingWithPyradi-Polar-and-3D.tex']\n"
     ]
    }
   ],
   "source": [
    "print(ryfiles.listFiles('.', '^05[ab].*\\.[^h].*', useRegex=1))"
   ]
  },
  {
   "cell_type": "markdown",
   "metadata": {
    "run_control": {
     "frozen": false,
     "read_only": false
    }
   },
   "source": [
    "### Working with filenames and directories"
   ]
  },
  {
   "cell_type": "markdown",
   "metadata": {
    "run_control": {
     "frozen": false,
     "read_only": false
    }
   },
   "source": [
    "The information in this section does not describe any pyradi functionality, but may be useful in this context.\n",
    "\n",
    "To split a qualified path into the folder and filename use [`os.path.split`](https://docs.python.org/2/library/os.path.html), yielding a tuple with the path as the first element and the filename as the second element."
   ]
  },
  {
   "cell_type": "code",
   "execution_count": 8,
   "metadata": {
    "run_control": {
     "frozen": false,
     "read_only": false
    }
   },
   "outputs": [
    {
     "name": "stdout",
     "output_type": "stream",
     "text": [
      "<class 'tuple'>\n",
      "('05', '05-testfile.txt')\n",
      "05-testfile.txt\n",
      "05\n"
     ]
    }
   ],
   "source": [
    "import os.path\n",
    "print(type(os.path.split('05\\\\05-testfile.txt')))\n",
    "print(os.path.split('05\\\\05-testfile.txt'))\n",
    "print(os.path.basename('05\\\\05-testfile.txt'))\n",
    "print(os.path.dirname('05\\\\05-testfile.txt'))"
   ]
  },
  {
   "cell_type": "markdown",
   "metadata": {
    "run_control": {
     "frozen": false,
     "read_only": false
    }
   },
   "source": [
    "To join a folder and a filename use  [`os.path.join`](https://docs.python.org/2/library/os.path.html), but there is a catch here;  `os.path.join` does not expect the tuple, but simply a number of arguments.  Study the documentation carefully, because [`os.path.join`](https://docs.python.org/2/library/os.path.html) may discard some arguments.\n",
    "\n",
    "Alternatively, use `os.sep` or `os.path.sep` to get the pathname separator ('/' for POSIX and '\\\\' for Windows) and then use this character to join the list."
   ]
  },
  {
   "cell_type": "code",
   "execution_count": 9,
   "metadata": {
    "run_control": {
     "frozen": false,
     "read_only": false
    }
   },
   "outputs": [
    {
     "name": "stdout",
     "output_type": "stream",
     "text": [
      "05\\05-testfile.txt\n",
      "05\\05-testfile.txt\n",
      "05\\05-testfile.txt\n"
     ]
    }
   ],
   "source": [
    "print(os.path.join(* os.path.split('05\\\\05-testfile.txt')))\n",
    "print(os.sep.join(os.path.split('05\\\\05-testfile.txt')))\n",
    "print(os.path.sep.join(os.path.split('05\\\\05-testfile.txt')))"
   ]
  },
  {
   "cell_type": "markdown",
   "metadata": {
    "run_control": {
     "frozen": false,
     "read_only": false
    }
   },
   "source": [
    "To test for the existance of a file use `os.path.lexists` or `os.path.exists`, see the documentation to confirm the difference between the two."
   ]
  },
  {
   "cell_type": "code",
   "execution_count": 10,
   "metadata": {
    "run_control": {
     "frozen": false,
     "read_only": false
    }
   },
   "outputs": [
    {
     "name": "stdout",
     "output_type": "stream",
     "text": [
      "True\n",
      "False\n"
     ]
    }
   ],
   "source": [
    "print(os.path.lexists('05\\\\05-testfile.txt'))\n",
    "print(os.path.lexists('06\\\\05-testfile.txt'))"
   ]
  },
  {
   "cell_type": "markdown",
   "metadata": {
    "run_control": {
     "frozen": false,
     "read_only": false
    }
   },
   "source": [
    "### Downloading compressed and uncompressed files from the internet"
   ]
  },
  {
   "cell_type": "markdown",
   "metadata": {
    "run_control": {
     "frozen": false,
     "read_only": false
    }
   },
   "source": [
    "The [`ryfiles.downloadFileUrl`](http://nelisw.github.io/pyradi-docs/_build/html/ryfiles.html#pyradi.ryfiles.downloadFileUrl) function downloads a file from a URL.  The URL is used to download a file, to the saveFilename specified. If no saveFilename is given, the basename of the URL is used.  The name of the downloaded file is returned, or None if the download file.\n",
    "\n",
    "The function signature is:  \n",
    "\n",
    "    `downloadFileUrl(url,  saveFilename=None)`\n",
    "\n",
    "- `url (string)` the url to be accessed.\n",
    "- `saveFilename (string)` path to where the file must be saved (optional).\n",
    "\n",
    "The [`ryfiles.downloadUntar`](http://nelisw.github.io/pyradi-docs/_build/html/ryfiles.html#pyradi.ryfiles.downloadUntar) downloads and untars a compressed tar archive, and saves all files to the specified directory.    The tarfilename is used to open the tar file, extracting to the destinationDir specified. If no destinationDir is given, the local directory '.' is used.  Returns a list of the intarred filenames, or None of not succesful. Before downloading, a check is done to determine if the file was already downloaded  and exists in the local file system.\n",
    "\n",
    "The file signature is:  \n",
    "\n",
    "    `downloadUntar(tgzFilename, url, destinationDir=None,  tarFilename=None)`\n",
    "\n",
    "- `tgzFilename (string)` the name of the tar archive file.\n",
    "- `url (string)` url where to look for the file (not including the filename).\n",
    "- `destinationDir (string)` to where the files must be extracted  (optional).\n",
    "- `tarFilename (string)` downloaded tar filename (optional).\n",
    "\n",
    "The [`ryfiles.untarTarfile`](http://nelisw.github.io/pyradi-docs/_build/html/ryfiles.html#pyradi.ryfiles.untarTarfile) untars a tar archive, and save all files to the specified directory. The tarfilename is used to open a file, extraxting to the saveDirname specified. If no saveDirname is given, the local directory '.' is used. Returns a list of filenames saved, or None if failed.\n",
    "\n",
    "The file signature is:  \n",
    "\n",
    "    `untarTarfile(tarfilename, saveDirname=None)`\n",
    "\n",
    "- `tarfilename (string)` the name of the tar archive.\n",
    "- `saveDirname (string)` to where the files must be extracted\n",
    "\n",
    "\n",
    "The [`ryfiles.unzipGZipfile`](http://nelisw.github.io/pyradi-docs/_build/html/ryfiles.html#pyradi.ryfiles.unzipGZipfile)\n",
    "unzips a file that was compressed using the gzip format.  The zipfilename is used to open a file, to the saveFilename specified. If no saveFilename is given, the basename of the zipfilename is used, but with the file extension removed.  Returns the filename of the saved file, or None if failed.\n",
    "\n",
    "The file signature is:  \n",
    "    \n",
    "    `unzipGZipfile(zipfilename, saveFilename=None)`\n",
    "\n",
    "- `zipfilename (string)` the zipfilename to be decompressed.\n",
    "- `saveFilename (string)` to where the file must be saved (optional)."
   ]
  },
  {
   "cell_type": "markdown",
   "metadata": {
    "run_control": {
     "frozen": false,
     "read_only": false
    }
   },
   "source": [
    "The following example downloads a file, uncompress and untar the file, saving all the files in the tar archive to the destination directory (the current working directory in this case)."
   ]
  },
  {
   "cell_type": "code",
   "execution_count": 11,
   "metadata": {
    "run_control": {
     "frozen": false,
     "read_only": false
    }
   },
   "outputs": [
    {
     "name": "stdout",
     "output_type": "stream",
     "text": [
      "filesAvailable are ['arrayplotdemo.txt']\n"
     ]
    }
   ],
   "source": [
    "tgzFilename = 'arrayplotdemo.tgz'\n",
    "destinationDir = '.'\n",
    "tarFilename = 'arrayplotdemo.tar'\n",
    "url = 'https://raw.githubusercontent.com/NelisW/pyradi/master/pyradi/data/'\n",
    "dlNames = ryfiles.downloadUntar(tgzFilename, url, destinationDir, tarFilename)\n",
    "\n",
    "if dlNames:\n",
    "    print('filesAvailable are {}'.format(dlNames))"
   ]
  },
  {
   "cell_type": "markdown",
   "metadata": {
    "run_control": {
     "frozen": false,
     "read_only": false
    }
   },
   "source": [
    "## Pulse detection: probability of detection and false alarm rate"
   ]
  },
  {
   "cell_type": "markdown",
   "metadata": {
    "run_control": {
     "frozen": false,
     "read_only": false
    }
   },
   "source": [
    "The [`ryutils.detectSignalToNoise`](http://nelisw.github.io/pyradi-docs/_build/html/ryutils.html#pyradi.ryutils.detectSignalToNoise)\n",
    "function solves for the  signal to noise ratio, given the threshold to noise ratio and probability of detection.  Using the theory of matched filter design, calculate the  signal to noise ratio, to achieve a required probability of detection. The function returns the  signal to noise ratio required to achieve the probability of detection.\n",
    "Reference: \"Electro-optics handbook,\" Tech. Rep. EOH-11, RCA, 1974. RCA Technical Series Publication.  \n",
    "\n",
    "When there is a signal present, the probability of detection (signal plus noise exceeds the threshold) is given by\n",
    "\n",
    "$$\n",
    "P_d =\n",
    "\\frac{1}{2}\\left[\n",
    "1+{\\rm erf}\\left(\n",
    "\\frac{i_s-i_t}{\\sqrt{2}i_n}\n",
    "\\right)\n",
    "\\right]\n",
    "$$\n",
    "\n",
    "where ${\\rm erf}$ is the error function:\n",
    "\n",
    "$$\n",
    "{\\rm erf}(z)=\\frac{2}{\\sqrt{\\pi}}\\int_0^z e^{-t^2}dt.\n",
    "$$\n",
    "\n",
    "\n",
    "\n",
    "The function signature is:\n",
    "\n",
    "    `detectSignalToNoise(ThresholdToNoise, pD)`  \n",
    "\n",
    "- `ThresholdToNoise (float)` the threshold to noise ratio (unitless).\n",
    "- `pD (float)` the probability of detection (unitless).\n",
    "\n",
    "The [`ryutils.detectThresholdToNoise`](http://nelisw.github.io/pyradi-docs/_build/html/ryutils.html#pyradi.ryutils.detectThresholdToNoise)\n",
    "function solve for threshold to noise ratio, given pulse width and FAR, for matched filter.  Using the theory of matched filter design, calculate the     threshold to noise ratio, to achieve a required false alarm rate. The function returns the threshold to noise ratio.  Reference   R. D. Hippenstiel, Detection Theory: Applications and Digital Signal Pro-cessing, CRC Press, 2002.\n",
    "\n",
    "The average false alarm rate is given by\n",
    "$$\n",
    "{FAR}=\n",
    "\\frac{1}{2 t_p \\sqrt{3}}\\exp^{-i_t^2/(2i_n^2)},\n",
    "$$\n",
    "where\n",
    "$t_p$ is the pulse width,\n",
    "$i_t$ is the threshold value, and\n",
    "$i_n$ is the rms noise value at the input to the threshold detector.\n",
    "\n",
    "\n",
    "The function signature is:\n",
    "    `detectThresholdToNoise(pulseWidth, FAR)`\n",
    "    \n",
    "- `pulseWidth (float)` the signal pulse width in [s].\n",
    "- `FAR (float)` the false alarm rate in [alarms/s].\n",
    "\n"
   ]
  },
  {
   "cell_type": "code",
   "execution_count": 12,
   "metadata": {
    "run_control": {
     "frozen": false,
     "read_only": false
    }
   },
   "outputs": [
    {
     "name": "stdout",
     "output_type": "stream",
     "text": [
      "For a laser pulse with width=1e-07, a FAR=15 and Pd=0.999,\n",
      "the Threshold to Noise ratio must be 4.933070468777455\n",
      "and the Signal to Noise ratio must be 8.023302774945268\n",
      " \n"
     ]
    }
   ],
   "source": [
    "import pyradi.ryutils as ryutils\n",
    "\n",
    "pulsewidth = 100e-9\n",
    "FAR = 15\n",
    "probDetection = 0.999\n",
    "ThresholdToNoise = ryutils.detectThresholdToNoiseTpFAR(pulsewidth,FAR)\n",
    "SignalToNoise = ryutils.detectSignalToNoiseThresholdToNoisePd(ThresholdToNoise, probDetection)\n",
    "print('For a laser pulse with width={0}, a FAR={1} and Pd={2},'.format(pulsewidth,FAR,probDetection))\n",
    "print('the Threshold to Noise ratio must be {0}'.format(ThresholdToNoise))\n",
    "print('and the Signal to Noise ratio must be {0}'.format(SignalToNoise))\n",
    "print(' ')"
   ]
  },
  {
   "cell_type": "markdown",
   "metadata": {
    "run_control": {
     "frozen": false,
     "read_only": false
    }
   },
   "source": [
    "## Solving the range equation"
   ]
  },
  {
   "cell_type": "markdown",
   "metadata": {
    "run_control": {
     "frozen": false,
     "read_only": false
    }
   },
   "source": [
    "It is frequently necessary to determine the operational detection distance of a source and sensor combination. The problem is usually stated as follows: \"What operating detection range can be achieved with a given source intensity, atmospheric attenuation, and sensor sensitivity?\"  \n",
    "The inband irradiance is given by (Sec. 7.5)\n",
    "\n",
    "$$\n",
    "E_{\\cal S}=\\frac{v_{\\cal S} }{k \\,\\widehat{{\\cal R}}\\,Z_t\\,A_{1}}\n",
    "=\n",
    "\\int_{A_0} \\left(\n",
    "\\frac{1}{R_{01}^2}\n",
    "\\int_{0}^{\\infty}\n",
    " \\epsilon_{0\\lambda} L_{0\\lambda}\n",
    "\\,\\tau_{a\\lambda}(R) {\\cal S}_\\lambda\\,\n",
    "d\\lambda\\right) dA_{0}\\,\\cos\\theta_0\n",
    "$$\n",
    "\n",
    "The objective is to solve for $R$ where the irradiance $E_{{\\cal S}}=E_{{\\cal S}\\theta}$ is at the threshold at which the range must be determined.  Normally, $E_{{\\cal S}\\theta}=SNR\\times NEE$ where the SNR is selected to yield a given probability of detection. \n",
    "\n",
    "Assuming a target smaller than the sensor field of view, and using the effective transmittance the above equation can be simplified to the form\n",
    "\n",
    "$$\n",
    "E_{{\\cal S}\\theta}=\\frac{I_{{\\cal S}} \\tau_{\\rm eff}(R)}{R^2}\n",
    "$$\n",
    "\n",
    "where $I_{{\\cal S}}$ is the source intensity. \n",
    "This equation can be solved is $\\tau_{\\rm eff}(R)$ is available in lookup table form.\n",
    "\n",
    "The [`ryutils.rangeEquation`](http://nelisw.github.io/pyradi-docs/_build/html/ryutils.html#pyradi.ryutils.rangeEquation) function solves the range equation for arbitrary transmittance vs range, with the equation given by\n",
    "\n",
    "$$\n",
    "E=\\frac{I_{{\\cal S}} \\tau_{\\rm eff}(R)}{R^n}\n",
    "$$\n",
    "\n",
    "where $E$ is the threshold irradiance in [W/m2], and $I$ is the intensity in [W/sr]. This range equation holds for\n",
    "the case where the target is smaller than the field of view.\n",
    "\n",
    "The range $R$ must be in [m], and $\\tau_a(R)$\n",
    "is calculated from a lookup table of atmospheric transmittance vs. range.\n",
    "The transmittance lookup table  can be calculated from the simple Bouguer law,\n",
    "or it can have any abritrary shape, provided it decreases with increasing range.\n",
    "The user supplies the lookup table in the form of an array of range values and\n",
    "an associated array of transmittance values.  The range values need not be on\n",
    "constant linear range increment.\n",
    "\n",
    "The parameter $n$\n",
    "\n",
    "* $n$=2 (default value) the general case of a radiating source   smaller than the field of view.\n",
    "\n",
    "* $n$=4 the special case of a laser rangefinder illuminating a splot smaller than the sensor field of view, viewed against the sky. In this case there  is an $R^2$ attenuation from the laser to the source and another $R^2$ attenuation from the source to the receiver, hence   $R^4$ overall.\n",
    "\n",
    "The function signature is:  \n",
    "    `rangeEquation(Intensity, Irradiance, rangeTab, tauTab, rangeGuess = 1, n = 2)`\n",
    "    \n",
    "- `Intensity (float or np.array[N,] or [N,1])`  in  [W/sr].\n",
    "- `Irradiance (float or np.array[N,] or [N,1])`  in  [W/m2].\n",
    "- `rangeTab (np.array[N,] or [N,1])`  range vector for tauTab lookup in [m].\n",
    "- `tauTab (np.array[N,] or [N,1])`   transmittance vector for lookup range in [m].\n",
    "- `rangeGuess (float)` starting value range estimate in [m] (optional).\n",
    "- `n (float)` range power (2 or 4) (optional).\n",
    "\n",
    "If the range solution is doubtful (e.g. not a trustworthy solution) the returned value is made negative.  The following example  attempts to solve the equation for three cases, only one of which provides a stable solution."
   ]
  },
  {
   "cell_type": "code",
   "execution_count": 13,
   "metadata": {
    "run_control": {
     "frozen": false,
     "read_only": false
    }
   },
   "outputs": [
    {
     "name": "stdout",
     "output_type": "stream",
     "text": [
      "Range equation solver with irradiance threshold of 1e-99 W/m2:\n",
      "   intensity of 200 W/sr at range -11381.128909552699 m the irradiance is 4.462603202968597e-07 W/m2, error is 4.46e+92. \n",
      "Check maximum range in lookup table\n",
      "\n",
      "Range equation solver with irradiance threshold of 1e-05 W/m2:\n",
      "   intensity of 200 W/sr at range 3452.03409008682 m the irradiance is 1.000000000000012e-05 W/m2, error is 1.19e-14. \n",
      "\n",
      "\n",
      "Range equation solver with irradiance threshold of 1.0 W/m2:\n",
      "   intensity of 200 W/sr at range -14.12716136943599 m the irradiance is 0.49750424774943763 W/m2, error is -5.02e-01. \n",
      "Check range resolution in lookup table\n",
      "\n"
     ]
    }
   ],
   "source": [
    "import  numpy as np\n",
    "from scipy.interpolate import interp1d\n",
    "\n",
    "rangeTab = np.linspace(0, 10000, 1000)\n",
    "tauTab = np.exp(- 0.00015 * rangeTab)\n",
    "Intensity=200\n",
    "Irradiancetab=[10e-100, 10e-6, 10e-1]\n",
    "for Irradiance in Irradiancetab:\n",
    "    r = ryutils.rangeEquation(Intensity = Intensity, Irradiance = Irradiance, rangeTab = rangeTab,\n",
    "          tauTab = tauTab, rangeGuess = 1, n = 2)\n",
    "\n",
    "    #test the solution by calculating the irradiance at this range.\n",
    "    tauTable = interp1d(rangeTab, tauTab, kind = 'linear')\n",
    "\n",
    "    if np.abs(r[0]) < rangeTab[2]:\n",
    "        rr = rangeTab[2]\n",
    "        strError = \"Check range resolution in lookup table\"\n",
    "    elif np.abs(r[0]) > rangeTab[-1]:\n",
    "        rr = rangeTab[-1]\n",
    "        strError = \"Check maximum range in lookup table\"\n",
    "    else:\n",
    "        rr = r[0]\n",
    "        strError = \"\"\n",
    "\n",
    "    irrad = Intensity * tauTable(rr) / rr ** 2\n",
    "\n",
    "    print('Range equation solver with irradiance threshold of {} W/m2:'.format(Irradiance))\n",
    "    print('   intensity of {4} W/sr at range {0} m the irradiance is {1} W/m2, error is {2:.2e}. \\n{3}\\n'.format(\n",
    "        r[0],irrad, (irrad - Irradiance) / Irradiance, strError, Intensity))"
   ]
  },
  {
   "cell_type": "markdown",
   "metadata": {
    "run_control": {
     "frozen": false,
     "read_only": false
    }
   },
   "source": [
    "The next example plots the detection range for a missile given the threshold irradiance, viewing an aircraft with signature of 200W/sr, through an atmosphere with an attenuation coefficient of 0.15 km-1.   The graphs shows that when viewing the target through the atmosphere, an irradiance threshold (sensitivity) of 1 $\\mu$W/m$^2$ will provide a detection distance of 8 km. A missile with sensitivity of 0.1 $\\mu$W/m$^2$ provides a detection distance of 15 km.  The example shows that you need ten times better sensitivity to double the detection distance.  Increased detection distance comes at a tremendous cost!"
   ]
  },
  {
   "cell_type": "code",
   "execution_count": 14,
   "metadata": {
    "run_control": {
     "frozen": false,
     "read_only": false
    }
   },
   "outputs": [
    {
     "data": {
      "image/png": "[encoded data removed]",
      "text/plain": [
       "<Figure size 864x864 with 1 Axes>"
      ]
     },
     "metadata": {
      "needs_background": "light"
     },
     "output_type": "display_data"
    }
   ],
   "source": [
    "import pyradi.ryutils as ryutils\n",
    "import pyradi.ryplot as ryplot\n",
    "import  numpy as np\n",
    "from scipy.interpolate import interp1d\n",
    "%matplotlib inline\n",
    "\n",
    "rangeTab = np.linspace(0, 100000, 1000)\n",
    "atmogamma = 0.00015\n",
    "tauTab = np.exp(- atmogamma * rangeTab)\n",
    "Intensity=200\n",
    "Irradiancetab=np.linspace(0.05e-6, 100e-6, 400)\n",
    "r = np.zeros((Irradiancetab.shape))\n",
    "for i,Irradiance in enumerate(Irradiancetab):\n",
    "    r[i] = ryutils.rangeEquation(Intensity = Intensity, Irradiance = Irradiance, rangeTab = rangeTab,\n",
    "          tauTab = tauTab, rangeGuess = 1, n = 2)\n",
    "\n",
    "p=ryplot.Plotter(1, 2, 1, figsize=(12,12))\n",
    "p.semilogX(1,Irradiancetab*1e6,r,'Range equation for 200 W/sr target through {} km-1 atmosphere'.format(atmogamma*1000.),\n",
    "      'Irradiance threshold [$\\mu$W/m2]','Detection range [m]');\n",
    "    "
   ]
  },
  {
   "cell_type": "markdown",
   "metadata": {
    "run_control": {
     "frozen": false,
     "read_only": false
    }
   },
   "source": [
    "## Absolute humidity"
   ]
  },
  {
   "cell_type": "markdown",
   "metadata": {
    "run_control": {
     "frozen": false,
     "read_only": false
    }
   },
   "source": [
    "The [`ryutils.abshumidity`](http://nelisw.github.io/pyradi-docs/_build/html/ryutils.html#pyradi.ryutils.abshumidity) function  calculates atmopsheric absolute humidity [g/m3] for temperature in [K] between 248 K and 342 K. This function provides two similar equations, but with different constants.\n",
    "\n",
    "Atmospheric humidity is commonly expressed in relative humidity (RH). Relative humidity is the quantity of water vapor in the atmosphere, expressed as a percentage of the maximum absolute humidity.  The maximum absolute humidity is determined by the water-vapor partial pressure at the atmospheric temperature and is given by [this equation](http://www.vaisala.com/Vaisala%20Documents/Application%20notes/Humidity_Conversion_Formulas_B210973EN-D.pdf) (Equation 1 in the function):\n",
    "$$\n",
    "q=\\frac{1325.252}{T} 10^{7.5892(T - 273.15)/(T -32.44)},\n",
    "$$\n",
    "in units of [g/m$^3$] and temperature in [K]. This equation has an error of less than 1% over the range $-$20 $^\\circ$C to 0 $^\\circ$C, and less than 0.1% for the temperature range 0 $^\\circ$C to 50 $^\\circ$C. \n",
    "\n",
    "The [alternative equation](#http://www.see.ed.ac.uk/~shs/Climate%20change/Data%20sources/Humidity%20with%20altidude.pdf)  (Equation 1 in the function) is: \n",
    "$$\n",
    "q=\\frac{1324.37872}{T} \\exp[\n",
    "17.67*(T - 273.16)/(T - 29.66))\n",
    "$$\n",
    "\n",
    "The function signature is:\n",
    "    `abshumidity(T, equationSelect = 1)`  \n",
    "    \n",
    "- `temperature (np.array[N,] or [N,1])`  in  [K].\n",
    "- `equationSelect (int)` select the equation to be used.\n",
    "\n",
    "\n",
    "In this example the values from the equations are compared to [data from](http://rolfb.ch/tools/thtable.php?tmin=-25&tmax=50&tstep=5&hmin=10&hmax=100&hstep=10&acc=2&calculate=calculate):"
   ]
  },
  {
   "cell_type": "code",
   "execution_count": 15,
   "metadata": {
    "run_control": {
     "frozen": false,
     "read_only": false
    }
   },
   "outputs": [
    {
     "name": "stdout",
     "output_type": "stream",
     "text": [
      "        deg C          Testvalue           Fn value       % Error\n",
      "[[ 5.00000000e+01  8.27800000e+01  8.28288052e+01 -5.89229459e-02]\n",
      " [ 4.50000000e+01  6.52500000e+01  6.53105744e+01 -9.27481918e-02]\n",
      " [ 4.00000000e+01  5.09800000e+01  5.10475988e+01 -1.32422991e-01]\n",
      " [ 3.50000000e+01  3.94700000e+01  3.95318519e+01 -1.56460806e-01]\n",
      " [ 3.00000000e+01  3.02600000e+01  3.03161305e+01 -1.85150640e-01]\n",
      " [ 2.50000000e+01  2.29700000e+01  2.30097997e+01 -1.72968594e-01]\n",
      " [ 2.00000000e+01  1.72400000e+01  1.72744162e+01 -1.99232035e-01]\n",
      " [ 1.50000000e+01  1.28000000e+01  1.28192871e+01 -1.50453884e-01]\n",
      " [ 1.00000000e+01  9.38000000e+00  9.39702200e+00 -1.81142459e-01]\n",
      " [ 5.00000000e+00  6.79000000e+00  6.79913283e+00 -1.34323439e-01]\n",
      " [ 0.00000000e+00  4.85000000e+00  4.85173751e+00 -3.58120391e-02]\n",
      " [-5.00000000e+00  3.41000000e+00  3.41141647e+00 -4.15215865e-02]\n",
      " [-1.00000000e+01  2.36000000e+00  2.36126844e+00 -5.37186742e-02]\n",
      " [-1.50000000e+01  1.61000000e+00  1.60720482e+00  1.73915730e-01]\n",
      " [-2.00000000e+01  1.08000000e+00  1.07451558e+00  5.10408511e-01]\n",
      " [-2.50000000e+01  7.10000000e-01  7.04731527e-01  7.47585870e-01]]\n",
      "Highest recorded absolute humidity was 37.51799299496529, dew point 34 deg C\n"
     ]
    },
    {
     "data": {
      "image/png": "[encoded data removed]",
      "text/plain": [
       "<Figure size 864x432 with 2 Axes>"
      ]
     },
     "metadata": {
      "needs_background": "light"
     },
     "output_type": "display_data"
    }
   ],
   "source": [
    "import pyradi.ryplot as ryplot\n",
    "%matplotlib inline\n",
    "\n",
    "data=np.asarray([\n",
    "[   50  ,   82.78  ]   ,\n",
    "[   45  ,   65.25    ]   ,\n",
    "[   40  ,   50.98    ]   ,\n",
    "[   35  ,   39.47    ]   ,\n",
    "[   30  ,   30.26    ]   ,\n",
    "[   25  ,   22.97  ]   ,\n",
    "[   20  ,   17.24    ]   ,\n",
    "[   15  ,   12.8    ]   ,\n",
    "[   10  ,   9.38 ]   ,\n",
    "[   5   ,   6.79 ]   ,\n",
    "[   0   ,   4.85 ]   ,\n",
    "[   -5  ,   3.41 ]   ,\n",
    "[   -10 ,   2.36 ]   ,\n",
    "[   -15 ,   1.61 ]   ,\n",
    "[   -20 ,   1.08 ]   ,\n",
    "[   -25 ,   0.71 ] ])\n",
    "temperature = data[:,0]+273.15\n",
    "absh = ryutils.abshumidity(temperature).reshape(-1,1)\n",
    "data = np.hstack((data,absh))\n",
    "# absh = ryutils.abshumidity(temperature, 2).reshape(-1,1)\n",
    "# data = np.hstack((data,absh))\n",
    "data = np.hstack((data, 100 * np.reshape((data[:,1]-data[:,2])/data[:,2],(-1,1))))\n",
    "print('        deg C          Testvalue           Fn value       % Error')\n",
    "print(data)\n",
    "\n",
    "p=ryplot.Plotter(1, 2, 1, figsize=(12,6))\n",
    "p.plot(1,data[:,0].T, data[:,2].T,'Absolute humidity vs temperature','Temperature [$^\\circ$C]','Absolute humidity g/m$^3$]')\n",
    "p.plot(2,data[:,0].T, data[:,3].T,'\\% humidity error vs temperature','Temperature [$^\\circ$C]','\\% error')\n",
    "# p.saveFig('abshum.eps')\n",
    "\n",
    "\n",
    "#highest ever recorded absolute humidity was at dew point of 34C\n",
    "print('Highest recorded absolute humidity was {0}, dew point {1} deg C'.\\\n",
    "    format(ryutils.abshumidity(np.asarray([34 + 273.15]))[0],34))"
   ]
  },
  {
   "cell_type": "markdown",
   "metadata": {
    "run_control": {
     "frozen": false,
     "read_only": false
    }
   },
   "source": [
    "## Transformation between polar and cartesian coordinates"
   ]
  },
  {
   "cell_type": "markdown",
   "metadata": {
    "run_control": {
     "frozen": false,
     "read_only": false
    }
   },
   "source": [
    "The \n",
    "[`ryutils.cart2polar`](http://nelisw.github.io/pyradi-docs/_build/html/ryutils.html#pyradi.ryutils.cart2polar)\n",
    "and\n",
    "[`ryutils.polar2cart`](http://nelisw.github.io/pyradi-docs/_build/html/ryutils.html#pyradi.ryutils.polar2cart)\n",
    "provides conversion between polar and cartesian coordinates.\n",
    "\n",
    "The [`ryutils.cart2polar`](http://nelisw.github.io/pyradi-docs/_build/html/ryutils.html#pyradi.ryutils.cart2polar)\n",
    "function signature:\n",
    "\n",
    "    `cart2polar(x, y)`\n",
    "\n",
    "- `x (float np.array)` x values in array format.\n",
    "- `y (float np.array)` y values in array format.\n",
    "\n",
    "returns\n",
    "\n",
    "- `r (float np.array)` radial component for given (x,y).\n",
    "- `theta (float np.array)` angular component for given (x,y).\n",
    "\n",
    "\n",
    "The [`ryutils.polar2cart`](http://nelisw.github.io/pyradi-docs/_build/html/ryutils.html#pyradi.ryutils.polar2cart)\n",
    "function signature:\n",
    "\n",
    "    `polar2cart(r, theta)`\n",
    "\n",
    "- `r (float np.array)` radial values in array format.\n",
    "- `theta (float np.array)` angular values in array format.\n",
    "\n",
    "returns\n",
    "\n",
    "- `x (float np.array)` x component for given (r, theta).\n",
    "- `y (float np.array)` y component for given (r, theta).\n",
    "\n",
    "This transformation code was written by [Joe Kington](https://stackoverflow.com/questions/3798333/image-information-along-a-polar-coordinate-system)."
   ]
  },
  {
   "cell_type": "code",
   "execution_count": 16,
   "metadata": {
    "run_control": {
     "frozen": false,
     "read_only": false
    }
   },
   "outputs": [
    {
     "name": "stdout",
     "output_type": "stream",
     "text": [
      "5.000000000000001 5.000000000000001 -> 7.0710678118654755 0.7853981633974483\n",
      "[3. 5.] [5. 3.] -> [5.83095189 5.83095189] [1.03037683 0.5404195 ]\n",
      "[[3. 5.]\n",
      " [5. 3.]] [[5. 3.]\n",
      " [3. 5.]] -> [[5.83095189 5.83095189]\n",
      " [5.83095189 5.83095189]] [[1.03037683 0.5404195 ]\n",
      " [0.5404195  1.03037683]]\n"
     ]
    }
   ],
   "source": [
    "import pyradi.ryutils as ryutils\n",
    "import numpy as np\n",
    "\n",
    "r, t = ryutils.cart2polar(5, 5)\n",
    "x, y = ryutils.polar2cart(r, t)\n",
    "print('{} {} -> {} {}'.format(x, y, r, t))\n",
    "\n",
    "r, t = ryutils.cart2polar(np.asarray([3, 5]), np.asarray([5, 3]))\n",
    "x, y = ryutils.polar2cart(r, t)\n",
    "print('{} {} -> {} {}'.format(x, y, r, t))\n",
    "\n",
    "r, t = ryutils.cart2polar(np.asarray([[3, 5], [5, 3]]), np.asarray([[5, 3], [3, 5]]))\n",
    "x, y = ryutils.polar2cart(r, t)\n",
    "print('{} {} -> {} {}'.format(x, y, r, t))"
   ]
  },
  {
   "cell_type": "markdown",
   "metadata": {
    "run_control": {
     "frozen": false,
     "read_only": false
    }
   },
   "source": [
    "## Calculating coordinate index arrays for a Numpy array"
   ]
  },
  {
   "cell_type": "markdown",
   "metadata": {
    "run_control": {
     "frozen": false,
     "read_only": false
    }
   },
   "source": [
    "The \n",
    "[`ryutils.index_coords`](http://nelisw.github.io/pyradi-docs/_build/html/ryutils.html#pyradi.ryutils.index_coords) function calculates zero-based (x,y) coordinate arrrays for a numpy array indices, relative to some origin.\n",
    "\n",
    "This function calculates two meshgrid arrays containing the coordinates of the \n",
    "input array.  The origin of the new coordinate system  defaults to the \n",
    "center of the image, unless the user supplies a new origin. \n",
    "\n",
    "The data format can be data.shape = (rows, cols, frames) or \n",
    "data.shape = (frames, rows, cols), the format of which is indicated by the \n",
    "framesFirst parameter.\n",
    "\n",
    "The function signature is:\n",
    "\n",
    "    `index_coords(data, origin=None, framesFirst=True)`\n",
    "\n",
    "- `data (np.array)` array for which coordinates must be calculated.\n",
    "- `origin ( (x-orig, y-orig) )` data-coordinates of where origin should be\n",
    "- `framesFirst (bool)` True if data.shape is (frames, rows, cols), False if data.shape is (rows, cols, frames)\n",
    "\n",
    "returns\n",
    "\n",
    "- `x (float np.array)` x coordinates in array format.\n",
    "- `y (float np.array)` y coordinates in array format.\n",
    "\n",
    "This transformation code was originally written by [Joe Kington](https://stackoverflow.com/questions/3798333/image-information-along-a-polar-coordinate-system)."
   ]
  },
  {
   "cell_type": "markdown",
   "metadata": {
    "run_control": {
     "frozen": false,
     "read_only": false
    }
   },
   "source": [
    "The following example demonstrates the variations obtained for frames first or frames last, and the location of the origin."
   ]
  },
  {
   "cell_type": "code",
   "execution_count": 17,
   "metadata": {
    "run_control": {
     "frozen": false,
     "read_only": false
    }
   },
   "outputs": [
    {
     "name": "stdout",
     "output_type": "stream",
     "text": [
      "framesFirst=True, origin=None\n",
      "x=[[-2 -1  0  1]\n",
      " [-2 -1  0  1]\n",
      " [-2 -1  0  1]]\n",
      "y=[[-1 -1 -1 -1]\n",
      " [ 0  0  0  0]\n",
      " [ 1  1  1  1]]\n",
      "\n",
      "framesFirst=False, origin=None\n",
      "x=[[-1  0  1]\n",
      " [-1  0  1]]\n",
      "y=[[-1 -1 -1]\n",
      " [ 0  0  0]]\n",
      "\n",
      "framesFirst=True, origin=(0,0)\n",
      "x=[[0 1 2 3]\n",
      " [0 1 2 3]\n",
      " [0 1 2 3]]\n",
      "y=[[0 0 0 0]\n",
      " [1 1 1 1]\n",
      " [2 2 2 2]]\n",
      "\n",
      "framesFirst=True, origin=(3,2)\n",
      "x=[[-3 -2 -1  0]\n",
      " [-3 -2 -1  0]\n",
      " [-3 -2 -1  0]]\n",
      "y=[[-2 -2 -2 -2]\n",
      " [-1 -1 -1 -1]\n",
      " [ 0  0  0  0]]\n"
     ]
    }
   ],
   "source": [
    "import pyradi.ryutils as ryutils\n",
    "import numpy as np\n",
    "\n",
    "data = np.ones([2, 3, 4])\n",
    "\n",
    "x, y = ryutils.index_coords(data, origin=None, framesFirst=True)\n",
    "print('framesFirst=True, origin=None')\n",
    "print('x={}\\ny={}'.format(x,y))\n",
    "    \n",
    "x, y = ryutils.index_coords(data, origin=None, framesFirst=False)\n",
    "print('\\nframesFirst=False, origin=None')\n",
    "print('x={}\\ny={}'.format(x,y))\n",
    "   \n",
    "x, y = ryutils.index_coords(data, origin=(0,0), framesFirst=True)\n",
    "print('\\nframesFirst=True, origin=(0,0)')\n",
    "print('x={}\\ny={}'.format(x,y))\n",
    "\n",
    "x, y = ryutils.index_coords(data, origin=(3,2), framesFirst=True)\n",
    "print('\\nframesFirst=True, origin=(3,2)')\n",
    "print('x={}\\ny={}'.format(x,y))\n",
    "    "
   ]
  },
  {
   "cell_type": "markdown",
   "metadata": {
    "run_control": {
     "frozen": false,
     "read_only": false
    }
   },
   "source": [
    "## Latex utilities"
   ]
  },
  {
   "cell_type": "markdown",
   "metadata": {
    "run_control": {
     "frozen": false,
     "read_only": false
    }
   },
   "source": [
    "### LaTeX code for EPS graphic inclusion "
   ]
  },
  {
   "cell_type": "markdown",
   "metadata": {
    "run_control": {
     "frozen": false,
     "read_only": false
    }
   },
   "source": [
    "The [`ryfiles.epsLaTexFigure`](http://nelisw.github.io/pyradi-docs/_build/html/ryfiles.html#pyradi.ryfiles.epsLaTexFigure)\n",
    "function writes the LaTeX code to include an eps graphic as a latex figure. The text is added to an existing file.\n",
    "\n",
    "The function signature is:\n",
    "    `epsLaTexFigure(filename, epsname, caption, scale, filemode='a')`\n",
    "\n",
    "- `fname (string)` text writing output path and filename.\n",
    "- `epsname (string)` filename/path to eps file (relative to where the LaTeX document is built).\n",
    "- `caption (string)` figure caption.\n",
    "- `scale (double)` figure scale to textwidth [0..1].\n",
    "- `filemode (string)` file open mode (a=append, w=new file) (optional)."
   ]
  },
  {
   "cell_type": "code",
   "execution_count": 18,
   "metadata": {
    "run_control": {
     "frozen": false,
     "read_only": false
    }
   },
   "outputs": [
    {
     "name": "stdout",
     "output_type": "stream",
     "text": [
      "\\begin{figure}[tb]\n",
      "\\centering\n",
      "\\includegraphics[width=0.75\\textwidth,height=w\\textheight,keepaspectratio]{picture.eps}\n",
      "\\caption{This is the caption. \\label{fig:picture.eps}}\n",
      "\\end{figure}\n",
      "\n",
      "\n",
      "\\begin{figure}[tb]\n",
      "\\centering\n",
      "\\includegraphics[width=0.75\\textwidth,height=w\\textheight,keepaspectratio]{picture.eps}\n",
      "\\caption{This is the caption. \\label{fig:picture.eps}}\n",
      "\\end{figure}\n",
      "\n",
      "\n",
      "\\begin{figure}[tb]\n",
      "\\centering\n",
      "\\includegraphics[width=0.75\\textwidth,height=w\\textheight,keepaspectratio]{picture.eps}\n",
      "\\caption{This is the caption. \\label{fig:picture.eps}}\n",
      "\\end{figure}\n",
      "\n",
      "\n",
      "\\begin{figure}[tb]\n",
      "\\centering\n",
      "\\includegraphics[width=0.75\\textwidth,height=w\\textheight,keepaspectratio]{picture.eps}\n",
      "\\caption{This is the caption. \\label{fig:picture.eps}}\n",
      "\\end{figure}\n",
      "\n",
      "\n"
     ]
    }
   ],
   "source": [
    "ryfiles.epsLaTexFigure('eps.tex', 'picture.eps', 'This is the caption', 0.75,'w')\n",
    "\n",
    "import os.path    \n",
    "if os.path.sep == '/':\n",
    "    !cat eps.tex\n",
    "else:\n",
    "    !type eps.tex"
   ]
  },
  {
   "cell_type": "markdown",
   "metadata": {
    "run_control": {
     "frozen": false,
     "read_only": false
    }
   },
   "source": [
    "### Numpy arrays in LaTeX code"
   ]
  },
  {
   "cell_type": "markdown",
   "metadata": {
    "run_control": {
     "frozen": false,
     "read_only": false
    }
   },
   "source": [
    "The [`ryfiles.arrayToLaTex`](http://nelisw.github.io/pyradi-docs/_build/html/ryfiles.html#pyradi.ryfiles.arrayToLaTex)\n",
    "function writes a numpy array to latex table format in output file.\n",
    "The table can contain only the array data (no top header or\n",
    "left column side-header), or you can add either or both of the\n",
    "top row or side column headers. Leave 'header' or 'leftcol' as\n",
    "None is you don't want these.\n",
    "\n",
    "The output format of the array data can be specified, i.e.\n",
    "scientific notation or fixed decimal point.\n",
    "\n",
    "The function signature is:\n",
    "    `arrayToLaTex(filename, arr, header=None, leftCol=None,formatstring='%1.4e', filemode='wt')`\n",
    "    \n",
    "- `fname (string)` text writing output path and filename.\n",
    "- `arr (np.array[N,M])` array with table data.\n",
    "- `header (string)` column header in final latex format (optional).\n",
    "- `leftCol ([string])` left column each row, in final latex format (optional).\n",
    "- `formatstring (string)` output format precision for array data (see [numpy.savetxt](http://docs.scipy.org/doc/numpy/reference/generated/numpy.savetxt.html)) (optional).\n",
    "- `filemode (string)` file open mode (a=append, w=new file)    (optional). \n",
    "\n",
    "With `\\usepackage{siunitx}` you can use the siunitx `\\num` formatter to format the output."
   ]
  },
  {
   "cell_type": "code",
   "execution_count": 19,
   "metadata": {
    "run_control": {
     "frozen": false,
     "read_only": false
    }
   },
   "outputs": [
    {
     "ename": "TypeError",
     "evalue": "write() argument must be str, not bytes",
     "output_type": "error",
     "traceback": [
      "\u001b[1;31m---------------------------------------------------------------------------\u001b[0m",
      "\u001b[1;31mTypeError\u001b[0m                                 Traceback (most recent call last)",
      "\u001b[1;32m~\\AppData\\Local\\Temp/ipykernel_19740/2572545408.py\u001b[0m in \u001b[0;36m<module>\u001b[1;34m\u001b[0m\n\u001b[0;32m      1\u001b[0m \u001b[0marr\u001b[0m \u001b[1;33m=\u001b[0m \u001b[0mnp\u001b[0m\u001b[1;33m.\u001b[0m\u001b[0masarray\u001b[0m\u001b[1;33m(\u001b[0m\u001b[1;33m[\u001b[0m\u001b[1;33m[\u001b[0m\u001b[1;36m1.0\u001b[0m\u001b[1;33m,\u001b[0m\u001b[1;36m2\u001b[0m\u001b[1;33m,\u001b[0m\u001b[1;36m3\u001b[0m\u001b[1;33m]\u001b[0m\u001b[1;33m,\u001b[0m\u001b[1;33m[\u001b[0m\u001b[1;36m4\u001b[0m\u001b[1;33m,\u001b[0m\u001b[1;36m5\u001b[0m\u001b[1;33m,\u001b[0m\u001b[1;36m6\u001b[0m\u001b[1;33m]\u001b[0m\u001b[1;33m,\u001b[0m\u001b[1;33m[\u001b[0m\u001b[1;36m7\u001b[0m\u001b[1;33m,\u001b[0m\u001b[1;36m8\u001b[0m\u001b[1;33m,\u001b[0m\u001b[1;36m9\u001b[0m\u001b[1;33m]\u001b[0m\u001b[1;33m]\u001b[0m\u001b[1;33m)\u001b[0m\u001b[1;33m\u001b[0m\u001b[1;33m\u001b[0m\u001b[0m\n\u001b[0;32m      2\u001b[0m \u001b[0mryfiles\u001b[0m\u001b[1;33m.\u001b[0m\u001b[0marrayToLaTex\u001b[0m\u001b[1;33m(\u001b[0m\u001b[1;34m'array.tex'\u001b[0m\u001b[1;33m,\u001b[0m \u001b[0marr\u001b[0m\u001b[1;33m)\u001b[0m\u001b[1;33m\u001b[0m\u001b[1;33m\u001b[0m\u001b[0m\n\u001b[1;32m----> 3\u001b[1;33m \u001b[0mryfiles\u001b[0m\u001b[1;33m.\u001b[0m\u001b[0marrayToLaTex\u001b[0m\u001b[1;33m(\u001b[0m\u001b[1;34m'array.tex'\u001b[0m\u001b[1;33m,\u001b[0m \u001b[0marr\u001b[0m\u001b[1;33m,\u001b[0m \u001b[0mformatstring\u001b[0m\u001b[1;33m=\u001b[0m\u001b[1;34m'%.1f'\u001b[0m\u001b[1;33m,\u001b[0m\u001b[0mfilemode\u001b[0m\u001b[1;33m=\u001b[0m\u001b[1;34m'a'\u001b[0m\u001b[1;33m)\u001b[0m\u001b[1;33m\u001b[0m\u001b[1;33m\u001b[0m\u001b[0m\n\u001b[0m\u001b[0;32m      4\u001b[0m \u001b[0mheaderonly\u001b[0m \u001b[1;33m=\u001b[0m \u001b[1;34m'Col1 & Col2 & Col3'\u001b[0m\u001b[1;33m\u001b[0m\u001b[1;33m\u001b[0m\u001b[0m\n\u001b[0;32m      5\u001b[0m \u001b[0mryfiles\u001b[0m\u001b[1;33m.\u001b[0m\u001b[0marrayToLaTex\u001b[0m\u001b[1;33m(\u001b[0m\u001b[1;34m'array.tex'\u001b[0m\u001b[1;33m,\u001b[0m \u001b[0marr\u001b[0m\u001b[1;33m,\u001b[0m \u001b[0mheaderonly\u001b[0m\u001b[1;33m,\u001b[0m \u001b[0mformatstring\u001b[0m\u001b[1;33m=\u001b[0m\u001b[1;34m'%.3f'\u001b[0m\u001b[1;33m,\u001b[0m\u001b[0mfilemode\u001b[0m\u001b[1;33m=\u001b[0m\u001b[1;34m'a'\u001b[0m\u001b[1;33m)\u001b[0m\u001b[1;33m\u001b[0m\u001b[1;33m\u001b[0m\u001b[0m\n",
      "\u001b[1;32mK:\\WorkN\\pyradi\\pyradi\\pyradi\\ryfiles.py\u001b[0m in \u001b[0;36marrayToLaTex\u001b[1;34m(filename, arr, header, leftCol, formatstring, filemode)\u001b[0m\n\u001b[0;32m    892\u001b[0m \u001b[1;33m\u001b[0m\u001b[0m\n\u001b[0;32m    893\u001b[0m         \u001b[0mfile\u001b[0m\u001b[1;33m=\u001b[0m\u001b[0mopen\u001b[0m\u001b[1;33m(\u001b[0m\u001b[0mfilename\u001b[0m\u001b[1;33m,\u001b[0m \u001b[0mfilemode\u001b[0m\u001b[1;33m)\u001b[0m\u001b[1;33m\u001b[0m\u001b[1;33m\u001b[0m\u001b[0m\n\u001b[1;32m--> 894\u001b[1;33m         \u001b[0mfile\u001b[0m\u001b[1;33m.\u001b[0m\u001b[0mwrite\u001b[0m\u001b[1;33m(\u001b[0m\u001b[1;34m'\\\\begin{{tabular}}{{ {0} }}\\n\\hline\\n'\u001b[0m\u001b[1;33m.\u001b[0m\u001b[0mformat\u001b[0m\u001b[1;33m(\u001b[0m\u001b[1;34m'|'\u001b[0m\u001b[1;33m+\u001b[0m \u001b[0mnumcols\u001b[0m\u001b[1;33m*\u001b[0m\u001b[1;34m'c|'\u001b[0m\u001b[1;33m)\u001b[0m\u001b[1;33m.\u001b[0m\u001b[0mencode\u001b[0m\u001b[1;33m(\u001b[0m\u001b[1;34m'utf-8'\u001b[0m\u001b[1;33m)\u001b[0m\u001b[1;33m)\u001b[0m\u001b[1;33m\u001b[0m\u001b[1;33m\u001b[0m\u001b[0m\n\u001b[0m\u001b[0;32m    895\u001b[0m \u001b[1;33m\u001b[0m\u001b[0m\n\u001b[0;32m    896\u001b[0m         \u001b[1;31m#write the header\u001b[0m\u001b[1;33m\u001b[0m\u001b[1;33m\u001b[0m\u001b[1;33m\u001b[0m\u001b[0m\n",
      "\u001b[1;31mTypeError\u001b[0m: write() argument must be str, not bytes"
     ]
    }
   ],
   "source": [
    "arr = np.asarray([[1.0,2,3],[4,5,6],[7,8,9]])\n",
    "ryfiles.arrayToLaTex('array.tex', arr)\n",
    "ryfiles.arrayToLaTex('array.tex', arr, formatstring='%.1f',filemode='a')\n",
    "headeronly = 'Col1 & Col2 & Col3'\n",
    "ryfiles.arrayToLaTex('array.tex', arr, headeronly, formatstring='%.3f',filemode='a')\n",
    "header = 'Col 1 & Col 2 & Col 3'\n",
    "leftcol = ['XX','Row 1','Row 2','Row 3']\n",
    "ryfiles.arrayToLaTex('array.tex', arr, header, leftcol, formatstring=r'\\num{%.6e}',filemode='a')\n",
    "\n",
    "import os.path    \n",
    "if os.path.sep == '/':\n",
    "    !cat array.tex\n",
    "else:\n",
    "    !type array.tex"
   ]
  },
  {
   "cell_type": "markdown",
   "metadata": {
    "run_control": {
     "frozen": false,
     "read_only": false
    }
   },
   "source": [
    "### Upright micro symbol in LaTeX"
   ]
  },
  {
   "cell_type": "markdown",
   "metadata": {
    "run_control": {
     "frozen": false,
     "read_only": false
    }
   },
   "source": [
    "The [`ryutils.upMu`](http://nelisw.github.io/pyradi-docs/_build/html/ryutils.html#pyradi.ryutils.upMu)\n",
    "function returns an upright $\\mu$ symbol, as required in the SI system for the $10^{-6}$ prefix. \n",
    "\n",
    "The upright symbol requires that the siunitx LaTeX package be installed on the computer running the code.  This function also changes the Matplotlib rcParams file.  This symbol can be used in graphs or text.\n",
    "\n",
    "The function signature is:   \n",
    "    `upMu(uprightMu=True, textcomp=False)`\n",
    "\n",
    "- `uprightMu (bool)` signals upright (True, default) or regular (False) symbol (optional).\n",
    "- `textcomp (bool)` if True use the textcomp package, else use siunitx package (optional).\n",
    "\n",
    "The [`ryutils.upMu`](http://nelisw.github.io/pyradi-docs/_build/html/ryutils.html#pyradi.ryutils.upMu) function returns a string with LaTeX code for the micro symbol.\n"
   ]
  },
  {
   "cell_type": "code",
   "execution_count": null,
   "metadata": {
    "run_control": {
     "frozen": false,
     "read_only": false
    }
   },
   "outputs": [],
   "source": [
    "import pyradi.ryutils as ryutils\n",
    "print('Using siunitx package:')\n",
    "print('{} renders in LaTeX as an upright symbol'.format(ryutils.upMu()))\n",
    "print('{} renders in LaTeX as an upright symbol'.format(ryutils.upMu(True)))\n",
    "print('{} renders in LaTeX as an italic/slanted symbol'.format(ryutils.upMu(False)))\n",
    "print('\\nUsing textcomp package:')\n",
    "print('{} renders in LaTeX as an upright symbol'.format(ryutils.upMu(textcomp=True)))\n",
    "print('{} renders in LaTeX as an upright symbol'.format(ryutils.upMu(True,textcomp=True)))\n",
    "print('{} renders in LaTeX as an italic/slanted symbol'.format(ryutils.upMu(False,textcomp=True)))\n"
   ]
  },
  {
   "cell_type": "markdown",
   "metadata": {
    "run_control": {
     "frozen": false,
     "read_only": false
    }
   },
   "source": [
    "###  Create clean filenames"
   ]
  },
  {
   "cell_type": "markdown",
   "metadata": {
    "run_control": {
     "frozen": false,
     "read_only": false
    }
   },
   "source": [
    "The [`ryfiles.cleanFilename`](http://nelisw.github.io/pyradi-docs/_build/html/ryfiles.html#pyradi.ryfiles.cleanFilename)\n",
    "function cleans a string by removing selected characters.  It creates a legal and 'clean' source string from a string by removing some \n",
    "clutter and  characters not allowed in filenames.     A default set is given but the user can override the default string.\n",
    "\n",
    "The function signature is:\n",
    "    `cleanFilename(sourcestring,  removestring =\" %:/,.\\\\[]\")`\n",
    "    \n",
    "- `sourcestring (string)` the string to be cleaned.\n",
    "- `removestring (string)` remove all these characters from the string (optional).\n",
    "   \n",
    "It is quite useful to use a figure caption as filename, first cleaning it up.   "
   ]
  },
  {
   "cell_type": "code",
   "execution_count": null,
   "metadata": {
    "run_control": {
     "frozen": false,
     "read_only": false
    }
   },
   "outputs": [],
   "source": [
    "print ('\\nTest CleanFilename function:')\n",
    "inString=\"aa bb%cc:dd/ee,ff.gg\\\\hh[ii]jj\"\n",
    "print('{0}\\n{1}\\n'.format(inString, ryfiles.cleanFilename(inString) ))\n",
    "inString=\"aa bb%cc:dd/ee,ff.gg\\\\hh[ii]jj\"\n",
    "print('{0}\\n{1}'.format(inString, ryfiles.cleanFilename(inString, \"abcd\") ))"
   ]
  },
  {
   "cell_type": "markdown",
   "metadata": {
    "run_control": {
     "frozen": false,
     "read_only": false
    }
   },
   "source": [
    "## Reading two-dimensional lookup tables"
   ]
  },
  {
   "cell_type": "markdown",
   "metadata": {
    "run_control": {
     "frozen": false,
     "read_only": false
    }
   },
   "source": [
    "The [`ryfiles.read2DLookupTable`](http://nelisw.github.io/pyradi-docs/_build/html/ryfiles.html#pyradi.ryfiles.read2DLookupTable)\n",
    "Reads a 2D lookup table and extract the data. The table has the following format:\n",
    "\n",
    "    line 1: xlabel ylabel title\n",
    "    line 2: 0 (vector of y (col) abscissa)\n",
    "    lines 3 and following: (element of x (row) abscissa), followed\n",
    "    by table data.\n",
    "\n",
    "From line/row 3 onwards the first element is the x abscissa value\n",
    "followed by the row of data, one point for each y abscissa value.\n",
    "\n",
    "The file format can depicted as follows:\n",
    "\n",
    "    x-name y-name ordinates-name\n",
    "    0 y1 y2 y3 y4\n",
    "    x1 v11 v12 v13 v14\n",
    "    x2 v21 v22 v23 v24\n",
    "    x3 v31 v32 v33 v34\n",
    "    x4 v41 v42 v43 v44\n",
    "    x5 v51 v52 v53 v54\n",
    "    x6 v61 v62 v63 v64\n",
    "\n",
    "The function has the signature:\n",
    "\n",
    "    `read2DLookupTable(filename)`\n",
    "    \n",
    "- `fname (string)` input path and filename    \n",
    "\n",
    "The function returns the following:\n",
    "\n",
    "- `xVec ((np.array[N]))` x abscissae\n",
    "- `yVec ((np.array[M]))` y abscissae\n",
    "- `data ((np.array[N,M]))` data corresponding the x,y\n",
    "- `xlabel (string)` x abscissa label\n",
    "- `ylabel (string)` y abscissa label\n",
    "- `title (string)` dataset title\n"
   ]
  },
  {
   "cell_type": "code",
   "execution_count": null,
   "metadata": {
    "run_control": {
     "frozen": false,
     "read_only": false
    }
   },
   "outputs": [],
   "source": [
    "filecont = ['x-name y-name ordinates-name\\n',\n",
    "'0 1   2   3  4\\n',\n",
    "'10 11 12 13 14\\n',\n",
    "'20 21 22 23 24\\n',\n",
    "'30 31 32 33 34\\n',\n",
    "'40 41 42 43 44\\n',\n",
    "'50 51 52 53 54\\n',\n",
    "'60 61 62 63 64\\n']\n",
    "\n",
    "with open('2dfile.dat', 'wt') as f:\n",
    "    f.writelines(filecont)\n",
    "\n",
    "import os.path    \n",
    "if os.path.sep == '/':\n",
    "    !cat 2dfile.dat\n",
    "else:\n",
    "    !type 2dfile.dat    \n",
    "    \n",
    "xVec,yVec,data,xlabel, ylabel, title = ryfiles.read2DLookupTable('2dfile.dat')\n",
    "print('\\n')\n",
    "print('xVec={}'.format(xVec))\n",
    "print('yVec={}'.format(yVec))\n",
    "print('data={}'.format(data))\n",
    "print('xlabel={}'.format(xlabel))\n",
    "print('ylabel={}'.format(ylabel))\n",
    "print('title={}'.format(title))"
   ]
  },
  {
   "cell_type": "markdown",
   "metadata": {},
   "source": [
    "## Probability Density by Kernel Density Estimate\n",
    "\n",
    "Jake vdPlas makes a good point why and how histograms are not really good probability density estimators [here](https://jakevdp.github.io/PythonDataScienceHandbook/05.13-kernel-density-estimation.html#Motivating-KDE:-Histograms).  Depending on how the data points fall into the bins strange effects may arise.  He writes 'The problem with our two binnings stems from the fact that the height of the block stack often reflects not on the actual density of points nearby, but on coincidences of how the bins align with the data points. This mis-alignment between points and their blocks is a potential cause of the poor histogram results.\n",
    "\n",
    "The histogram approach is to have (normally same-size) fixed bin edges, in to which the data points are falling and being counted. The Kernel Density method works the other way around make fixed-width block around each data point and add up the blocks' heights.  This way the weights add up around the data points' locations.  This is somewhat making a bin centred around each data point and then adding up the bin counts at a fine resolution.\n",
    "\n",
    "Working with rectangular blocks the new density function has rough edges at the blocks' corners. The next logical step is to use smooth functions (called kernels) instead of rectangular blocks. This yields smooth functions with more appropriate density distributions than does the traditional histogram.  In this approach you must define/select the kernel shape and width. If the kernel is too wide a kernel's influence can be too wide, masking the data points. If the kernel is too narrow it will leave 'holes' between the data points. Just image a dirac delta kernel function which simply repeats the data set.\n",
    "\n",
    "scikit-learn provides an efficient library for kernel density estimation. The library provides six different kernel shapes and a method whereby an appropriate  kernel width can be found. The `pyradi.ryprob.KDEbounded` function packages the scikit learn functionality in an easily usable single function.\n",
    "\n",
    "The gaussian kernels typically used in KDE reaches to infinity and the density function domain therefore spans infinity in x.\n",
    "Suppose the data set is known to be bounded by zero on the lower end: non-zero values are not possible.\n",
    "The KDE algorithm will happily return a nonzero density for $x<0$, so some means must be found to eliminate density outside the domain bounds.\n",
    "\n",
    "\n",
    "To correct this non-zero density outside of the valid domain:\n",
    "\n",
    "- Make additional datasets mirrored around the boundary or boundaries (if both sides are bounded).\n",
    "- Calculated the KDE of each set separately: the base set, the lower set and the upper set.\n",
    "- Add the result of the sets together.\n",
    "- Select the results in the valid domain and set the values outside the valid domain to zero.\n",
    "\n",
    "This procedure ensures that the PDF derivative at the boundary is zero and that the density 'outside' the domain is accounted for by mirroring the density back into the domain.\n",
    "\n",
    "The next challenge is finding the correct bandwidth. From JvdP book:\n",
    "    \n",
    "''The choice of bandwidth within KDE is extremely important to finding a suitable density estimate, and is the knob that controls the bias–variance trade-off in the estimate of density: too narrow a bandwidth leads to a high-variance estimate (i.e., over-fitting), where the presence or absence of a single point makes a large difference. Too wide a bandwidth leads to a high-bias estimate (i.e., under-fitting) where the structure in the data is washed out by the wide kernel.\n",
    "\n",
    "There is a long history in statistics of methods to quickly estimate the best bandwidth based on rather stringent assumptions about the data: if you look up the KDE implementations in the SciPy and StatsModels packages, for example, you will see implementations based on some of these rules.\n",
    "\n",
    "In machine learning contexts, we've seen that such hyperparameter tuning often is done empirically via a cross-validation approach. With this in mind, the KernelDensity estimator in Scikit-Learn is designed such that it can be used directly within the Scikit-Learn's standard grid search tools. Here we will use GridSearchCV to optimize the bandwidth for the preceding dataset. Because we are looking at such a small dataset, we will use leave-one-out cross-validation, which minimizes the reduction in training set size for each cross-validation trial''\n",
    "\n",
    "We will not discuss the matter much deeper here, oher than to show how the kernel with optimisation can be done.  In the `KDEbounded` function below, if `bandwidth=np.nan` the bandwidth optimisation will be done.  If the `bandwidth`  is assigned a numerical value, that value will be used.\n",
    "\n",
    "The Leave-One-Out algorithm used here is quite slow for large data sets. So use a smaller data set to determine the best bandwidth and then use the value numerically for the large runs.\n",
    "\n",
    "The `pyradi.ryprob.KDEbounded` function requires a scikit learn version higher than 0.19. This work was done with version 0.20.1\n",
    "\n",
    "A small writeup of this work with more examples is given in  \n",
    "https://github.com/NelisW/PythonNotesToSelf/blob/master/KernelDensityEstimation/KernelDensityEstimation.ipynb\n",
    "\n",
    "https://kdepy.readthedocs.io/en/latest/examples.html#boundary-correction-using-mirroring\n",
    "\n"
   ]
  },
  {
   "cell_type": "markdown",
   "metadata": {},
   "source": [
    "https://jakevdp.github.io/PythonDataScienceHandbook/05.13-kernel-density-estimation.html  \n",
    "https://jakevdp.github.io/blog/2013/12/01/kernel-density-estimation/  \n",
    "https://mglerner.github.io/posts/histograms-and-kernel-density-estimation-kde-2.html?p=28  \n",
    "\n",
    "https://github.com/tommyod/KDEpy  \n",
    "https://kdepy.readthedocs.io/en/latest/examples.html   \n",
    "\n",
    "https://towardsdatascience.com/histograms-and-density-plots-in-python-f6bda88f5ac0  \n",
    "https://towardsdatascience.com/how-to-find-probability-from-probability-density-plots-7c392b218bab  \n",
    "https://github.com/admond1994/calculate-probability-from-probability-density-plots/blob/master/cal_probability.ipynb  \n",
    "\n",
    "https://stats.stackexchange.com/questions/405357/how-to-choose-the-bandwidth-of-a-kde-in-python  \n",
    "https://www.homeworkhelponline.net/blog/math/tutorial-kde  \n",
    "\n",
    "https://scikit-learn.org/stable/auto_examples/neighbors/plot_kde_1d.html  \n",
    "https://scikit-learn.org/stable/modules/cross_validation.html#cross-validation  \n",
    "https://scikit-learn.org/stable/modules/density.html  \n",
    "https://scikit-learn.org/stable/modules/generated/sklearn.model_selection.GridSearchCV.html  \n",
    "https://scikit-learn.org/stable/modules/generated/sklearn.neighbors.KernelDensity.html  \n",
    "  \n",
    "https://docs.scipy.org/doc/scipy/reference/generated/scipy.stats.gaussian_kde.html  \n",
    "https://glowingpython.blogspot.co.za/2012/08/kernel-density-estimation-with-scipy.html  \n",
    "https://pythonhosted.org/PyQt-Fit/KDE_tut.html  \n"
   ]
  },
  {
   "cell_type": "markdown",
   "metadata": {},
   "source": [
    "The `pyradi.ryprob.KDEbounded` function  parameters are as follows:\n",
    "\n",
    "- x_d (np.array[N,]): domain over which the probability density values must be returned.  Presumably this domain must cover the input data set closely, but it can be wider or otherwise different.\n",
    "- x (np.array[N,]): the input sample data set.\n",
    "- bandwidth (float): the bandwidth width to be used, np.nan if to be calculated. If bandwidth is np.nan, calculate the optimal kernel width, aka bandwidth.  Be careful, this can take a while, especially for large data sets.\n",
    "- lowbnd (float): lower mirror fold boundary, np.nan means no lower bound and mirror\n",
    "- uppbnd (float): upper mirror fold boundary, np.nan means no upper bound and mirror\n",
    "- kernel (str): kernel to be used ['gaussian'|'tophat'|'epanechnikov'|'exponential'|'linear'|'cosine']\n",
    "\n",
    "    \n",
    "    "
   ]
  },
  {
   "cell_type": "code",
   "execution_count": null,
   "metadata": {},
   "outputs": [],
   "source": [
    "import numpy as np\n",
    "import pyradi.ryprob as ryprob\n",
    "import pyradi.ryplot as ryplot\n",
    "\n",
    "def make_data(N, f=0.3, rseed=1):\n",
    "    rand = np.random.RandomState(rseed)\n",
    "    x = rand.randn(N) #mean-0 var=1\n",
    "    # create bimodal data by adding const to  entries with index > f*N\n",
    "    # this means that some of the date keep old values and some shift \n",
    "    x[int(f * N):] += 5\n",
    "    return x\n",
    "\n",
    "\n",
    "# helper function to set up experiments\n",
    "def showexperiment(bounds=(np.nan,np.nan),bandwidth=np.nan,scale=1,offset=0,kernel='gaussian'):\n",
    "    \n",
    "    x = scale * make_data(20) + offset\n",
    "    \n",
    "    if not np.isnan(bounds[0]) and not np.isnan(bounds[1]):\n",
    "        lowbnd = bounds[0]\n",
    "        uppbnd = bounds[1]\n",
    "        x_d = np.linspace(lowbnd,uppbnd, 1000)\n",
    "    else:\n",
    "        lowbnd = np.nan\n",
    "        uppbnd = np.nan\n",
    "        tenp = (np.max(x) - np.min(x)) / 10\n",
    "        x_d = np.linspace(np.min(x)-tenp,np.max(x)+tenp, 1000)\n",
    "\n",
    "    x_d,kde,bandwidth,kernel = ryprob.KDEbounded(x_d,x,bandwidth=bandwidth,lowbnd=lowbnd,uppbnd=uppbnd, kernel=kernel)\n",
    "\n",
    "    print(f'x.min={np.min(x):.4e}  x.max={np.max(x):.4e} x.shape={x.shape}')\n",
    "    print(f'x.min={np.min(x_d):.4e}  x.max={np.max(x_d):.4e} x.shape={x_d.shape}')\n",
    "    print(f'Bandwidth={bandwidth}')\n",
    "    print(f'kernel={kernel}')\n",
    "    print(f'Integral of PDF={np.trapz(kde,x_d)}')\n",
    "\n",
    "    p = ryplot.Plotter(1,1,1)\n",
    "    p.plot(1,x,np.full_like(x, 0.011*np.max(kde)),linestyle='',markers='^')\n",
    "    p.plot(1,x_d,kde,'Kernel Density Estimate','$x_d$','$p$')\n"
   ]
  },
  {
   "cell_type": "code",
   "execution_count": null,
   "metadata": {},
   "outputs": [],
   "source": [
    "showexperiment(bounds=[-3.301,7.74481], bandwidth=np.nan, scale=1,offset=0)   "
   ]
  },
  {
   "cell_type": "markdown",
   "metadata": {
    "run_control": {
     "frozen": false,
     "read_only": false
    }
   },
   "source": [
    "## ToDo"
   ]
  },
  {
   "cell_type": "markdown",
   "metadata": {
    "run_control": {
     "frozen": false,
     "read_only": false
    }
   },
   "source": [
    "`saveHeaderArrayTextFile', 'loadColumnTextFile', 'loadHeaderTextFile`"
   ]
  },
  {
   "cell_type": "markdown",
   "metadata": {
    "run_control": {
     "frozen": false,
     "read_only": false
    }
   },
   "source": [
    "## Python and module versions, and dates"
   ]
  },
  {
   "cell_type": "code",
   "execution_count": null,
   "metadata": {
    "run_control": {
     "frozen": false,
     "read_only": false
    }
   },
   "outputs": [],
   "source": [
    "try:\n",
    "    import pyradi.ryutils as ryutils\n",
    "    print(ryutils.VersionInformation('matplotlib,numpy,pyradi,scipy,pandas'))\n",
    "except:\n",
    "    print(\"pyradi.ryutils not found\")\n"
   ]
  },
  {
   "cell_type": "code",
   "execution_count": null,
   "metadata": {
    "run_control": {
     "frozen": false,
     "read_only": false
    }
   },
   "outputs": [],
   "source": []
  }
 ],
 "metadata": {
  "anaconda-cloud": {},
  "kernelspec": {
   "display_name": "Python 3 (ipykernel)",
   "language": "python",
   "name": "python3"
  },
  "language_info": {
   "codemirror_mode": {
    "name": "ipython",
    "version": 3
   },
   "file_extension": ".py",
   "mimetype": "text/x-python",
   "name": "python",
   "nbconvert_exporter": "python",
   "pygments_lexer": "ipython3",
   "version": "3.8.3"
  }
 },
 "nbformat": 4,
 "nbformat_minor": 4
}
