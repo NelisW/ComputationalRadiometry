{
 "cells": [
  {
   "cell_type": "markdown",
   "metadata": {
    "run_control": {
     "frozen": false,
     "read_only": false
    }
   },
   "source": [
    "# 2 Python and Numpy whirlwind cheat sheet"
   ]
  },
  {
   "cell_type": "markdown",
   "metadata": {
    "run_control": {
     "frozen": false,
     "read_only": false
    }
   },
   "source": [
    "This notebook forms part of a series on [computational optical radiometry](https://github.com/NelisW/ComputationalRadiometry#computational-optical-radiometry-with-pyradi).  The notebooks can be downloaded from [Github](https://github.com/NelisW/ComputationalRadiometry#computational-optical-radiometry-with-pyradi). These notebooks are constantly revised and updated, please revisit from time to time.  \n",
    "\n",
    "\n",
    "[<img src=\"https://zenodo.org/badge/doi/10.5281/zenodo.9910.png\"   align=\"left\"/>](http://dx.doi.org/10.5281/zenodo.9910)\n"
   ]
  },
  {
   "cell_type": "markdown",
   "metadata": {
    "run_control": {
     "frozen": false,
     "read_only": false
    }
   },
   "source": [
    "The date of this document and module versions used in this document are given at the end of the file.  \n",
    "Feedback is appreciated: neliswillers at gmail dot com."
   ]
  },
  {
   "cell_type": "markdown",
   "metadata": {
    "run_control": {
     "frozen": false,
     "read_only": false
    }
   },
   "source": [
    "This notebook serves to give brief one-liner examples of key Python usage and idioms.\n",
    "The approach here is not to spend too much time on general Python constructs, but to move on to Numpy as soon as possible. Numpy is a critical base for any scientific calculation, providing powerful vectorised computation. I make no claim to any level of completeness in this document. You still need to read the books and reference manuals to get the big picture and the details. You still have to read the manuals, but this should help you move on to Numpy quickly.\n"
   ]
  },
  {
   "cell_type": "code",
   "execution_count": 169,
   "metadata": {
    "collapsed": true,
    "jupyter": {
     "outputs_hidden": true
    },
    "run_control": {
     "frozen": false,
     "read_only": false
    }
   },
   "outputs": [],
   "source": [
    "from IPython.display import display\n",
    "from IPython.display import Image\n",
    "from IPython.display import HTML\n",
    "from IPython.core.display import display, HTML  # display(HTML(df.to_html()))\n",
    "\n",
    "import numpy as np\n",
    "import os.path"
   ]
  },
  {
   "cell_type": "markdown",
   "metadata": {
    "run_control": {
     "frozen": false,
     "read_only": false
    }
   },
   "source": [
    "## The Zen of Python"
   ]
  },
  {
   "cell_type": "code",
   "execution_count": 170,
   "metadata": {
    "run_control": {
     "frozen": false,
     "read_only": false
    }
   },
   "outputs": [],
   "source": [
    "import this"
   ]
  },
  {
   "cell_type": "markdown",
   "metadata": {
    "run_control": {
     "frozen": false,
     "read_only": false
    }
   },
   "source": [
    "## Python: What and Why"
   ]
  },
  {
   "cell_type": "markdown",
   "metadata": {
    "run_control": {
     "frozen": false,
     "read_only": false
    }
   },
   "source": [
    "\"the reason python is the best numerical language is because it is not a numerical language\"  \n",
    "\\- Nathaniel Smith, SciPy2016\n",
    "\n",
    "10 years ago, Python was considered exotic in the analytics space – at best. Languages/packages like R and Matlab dominated the scene. Today, Python has become a major force in data analytics and visualization due to a number of characteristics:\n",
    "* __Multi-purpose__: prototyping, development, production, systems admin – one for all\n",
    "* __Libraries__: there is a library for almost any task or problem you face\n",
    "* __Efficiency__: speeds up IT development tasks for analytics applications\n",
    "* __Performance__: Python has evolved from a scripting language to a 'meta' language with bridges to all high performance environments (e.g. multi-core CPUs, GPUs, clusters)\n",
    "* __Interoperability__: Python integrates with almost any other language/ technology\n",
    "* __Interactivity__: Python allows domain experts to get closer to their business and financial data pools and to do real-time analytics\n",
    "* __Collaboration__: solutions like Wakari with IPython Notebook allow the easy sharing of code, data, results, graphics, etc.\n",
    "\n",
    "A fundamental Python stack for interactive data analytics and visualization should at least contain the following libraries tools:\n",
    "* __Python__ – the Python interpreter itself\n",
    "\n",
    "* __NumPy__ – high performance, flexible array structures and operations\n",
    "\n",
    "* __SciPy__ – scientific modules and functions (regression, optimization, integration)\n",
    "\n",
    "* __pandas__ – time series and panel data analysis and I/O\n",
    "\n",
    "* __PyTables__ – hierarchical, high performance database (e.g. for out-of-memory analytics)\n",
    "* __matplotlib__ – 2d and 3d visualization\n",
    "\n",
    "* __IPython__ – interactive data analytics, visualization, publishing\n",
    "\n",
    "\n",
    "![SciPy](images/scistack.png)"
   ]
  },
  {
   "cell_type": "markdown",
   "metadata": {
    "run_control": {
     "frozen": false,
     "read_only": false
    }
   },
   "source": [
    "## Python for scientific work (instead of using Matlab)"
   ]
  },
  {
   "cell_type": "markdown",
   "metadata": {
    "run_control": {
     "frozen": false,
     "read_only": false
    }
   },
   "source": [
    "Go make up your own mind:   \n",
    "<http://cyrille.rossant.net/why-using-python-for-scientific-computing/> why use Python?  \n",
    "<http://cyrille.rossant.net/tag/ipython/> Python weaknesses - a balanced view  \n",
    "<https://sites.google.com/site/pythonforscientists/python-vs-matlab>  \n",
    "<http://wiki.scipy.org/PerformancePython>  \n",
    "<http://phillipmfeldman.org/Python/Advantages_of_Python_Over_Matlab.html>   \n",
    "<http://www.stat.washington.edu/~hoytak/blog/whypython.html>  \n",
    "<https://vnoel.wordpress.com/2008/05/03/bye-matlab-hello-python-thanks-sage/>  \n",
    "<http://metarabbit.wordpress.com/2013/10/18/why-python-is-better-than-matlab-for-scientific-software/> has some compelling evidence of the growing momentum of Python for scientific work - scroll to the top of this post for a very interesting graph.  \n",
    "<https://github.com/jakevdp/2013_fall_ASTR599> Jake VanderPlas' comprehensive course for using Python for science, including using git and notebooks   \n",
    "<http://www-personal.umich.edu/~kundeng/stats607/week_5_pysci-03-scipy.pdf>  [nice presentation!]    \n",
    "<http://nbviewer.ipython.org/github/Tooblippe/ipython_csir_30may/blob/master/csir_ipython.ipynb>   "
   ]
  },
  {
   "cell_type": "code",
   "execution_count": 171,
   "metadata": {
    "run_control": {
     "frozen": false,
     "read_only": false
    },
    "scrolled": true
   },
   "outputs": [
    {
     "data": {
      "text/html": [
       "<img src=\"images/scope-python-matlab.svg\" width=700 height=300/>"
      ],
      "text/plain": [
       "<IPython.core.display.HTML object>"
      ]
     },
     "execution_count": 171,
     "metadata": {},
     "output_type": "execute_result"
    }
   ],
   "source": [
    "HTML('<img src=\"images/scope-python-matlab.svg\" width=700 height=300/>')"
   ]
  },
  {
   "cell_type": "code",
   "execution_count": 172,
   "metadata": {},
   "outputs": [
    {
     "data": {
      "text/html": [
       "<img src=\"images/python-three-libs.jpg\" width=700 height=300/>"
      ],
      "text/plain": [
       "<IPython.core.display.HTML object>"
      ]
     },
     "execution_count": 172,
     "metadata": {},
     "output_type": "execute_result"
    }
   ],
   "source": [
    "HTML('<img src=\"images/python-three-libs.jpg\" width=700 height=300/>')"
   ]
  },
  {
   "cell_type": "markdown",
   "metadata": {},
   "source": [
    "The graph above by  [Gina Helfrich and Kelle Cruz](https://twitter.com/Sydonahi/status/991797172877381632) \n",
    "shows shows the investment cost and scope of the *(only) three* main open source scientific libraries we are using today in Python:  \n",
    "\n",
    "* Total number of contributors: more than 1800 people.\n",
    "* Lines of code : just under 800 000 lines of code.\n",
    "* Person-years worth of work: 210 years!!\n",
    "* total cost to repeat this work: almost USD21m!\n",
    "\n",
    "The above covers only three of the scientific tools, it does not include the cost of \n",
    "* Python itself\n",
    "* Machine Learning tools\n",
    "* Web tools\n",
    "* Big Data tools\n",
    "* GUI design tools\n",
    "* Or any of the thousands of other  specialised Python libraries.\n",
    "\n",
    "It is probably fair to say that the total investment in all of the open source Python community exceeds USD50m, perhaps even USD100m!\n",
    "\n",
    "This is serious effort and most certainly a safe mainstream road to be on.\n",
    "unless you are using Simulink, there is certainly no reason to use Matlab.\n",
    "Outside of Simulink Python & Friends can do much, much more than Matlab, is easier to use, is more powerful, and is free.\n"
   ]
  },
  {
   "cell_type": "markdown",
   "metadata": {},
   "source": [
    "## Learning Python\n",
    "\n",
    "### General/scientific introduction\n",
    "\n",
    "Try to find the following books:\n",
    "\n",
    "1.  [Python Data Science Handbook](http://shop.oreilly.com/product/0636920034919.do) good solid intro to data science in particular, but also general scientific work with Python.\n",
    "\n",
    "1. [Elegant SciPy](https://www.amazon.in/Elegant-SciPy-Juan-Nunez-iglesias/dp/1491922877) another good scientific intro to scientific work with Python.\n",
    "\n",
    "1. [Effective Computation in Physics](http://shop.oreilly.com/product/0636920033424.do) has nothing to do with physics, but is a very good general introduction to good programming practices in general, focuses on Python.\n",
    "\n",
    "1. [Python for Data Analysis Book](http://wesmckinney.com/pages/book.html)  you have to use Pandas!\n",
    "\n",
    "1. [Effective Pandas](https://leanpub.com/effective-pandas) you have to use Pandas!\n",
    "\n",
    "1. [Fluent Python](http://shop.oreilly.com/product/0636920032519.do) teaches Python by focusing on on Python idioms and good style.\n",
    "\n",
    "1. [Effective Python](http://www.effectivepython.com/) bring a deeper understanding into the language.\n",
    "\n",
    "1. [Python Machine Learning, 2nd Edition](https://sebastianraschka.com/books.html) not traditional scientific, but on machine learning.\n",
    "\n",
    "1. [Programming Python](http://shop.oreilly.com/product/9780596158118.do) if you come from another language.\n",
    "\n",
    "1. [Learning_Python](http://shop.oreilly.com/product/9780596158071.do) if you come from another language.\n",
    "\n",
    "The following Python online resources may help you get going:  \n",
    "<https://newcircle.com/bookshelf/python_fundamentals_tutorial/index>   \n",
    "<http://files.swaroopch.com/python/byte_of_python.pdf>  \n",
    "<http://www.diveintopython.net/>  \n",
    "<http://readwrite.com/2011/03/25/python-is-an-increasingly-popu#awesm=~oyGhXjmOOEXT1e>  \n",
    "<http://efytimes.com/e1/fullnews.asp?edid=117094>  \n",
    "<http://folk.uio.no/hpl/scripting/book_comparison.html> (Python for scientific computation)    \n",
    "<https://mbakker7.github.io/exploratory_computing_with_python/>  \n",
    "[A Crash Course in Python for Scientists](http://nbviewer.ipython.org/gist/rpmuller/5920182), I don't agree with his recommendation to install PythonXY, I prefer Anaconda.\n",
    "<https://github.com/Junnplus/awesome-python-books>  \n",
    "<http://python-3-patterns-idioms-test.readthedocs.io/en/latest/>  \n",
    "\n",
    "\n",
    "There are many free \n",
    "[books](http://docs.python-guide.org/en/latest/intro/learning/), \n",
    "[classes](https://developers.google.com/edu/python/),\n",
    "[blogs](http://www.python.org/about/gettingstarted/) websites and tutorial \n",
    "[videos](https://www.youtube.com/playlist?list=PLEA1FEF17E1E5C0DA videos), \n",
    "[more videos](http://pyvideo.org/) and \n",
    "[conferences](http://www.python.org/community/workshops). \n",
    "Material for Numpy is less bountiful, but the [numpy reference](http://docs.scipy.org/doc/numpy/numpy-ref-1.8.0.pdf) and [StackOverflow](http://stackoverflow.com/) are good sources.\n",
    "Just google some variation of '[learning python](https://www.google.com/search?q=learning+python&ie=utf-8&oe=utf-8)' and make your choice.\n",
    "\n",
    "Beginner's guides:  \n",
    "<https://docs.scipy.org/doc/numpy-dev/user/quickstart.html>\n",
    "<https://wiki.python.org/moin/BeginnersGuide>  \n",
    "<http://www.wikihow.com/Start-Programming-in-Python>  \n",
    "<http://www.learnpython.org/>  \n",
    "<http://www.sthurlow.com/python/>   \n",
    "\n",
    "See Steve Holden's  [Intermediate Python](http://holdenweb.blogspot.com/2014/04/intermediate-python-open-source.html) page.\n",
    "HTML rendering of Steve's [notebooks](http://nbviewer.ipython.org/github/DevTeam-TheOpenBastion/int-py-notes/tree/master/nbsource/).\n",
    "IPython notebooks [here](https://github.com/DevTeam-TheOpenBastion/int-py-notes/tree/master/nbsource).\n",
    "See the YouTube [video](https://www.youtube.com/watch?v=JYK_8iK2zsw).    \n",
    "\n",
    "<http://sahandsaba.com/thirty-python-language-features-and-tricks-you-may-not-know.html>\"\n"
   ]
  },
  {
   "cell_type": "markdown",
   "metadata": {
    "run_control": {
     "frozen": false,
     "read_only": false
    }
   },
   "source": [
    "### Python for science and engineering\n",
    "The following books are great (but there are several others as well):\n",
    "\n",
    "1. [Scipy Lecture Notes](http://www.scipy-lectures.org/) One document to learn numerics, science, and data with Python. The source code for the book is available [here](https://github.com/scipy-lectures/scipy-lecture-notes).  \n",
    "\n",
    "2. A very good introduction to Python for scientific work are the [two books](http://folk.uio.no/hpl/scripting/book_comparison.html) by Hans Petter Langtangen:  [A Primer on Scientific Programming with Python](http://www.springer.com/la/book/9783642549588), and [Python scripting computational science](http://www.springer.com/la/book/9783540739159).\n",
    "\n",
    "Numpy/SciPy resources:  \n",
    "<http://www.engr.ucsb.edu/~shell/che210d/numpy.pdf>   \n",
    "<http://docs.scipy.org/doc/>   \n",
    "<http://nbviewer.ipython.org/github/jrjohansson/scientific-python-lectures/tree/master/>     \n",
    "<http://wiki.scipy.org/Tentative_NumPy_Tutorial>  \n",
    "<http://matplotlib.org/gallery.html>  \n",
    "<http://nbviewer.ipython.org/github/gumption/Python_for_Data_Science/blob/master/Python_for_Data_Science_all.ipynb>  detailed introduction to Python for data science.  \n",
    "\n",
    "\n",
    "If you have some matlab background:  \n",
    "<http://wiki.scipy.org/NumPy_for_Matlab_Users>  \n",
    "<http://hyperpolyglot.org/numerical-analysis>  \n",
    "<http://resources.sei.cmu.edu/asset_files/Presentation/2011_017_001_50519.pdf>  \n",
    "<http://www.pyzo.org/python_vs_matlab.html>  \n",
    "\n"
   ]
  },
  {
   "cell_type": "markdown",
   "metadata": {
    "run_control": {
     "frozen": false,
     "read_only": false
    }
   },
   "source": [
    "## Plotting packages and options\n",
    "\n",
    "[Scientific Plotting in Python](http://www.pycon.se/2014/assets/slides/Plotly-Pycon-Sweden.pdf)  \n",
    "[Interactive Plotting in IPython Notebook (Part 1/2): Bokeh](https://pyscience.wordpress.com/2014/09/01/interactive-plotting-in-ipython-notebook-part-12-bokeh/)  \n",
    "[Interactive Plotting in IPython Notebook (Part 2/2): Plotly](https://pyscience.wordpress.com/2014/09/02/interactive-plotting-in-ipython-notebook-part-22-plotly-2/)  \n",
    "[Overview of Python Visualization Tools ](http://pbpython.com/visualization-tools-1.html)  \n",
    "[Comparing Python web visualization libraries](http://nipunbatra.github.io/2014/04/comparing-python-web-visualization/)  \n",
    "\n",
    "__matplotlib__\n",
    "[matplotlib](http://matplotlib.org/)\n",
    "[Gallery](http://matplotlib.org/gallery.html)\n",
    "[Examples](http://matplotlib.org/examples/index.html)\n",
    "[docs](http://matplotlib.org/contents.html#)\n",
    "\n",
    "\n",
    "__bokeh__\n",
    "[Welcome to bokeh](http://bokeh.pydata.org/en/latest/)\n",
    "[Gallery](http://bokeh.pydata.org/en/latest/docs/gallery.html)\n",
    "[Quickstart](http://bokeh.pydata.org/en/latest/docs/quickstart.html)\n",
    "[Tutorials](http://nbviewer.ipython.org/github/bokeh/bokeh-notebooks/blob/master/index.ipynb#Tutorial)\n",
    "[User Guide](http://bokeh.pydata.org/en/latest/docs/user_guide.html)\n",
    "\n",
    "__plotly__\n",
    "[What is Plotly.js](https://plot.ly/javascript/)\n",
    "[Plotly.js Open-Source Announcement](https://plot.ly/javascript/open-source-announcement/)\n",
    "[Getting Started: Plotly for Python](https://plot.ly/python/getting-started/)\n",
    "[Plotly Offline](https://plot.ly/python/offline/)\n",
    "[User Guide](https://plot.ly/python/user-guide/)\n",
    "[Plotly's Python API User Guide](http://nbviewer.ipython.org/github/plotly/python-user-guide/blob/master/Index.ipynb)\n",
    "[Example 3-D plot](https://plot.ly/~chriddyp/1780.embed)\n",
    "\n"
   ]
  },
  {
   "cell_type": "markdown",
   "metadata": {},
   "source": [
    "## Pandas\n",
    "\n",
    "Pandas is roughly the Python equivalent of R's DataFrame, but somewhat different. \n",
    "\n",
    "If you do any form of data analysis, using Pandas is greatly advised.  Your life will never be the same again!\n",
    "\n",
    "[Python for Data Analysis](http://shop.oreilly.com/product/0636920023784.do), by Wes McKinney, the Pandas author.  \n",
    "[Python Data Science Handbook](http://shop.oreilly.com/product/0636920034919.do), by Jake VanderPlas.  \n",
    "[Effective Pandas](https://leanpub.com/effective-pandas) by Tom Augspurger.  \n",
    "[Intro to pandas data structures](http://gregreda.com/2013/10/26/intro-to-pandas-data-structures/), old but good introduction by  Greg Reda.  \n",
    "\n",
    "https://www.dataschool.io/best-python-pandas-resources/  \n",
    "https://www.fullstackpython.com/pandas.html  \n",
    "https://github.com/NelisW/PythonNotesToSelf/tree/master/pandas\n",
    "\n",
    "\n",
    "There are also several good tutorial videos on YouTube, recorded during some of the PyData or PyCon conferences over the years.\n",
    "\n",
    "\n",
    "\n",
    "\n"
   ]
  },
  {
   "cell_type": "markdown",
   "metadata": {
    "run_control": {
     "frozen": false,
     "read_only": false
    }
   },
   "source": [
    "## Installing Python\n",
    "\n",
    "See the companion notebook `00-Installing-Python-pyradi.ipynb` or on nbviewer at https://nbviewer.jupyter.org/github/NelisW/ComputationalRadiometry/blob/master/00-Installing-Python-pyradi.ipynb"
   ]
  },
  {
   "cell_type": "markdown",
   "metadata": {
    "run_control": {
     "frozen": false,
     "read_only": false
    }
   },
   "source": [
    "## Python Basics"
   ]
  },
  {
   "cell_type": "markdown",
   "metadata": {
    "run_control": {
     "frozen": false,
     "read_only": false
    }
   },
   "source": [
    "### Code structure"
   ]
  },
  {
   "cell_type": "markdown",
   "metadata": {
    "run_control": {
     "frozen": false,
     "read_only": false
    }
   },
   "source": [
    "Python does not use open and closing braces to indicate structure, it uses indenting in the code to show structure.  This feels awkward at first, but if you use a Python-aware editor, such as Notepad++, Sublime Text or IPython's editor, the editor should make it easy to manage the intents.  The downside of the indenting method is that if you loose indenting, you lost the structure in the code.  Be careful when you copy Python code from the web, sometimes you loose the indentation structure.\n",
    "\n",
    "The preferred coding style is defined in PEP-8, see <http://legacy.python.org/dev/peps/pep-0008/>\n",
    "\n",
    "A single-line comment is indicated by a hasg symbol, which comments out everything until the end of the line. Multiline comments is started by three double quotes \"\"\" and ended likewise. By convension the opening and closing set of quotes are at the start of a line.\n",
    "\n",
    "Python is particular about mixing indenting by space or by tab.  It can be either one, but it must be consistent in one script. The preferred way is to indent by spaces, because tab-indenting can change if you move code from one editor to another.\n",
    "\n",
    "Set your editor to automatically replace tabs by spaces, so that you always end up with spaces even if you press the tab key.  PEP8 recommends using four spaces indenting, and a line length of 80 characters, but I find that you quickly run out of width on deeply indented code. My own preference is to use 2 spaces for indents and 100 character line lengths. IPython notebooks uses four spaces for indentation.\n",
    "\n",
    "Long lines can break according to the following rules:\n",
    "\n",
    "* Type a backslash `\\` anywhere on the line, followed by Enter and type the remaining text on the next line.  It seems that spaces on the next line are included.\n",
    "* Break the line anywhere where a comma is allowed. There is no need to enter a backslash when breaking after a comma."
   ]
  },
  {
   "cell_type": "code",
   "execution_count": 173,
   "metadata": {
    "run_control": {
     "frozen": false,
     "read_only": false
    }
   },
   "outputs": [
    {
     "name": "stdout",
     "output_type": "stream",
     "text": [
      "Hello world\n",
      "Hello world 127,883.54\n"
     ]
    }
   ],
   "source": [
    "print('Hello world'\\\n",
    "      )\n",
    "print('{0} {1} {2:10,.2f}'.format('Hello',\n",
    "                     'world', 127883.54355))"
   ]
  },
  {
   "cell_type": "markdown",
   "metadata": {
    "run_control": {
     "frozen": false,
     "read_only": false
    }
   },
   "source": [
    "### Docstrings and introspection"
   ]
  },
  {
   "cell_type": "markdown",
   "metadata": {
    "run_control": {
     "frozen": false,
     "read_only": false
    }
   },
   "source": [
    "From PEP-0257: \"A docstring is a string literal that occurs as the first statement in a module, function, class, or method definition. Such a docstring becomes the `__doc__` special attribute of that object.\" Docstrings are considered the documentation for that module, function or class. It is normally written in a multiline comment. An example:\n",
    "\n",
    "    def add(x, y):\n",
    "        \"\"\"Return the sum of x and y.\n",
    "        \"\"\"\n",
    "        return x + y\n",
    "    \n",
    "Introspection is when you access an objects docstring from within a development environment. For example, while you are using the function you want to read its documenation.  Introspection is implemented in IPython by typing a question mark immediately after e.g., a function name and running the cell.  The doc string will appear in a new panel at the bottom of the IPython browser page. For example when you type and run\n",
    "\n",
    "    import pyradi.ryutils as ryutils\n",
    "    ryutils.abshumidity?\n",
    "    \n",
    "The docstring is displayed as shown below.\n",
    "\n",
    "<http://legacy.python.org/dev/peps/pep-0257/>\n",
    "<http://www.pythonforbeginners.com/basics/python-docstrings>\n"
   ]
  },
  {
   "cell_type": "code",
   "execution_count": 174,
   "metadata": {
    "run_control": {
     "frozen": false,
     "read_only": false
    }
   },
   "outputs": [
    {
     "data": {
      "image/png": "[encoded data removed]",
      "text/plain": [
       "<IPython.core.display.Image object>"
      ]
     },
     "metadata": {},
     "output_type": "display_data"
    }
   ],
   "source": [
    "display(Image(filename='images/introspection.png'))"
   ]
  },
  {
   "cell_type": "markdown",
   "metadata": {
    "run_control": {
     "frozen": false,
     "read_only": false
    }
   },
   "source": [
    "### General overview"
   ]
  },
  {
   "cell_type": "markdown",
   "metadata": {
    "run_control": {
     "frozen": false,
     "read_only": false
    }
   },
   "source": [
    "Python data types and how to determine the type of a Python variable.  \n",
    "Everything in Python is an object.  "
   ]
  },
  {
   "cell_type": "code",
   "execution_count": 175,
   "metadata": {
    "run_control": {
     "frozen": false,
     "read_only": false
    }
   },
   "outputs": [
    {
     "name": "stdout",
     "output_type": "stream",
     "text": [
      "5 is object type <class 'int'>\n",
      "3.141592653589793 is object type <class 'float'>\n",
      "[1, 2, 3, 4] is object type <class 'list'>\n",
      "<function myfunction at 0x000000000F9B66A8> is object type <class 'function'>\n"
     ]
    }
   ],
   "source": [
    "\n",
    "myInt = 5\n",
    "print('{0} is object type {1}'.format(myInt, type(myInt)))\n",
    "myFloat = np.pi\n",
    "print('{0} is object type {1}'.format(myFloat, type(myFloat)))\n",
    "lstInts = [1, 2, 3, 4, ]\n",
    "print('{0} is object type {1}'.format(lstInts, type(lstInts)))\n",
    "def myfunction(a):\n",
    "    print(a)\n",
    "print('{0} is object type {1}'.format(myfunction, type(myfunction)))\n",
    "    "
   ]
  },
  {
   "cell_type": "markdown",
   "metadata": {
    "run_control": {
     "frozen": false,
     "read_only": false
    }
   },
   "source": [
    "> In Python, (almost) everything is an object. What we commonly refer to as \"variables\" \n",
    "> in Python are more properly called names. Likewise, \"assignment\" is really the binding\n",
    "> of a name to an object. Each binding has a scope that defines its visibility, usually \n",
    "> the block in which the name originates.\n",
    "<https://www.jeffknupp.com/blog/2012/11/13/is-python-callbyvalue-or-callbyreference-neither/>\n",
    "\n",
    "If an existing object is bound to a new name, changing the object by using the new name will also change the value object bound to the original name, because it is the same object (just bound to different names). To create a truly new object use the `copy()` function (for some data types).  Slicing (:) lists and tuples creates a copy of the original structure (see later).\n",
    "\n",
    "<https://docs.python.org/2/library/copy.html>  \n",
    "<http://effbot.org/pyfaq/how-do-i-copy-an-object-in-python.htm>  \n",
    "<http://pymotw.com/2/copy/>  "
   ]
  },
  {
   "cell_type": "code",
   "execution_count": 176,
   "metadata": {
    "run_control": {
     "frozen": false,
     "read_only": false
    }
   },
   "outputs": [
    {
     "name": "stdout",
     "output_type": "stream",
     "text": [
      "a=[1, 2, 3]\n",
      "b=[1, 2, 3]\n",
      "c=[1, 2, 3]\n",
      "----------------------\n",
      "a=[1, 2, 'z']\n",
      "b=[1, 2, 'z']\n",
      "c=[1, 2, 3]\n",
      "----------------------\n",
      "a=[1, 2, 'z']\n",
      "b=[1, 2, 'b']\n",
      "c=[1, 2, 'c']\n"
     ]
    }
   ],
   "source": [
    "import copy\n",
    "\n",
    "a = [1, 2, 3, ]\n",
    "b = a\n",
    "c = copy.copy(a) # shallow copy\n",
    "# c = copy.deepcopy(a) # deep (recursive) copy\n",
    "print('a={}'.format(a))\n",
    "print('b={}'.format(b))\n",
    "print('c={}'.format(c))\n",
    "print('----------------------')\n",
    "b[2] = 'z'\n",
    "print('a={}'.format(a))\n",
    "print('b={}'.format(b))\n",
    "print('c={}'.format(c))\n",
    "print('----------------------')\n",
    "b = a[:]  # slicing all makes a copy of 'a' then bind 'b' to this copy\n",
    "b[2] = 'b'\n",
    "c[2] = 'c'\n",
    "print('a={}'.format(a))\n",
    "print('b={}'.format(b))\n",
    "print('c={}'.format(c))\n"
   ]
  },
  {
   "cell_type": "markdown",
   "metadata": {
    "run_control": {
     "frozen": false,
     "read_only": false
    }
   },
   "source": [
    "### Variable `id()`, `is` and `==`\n",
    "\n",
    "<http://blog.lerner.co.il/why-you-should-almost-never-use-is-in-python/>  \n",
    "\n",
    "Every object (variable) has an ID, which can be determined using `id(variable)`. This ID is a handle to the variable, not the value of the variable.\n",
    "\n",
    "Assigning one variable to another does not create a new variable, the same ID is used, just with a second variable name.\n",
    "\n",
    "The `is` keyword tests if the same ID is shared, whereas equality `==` tests the value of the variable.\n",
    "\n",
    "In the example below `a` and `b` share the same ID handle and are hence the same variable storage location. `c` is a different storage location but with the same contents. \n",
    "\n",
    "Always use `==` in logical tests to test for equality of value in the variable; if you use `is` you are testing the ID not the value.\n",
    "\n",
    "You should only use `is` to test for ID or handle equality such as in `is None` or `is not None`."
   ]
  },
  {
   "cell_type": "code",
   "execution_count": 177,
   "metadata": {
    "run_control": {
     "frozen": false,
     "read_only": false
    }
   },
   "outputs": [
    {
     "name": "stdout",
     "output_type": "stream",
     "text": [
      "[5, 9] <class 'list'> 324892424 True True\n",
      "[5, 9] <class 'list'> 324892424 True True\n",
      "[5, 9] <class 'list'> 323232968 False True\n"
     ]
    }
   ],
   "source": [
    "a = [5, 9]\n",
    "b = a\n",
    "c = [5, 9]\n",
    "print(a, type(a), id(a), a is b, a==b)\n",
    "print(b, type(b), id(b), a is b, a==b)\n",
    "print(c, type(c), id(c), a is c, a==c)"
   ]
  },
  {
   "cell_type": "markdown",
   "metadata": {
    "run_control": {
     "frozen": false,
     "read_only": false
    }
   },
   "source": [
    "Changing `a` or `b` changes the other as well, because they share the same ID and hence the same storage."
   ]
  },
  {
   "cell_type": "code",
   "execution_count": 178,
   "metadata": {
    "run_control": {
     "frozen": false,
     "read_only": false
    }
   },
   "outputs": [
    {
     "name": "stdout",
     "output_type": "stream",
     "text": [
      "[1, 9] <class 'list'> 324892424 True True\n",
      "[1, 9] <class 'list'> 324892424 True True\n",
      "[5, 9] <class 'list'> 323232968 False False\n",
      " \n",
      "[5, 9] <class 'list'> 324892424 True True\n",
      "[5, 9] <class 'list'> 324892424 True True\n",
      "[5, 9] <class 'list'> 323232968 False True\n"
     ]
    }
   ],
   "source": [
    "a[0] = 1\n",
    "print(a, type(a), id(a), a is b, a==b)\n",
    "print(b, type(b), id(b), a is b, a==b)\n",
    "print(c, type(c), id(c), a is c, a==c)\n",
    "print(' ')\n",
    "b[0] = 5\n",
    "print(a, type(a), id(a), a is b, a==b)\n",
    "print(b, type(b), id(b), a is b, a==b)\n",
    "print(c, type(c), id(c), a is c, a==c)"
   ]
  },
  {
   "cell_type": "markdown",
   "metadata": {
    "run_control": {
     "frozen": false,
     "read_only": false
    }
   },
   "source": [
    "The above is however not always true. For example, it does not apply to simple integers.  Assigning to `b` now created a new storage location with a new ID."
   ]
  },
  {
   "cell_type": "code",
   "execution_count": 179,
   "metadata": {
    "run_control": {
     "frozen": false,
     "read_only": false
    }
   },
   "outputs": [
    {
     "name": "stdout",
     "output_type": "stream",
     "text": [
      "5 <class 'int'> 8790498710464 True True\n",
      "5 <class 'int'> 8790498710464 True True\n",
      "5 <class 'int'> 8790498710464 False False\n",
      "6 <class 'int'> 8790498710496 False False\n"
     ]
    }
   ],
   "source": [
    "a = 5\n",
    "b = a\n",
    "print(a, type(a), id(a), a is b, a==b)\n",
    "print(b, type(b), id(b), a is b, a==b)\n",
    "b = 6\n",
    "print(a, type(a), id(a), a is b, a==b)\n",
    "print(b, type(b), id(b), a is b, a==b)\n"
   ]
  },
  {
   "cell_type": "markdown",
   "metadata": {
    "run_control": {
     "frozen": false,
     "read_only": false
    }
   },
   "source": [
    "The same applies to `float` variables"
   ]
  },
  {
   "cell_type": "code",
   "execution_count": 180,
   "metadata": {
    "run_control": {
     "frozen": false,
     "read_only": false
    }
   },
   "outputs": [
    {
     "name": "stdout",
     "output_type": "stream",
     "text": [
      "5.0 <class 'float'> 280288112 True True\n",
      "5.0 <class 'float'> 280288112 True True\n",
      "5.0 <class 'float'> 280288112 False False\n",
      "6.0 <class 'float'> 280285688 False False\n"
     ]
    }
   ],
   "source": [
    "a = 5.\n",
    "b = a\n",
    "print(a, type(a), id(a), a is b, a==b)\n",
    "print(b, type(b), id(b), a is b, a==b)\n",
    "b = 6.\n",
    "print(a, type(a), id(a), a is b, a==b)\n",
    "print(b, type(b), id(b), a is b, a==b)"
   ]
  },
  {
   "cell_type": "markdown",
   "metadata": {
    "run_control": {
     "frozen": false,
     "read_only": false
    }
   },
   "source": [
    "Short string seem to share the same ID as well, but as pointed out in the link above: long strings do not share the same ID even if they have the same contents."
   ]
  },
  {
   "cell_type": "code",
   "execution_count": 181,
   "metadata": {
    "run_control": {
     "frozen": false,
     "read_only": false
    }
   },
   "outputs": [
    {
     "name": "stdout",
     "output_type": "stream",
     "text": [
      "ABCD <class 'str'> 95222112 True True\n",
      "ABCD <class 'str'> 95222112 True True\n",
      "ABCD <class 'str'> 95222112 True True\n",
      "ABCD <class 'str'> 95222112 True True\n"
     ]
    }
   ],
   "source": [
    "a = 'ABCD'\n",
    "b = a\n",
    "print(a, type(a), id(a), a is b, a==b)\n",
    "print(b, type(b), id(b), a is b, a==b)\n",
    "b = 'ABCD'\n",
    "print(a, type(a), id(a), a is b, a==b)\n",
    "print(b, type(b), id(b), a is b, a==b)"
   ]
  },
  {
   "cell_type": "markdown",
   "metadata": {
    "run_control": {
     "frozen": false,
     "read_only": false
    }
   },
   "source": [
    "`None` is a singleton, meaning that there is only one instance of the variable, visible everywhere.\n",
    "\n",
    "You test for `None` by using `is` or `is not` because you are testing against the singleton handle."
   ]
  },
  {
   "cell_type": "code",
   "execution_count": 182,
   "metadata": {
    "run_control": {
     "frozen": false,
     "read_only": false
    }
   },
   "outputs": [
    {
     "name": "stdout",
     "output_type": "stream",
     "text": [
      "True True False\n"
     ]
    }
   ],
   "source": [
    "a = None\n",
    "b = 5\n",
    "print(a is None, b is not None, b is None)"
   ]
  },
  {
   "cell_type": "markdown",
   "metadata": {
    "run_control": {
     "frozen": false,
     "read_only": false
    }
   },
   "source": [
    "### Strings\n",
    "\n",
    "Short strings are indicated with a single or double quote (they have the same meaning) but must be used consistently to indicate start and end.  Multiline strings are started with three double quotes and ended with three double quotes.  Normally the closing three double quotes are on a line of their own.\n",
    "Strings can be formatted following the `format` function, details in  \n",
    "<http://docs.python.org/2/library/string.html#format-string-syntax>  \n",
    "<https://stackoverflow.com/questions/5082452/python-string-formatting-vs-format>  \n",
    "<http://pyformat.info/>  \n"
   ]
  },
  {
   "cell_type": "code",
   "execution_count": 183,
   "metadata": {
    "run_control": {
     "frozen": false,
     "read_only": false
    }
   },
   "outputs": [
    {
     "name": "stdout",
     "output_type": "stream",
     "text": [
      "-one- is object type <class 'str'>\n",
      "-two- is object type <class 'str'>\n",
      "- one two \"three\" four- is object type <class 'str'>\n",
      "-Line 1\n",
      "Line2\n",
      "Line3\n",
      "- is object type <class 'str'>\n",
      "0004 3.14e+00 -my string       -   3.141592653590\n"
     ]
    }
   ],
   "source": [
    "strOne = 'one'\n",
    "strTwo = \"two\"\n",
    "strThree = ' one two \"three\" four'\n",
    "strMulti = \"\"\"Line 1\n",
    "Line2\n",
    "Line3\n",
    "\"\"\"\n",
    "print('-{0}- is object type {1}'.format(strOne, type(strOne)))\n",
    "print('-{0}- is object type {1}'.format(strTwo, type(strTwo)))\n",
    "print('-{0}- is object type {1}'.format(strThree, type(strThree)))\n",
    "print('-{0}- is object type {1}'.format(strMulti, type(strMulti)))\n",
    "\n",
    "strFormatted = '{0:04d} {1:7.2e} -{2:16s}- {1:16.12f}'.format(4, np.pi, 'my string')\n",
    "print(strFormatted)\n"
   ]
  },
  {
   "cell_type": "markdown",
   "metadata": {
    "run_control": {
     "frozen": false,
     "read_only": false
    }
   },
   "source": [
    "Python's lists, tuples and dictionaries are very powerful structures.   \n",
    "Python uses zero-based indexing, meaning that the first element is indicated as element 0.\n",
    "\n",
    "Lists lst=[1,2] are mutable, which means that you can change them in place, by appending and inserting elements. "
   ]
  },
  {
   "cell_type": "code",
   "execution_count": 184,
   "metadata": {
    "run_control": {
     "frozen": false,
     "read_only": false
    }
   },
   "outputs": [
    {
     "name": "stdout",
     "output_type": "stream",
     "text": [
      "[4, 1, 2, 3, 4, 5, [2, 6, 7, 8]]\n",
      "['zero', 1, 'wow', 'a', 2]\n"
     ]
    }
   ],
   "source": [
    "#append to an existing list\n",
    "lstNumbers = [4, 1, 2,  3, 4, ]\n",
    "lstNumbers.append(5)\n",
    "lstNumbers.append([2, 6, 7, 8])\n",
    "print(lstNumbers)\n",
    "#insert into specific locations into list\n",
    "lstDiff = [1, 'a', 2]\n",
    "lstDiff.insert(0,'zero')\n",
    "lstDiff.insert(2,'wow')\n",
    "print(lstDiff)"
   ]
  },
  {
   "cell_type": "markdown",
   "metadata": {
    "run_control": {
     "frozen": false,
     "read_only": false
    }
   },
   "source": [
    "Get the one'th element of the list at six'th location in the list"
   ]
  },
  {
   "cell_type": "code",
   "execution_count": 185,
   "metadata": {
    "collapsed": true,
    "jupyter": {
     "outputs_hidden": true
    },
    "run_control": {
     "frozen": false,
     "read_only": false
    }
   },
   "outputs": [
    {
     "name": "stdout",
     "output_type": "stream",
     "text": [
      "6\n"
     ]
    }
   ],
   "source": [
    "print(lstNumbers[6][1])"
   ]
  },
  {
   "cell_type": "markdown",
   "metadata": {
    "run_control": {
     "frozen": false,
     "read_only": false
    }
   },
   "source": [
    "Get the third element of the list just preceding it"
   ]
  },
  {
   "cell_type": "code",
   "execution_count": 186,
   "metadata": {
    "collapsed": true,
    "jupyter": {
     "outputs_hidden": true
    },
    "run_control": {
     "frozen": false,
     "read_only": false
    }
   },
   "outputs": [
    {
     "name": "stdout",
     "output_type": "stream",
     "text": [
      "2\n"
     ]
    }
   ],
   "source": [
    "print([1,0,1,2,3][3])"
   ]
  },
  {
   "cell_type": "markdown",
   "metadata": {
    "run_control": {
     "frozen": false,
     "read_only": false
    }
   },
   "source": [
    "Python 2 has limited list unpacking capabilities.  The following examples unpacks lists using the itertools module."
   ]
  },
  {
   "cell_type": "code",
   "execution_count": 187,
   "metadata": {
    "collapsed": true,
    "jupyter": {
     "outputs_hidden": true
    },
    "run_control": {
     "frozen": false,
     "read_only": false
    }
   },
   "outputs": [
    {
     "name": "stdout",
     "output_type": "stream",
     "text": [
      "[1, 2, 3, 4, 5, 6, 7, 8, 9]\n",
      "['foo', 'foo', 'foo', 'bar', 'bar', 'bar', 'ton', 'ton', 'ton']\n"
     ]
    }
   ],
   "source": [
    "import itertools\n",
    "\n",
    "list2d = [[1,2,3],[4,5,6], [7], [8,9]]\n",
    "merged = list(itertools.chain.from_iterable(list2d))\n",
    "print(merged)\n",
    "\n",
    "list2d = [['foo']*3,['bar']*3,['ton']*3]\n",
    "merged = list(itertools.chain.from_iterable([['foo']*3,['bar']*3,['ton']*3]))\n",
    "print(merged)"
   ]
  },
  {
   "cell_type": "code",
   "execution_count": 188,
   "metadata": {
    "collapsed": true,
    "jupyter": {
     "outputs_hidden": true
    },
    "run_control": {
     "frozen": false,
     "read_only": false
    }
   },
   "outputs": [],
   "source": [
    "# python 3\n",
    "#a,*b,c = [0, 1, 2, 3, 4, 5]"
   ]
  },
  {
   "cell_type": "markdown",
   "metadata": {
    "run_control": {
     "frozen": false,
     "read_only": false
    }
   },
   "source": [
    "Sections of lists can be extracted by slicing ':'. Slicing can indicate a start, end, and optionally a stride. Strides will be very important later in numpy arrays, but here we only consider its applications to lists and strings."
   ]
  },
  {
   "cell_type": "code",
   "execution_count": 189,
   "metadata": {
    "collapsed": true,
    "jupyter": {
     "outputs_hidden": true
    },
    "run_control": {
     "frozen": false,
     "read_only": false
    }
   },
   "outputs": [
    {
     "name": "stdout",
     "output_type": "stream",
     "text": [
      "4\n",
      "5\n",
      "[4, 1, 2, 3, 5]\n",
      "[2, 3, 5]\n",
      "[2, 3]\n",
      "[3, 5]\n",
      "[4, 2]\n"
     ]
    }
   ],
   "source": [
    "lstNumbers = [4, 1, 2,  3, 5, ]\n",
    "print(lstNumbers[0])\n",
    "print(lstNumbers[-1])\n",
    "print(lstNumbers[:])\n",
    "print(lstNumbers[2:])\n",
    "print(lstNumbers[2:4])\n",
    "print(lstNumbers[-2:])\n",
    "print(lstNumbers[0:4:2])\n"
   ]
  },
  {
   "cell_type": "markdown",
   "metadata": {
    "run_control": {
     "frozen": false,
     "read_only": false
    }
   },
   "source": [
    "Slicing can be used to reverse a string or list with a stride if -1, and if the stride is -2 every second letter is left out."
   ]
  },
  {
   "cell_type": "code",
   "execution_count": 190,
   "metadata": {
    "collapsed": true,
    "jupyter": {
     "outputs_hidden": true
    },
    "run_control": {
     "frozen": false,
     "read_only": false
    }
   },
   "outputs": [
    {
     "name": "stdout",
     "output_type": "stream",
     "text": [
      "desrever eb ot gnirts a\n",
      "dsee bo nrsa\n"
     ]
    }
   ],
   "source": [
    "a = 'a string to be reversed' \n",
    "print(a[::-1])\n",
    "a = 'a string to be reversed' \n",
    "print(a[::-2])"
   ]
  },
  {
   "cell_type": "markdown",
   "metadata": {
    "run_control": {
     "frozen": false,
     "read_only": false
    }
   },
   "source": [
    "Tuples tup=(1,2) are immutable (cannot change). "
   ]
  },
  {
   "cell_type": "code",
   "execution_count": 191,
   "metadata": {
    "collapsed": true,
    "jupyter": {
     "outputs_hidden": true
    },
    "run_control": {
     "frozen": false,
     "read_only": false
    }
   },
   "outputs": [
    {
     "name": "stdout",
     "output_type": "stream",
     "text": [
      "the fourth element is 4\n",
      "The append attempt raised an exception - it is not allowed!\n"
     ]
    }
   ],
   "source": [
    "tupNumbers = (1, 2, 3, 4,)\n",
    "print('the fourth element is {}'.format(tupNumbers[3]))\n",
    "try:\n",
    "    tupNumbers.append(5)\n",
    "except:\n",
    "    print('The append attempt raised an exception - it is not allowed!')"
   ]
  },
  {
   "cell_type": "markdown",
   "metadata": {
    "run_control": {
     "frozen": false,
     "read_only": false
    }
   },
   "source": [
    "Two lists can be used to construct combinations of all the elements in the two lists: use the `itertools.product` function to calculate the outer product of two lists."
   ]
  },
  {
   "cell_type": "code",
   "execution_count": 192,
   "metadata": {
    "collapsed": true,
    "jupyter": {
     "outputs_hidden": true
    },
    "run_control": {
     "frozen": false,
     "read_only": false
    }
   },
   "outputs": [
    {
     "name": "stdout",
     "output_type": "stream",
     "text": [
      "[1, 2, 3]\n",
      "\n",
      "['A', 'B']\n",
      "\n",
      "0 1 A\n",
      "1 1 B\n",
      "2 2 A\n",
      "3 2 B\n",
      "4 3 A\n",
      "5 3 B\n"
     ]
    }
   ],
   "source": [
    "import itertools\n",
    "AA = [1, 2, 3]\n",
    "BB = ['A','B']\n",
    "print(AA)\n",
    "print('')\n",
    "print(BB)\n",
    "print('')\n",
    "for i,(aa,bb) in enumerate(list(itertools.product(AA,BB))):\n",
    "    print(i,aa,bb)\n"
   ]
  },
  {
   "cell_type": "markdown",
   "metadata": {
    "run_control": {
     "frozen": false,
     "read_only": false
    }
   },
   "source": [
    "Dictionaries dic={key1:val1, key2:val2} are like arrays, but the emements can be identified by any data type. In the example below we can extract values from the dictionary based on strings, but these key values can be any type type, even an object or a function.  The key values of the dictionary are available by calling the `keys()` function of the dictionary.\n",
    "\n",
    "The Collections module adds the capability to ease the use of dictionaries, see  \n",
    "<http://docs.python.org/2/library/collections.html>"
   ]
  },
  {
   "cell_type": "code",
   "execution_count": 193,
   "metadata": {
    "collapsed": true,
    "jupyter": {
     "outputs_hidden": true
    },
    "run_control": {
     "frozen": false,
     "read_only": false
    }
   },
   "outputs": [
    {
     "name": "stdout",
     "output_type": "stream",
     "text": [
      "{'NIR': '1-2', 'SWIR': '1.5-3', 'MWIR': '3-5', 'LWIR': '8-12', 'VIS': '0.4-0.7'}\n",
      "8-12\n",
      "-------------\n",
      "key=NIR value=1-2\n",
      "key=SWIR value=1.5-3\n",
      "key=MWIR value=3-5\n",
      "key=LWIR value=8-12\n",
      "key=VIS value=0.4-0.7\n",
      " \n",
      "-------------\n",
      "key=LWIR value=8-12\n",
      "key=MWIR value=3-5\n",
      "key=NIR value=1-2\n",
      "key=SWIR value=1.5-3\n",
      "key=VIS value=0.4-0.7\n"
     ]
    }
   ],
   "source": [
    "dicBand = {'NIR':'1-2', 'SWIR':'1.5-3', 'MWIR':'3-5',}\n",
    "dicBand['LWIR']='8-12'\n",
    "dicBand['VIS']='0.4-0.7'\n",
    "\n",
    "print(dicBand)\n",
    "print(dicBand['LWIR'])\n",
    "print('-------------')\n",
    "\n",
    "for key in dicBand:\n",
    "    print('key={} value={}'.format(key,dicBand[key]))\n",
    "print(' ')\n",
    "print('-------------')\n",
    "\n",
    "for key in sorted(dicBand.keys()):\n",
    "    print('key={} value={}'.format(key,dicBand[key]))\n",
    "    "
   ]
  },
  {
   "cell_type": "markdown",
   "metadata": {
    "run_control": {
     "frozen": false,
     "read_only": false
    }
   },
   "source": [
    "http://bugra.github.io/work/notes/2015-01-03/i-wish-i-knew-these-things-when-i-first-learned-python/\n",
    "\n",
    "Python 3:  You could do various interesting operations in keys and items of dictionaries. They are set-like."
   ]
  },
  {
   "cell_type": "code",
   "execution_count": 194,
   "metadata": {
    "collapsed": true,
    "jupyter": {
     "outputs_hidden": true
    },
    "run_control": {
     "frozen": false,
     "read_only": false
    }
   },
   "outputs": [],
   "source": [
    "#this works in Python 3\n",
    "# aa = {'mike': 'male', 'kathy': 'female', 'steve': 'male', 'hillary': 'female'}\n",
    "# bb = {'mike': 'male', 'ben': 'male', 'hillary': 'female'}\n",
    "\n",
    "# aa.keys() & bb.keys() # {'mike', 'hillary'} # these are set-like\n",
    "# aa.keys() - bb.keys() # {'kathy', 'steve'}\n",
    "# # If you want to get the common key-value pairs in the two dictionaries\n",
    "# aa.items() & bb.items() # {('mike', 'male'), ('hillary', 'female')}"
   ]
  },
  {
   "cell_type": "markdown",
   "metadata": {
    "run_control": {
     "frozen": false,
     "read_only": false
    }
   },
   "source": [
    "`defaultdict` allows you to assign to a dictionary[key] element even if the key'ed entry does not exist."
   ]
  },
  {
   "cell_type": "code",
   "execution_count": 195,
   "metadata": {
    "collapsed": true,
    "jupyter": {
     "outputs_hidden": true
    },
    "run_control": {
     "frozen": false,
     "read_only": false
    }
   },
   "outputs": [],
   "source": [
    "# from collections import defaultdict\n",
    "# dictionary = defaultdict(list) # defaults to list\n",
    "# for k, v in ls:\n",
    "#     dictionary[k].append(v)"
   ]
  },
  {
   "cell_type": "code",
   "execution_count": 196,
   "metadata": {
    "collapsed": true,
    "jupyter": {
     "outputs_hidden": true
    },
    "run_control": {
     "frozen": false,
     "read_only": false
    }
   },
   "outputs": [
    {
     "name": "stdout",
     "output_type": "stream",
     "text": [
      "{'x': 3, 'y': 5, 'z': 6, 's': 10}\n"
     ]
    }
   ],
   "source": [
    "a = {'x': 1, 'y':2, 'z':3}\n",
    "b = {'y': 5, 's': 10, 'x': 3, 'z': 6}\n",
    "c = a\n",
    "c.update(b)\n",
    "print(c)"
   ]
  },
  {
   "cell_type": "code",
   "execution_count": 197,
   "metadata": {
    "collapsed": true,
    "jupyter": {
     "outputs_hidden": true
    },
    "run_control": {
     "frozen": false,
     "read_only": false
    }
   },
   "outputs": [
    {
     "name": "stdout",
     "output_type": "stream",
     "text": [
      "{0: 0, 1: 0, 2: 1, 3: 3, 4: 6, 5: 10, 6: 15, 7: 21, 8: 28, 9: 36}\n",
      "(36, 9)\n",
      "[(36, 9), (28, 8), (21, 7), (15, 6), (10, 5), (6, 4), (3, 3), (1, 2), (0, 1), (0, 0)]\n"
     ]
    }
   ],
   "source": [
    "aa = {k: sum(range(k)) for k in range(10)}\n",
    "print(aa)\n",
    "# get the max value and the key where this occurs\n",
    "print(max(zip(aa.values(), aa.keys())))\n",
    "# traverse dict from max value to min value, with key\n",
    "print(sorted(zip(aa.values(), aa.keys()), reverse=True))"
   ]
  },
  {
   "cell_type": "markdown",
   "metadata": {
    "run_control": {
     "frozen": false,
     "read_only": false
    }
   },
   "source": [
    "Control flow in Python uses `for` or `while`.  \n",
    "\n",
    "The `enumerate` function is a very useful means to iterate over a list or tuple and get the index as well as the list value at that index.\n",
    "\n",
    "The `while` loop executes as long as the conditional in the `while` statement is true. If the conditional is false, the `else` clause is executed."
   ]
  },
  {
   "cell_type": "code",
   "execution_count": 198,
   "metadata": {
    "collapsed": true,
    "jupyter": {
     "outputs_hidden": true
    },
    "run_control": {
     "frozen": false,
     "read_only": false
    }
   },
   "outputs": [
    {
     "name": "stdout",
     "output_type": "stream",
     "text": [
      "a\n",
      "b\n",
      "c\n",
      "-------------\n",
      "character 0 is T\n",
      "character 1 is h\n",
      "character 2 is i\n",
      "character 3 is s\n",
      "character 4 is  \n",
      "character 5 is s\n",
      "character 6 is t\n",
      "character 7 is r\n",
      "character 8 is i\n",
      "character 9 is n\n",
      "character 10 is g\n",
      "-------------\n",
      "index 0 has value a\n",
      "index 1 has value b\n",
      "index 2 has value c\n",
      "-------------\n",
      "it is False!!\n",
      "-------------\n",
      "0 is  less than 5\n",
      "1 is  less than 5\n",
      "2 is  less than 5\n",
      "3 is  less than 5\n",
      "4 is  less than 5\n"
     ]
    }
   ],
   "source": [
    "a = [ 'a', 'b', 'c', ]\n",
    "for item in a:\n",
    "    print(item)\n",
    "print('-------------')\n",
    "\n",
    "strTmp = 'This string'\n",
    "for i,item in enumerate(strTmp):\n",
    "    print('character {} is {}'.format(i,item))\n",
    "print('-------------')\n",
    "\n",
    "for i,item in enumerate(a):\n",
    "    print('index {} has value {}'.format(i,item))\n",
    "print('-------------')\n",
    "\n",
    "while False:\n",
    "    print(a)\n",
    "else:\n",
    "    print('it is False!!')\n",
    "print('-------------')\n",
    "    \n",
    "count = 0\n",
    "while count < 5:\n",
    "    print(f'{count} is  less than 5')\n",
    "    count = count + 1"
   ]
  },
  {
   "cell_type": "markdown",
   "metadata": {
    "run_control": {
     "frozen": false,
     "read_only": false
    }
   },
   "source": [
    "Zipping pairs two lists element by element into a new list of matched tuples.\n",
    "You can even enumerate over zipped lists:"
   ]
  },
  {
   "cell_type": "code",
   "execution_count": 199,
   "metadata": {
    "collapsed": true,
    "jupyter": {
     "outputs_hidden": true
    },
    "run_control": {
     "frozen": false,
     "read_only": false
    }
   },
   "outputs": [
    {
     "name": "stdout",
     "output_type": "stream",
     "text": [
      "<zip object at 0x0000000010AFEB88>\n"
     ]
    }
   ],
   "source": [
    "a = [ 'a', 'b', 'c', ]\n",
    "b = [ '1', '2', '3', ]\n",
    "print(zip(a,b))"
   ]
  },
  {
   "cell_type": "markdown",
   "metadata": {
    "run_control": {
     "frozen": false,
     "read_only": false
    }
   },
   "source": [
    "You can enumerate over the zipped list to extract the paired tuples"
   ]
  },
  {
   "cell_type": "code",
   "execution_count": 200,
   "metadata": {
    "collapsed": true,
    "jupyter": {
     "outputs_hidden": true
    },
    "run_control": {
     "frozen": false,
     "read_only": false
    }
   },
   "outputs": [
    {
     "name": "stdout",
     "output_type": "stream",
     "text": [
      "Enumerate over all zipped tuples\n",
      "0 a 1\n",
      "1 b 2\n",
      "2 c 3\n",
      "Alternative method, not quite as clear and instructive\n",
      "1 a 1\n",
      "1 b 2\n",
      "1 c 3\n",
      "C-Style programming to achieve the same effect\n",
      "0 a 1\n",
      "1 b 2\n",
      "2 c 3\n"
     ]
    }
   ],
   "source": [
    "print('Enumerate over all zipped tuples')\n",
    "for i,(ai,bi) in enumerate(zip(a,b)):\n",
    "    print(i, ai, bi)\n",
    "    \n",
    "print('Alternative method, not quite as clear and instructive')\n",
    "for i,aa in enumerate(a):\n",
    "    print( 1, a[i], b[i])\n",
    "    \n",
    "print('C-Style programming to achieve the same effect')\n",
    "if len(a)==len(b):\n",
    "    for i in range(len(b)):\n",
    "        print(i, a[i],b[i])"
   ]
  },
  {
   "cell_type": "markdown",
   "metadata": {},
   "source": [
    "https://stackoverflow.com/questions/19777612/python-range-and-zip-object-type  \n",
    "\n",
    "https://www.journaldev.com/15891/python-zip-function  \n",
    "\n",
    "In Python 2, the objects zip and range behave  as returning lists.\n",
    "\n",
    "In Python 3 they were changed to generator-like objects which produce the elements on demand rather than expand an entire list into memory. One advantage was greater efficiency in their typical use-cases (e.g. iterating over them). To retrieve all the output at once into a familiar list object, you may simply call `list()` to iterate and consume the contents.\n",
    "\n",
    "`list()`\tConvert an iterable (tuple, string, set, dictionary) to a list. It seems that the change is done in-place.\n",
    "\n",
    "We can also extract data from the Python zip function. To extract zip, we have to use the same zip() function. But we have add an asterisk(\\*) in front of the name of the zip object.\n",
    "\n"
   ]
  },
  {
   "cell_type": "code",
   "execution_count": 201,
   "metadata": {},
   "outputs": [
    {
     "name": "stdout",
     "output_type": "stream",
     "text": [
      "[(1, 2, 3), ('a', 'b', 'c')]\n",
      "---------\n",
      "<zip object at 0x00000000135FC888>\n",
      "<class 'zip'>\n",
      "[(1, 'a'), (2, 'b'), (3, 'c')]\n",
      "<class 'list'>\n",
      "<class 'zip'>\n",
      "---------\n",
      "<zip object at 0x00000000135C0C48>\n",
      "<class 'zip'>\n",
      "[]\n"
     ]
    }
   ],
   "source": [
    "data = [(1, 2, 3), ('a', 'b', 'c')] \n",
    "print(data)\n",
    "print('---------')\n",
    "zipped = zip(*data)\n",
    "print(zipped)\n",
    "print(type(zipped))\n",
    "print(list(zipped)) # ??? list(zipped) changes zipped to a list, no longer zipped object\n",
    "print(type(list(zipped)))\n",
    "print(type(zipped))\n",
    "print('---------')\n",
    "# zipped = zip(*data)\n",
    "unzipped = zip(*zipped)\n",
    "print(unzipped)\n",
    "print(type(unzipped))\n",
    "print(list(unzipped))"
   ]
  },
  {
   "cell_type": "markdown",
   "metadata": {
    "run_control": {
     "frozen": false,
     "read_only": false
    }
   },
   "source": [
    "From <http://mastering-python-lists.blogspot.co.za/p/vectorized-code.html>. \n",
    "Given a function and a list of values [1, 2, 3, 4, 5] generate every sequential 3-tuple (1, 2, 3) (2, 3, 4) (3, 4, 5) and find the 3-tuple which produces the largest return value of some measure (the function `dummyfn()`).    This requires some antics in an iterative loop form, but can be written in one line using zip.\n",
    "\n",
    "Start with a list of numbers and take 3 slices where each slice is offset by 1 from the previous slice.\n",
    "Now, if you line up the slices they form a triangular matrix and the columns form the groups you are looking for.\n",
    "You can generate the groups by passing the slices to the zip function\n",
    "The zip function automatically stops when it reaches the end of the shortest slice. This prevents the \"off by 1\" errors that are so common in this type of code.\n",
    "\n",
    "The max function works by comparing values with the `<` operator, but you can override this by specifying a key function. Each value is passed to this function and it is the results of the function that are compared. So in this example you would say `max(groups, key=F)`. The max function automatically keeps track of the largest return value seen so far so you don't need to write any \"test and swap\" code. Note that F(value) is used internally for comparison purposes but this is not the value returned by max. Besides zip and max, there are other built in functions that operate on entire lists:\n",
    "`all`, `any`, `filter`, `map`, `min`, `reduce`, `reversed`, `sorted`, and `sum`.\n"
   ]
  },
  {
   "cell_type": "code",
   "execution_count": 202,
   "metadata": {
    "collapsed": true,
    "jupyter": {
     "outputs_hidden": true
    },
    "run_control": {
     "frozen": false,
     "read_only": false
    }
   },
   "outputs": [
    {
     "data": {
      "image/png": "[encoded data removed]",
      "text/latex": [
       "$$\\left ( 2, \\quad 3, \\quad 4\\right )$$"
      ],
      "text/plain": [
       "(2, 3, 4)"
      ]
     },
     "execution_count": 202,
     "metadata": {},
     "output_type": "execute_result"
    }
   ],
   "source": [
    "num_list = [1, 2, 3, 4, 5]\n",
    "def dummyfn(a): return True if a[0]+a[1]>a[2] else False\n",
    "max( zip(num_list, num_list[1:], num_list[2:]), key=dummyfn )"
   ]
  },
  {
   "cell_type": "code",
   "execution_count": 203,
   "metadata": {
    "collapsed": true,
    "jupyter": {
     "outputs_hidden": true
    },
    "run_control": {
     "frozen": false,
     "read_only": false
    }
   },
   "outputs": [
    {
     "data": {
      "image/png": "[encoded data removed]",
      "text/latex": [
       "$$\\left ( 2, \\quad 3, \\quad 4\\right )$$"
      ],
      "text/plain": [
       "(2, 3, 4)"
      ]
     },
     "execution_count": 203,
     "metadata": {},
     "output_type": "execute_result"
    }
   ],
   "source": [
    "# if function is written as lambda function\n",
    "max( zip(num_list, num_list[1:], num_list[2:]), key=lambda a: True if a[0]+a[1]>a[2] else False )"
   ]
  },
  {
   "cell_type": "markdown",
   "metadata": {
    "run_control": {
     "frozen": false,
     "read_only": false
    }
   },
   "source": [
    "List/dictionary comprehension is a shorthand way to define a list/dictionary. In the first example create a new list of square root values of items from an old list, but only for even values.  In the second examples a dictionary is built using dictionary comprehension. Note that zip takes two lists and create a new list where elements of the new list are tuples with matching elements from the two input lists - pair them up element by element, much like a zip closing up.    \n",
    "<http://carlgroner.me/Python/2011/11/09/An-Introduction-to-List-Comprehensions-in-Python.html>  \n",
    "<http://www.secnetix.de/olli/Python/list_comprehensions.hawk>    \n",
    "<http://docs.python.org/2.7/library/functions.html>  \n",
    "<http://howchoo.com/g/how-to-use-list-comprehension-in-python>   \n",
    "<http://treyhunner.com/2015/12/python-list-comprehensions-now-in-color/>  \n"
   ]
  },
  {
   "cell_type": "code",
   "execution_count": 204,
   "metadata": {
    "collapsed": true,
    "jupyter": {
     "outputs_hidden": true
    },
    "run_control": {
     "frozen": false,
     "read_only": false
    }
   },
   "outputs": [
    {
     "name": "stdout",
     "output_type": "stream",
     "text": [
      "[0.0, 1.4142135623730951, 2.0]\n",
      "{'a': 'testing', 'n': 'this', 'z': 'dict'}\n",
      "<zip object at 0x0000000013603E48>\n"
     ]
    }
   ],
   "source": [
    "import math\n",
    "nlist = [0, 1, 2, 3, 4]\n",
    "newl = [math.sqrt(i) for i in nlist if not i%2]\n",
    "print(newl)\n",
    "\n",
    "keys = ['a', 'n', 'z']\n",
    "values = ['testing', 'this', 'dict']\n",
    "d = {key: value for (key, value) in zip(keys, values)}\n",
    "print(d)\n",
    "\n",
    "print(zip(keys, values))"
   ]
  },
  {
   "cell_type": "markdown",
   "metadata": {
    "run_control": {
     "frozen": false,
     "read_only": false
    }
   },
   "source": [
    "Nested loops can also be used in list comprehensions, just be careful of the order of writing the nested for loops. Write the for loops in the same sequence at it was written as  normal for loops."
   ]
  },
  {
   "cell_type": "code",
   "execution_count": 205,
   "metadata": {
    "collapsed": true,
    "jupyter": {
     "outputs_hidden": true
    },
    "run_control": {
     "frozen": false,
     "read_only": false
    }
   },
   "outputs": [
    {
     "name": "stdout",
     "output_type": "stream",
     "text": [
      "[1, 2, 3, 4, 5, 6, 7, 8, 9]\n"
     ]
    }
   ],
   "source": [
    "flattened = []\n",
    "unflat = [[1,2,3],[4,5,6],[7,8,9]]\n",
    "for row in unflat:\n",
    "    for n in row:\n",
    "        flattened.append(n)\n",
    "print(flattened)"
   ]
  },
  {
   "cell_type": "code",
   "execution_count": 206,
   "metadata": {
    "collapsed": true,
    "jupyter": {
     "outputs_hidden": true
    },
    "run_control": {
     "frozen": false,
     "read_only": false
    }
   },
   "outputs": [
    {
     "name": "stdout",
     "output_type": "stream",
     "text": [
      "[1, 2, 3, 4, 5, 6, 7, 8, 9]\n"
     ]
    }
   ],
   "source": [
    "flattenedlc = [n for row in unflat for n in row]\n",
    "print(flattenedlc)"
   ]
  },
  {
   "cell_type": "markdown",
   "metadata": {
    "run_control": {
     "frozen": false,
     "read_only": false
    }
   },
   "source": [
    "You can build lists of list or tuples to any depth and access them by indexing the elements.  But be careful not to try and construct multi-dimensional arrays this way - numpy provides much better functionality."
   ]
  },
  {
   "cell_type": "code",
   "execution_count": 207,
   "metadata": {
    "collapsed": true,
    "jupyter": {
     "outputs_hidden": true
    },
    "run_control": {
     "frozen": false,
     "read_only": false
    }
   },
   "outputs": [
    {
     "name": "stdout",
     "output_type": "stream",
     "text": [
      "[[0, 1, 2, 3], [4, 5, 6, 7]]\n",
      "[0, 1, 2, 3]\n",
      "3\n"
     ]
    }
   ],
   "source": [
    "a = [[0, 1, 2, 3], [4, 5, 6, 7]]\n",
    "print(a)\n",
    "print(a[0])\n",
    "print(a[0][3])"
   ]
  },
  {
   "cell_type": "markdown",
   "metadata": {
    "run_control": {
     "frozen": false,
     "read_only": false
    }
   },
   "source": [
    "### Overloaded multiplication for non-numbers"
   ]
  },
  {
   "cell_type": "code",
   "execution_count": 208,
   "metadata": {
    "collapsed": true,
    "jupyter": {
     "outputs_hidden": true
    },
    "run_control": {
     "frozen": false,
     "read_only": false
    }
   },
   "outputs": [
    {
     "name": "stdout",
     "output_type": "stream",
     "text": [
      "--------------------\n"
     ]
    }
   ],
   "source": [
    "print(20*'-')"
   ]
  },
  {
   "cell_type": "markdown",
   "metadata": {
    "run_control": {
     "frozen": false,
     "read_only": false
    }
   },
   "source": [
    "Watch out when using the `n *` construct with lists or dicts:"
   ]
  },
  {
   "cell_type": "code",
   "execution_count": 209,
   "metadata": {
    "collapsed": true,
    "jupyter": {
     "outputs_hidden": true
    },
    "run_control": {
     "frozen": false,
     "read_only": false
    }
   },
   "outputs": [
    {
     "name": "stdout",
     "output_type": "stream",
     "text": [
      "[None, None, None, None, None]\n"
     ]
    }
   ],
   "source": [
    "print(5 *[None])"
   ]
  },
  {
   "cell_type": "code",
   "execution_count": 210,
   "metadata": {
    "collapsed": true,
    "jupyter": {
     "outputs_hidden": true
    },
    "run_control": {
     "frozen": false,
     "read_only": false
    }
   },
   "outputs": [
    {
     "name": "stdout",
     "output_type": "stream",
     "text": [
      "[{}, {}, {}]\n",
      "[{'test': 'mystring'}, {'test': 'mystring'}, {'test': 'mystring'}]\n"
     ]
    }
   ],
   "source": [
    "# the same single dict object repeated with 3 x references in the list\n",
    "dic = 3 * [{}] \n",
    "print(dic)\n",
    "# assigning to the single dict once, \n",
    "# but all entries in the list reference the same dict\n",
    "dic[0]['test'] = 'mystring' \n",
    "print(dic)"
   ]
  },
  {
   "cell_type": "code",
   "execution_count": 211,
   "metadata": {
    "collapsed": true,
    "jupyter": {
     "outputs_hidden": true
    },
    "run_control": {
     "frozen": false,
     "read_only": false
    }
   },
   "outputs": [
    {
     "name": "stdout",
     "output_type": "stream",
     "text": [
      "[[], [], []]\n",
      "[['mystring'], ['mystring'], ['mystring']]\n"
     ]
    }
   ],
   "source": [
    "lst = 3 * [[]]\n",
    "print(lst)\n",
    "lst[0].append('mystring')\n",
    "print(lst)"
   ]
  },
  {
   "cell_type": "markdown",
   "metadata": {
    "run_control": {
     "frozen": false,
     "read_only": false
    }
   },
   "source": [
    "Rather create multiple instances add them one at a time"
   ]
  },
  {
   "cell_type": "code",
   "execution_count": 212,
   "metadata": {
    "collapsed": true,
    "jupyter": {
     "outputs_hidden": true
    },
    "run_control": {
     "frozen": false,
     "read_only": false
    }
   },
   "outputs": [
    {
     "name": "stdout",
     "output_type": "stream",
     "text": [
      "[['mystring'], [], []]\n",
      "[{'test': 'mystring'}, {}, {}]\n"
     ]
    }
   ],
   "source": [
    "dic = []\n",
    "lst = []\n",
    "for i in [0,1,2]:\n",
    "    dic.append({})\n",
    "    lst.append([])\n",
    "\n",
    "lst[0].append('mystring')\n",
    "dic[0]['test'] = 'mystring'\n",
    "print(lst)\n",
    "print(dic)"
   ]
  },
  {
   "cell_type": "markdown",
   "metadata": {
    "run_control": {
     "frozen": false,
     "read_only": false
    }
   },
   "source": [
    "### Named Tuples:  `collections.namedtuple` "
   ]
  },
  {
   "cell_type": "markdown",
   "metadata": {
    "run_control": {
     "frozen": false,
     "read_only": false
    }
   },
   "source": [
    "<https://docs.python.org/2/library/collections.html#collections.namedtuple>  \n",
    "\n",
    "`collections.namedtuple(typename, field_names[, verbose=False][, rename=False])`  \n",
    "\n",
    "Returns a new tuple subclass named **typename**. The new subclass is used to create tuple-like objects that have fields accessible by attribute lookup as well as being indexable and iterable. \n",
    "\n",
    "The `field_names` are a sequence of strings or single string with each fieldname separated by whitespace and/or commas.\n",
    "\n",
    "Any valid Python identifier may be used for a fieldname except for names starting with an underscore. Valid identifiers consist of letters, digits, and underscores but do not start with a digit or underscore and cannot be a keyword such as class, for, return, global, pass, print, or raise.\n",
    "\n",
    "If `rename`is true, invalid fieldnames are automatically replaced with positional names. For example, `['abc', 'def', 'ghi', 'abc']` is converted to `['abc', '_1', 'ghi', '_3']`, eliminating the keyword `def` and the duplicate fieldname `abc`.\n",
    "\n",
    "If `verbose` is true, the class definition is printed just before being built."
   ]
  },
  {
   "cell_type": "markdown",
   "metadata": {
    "run_control": {
     "frozen": false,
     "read_only": false
    }
   },
   "source": [
    "Standard tuples use integer indexes to access the tuple members.  This is very easy to use, but it becomes cumbersome to remember which integer index associates with which member:"
   ]
  },
  {
   "cell_type": "code",
   "execution_count": 213,
   "metadata": {
    "collapsed": true,
    "jupyter": {
     "outputs_hidden": true
    },
    "run_control": {
     "frozen": false,
     "read_only": false
    }
   },
   "outputs": [
    {
     "name": "stdout",
     "output_type": "stream",
     "text": [
      "Representation:('Bob', 30, 'male')\n",
      "\n",
      "Field by index: Jane\n",
      "\n",
      "Fields by index:\n",
      "Bob is a 30 year old male\n",
      "Jane is a 29 year old female\n"
     ]
    }
   ],
   "source": [
    "# http://pymotw.com/2/collections/namedtuple.html\n",
    "bob = ('Bob', 30, 'male')\n",
    "print('Representation:{}'.format(bob))\n",
    "\n",
    "jane = ('Jane', 29, 'female')\n",
    "print('\\nField by index: {}'.format(jane[0]))\n",
    "\n",
    "print('\\nFields by index:')\n",
    "for p in [ bob, jane ]:\n",
    "    # use tuple unpacking to unpack the tuple in to its elements\n",
    "    print('{} is a {} year old {}'.format(*p))"
   ]
  },
  {
   "cell_type": "markdown",
   "metadata": {
    "run_control": {
     "frozen": false,
     "read_only": false
    }
   },
   "source": [
    "A `namedtuple` is an object type in the `collections` module that allows you to name the members in the tuple.  The members can then be accessed by name.\n",
    "\n",
    "<http://pymotw.com/2/collections/namedtuple.html>  \n",
    "`namedtuple` instances are just as memory efficient as regular tuples because they do not have per-instance dictionaries. Each kind of `namedtuple` is represented by its own class, created by using the `namedtuple()` factory function. The arguments are the name of the new class and a string containing the names of the elements/members.  \n",
    "\n",
    "The `namedtuple` class checks for standard Python keywords (not allowed as field names) and repeated/duplicate field member names within one `namedtuple`.  The optional `rename=True` option allows the `namedtuple` class to rename the disallowed field names to other names.\n",
    "\n",
    "`namedtuple` is backawards compatible, you can still use integer index values and unpacking, as well as the named members."
   ]
  },
  {
   "cell_type": "code",
   "execution_count": 214,
   "metadata": {
    "collapsed": true,
    "jupyter": {
     "outputs_hidden": true
    },
    "run_control": {
     "frozen": false,
     "read_only": false
    }
   },
   "outputs": [
    {
     "name": "stdout",
     "output_type": "stream",
     "text": [
      "Type of Person: <class 'type'>\n",
      "\n",
      "Representation: Person(name='Bob', age=30, gender='male')\n",
      "\n",
      "Field by name: Jane\n",
      "Field by name: Jane\n",
      "\n",
      "Fields by index:\n",
      "Bob is a 30 year old male\n",
      "Jane is a 29 year old female\n"
     ]
    }
   ],
   "source": [
    "#http://pymotw.com/2/collections/namedtuple.html\n",
    "import collections\n",
    "\n",
    "#note that field names are all in a single string, with whitespace separation\n",
    "Person = collections.namedtuple('Person', 'name age gender')\n",
    "\n",
    "print('Type of Person: {}'.format(type(Person)))\n",
    "\n",
    "bob = Person(name='Bob', age=30, gender='male')\n",
    "print('\\nRepresentation: {}'.format(bob))\n",
    "\n",
    "jane = Person(name='Jane', age=29, gender='female')\n",
    "print('\\nField by name: {}'.format(jane.name))\n",
    "print('Field by name: {}'.format(jane[0]))\n",
    "\n",
    "print('\\nFields by index:')\n",
    "for p in [ bob, jane ]:\n",
    "    print('{} is a {} year old {}'.format(*p))"
   ]
  },
  {
   "cell_type": "markdown",
   "metadata": {
    "run_control": {
     "frozen": false,
     "read_only": false
    }
   },
   "source": [
    "<http://stackoverflow.com/questions/2970608/what-are-named-tuples-in-python>  \n",
    "`namedtuple`s can be used similarly to struct or other common record types, except that they are immutable. \n",
    "\n",
    "You should use named tuples instead of tuples anywhere you think object notation will make your code more pythonic and more easily readable. For example to represent very simple value types, particularly when passing them as parameters to functions. It makes the functions more readable, without seeing the context of the tuple packing.\n",
    "\n",
    "Furthermore, you can also replace ordinary immutable classes that have no functions, only fields with them. You can even use your named tuple types as base classes:  \n",
    "\n",
    "    class Point(namedtuple('Point', 'x y')):\n",
    "        [...]"
   ]
  },
  {
   "cell_type": "code",
   "execution_count": 215,
   "metadata": {
    "collapsed": true,
    "jupyter": {
     "outputs_hidden": true
    },
    "run_control": {
     "frozen": false,
     "read_only": false
    }
   },
   "outputs": [],
   "source": [
    "from collections import namedtuple\n",
    "Point = namedtuple('Point', 'x y')\n",
    "pt1 = Point(1.0, 5.0)\n",
    "pt2 = Point(2.5, 1.5)\n",
    "\n",
    "from math import sqrt\n",
    "line_length = sqrt((pt1.x-pt2.x)**2 + (pt1.y-pt2.y)**2)"
   ]
  },
  {
   "cell_type": "markdown",
   "metadata": {
    "run_control": {
     "frozen": false,
     "read_only": false
    }
   },
   "source": [
    "Named tuples can be converted to dictionaries using `pt1._asdict()` which returns an ordered dictionary.  To get a standard dictionary use `dict(pt1._asdict())`. The members of the resulting dictionary are not immutable and can be changed if required.  The example below also shows how to build a `namedtuple` from a `dict`."
   ]
  },
  {
   "cell_type": "code",
   "execution_count": 216,
   "metadata": {
    "collapsed": true,
    "jupyter": {
     "outputs_hidden": true
    },
    "run_control": {
     "frozen": false,
     "read_only": false
    }
   },
   "outputs": [
    {
     "name": "stdout",
     "output_type": "stream",
     "text": [
      "Point(x=1.0, y=5.0) <class '__main__.Point'>\n",
      "OrderedDict([('x', 1.0), ('y', 5.0)]) <class 'collections.OrderedDict'>\n",
      "{'x': 1.0, 'y': 5.0} <class 'dict'>\n",
      "OrderedDict([('x', 1000), ('y', 5.0)]) <class 'collections.OrderedDict'>\n",
      "Point(x=1000, y=5.0) <class '__main__.Point'>\n",
      "Point field names are ('x', 'y')\n"
     ]
    }
   ],
   "source": [
    "print('{} {}'.format(pt1, type(pt1)))\n",
    "print('{} {}'.format(pt1._asdict(), type(pt1._asdict())))\n",
    "print('{} {}'.format(dict(pt1._asdict()), type(dict(pt1._asdict()))))\n",
    "pt1d = pt1._asdict()\n",
    "pt1d['x'] = 1000\n",
    "print('{} {}'.format(pt1d, type(pt1d)))\n",
    "\n",
    "# build a namedtuple from a dict:\n",
    "pt1 = Point(**pt1d)\n",
    "print('{} {}'.format(pt1, type(pt1)))\n",
    "\n",
    "#get the field names from namedtuple\n",
    "print('Point field names are {}'.format(pt1._fields))"
   ]
  },
  {
   "cell_type": "markdown",
   "metadata": {
    "run_control": {
     "frozen": false,
     "read_only": false
    }
   },
   "source": [
    "<https://docs.python.org/2/library/collections.html#collections.namedtuple>  \n",
    "\n",
    "Since a named tuple is a regular Python class, it is easy to add or change functionality with a subclass. Here is how to add a calculated field and a fixed-width print format:"
   ]
  },
  {
   "cell_type": "code",
   "execution_count": 217,
   "metadata": {
    "collapsed": true,
    "jupyter": {
     "outputs_hidden": true
    },
    "run_control": {
     "frozen": false,
     "read_only": false
    }
   },
   "outputs": [
    {
     "name": "stdout",
     "output_type": "stream",
     "text": [
      "Point: x= 3.000  y= 4.000  hypot= 5.000\n",
      "Point: x=14.000  y= 0.714  hypot=14.018\n"
     ]
    }
   ],
   "source": [
    "class Point(namedtuple('Point', 'x y')):\n",
    "    __slots__ = ()\n",
    "    @property\n",
    "    def hypot(self):\n",
    "        return (self.x ** 2 + self.y ** 2) ** 0.5\n",
    "    def __str__(self):\n",
    "        return 'Point: x={:6.3f}  y={:6.3f}  hypot={:6.3f}'.format(self.x, self.y, self.hypot)\n",
    "\n",
    "for p in Point(3, 4), Point(14, 5/7.):\n",
    "    print(p)    "
   ]
  },
  {
   "cell_type": "markdown",
   "metadata": {
    "run_control": {
     "frozen": false,
     "read_only": false
    }
   },
   "source": [
    "Subclassing is not useful for adding new, stored fields. Instead, simply create a new named tuple type from the `_fields` attribute:  \n",
    "\n",
    "    Point3D = namedtuple('Point3D', Point._fields + ('z',))"
   ]
  },
  {
   "cell_type": "markdown",
   "metadata": {
    "run_control": {
     "frozen": false,
     "read_only": false
    }
   },
   "source": [
    "Default values can be implemented by using `_replace()` to customize a prototype instance:"
   ]
  },
  {
   "cell_type": "code",
   "execution_count": 218,
   "metadata": {
    "collapsed": true,
    "jupyter": {
     "outputs_hidden": true
    },
    "run_control": {
     "frozen": false,
     "read_only": false
    }
   },
   "outputs": [
    {
     "name": "stdout",
     "output_type": "stream",
     "text": [
      "Account(owner='John', balance=50, transaction_count=0)\n"
     ]
    }
   ],
   "source": [
    "Account = namedtuple('Account', 'owner balance transaction_count')\n",
    "default_account = Account('<owner name>', 0.0, 0)\n",
    "johns_account = default_account._replace(owner='John', balance=50)\n",
    "print(johns_account)"
   ]
  },
  {
   "cell_type": "code",
   "execution_count": 219,
   "metadata": {
    "collapsed": true,
    "jupyter": {
     "outputs_hidden": true
    },
    "run_control": {
     "frozen": false,
     "read_only": false
    }
   },
   "outputs": [],
   "source": [
    "# def preparefiles(filename):\n",
    "#     if os.path.isfile(filename):\n",
    "#         os.remove(filename)\n",
    "#     conn = sqlite3.connect(filename)\n",
    "#     conn.execute('''CREATE TABLE COMPANY\n",
    "#            (ID INT PRIMARY KEY     NOT NULL,\n",
    "#            NAME           TEXT    NOT NULL,\n",
    "#            AGE            INT     NOT NULL,\n",
    "#            ADDRESS        CHAR(50),\n",
    "#            SALARY         REAL);''')\n",
    "#     conn.execute(\"INSERT INTO COMPANY (ID,NAME,AGE,ADDRESS,SALARY) \\\n",
    "#           VALUES (1, 'Paul', 32, 'California', 20000.00 )\");\n",
    "#     conn.execute(\"INSERT INTO COMPANY (ID,NAME,AGE,ADDRESS,SALARY) \\\n",
    "#           VALUES (2, 'Allen', 25, 'Texas', 15000.00 )\");\n",
    "#     conn.execute(\"INSERT INTO COMPANY (ID,NAME,AGE,ADDRESS,SALARY) \\\n",
    "#           VALUES (3, 'Teddy', 23, 'Norway', 20000.00 )\");\n",
    "#     conn.execute(\"INSERT INTO COMPANY (ID,NAME,AGE,ADDRESS,SALARY) \\\n",
    "#           VALUES (4, 'Mark', 25, 'Rich-Mond ', 65000.00 )\");\n",
    "#     conn.commit()\n",
    "#     conn.close()\n"
   ]
  },
  {
   "cell_type": "markdown",
   "metadata": {
    "run_control": {
     "frozen": false,
     "read_only": false
    }
   },
   "source": [
    "<https://docs.python.org/2/library/collections.html#collections.namedtuple>  \n",
    "\n",
    "Named tuples are especially useful for assigning field names to result tuples returned by the `csv` or `sqlite3` modules. Note that the table names and the name tuple member names are not the same:"
   ]
  },
  {
   "cell_type": "code",
   "execution_count": 220,
   "metadata": {
    "collapsed": true,
    "jupyter": {
     "outputs_hidden": true
    },
    "run_control": {
     "frozen": false,
     "read_only": false
    }
   },
   "outputs": [
    {
     "name": "stdout",
     "output_type": "stream",
     "text": [
      "from csv: Paul  20000.0 \n",
      "from csv: Allen  15000.0 \n",
      "from csv: Teddy  20000.0 \n",
      "from csv: Mark   65000.0 \n",
      "from sqlite3: Paul 32 California 20000.0\n",
      "from sqlite3: Allen 25 Texas 15000.0\n",
      "from sqlite3: Teddy 23 Norway 20000.0\n",
      "from sqlite3: Mark 25 Rich-Mond  65000.0\n"
     ]
    }
   ],
   "source": [
    "from collections import namedtuple\n",
    " \n",
    "EmployeeRecord = namedtuple('EmployeeRecord', 'name, age, address, paygrade')\n",
    "\n",
    "import csv\n",
    "for emp in map(EmployeeRecord._make, csv.reader(open('data/test.csv', \"rt\"))):\n",
    "    print('from csv: {} {} '.format(emp.name, emp.paygrade))\n",
    "\n",
    "import sqlite3\n",
    "conn = sqlite3.connect('data/test.db3')\n",
    "cursor = conn.cursor()\n",
    "cursor.execute('SELECT NAME,AGE,ADDRESS,SALARY FROM COMPANY')\n",
    "for emp in map(EmployeeRecord._make, cursor.fetchall()):\n",
    "    print('from sqlite3: {} {} {} {}'.format(emp.name, emp.age, emp.address, emp.paygrade))\n",
    "conn.close ;\n"
   ]
  },
  {
   "cell_type": "markdown",
   "metadata": {
    "run_control": {
     "frozen": false,
     "read_only": false
    }
   },
   "source": [
    "### Generators, iterators and yield --- more detail to follow.\n",
    "\n",
    "<http://anandology.com/python-practice-book/iterators.html>  \n",
    "<http://www.jeffknupp.com/blog/2013/04/07/improve-your-python-yield-and-generators-explained/>  \n",
    "<https://wiki.python.org/moin/Generators>  \n",
    "<http://www.bogotobogo.com/python/python_generators.php>  \n",
    "<http://zetcode.com/lang/python/itergener/>  \n",
    "<http://nbviewer.ipython.org/github/empet/pytwist/blob/master/Generators-and-Dynamical-Systs.ipynb>  \n"
   ]
  },
  {
   "cell_type": "markdown",
   "metadata": {
    "run_control": {
     "frozen": false,
     "read_only": false
    }
   },
   "source": [
    "### Functions as objects"
   ]
  },
  {
   "cell_type": "markdown",
   "metadata": {
    "run_control": {
     "frozen": false,
     "read_only": false
    }
   },
   "source": [
    "A function name is *just a name* bound to a function object and can be handled just as *any other name*.  Study the following code to see how the predicate function is passed as a function parameter.  This example counts the number of times that a certain condition ocurred.  \n",
    "<https://www.jeffknupp.com/blog/2013/11/29/improve-your-python-decorators-explained/>"
   ]
  },
  {
   "cell_type": "code",
   "execution_count": 221,
   "metadata": {
    "collapsed": true,
    "jupyter": {
     "outputs_hidden": true
    },
    "run_control": {
     "frozen": false,
     "read_only": false
    }
   },
   "outputs": [
    {
     "name": "stdout",
     "output_type": "stream",
     "text": [
      "True\n",
      "False\n",
      "3\n"
     ]
    }
   ],
   "source": [
    "def is_even(value):\n",
    "    \"\"\"Return True if *value* is even.\n",
    "    \"\"\"\n",
    "    #this is a comment\n",
    "    return (value % 2) == 0\n",
    "\n",
    "print(is_even(4))\n",
    "print(is_even(5))\n",
    "\n",
    "def count_occurrences(target_list, predicate):\n",
    "    \"\"\"Return the number of times applying the callable *predicate* to a\n",
    "    list element returns True.\n",
    "    \"\"\"\n",
    "    return sum([1 for e in target_list if predicate(e)])\n",
    "\n",
    "my_predicate = is_even\n",
    "my_list = [2, 4, 6, 7, 9, 11]\n",
    "result = count_occurrences(my_list, my_predicate)\n",
    "print(result)"
   ]
  },
  {
   "cell_type": "markdown",
   "metadata": {
    "run_control": {
     "frozen": false,
     "read_only": false
    }
   },
   "source": [
    "Here is another example, the function name is an entry into a dictionary.  \n",
    "<http://code.activestate.com/recipes/65126-dictionary-of-methodsfunctions/>"
   ]
  },
  {
   "cell_type": "code",
   "execution_count": 222,
   "metadata": {
    "collapsed": true,
    "jupyter": {
     "outputs_hidden": true
    },
    "run_control": {
     "frozen": false,
     "read_only": false
    }
   },
   "outputs": [
    {
     "name": "stdout",
     "output_type": "stream",
     "text": [
      "called function 1 with 0\n",
      "called function 1 with 1\n",
      "called function 2 with 2\n"
     ]
    }
   ],
   "source": [
    "import string\n",
    "\n",
    "def function1(i):\n",
    "    print('called function 1 with {}'.format(i))\n",
    "\n",
    "def function2(i):\n",
    "    print('called function 2 with {}'.format(i))\n",
    "\n",
    "tokenDict = {\"cat\":function1, \"dog\":function2}\n",
    "\n",
    "# simulate, say, lines read from a file\n",
    "lines = [\"cat\",\"cat\",\"dog\"]\n",
    "\n",
    "for i,line in enumerate(lines):\n",
    "    tokenDict[line](i)\n"
   ]
  },
  {
   "cell_type": "markdown",
   "metadata": {
    "run_control": {
     "frozen": false,
     "read_only": false
    }
   },
   "source": [
    "### Don't use mutable objects as default function parameters"
   ]
  },
  {
   "cell_type": "markdown",
   "metadata": {
    "run_control": {
     "frozen": false,
     "read_only": false
    }
   },
   "source": [
    "Python will create the mutable object (default parameter) the first time the function is defined (i.e. the function is created or imported) - not when it is called.\n",
    "\n",
    "<http://nbviewer.ipython.org/github/rasbt/python_reference/blob/master/not_so_obvious_python_stuff.ipynb?create=1>"
   ]
  },
  {
   "cell_type": "code",
   "execution_count": 223,
   "metadata": {
    "collapsed": true,
    "jupyter": {
     "outputs_hidden": true
    },
    "run_control": {
     "frozen": false,
     "read_only": false
    }
   },
   "outputs": [
    {
     "name": "stdout",
     "output_type": "stream",
     "text": [
      "[1]\n",
      "[1, 2]\n"
     ]
    }
   ],
   "source": [
    "def append_to_list(value, def_list=[]):\n",
    "    def_list.append(value)\n",
    "    return def_list\n",
    "\n",
    "my_list = append_to_list(1)\n",
    "print(my_list)\n",
    "\n",
    "my_other_list = append_to_list(2)\n",
    "print(my_other_list)"
   ]
  },
  {
   "cell_type": "code",
   "execution_count": 224,
   "metadata": {
    "collapsed": true,
    "jupyter": {
     "outputs_hidden": true
    },
    "run_control": {
     "frozen": false,
     "read_only": false
    }
   },
   "outputs": [
    {
     "name": "stdout",
     "output_type": "stream",
     "text": [
      "1562229963.6504102\n",
      "1562229963.6504102\n"
     ]
    }
   ],
   "source": [
    "import time\n",
    "def report_arg(my_default=time.time()):\n",
    "    print(my_default)\n",
    "\n",
    "report_arg()\n",
    "time.sleep(1)\n",
    "report_arg()"
   ]
  },
  {
   "cell_type": "markdown",
   "metadata": {
    "run_control": {
     "frozen": false,
     "read_only": false
    }
   },
   "source": [
    "### Reading and writing files\n",
    "\n",
    "Use the `with` construct, it is more robust to errors.  In this code we first create a random collection of words. It is then written to a file. This file is then read in and processed, printing the results each time.  \n",
    "<http://effbot.org/zone/python-with-statement.htm>\n"
   ]
  },
  {
   "cell_type": "code",
   "execution_count": 225,
   "metadata": {
    "collapsed": true,
    "jupyter": {
     "outputs_hidden": true
    },
    "run_control": {
     "frozen": false,
     "read_only": false
    }
   },
   "outputs": [
    {
     "name": "stdout",
     "output_type": "stream",
     "text": [
      "a*b*c\n",
      "a-o0o-b-o0o-c\n",
      "Text to be written to file\n",
      "dqx Ix S dFDt rhfxFbj k YfnigWF Mw B nlIEV\n",
      "OQWq roKgeX oPw FBfzrU mkSiw afIN EOeKaT zrX f D\n",
      "qkfDtl rTN BL Hxftv WNVYeSq IOmoyA PuHSE FoJ U sTMC\n",
      "mhLHiMR bcOAdmU B dAmxYEy W WMDqaeJ RSvLnX Fp c SLygcdx\n",
      "\n",
      "Single string dump of all the text read in from the file\n",
      "dqx Ix S dFDt rhfxFbj k YfnigWF Mw B nlIEV\n",
      "OQWq roKgeX oPw FBfzrU mkSiw afIN EOeKaT zrX f D\n",
      "qkfDtl rTN BL Hxftv WNVYeSq IOmoyA PuHSE FoJ U sTMC\n",
      "mhLHiMR bcOAdmU B dAmxYEy W WMDqaeJ RSvLnX Fp c SLygcdx\n",
      "\n",
      "Read in as lines from the file\n",
      "['dqx Ix S dFDt rhfxFbj k YfnigWF Mw B nlIEV\\n', 'OQWq roKgeX oPw FBfzrU mkSiw afIN EOeKaT zrX f D\\n', 'qkfDtl rTN BL Hxftv WNVYeSq IOmoyA PuHSE FoJ U sTMC\\n', 'mhLHiMR bcOAdmU B dAmxYEy W WMDqaeJ RSvLnX Fp c SLygcdx']\n",
      "\n",
      "Printing the lines one at a time after removing the newline\n",
      "dqx Ix S dFDt rhfxFbj k YfnigWF Mw B nlIEV\n",
      "OQWq roKgeX oPw FBfzrU mkSiw afIN EOeKaT zrX f D\n",
      "qkfDtl rTN BL Hxftv WNVYeSq IOmoyA PuHSE FoJ U sTMC\n",
      "mhLHiMR bcOAdmU B dAmxYEy W WMDqaeJ RSvLnX Fp c SLygcdx\n",
      "\n",
      "Printing the words for each line\n",
      "['dqx', 'Ix', 'S', 'dFDt', 'rhfxFbj', 'k', 'YfnigWF', 'Mw', 'B', 'nlIEV']\n",
      "['OQWq', 'roKgeX', 'oPw', 'FBfzrU', 'mkSiw', 'afIN', 'EOeKaT', 'zrX', 'f', 'D']\n",
      "['qkfDtl', 'rTN', 'BL', 'Hxftv', 'WNVYeSq', 'IOmoyA', 'PuHSE', 'FoJ', 'U', 'sTMC']\n",
      "['mhLHiMR', 'bcOAdmU', 'B', 'dAmxYEy', 'W', 'WMDqaeJ', 'RSvLnX', 'Fp', 'c', 'SLygcdx']\n"
     ]
    }
   ],
   "source": [
    "import random, string, os\n",
    "\n",
    "#the join function uses the given string to join the elements given in the function parameter list\n",
    "a = ['a','b','c']\n",
    "print('*'.join(a))     \n",
    "print('-o0o-'.join(a))     \n",
    "\n",
    "#first create some random text - for extra marks figure out how this is done...\n",
    "text = '\\n'.join([' '.join([''.join(random.sample(string.ascii_letters,\n",
    "                random.randint(1,7))) for i in range(10)]) for i in range(4)])\n",
    "print('Text to be written to file')\n",
    "print(text)\n",
    "\n",
    "#Write the text to file\n",
    "filename = \"x.txt\"\n",
    "with open(filename,'w') as f:\n",
    "    f.write(text)\n",
    "    \n",
    "print('\\nSingle string dump of all the text read in from the file')\n",
    "with open(\"x.txt\",'r') as f:\n",
    "    data = f.read()\n",
    "    print(data)\n",
    "    \n",
    "with open(filename,'r') as f:\n",
    "    lines = f.readlines()\n",
    "    print('\\nRead in as lines from the file')\n",
    "    print(lines)\n",
    "    print('\\nPrinting the lines one at a time after removing the newline')\n",
    "    for line in lines:\n",
    "        print(line.strip())\n",
    "    print('\\nPrinting the words for each line')\n",
    "    for line in lines:\n",
    "        words = line.split()\n",
    "        print(words)\n",
    "#delete the file        \n",
    "try:\n",
    "    os.remove(filename)\n",
    "except OSError:\n",
    "    pass        "
   ]
  },
  {
   "cell_type": "markdown",
   "metadata": {
    "run_control": {
     "frozen": false,
     "read_only": false
    }
   },
   "source": [
    "### Reading and writing raw binary files"
   ]
  },
  {
   "cell_type": "markdown",
   "metadata": {
    "run_control": {
     "frozen": false,
     "read_only": false
    }
   },
   "source": [
    "Binary files are handled the same as text files, but with file open modes `rb` or `wb`:  \n",
    "\n",
    "    # Read the entire file as a single byte string\n",
    "    with open('binaryfile.bin', 'rb') as f:\n",
    "        data = f.read()\n",
    "\n",
    "    # Write binary data to a file\n",
    "    with open('binaryfile.bin', 'wb') as f:\n",
    "        f.write(b'Hello World')\n",
    "        \n",
    "When reading binary all data returned will be in the form of byte strings, not text strings. Similarly, when writing, you must supply data in the form of objects that expose data as bytes.\n",
    "\n",
    "Using Python arrays, values can be written without conversion to a bytes object. The data type must be declared in the first parameter of the `array.array` function.  These [data types](https://docs.python.org/2/library/array.html) include signed and unsigned shorts, ints, longs, doubles, and unicode.\n",
    "\n",
    "    import array\n",
    "    nums = array.array('i', [1, 2, 3, 4])\n",
    "    with open('data.bin','wb') as f:\n",
    "        f.write(nums)\n",
    "\n",
    "<https://docs.python.org/2/library/array.html>  \n",
    "<http://chimera.labs.oreilly.com/books/1230000000393/ch05.html#_discussion_75>  \n",
    "\n",
    "The following code writes two unsigned integers, two doubles and a numpy array to raw binary format:"
   ]
  },
  {
   "cell_type": "code",
   "execution_count": 226,
   "metadata": {
    "collapsed": true,
    "jupyter": {
     "outputs_hidden": true
    },
    "run_control": {
     "frozen": false,
     "read_only": false
    }
   },
   "outputs": [],
   "source": [
    "import numpy as np\n",
    "import array\n",
    "img = np.ones((3,3))\n",
    "with open('binfile.bin','wb') as fo:\n",
    "    header = array.array('I',[512, 1024])\n",
    "    fo.write(header)\n",
    "    header = array.array('d',[700, 1250])\n",
    "    fo.write(header)\n",
    "    img.tofile(fo)\n"
   ]
  },
  {
   "cell_type": "markdown",
   "metadata": {
    "run_control": {
     "frozen": false,
     "read_only": false
    }
   },
   "source": [
    "### Watch out for <font color=\"red\">integer</font> numbers\n",
    "\n",
    "It seems that Numpy interprets 400 as an integer int32. When this int32 value is raised to the fourth power, the value overflows, resulting in a _negative_ number.  This error can easily happen when entering integer temperature values, raised to a high power.  \n",
    "\n",
    "In [`ryplanck`](http://nelisw.github.io/pyradi-docs/_build/html/ryplanck.html#module-pyradi.ryplanck), all temperature input values are always converted to float with `.astype(float)` (but only in [`ryplanck`](http://nelisw.github.io/pyradi-docs/_build/html/ryplanck.html#module-pyradi.ryplanck))."
   ]
  },
  {
   "cell_type": "code",
   "execution_count": 227,
   "metadata": {
    "collapsed": true,
    "jupyter": {
     "outputs_hidden": true
    },
    "run_control": {
     "frozen": false,
     "read_only": false
    }
   },
   "outputs": [
    {
     "name": "stdout",
     "output_type": "stream",
     "text": [
      "int32\n",
      "[ -169803776 -1924509440]\n",
      "[ -169803776 -1924509440]\n",
      "float64\n",
      "[2.56e+10 6.25e+10]\n"
     ]
    }
   ],
   "source": [
    "import numpy as np\n",
    "tt = np.asarray([400, 500])\n",
    "print(tt.dtype)\n",
    "print(np.power(tt, 4))\n",
    "print(tt**4)\n",
    "\n",
    "tt = np.asarray([400, 500]).astype(float)\n",
    "print(tt.dtype)\n",
    "print(np.power(tt, 4))\n"
   ]
  },
  {
   "cell_type": "markdown",
   "metadata": {
    "run_control": {
     "frozen": false,
     "read_only": false
    }
   },
   "source": [
    "### Reading user keyboard input"
   ]
  },
  {
   "cell_type": "markdown",
   "metadata": {
    "run_control": {
     "frozen": false,
     "read_only": false
    }
   },
   "source": [
    "Reading user input - this even works in the IPython notebook! Strings must be in quotes. You can even enter lists and dictionaries!"
   ]
  },
  {
   "cell_type": "code",
   "execution_count": 228,
   "metadata": {
    "collapsed": true,
    "jupyter": {
     "outputs_hidden": true
    },
    "run_control": {
     "frozen": false,
     "read_only": false
    }
   },
   "outputs": [],
   "source": [
    "# foo=input('Please enter a value:')\n",
    "# print(foo)"
   ]
  },
  {
   "cell_type": "markdown",
   "metadata": {
    "run_control": {
     "frozen": false,
     "read_only": false
    }
   },
   "source": [
    "### Accessing files on the internet\n",
    "\n",
    "The Python [`urllib2`](http://docs.python.org/2/howto/urllib2.html) package makes is relatively easy to access a file on the internet.  See also the functions \n",
    "[`ryfiles.unzipGZipfile`](http://nelisw.github.io/pyradi-docs/_build/html/ryfiles.html#pyradi.ryfiles.unzipGZipfile),\n",
    "[`ryfiles.untarTarfile`](http://nelisw.github.io/pyradi-docs/_build/html/ryfiles.html#pyradi.ryfiles.untarTarfile), and \n",
    "[`ryfiles.downloadFileUrl`](http://nelisw.github.io/pyradi-docs/_build/html/ryfiles.html#pyradi.ryfiles.downloadFileUrl).\n"
   ]
  },
  {
   "cell_type": "markdown",
   "metadata": {
    "run_control": {
     "frozen": false,
     "read_only": false
    }
   },
   "source": [
    "### Python functions"
   ]
  },
  {
   "cell_type": "code",
   "execution_count": 229,
   "metadata": {
    "collapsed": true,
    "jupyter": {
     "outputs_hidden": true
    },
    "run_control": {
     "frozen": false,
     "read_only": false
    }
   },
   "outputs": [
    {
     "name": "stdout",
     "output_type": "stream",
     "text": [
      "25\n",
      "25.0\n"
     ]
    }
   ],
   "source": [
    "def square(value):\n",
    "    return value ** 2\n",
    "\n",
    "print(square(5))\n",
    "print(square(5.))"
   ]
  },
  {
   "cell_type": "markdown",
   "metadata": {
    "run_control": {
     "frozen": false,
     "read_only": false
    }
   },
   "source": [
    "Functions can return anything, here it returns (1) a tuple of values, (2) a function that can be called. If you only want some of the values in the returned tuple, indicate those to ignore with underscore `_`."
   ]
  },
  {
   "cell_type": "code",
   "execution_count": 230,
   "metadata": {
    "collapsed": true,
    "jupyter": {
     "outputs_hidden": true
    },
    "run_control": {
     "frozen": false,
     "read_only": false
    }
   },
   "outputs": [
    {
     "name": "stdout",
     "output_type": "stream",
     "text": [
      "(5, 25, 'five')\n",
      "25\n",
      "five\n",
      "-------------\n",
      "(5, 25, 'five')\n",
      "-------------\n",
      "five\n"
     ]
    }
   ],
   "source": [
    "def square(value):\n",
    "    dicStr = {0:'zero',2:'two',5:'five',}\n",
    "    rtnval = (value, value ** 2, dicStr[value])\n",
    "    return rtnval\n",
    "\n",
    "print(square(5))\n",
    "print(square(5)[1])\n",
    "print(square(5)[-1])\n",
    "print('-------------')\n",
    "\n",
    "def squarefn():\n",
    "    return square\n",
    "print(squarefn()(5))\n",
    "print('-------------')\n",
    "\n",
    "_, _, rtn = squarefn()(5)\n",
    "print(rtn)\n"
   ]
  },
  {
   "cell_type": "markdown",
   "metadata": {
    "run_control": {
     "frozen": false,
     "read_only": false
    }
   },
   "source": [
    "Functions can have named parameters where values are assigned by name. Furthermore, function parameters can define default values to be used if the user does not supply a value."
   ]
  },
  {
   "cell_type": "code",
   "execution_count": 231,
   "metadata": {
    "collapsed": true,
    "jupyter": {
     "outputs_hidden": true
    },
    "run_control": {
     "frozen": false,
     "read_only": false
    }
   },
   "outputs": [
    {
     "name": "stdout",
     "output_type": "stream",
     "text": [
      "25\n",
      "625\n"
     ]
    }
   ],
   "source": [
    "def power(value, power=2):\n",
    "    return value ** power\n",
    "\n",
    "print(power(value=5))\n",
    "print(power(value=5, power=4))"
   ]
  },
  {
   "cell_type": "markdown",
   "metadata": {
    "run_control": {
     "frozen": false,
     "read_only": false
    }
   },
   "source": [
    "## Exception and Error Handling"
   ]
  },
  {
   "cell_type": "markdown",
   "metadata": {
    "run_control": {
     "frozen": false,
     "read_only": false
    }
   },
   "source": [
    "Python has exception handling, with the try/exception structure. The code in the try block is evaluated and if an error occurred the code in the except block is executed to handle the error condition."
   ]
  },
  {
   "cell_type": "code",
   "execution_count": 232,
   "metadata": {
    "collapsed": true,
    "jupyter": {
     "outputs_hidden": true
    },
    "run_control": {
     "frozen": false,
     "read_only": false
    }
   },
   "outputs": [
    {
     "name": "stdout",
     "output_type": "stream",
     "text": [
      "Appending to a tuple is not allowed\n"
     ]
    }
   ],
   "source": [
    "a = (1, 2)\n",
    "try:\n",
    "    a.append(4)\n",
    "except:\n",
    "    print('Appending to a tuple is not allowed')\n"
   ]
  },
  {
   "cell_type": "markdown",
   "metadata": {
    "run_control": {
     "frozen": false,
     "read_only": false
    }
   },
   "source": [
    "## Python Standard Library Logger"
   ]
  },
  {
   "cell_type": "markdown",
   "metadata": {
    "run_control": {
     "frozen": false,
     "read_only": false
    }
   },
   "source": [
    "The `logging` module in the standard library provides a reasonably powerful logger capability.  This examples shows how to log to two files at the same time.  The case in point is for a session-level logfile, plus any number of lower level detailed log files.\n",
    "\n",
    "The `logging` module provides a global-scope object, so there is no need to pass the object along between functions or objects.  \n",
    "\n",
    "The global `logging` object provides the functionality to have any number of individual loggers, which can be accessed by using a  key (the filename) to indicate which logger you want to use.  The file that is physically created on disk is named using the key, appended with '.log'.  \n",
    "\n",
    "The logger shown here opens handlers to cout and a disk file, each providing different levels of logging.  The logger is created by the function `setUpLogFile` and is subsequently activated by code of the form `logging.getLogger(filename)`, where `filename` is the logfile filename (which also serves as the key to the logger).\n",
    "\n",
    "The example code below provides the functionality where the user can provide a path to where the logfile must be created on disk (relative to where the current working directory).   \n",
    "\n",
    "\n",
    "The Python logging module provides the following threshold levels:  CRITICAL, ERROR, WARNING, INFO, DEBUG, NOTSET in order of severity.  When logging, all messages marked with a level equal to, or higher than the threshold level, will be printed.  At the highest level only critical messages will be printed, whereas at the debug level all higher level prints are also performed.\n",
    "\n",
    "The class `SpecialFormatter` defines how the different levels of output are formatted.\n",
    "\n",
    "This code is based on an example by Lynette van der Westhuizen."
   ]
  },
  {
   "cell_type": "code",
   "execution_count": 233,
   "metadata": {
    "collapsed": true,
    "jupyter": {
     "outputs_hidden": true
    },
    "run_control": {
     "frozen": false,
     "read_only": false
    }
   },
   "outputs": [],
   "source": [
    "import logging\n",
    "import datetime as dt\n",
    "import sys\n",
    "import os.path\n",
    "\n",
    "#===============================================================================\n",
    "def setUpLogFile(logfilename, saveDir, logLevelCmnd=logging.WARNING, logLevelFile=logging.DEBUG):\n",
    "    \"\"\"Set up the log file for IDA.\n",
    "\n",
    "    Args:\n",
    "        | logfilename (string) : Name of the log file - this is also the key to access the logger.\n",
    "        | saveDir (string) : Directory to save the log file, relative to cwd.\n",
    "        | logLevel (string): log level (logging.ERROR, logging.WARNING, logging.INFO, logging.DEBUG)\n",
    "\n",
    "    Returns:\n",
    "        | newLogger (logging file) : Retruns a log file with the name [logfilename]Log.\n",
    "                             A log file [logfilename]Log.log is created in saveDir.\n",
    "    Raises:\n",
    "        | None\n",
    "    \"\"\"\n",
    "\n",
    "    #--- Get the log file and to log all logLevel\n",
    "    newLogger = logging.getLogger(logfilename)\n",
    "    newLogger.setLevel(logLevelCmnd)\n",
    "    newLogger.handlers=[] #Ensure no handlers so that duplicates aren't added in the event the code crashed and logger didn't close\n",
    "\n",
    "    #--- Set a file handler log from level :\n",
    "    filepath = os.path.join(saveDir, logfilename.lower())\n",
    "    fileHdlr = logging.FileHandler(\"{}.log\".format(filepath),'w')\n",
    "    fileHdlr.setLevel(logLevelFile)\n",
    "    fileHdlr.setFormatter(SpecialFormatter())\n",
    "    newLogger.addHandler(fileHdlr)\n",
    "\n",
    "    #--- Set a command window handler log from level WARNING\n",
    "    cmdHdlr = logging.StreamHandler()\n",
    "    cmdHdlr.setLevel(logLevelCmnd)\n",
    "    cmdHdlr.setFormatter(SpecialFormatter())\n",
    "    newLogger.addHandler(cmdHdlr)\n",
    "\n",
    "    #--- Print the log file creation time\n",
    "    printCreationTime = '\\n==========================================================\\n'+\\\n",
    "                        'Date of execution: {} {}\\n'.format(dt.datetime.now(), logfilename) +\\\n",
    "                        '==========================================================\\n\\n'.format(logfilename)\n",
    "    newLogger.info(printCreationTime)\n",
    "\n",
    "    return newLogger\n",
    "\n",
    "#===============================================================================\n",
    "class SpecialFormatter(logging.Formatter):\n",
    "    \"\"\"Sets the formats of the levels to print for a logging file.\n",
    "\n",
    "        All messages printing to the log file will have the format as specified\n",
    "        by the log file level.\n",
    "        http://stackoverflow.com/questions/1343227/can-pythons-logging-format-be-modified-depending-on-the-message-log-level\n",
    "    \"\"\"\n",
    "    #--Set format: format valid for python 2\n",
    "    FORMATS = { \n",
    "                logging.CRITICAL: \"CRITICAL - module %(module)s line %(lineno)d: %(message)s\",\n",
    "                logging.ERROR   : \"ERROR - module %(module)s line %(lineno)d: %(message)s\",\n",
    "                logging.WARNING : \"WARNING - module %(module)s line %(lineno)d: %(message)s\",\n",
    "                logging.INFO    : \"INFO %(message)s\",\n",
    "                logging.DEBUG   : \"DEBUG - module %(module)s line %(lineno)d: %(message)s\",\n",
    "                'DEFAULT'       : \"%(levelname)s: %(message)s\"}\n",
    "\n",
    "    #---Define format\n",
    "    def format(self, record):\n",
    "        \"\"\"Defines the logging message format.\n",
    "        \"\"\"\n",
    "        self._fmt = self.FORMATS.get(record.levelno, self.FORMATS['DEFAULT'])\n",
    "        return logging.Formatter.format(self, record)\n"
   ]
  },
  {
   "cell_type": "markdown",
   "metadata": {
    "run_control": {
     "frozen": false,
     "read_only": false
    }
   },
   "source": [
    "The logger is demonstrated here by writing one session-level logfile and two lower-level logfiles.  Note that, because the `logging` module is global, you do not need to copy it around.  The appropriate logger must be activated by the `logging.getLogger()` function - all subsequent logging with be to that specific logger."
   ]
  },
  {
   "cell_type": "code",
   "execution_count": 234,
   "metadata": {
    "collapsed": true,
    "jupyter": {
     "outputs_hidden": true
    },
    "run_control": {
     "frozen": false,
     "read_only": false
    }
   },
   "outputs": [
    {
     "name": "stderr",
     "output_type": "stream",
     "text": [
      "\n",
      "==========================================================\n",
      "Date of execution: 2019-07-04 10:46:04.840410 analysis\n",
      "==========================================================\n",
      "\n",
      "\n",
      "this is an error message to anaLogFile\n",
      "\n",
      "==========================================================\n",
      "Date of execution: 2019-07-04 10:46:04.842410 a\n",
      "==========================================================\n",
      "\n",
      "\n",
      "\n",
      "==========================================================\n",
      "Date of execution: 2019-07-04 10:46:04.844410 b\n",
      "==========================================================\n",
      "\n",
      "\n",
      "this is an error message to anaLogFile a\n",
      "writing to logfile a at ERROR level\n",
      "writing to logfile a at INFO level\n",
      "this is an error message to anaLogFile b\n",
      "writing to logfile b at ERROR level\n",
      "writing to logfile b at INFO level\n"
     ]
    }
   ],
   "source": [
    "#set up the session logger\n",
    "analysisName = 'analysis'\n",
    "saveDir = '.' \n",
    "setUpLogFile(analysisName, '.', logLevelCmnd=logging.INFO, logLevelFile=logging.INFO)\n",
    "anaLog = logging.getLogger(analysisName)\n",
    "anaLog.error('this is an error message to anaLogFile')\n",
    "\n",
    "#set up the specialist loggers\n",
    "for i in ['a','b']:\n",
    "    setUpLogFile(i, '.', logLevelCmnd=logging.INFO, logLevelFile=logging.INFO)\n",
    "\n",
    "#use the session and specialist loggers.\n",
    "for i in ['a','b']:\n",
    "    anaLog.error('this is an error message to anaLogFile {}'.format(i) )\n",
    "    iLog = logging.getLogger(i)\n",
    "    iLog.error('writing to logfile {} at ERROR level'.format(i) )\n",
    "    iLog.info('writing to logfile {} at INFO level'.format(i) )\n"
   ]
  },
  {
   "cell_type": "markdown",
   "metadata": {
    "run_control": {
     "frozen": false,
     "read_only": false
    }
   },
   "source": [
    "## The `switch/case` Statement in Python"
   ]
  },
  {
   "cell_type": "markdown",
   "metadata": {
    "run_control": {
     "frozen": false,
     "read_only": false
    }
   },
   "source": [
    "All of this comes from <http://www.pydanny.com/why-doesnt-python-have-switch-case.html>\n",
    "    \n",
    "Python does not have a switch or case statement. To get around this fact, we use dictionary mapping:    "
   ]
  },
  {
   "cell_type": "code",
   "execution_count": 235,
   "metadata": {
    "collapsed": true,
    "jupyter": {
     "outputs_hidden": true
    },
    "run_control": {
     "frozen": false,
     "read_only": false
    }
   },
   "outputs": [
    {
     "name": "stdout",
     "output_type": "stream",
     "text": [
      "one\n"
     ]
    }
   ],
   "source": [
    "def numbers_to_strings(argument):\n",
    "    switcher = {\n",
    "        0: \"zero\",\n",
    "        1: \"one\",\n",
    "        2: \"two\",\n",
    "    }\n",
    "    return switcher.get(argument, \"nothing\")\n",
    "\n",
    "print(numbers_to_strings(1))"
   ]
  },
  {
   "cell_type": "markdown",
   "metadata": {
    "run_control": {
     "frozen": false,
     "read_only": false
    }
   },
   "source": [
    "Dictionary Mapping for Functions"
   ]
  },
  {
   "cell_type": "code",
   "execution_count": 236,
   "metadata": {
    "collapsed": true,
    "jupyter": {
     "outputs_hidden": true
    },
    "run_control": {
     "frozen": false,
     "read_only": false
    }
   },
   "outputs": [
    {
     "name": "stdout",
     "output_type": "stream",
     "text": [
      "one two\n"
     ]
    }
   ],
   "source": [
    "def zero():\n",
    "    return \"zero\"\n",
    "\n",
    "def one():\n",
    "    return \"one\"\n",
    "\n",
    "def numbers_to_functions_to_strings(argument):\n",
    "    switcher = {\n",
    "        0: zero,\n",
    "        1: one,\n",
    "        2: lambda: \"two\",\n",
    "    }\n",
    "    # Get the function from switcher dictionary\n",
    "    func = switcher.get(argument, lambda: \"nothing\")\n",
    "    # Execute the function\n",
    "    return func()\n",
    "\n",
    "print(numbers_to_strings(1), numbers_to_strings(2))"
   ]
  },
  {
   "cell_type": "markdown",
   "metadata": {
    "run_control": {
     "frozen": false,
     "read_only": false
    }
   },
   "source": [
    "If we don't know what method to call on a class, we can use a dispatch method to determine it at runtime."
   ]
  },
  {
   "cell_type": "code",
   "execution_count": 237,
   "metadata": {},
   "outputs": [
    {
     "name": "stdout",
     "output_type": "stream",
     "text": [
      "<class 'str'>\n"
     ]
    }
   ],
   "source": [
    "print(str)"
   ]
  },
  {
   "cell_type": "code",
   "execution_count": 238,
   "metadata": {
    "run_control": {
     "frozen": false,
     "read_only": false
    }
   },
   "outputs": [
    {
     "name": "stdout",
     "output_type": "stream",
     "text": [
      "zero two\n"
     ]
    }
   ],
   "source": [
    "class Switcher(object):\n",
    "    def numbers_to_methods_to_strings(self, argument):\n",
    "        \"\"\"Dispatch method\"\"\"\n",
    "        # prefix the method_name with 'number_' because method names\n",
    "        # cannot begin with an integer.\n",
    "        method_name = 'number_' + str(argument)\n",
    "        # Get the method from 'self'. Default to a lambda.\n",
    "        method = getattr(self, method_name, lambda: \"nothing\")\n",
    "        # Call the method as we return it\n",
    "        return method()\n",
    "\n",
    "    def number_0(self):\n",
    "        return \"zero\"\n",
    "\n",
    "    def number_1(self):\n",
    "        return \"one\"\n",
    "\n",
    "    def number_2(self):\n",
    "        return \"two\"\n",
    "    \n",
    "sw = Switcher()\n",
    "\n",
    "print(sw.numbers_to_methods_to_strings(0),sw.numbers_to_methods_to_strings(2))  "
   ]
  },
  {
   "cell_type": "markdown",
   "metadata": {},
   "source": [
    "### Pathlib module\n",
    "\n",
    "https://pbpython.com/pathlib-intro.html  \n",
    "https://pbpython.com/notebook-process.html  \n",
    "https://pymotw.com/3/pathlib/  \n",
    "https://towardsdatascience.com/10-python-file-system-methods-you-should-know-799f90ef13c2  \n",
    "https://realpython.com/python-pathlib/  \n",
    "https://github.com/chris1610/pbpython/blob/master/extras/Pathlib-Cheatsheet.pdf\n",
    "\n",
    "What follows below are almost verbatim extracts from some of the above links, I do not claim originality in this code.\n",
    "\n",
    "Pathlib is an object oriented interface to the filesystem and provides a more intuitive method to interact with the filesystem in a platform agnostic and pythonic manner. The pathlib library is included in all versions of python >= 3.4\n",
    "\n",
    "It’s a similar thought process to the os.path method of joining the current working directory (using Path.cwd() ) with the various subdirectories and file locations. It is much easier to follow because of the clever overriding of the / to build up a path in a more natural manner than chaining many os.path.joins together.  The / can join several paths or a mix of paths and strings (as above) as long as there is at least one Path object. If you do not like the special / notation, you can do the same thing with the .joinpath() method.\n",
    "\n",
    "`Path.home()` is a path to your home directory.\n",
    "\n",
    "The added benefit of these methods is that you are creating a Path object vs. just a string representation of the path.  The actual string representation is the same but the variable type is a pathlib.PosixPath or pathlib.WindowsPath. The fact that the path is an object means we can do a lot of useful actions on the object. It’s also interesting that the path object “knows” it is on a Linux system (aka Posix) and internally represents it that way without the programmer having to tell it. The benefit is that the code will run the same on a Windows machine and that the underlying library will take care of (m)any Windows eccentricities.\n"
   ]
  },
  {
   "cell_type": "code",
   "execution_count": 239,
   "metadata": {},
   "outputs": [],
   "source": [
    "import pandas as pd\n",
    "from pathlib import Path\n",
    "from datetime import datetime\n",
    "import os\n",
    "import time"
   ]
  },
  {
   "cell_type": "markdown",
   "metadata": {},
   "source": [
    "Independently of the operating system you are using, paths are represented in Posix style, with the forward slash as the path separator. On Windows, you will see something like the following.  Still, when a path is converted to a string, it will use the native form, for instance with backslashes on Windows:"
   ]
  },
  {
   "cell_type": "code",
   "execution_count": 240,
   "metadata": {},
   "outputs": [
    {
     "data": {
      "text/plain": [
       "WindowsPath('V:/work/WorkN/ComputationalRadiometry')"
      ]
     },
     "execution_count": 240,
     "metadata": {},
     "output_type": "execute_result"
    }
   ],
   "source": [
    "Path.cwd()"
   ]
  },
  {
   "cell_type": "code",
   "execution_count": 241,
   "metadata": {},
   "outputs": [
    {
     "data": {
      "text/plain": [
       "'V:\\\\work\\\\WorkN\\\\ComputationalRadiometry'"
      ]
     },
     "execution_count": 241,
     "metadata": {},
     "output_type": "execute_result"
    }
   ],
   "source": [
    "str(Path.cwd())"
   ]
  },
  {
   "cell_type": "markdown",
   "metadata": {},
   "source": [
    "Possibly the most unusual part of the pathlib library is the use of the / operator. For a little peek under the hood, let us see how that is implemented. This is an example of operator overloading: the behavior of an operator is changed depending on the context.  Python implements operator overloading through the use of double underscore methods (a.k.a. dunder methods).\n",
    "\n",
    "The / operator is defined by the .__truediv__() method. If you take a look at the source code of pathlib, you’ll see something like:\n",
    "\n",
    "    class PurePath(object):\n",
    "\n",
    "        def __truediv__(self, key):\n",
    "            return self._make_child((key,))"
   ]
  },
  {
   "cell_type": "code",
   "execution_count": 242,
   "metadata": {},
   "outputs": [
    {
     "name": "stdout",
     "output_type": "stream",
     "text": [
      "V:\\work\\WorkN\\ComputationalRadiometry\n",
      "2019-07-04 10:46:05.026410\n",
      "V:\\work\\WorkN\\ComputationalRadiometry\\data\\raw\\Sales-History.csv\n",
      "V:\\work\\WorkN\\ComputationalRadiometry\\data\\raw\\pipeline_data.xlsx\n",
      "V:\\work\\WorkN\\ComputationalRadiometry\\data\\processed\\summary_Jul-04-2019.pkl\n",
      "V:\\work\\WorkN\\ComputationalRadiometry\\in\\input.xlsx\n",
      "<class 'pathlib.WindowsPath'>\n",
      "C:\\Users\\NWillers\\python\\scripts\\test.py\n"
     ]
    }
   ],
   "source": [
    "\n",
    "\n",
    "today = datetime.today()\n",
    "sales_file = Path.cwd() / \"data\" / \"raw\" / \"Sales-History.csv\"\n",
    "pipeline_file = Path.cwd() / \"data\" / \"raw\" / \"pipeline_data.xlsx\"\n",
    "summary_file = Path.cwd() / \"data\" / \"processed\" / f\"summary_{today:%b-%d-%Y}.pkl\"\n",
    "\n",
    "parts = [\"in\", \"input.xlsx\"]\n",
    "in_file_3 = Path.cwd().joinpath(*parts)\n",
    "\n",
    "print( Path.cwd())\n",
    "print(today)\n",
    "print(sales_file)\n",
    "print(pipeline_file)\n",
    "print(summary_file)\n",
    "print(in_file_3)\n",
    "\n",
    "print(type(in_file_3))\n",
    "print(Path.home().joinpath('python', 'scripts', 'test.py'))"
   ]
  },
  {
   "cell_type": "code",
   "execution_count": 243,
   "metadata": {},
   "outputs": [
    {
     "name": "stdout",
     "output_type": "stream",
     "text": [
      "True\n",
      "False\n",
      "('V:\\\\', 'work', 'WorkN', 'ComputationalRadiometry')\n",
      "<bound method Path.absolute of WindowsPath('V:/work/WorkN/ComputationalRadiometry')>\n",
      "V:\\\n",
      "file:///V:/work/WorkN/ComputationalRadiometry\n",
      "V:\\work\\WorkN\n",
      "ComputationalRadiometry\n"
     ]
    }
   ],
   "source": [
    "cwd = os.getcwd()\n",
    "p = Path(cwd)\n",
    "print(p.is_dir())\n",
    "print(p.is_file())\n",
    "print(p.parts)\n",
    "print(p.absolute)\n",
    "print(p.anchor)\n",
    "print(p.as_uri())\n",
    "print(p.parent)\n",
    "print(p.name)"
   ]
  },
  {
   "cell_type": "markdown",
   "metadata": {},
   "source": [
    "Note that `.parent` returns a new Path object, whereas the other properties return strings. This means for instance that `.parent` can be chained as in the last example or even combined with / to create completely new paths. `.parent.parent` work back one more parent level."
   ]
  },
  {
   "cell_type": "code",
   "execution_count": 244,
   "metadata": {},
   "outputs": [
    {
     "name": "stdout",
     "output_type": "stream",
     "text": [
      "V:\\work\\WorkN\\ComputationalRadiometry\\README.md\n",
      "README.md\n",
      "V:\\work\\WorkN\\ComputationalRadiometry\n",
      "README\n",
      ".md\n",
      "V:\\\n",
      "V:\\work\\WorkN\\mynewname.md\n"
     ]
    }
   ],
   "source": [
    "p = Path(cwd) / 'README.md'\n",
    "print(p)\n",
    "print(p.name)\n",
    "print(p.parent)\n",
    "print(p.stem)\n",
    "print(p.suffix)\n",
    "print(p.anchor)\n",
    "print(p.parent.parent / ('mynewname' + p.suffix))"
   ]
  },
  {
   "cell_type": "markdown",
   "metadata": {},
   "source": [
    "Walking directories is not quite possible in pathlib, but glob may help a little.\n",
    "\n",
    "If you want to recursively walk through all directories, use the `**/` glob syntax. `rglob` returns a list of all the filenames as Path objects.  The `[!*]` syntax can be used to exclude portions of a file.  \n",
    "\n",
    "The  `p.rglob('./data/**/*.[!png;!txt!ltn]*')`  call returns Path objects in all sub directories below data, but excludes the files with the extensions shown.\n",
    "\n",
    "glob and rglob are limited in the sense that these functions cannot support multiple file types.\n",
    "\n",
    "Note that `rglob` and `glob` returns a generator that can be made into a list (if necessary) by   \n",
    "`list(p.glob('./*.md'))`"
   ]
  },
  {
   "cell_type": "code",
   "execution_count": 245,
   "metadata": {},
   "outputs": [
    {
     "name": "stdout",
     "output_type": "stream",
     "text": [
      "<class 'list'>\n"
     ]
    }
   ],
   "source": [
    "p.rglob('./data/**/*.[!png;!txt!ltn]*')\n",
    "print(list)"
   ]
  },
  {
   "cell_type": "code",
   "execution_count": 246,
   "metadata": {},
   "outputs": [
    {
     "name": "stdout",
     "output_type": "stream",
     "text": [
      "<class 'generator'>\n",
      "cmd-window-here.reg\n",
      " \n",
      "[WindowsPath('V:/work/WorkN/ComputationalRadiometry/cmd-here/cmd-window-here.reg')]\n",
      "\n",
      "[WindowsPath('V:/work/WorkN/ComputationalRadiometry/data/test.csv'), WindowsPath('V:/work/WorkN/ComputationalRadiometry/data/test.db3'), WindowsPath('V:/work/WorkN/ComputationalRadiometry/data/well-fill/radio-MWIR Sensor-SensorA-gen.hdf5'), WindowsPath('V:/work/WorkN/ComputationalRadiometry/data/well-fill/MLS23km/modin.ontplt'), WindowsPath('V:/work/WorkN/ComputationalRadiometry/data/well-fill/SW31km/modin.ontplt'), WindowsPath('V:/work/WorkN/ComputationalRadiometry/data/well-fill/SW31km/SW31kmMaritimePrad.ontplt')]\n",
      "\n"
     ]
    }
   ],
   "source": [
    "p = Path(cwd)\n",
    "print(type(p.glob('**/cmd-here/*.*')))\n",
    "\n",
    "for i in p.glob('**/cmd-here/*.*'):\n",
    "    print(i.name)\n",
    "print(' ')\n",
    "print(list(p.rglob('./cmd-here/*.*')),end='\\n\\n')\n",
    "print(list(p.rglob('./data/**/*.[!png;!txt!ltn]*')),end='\\n\\n')\n"
   ]
  },
  {
   "cell_type": "markdown",
   "metadata": {},
   "source": [
    "The following code collects all filenames in a dir and sub dirs and write the details to a data frame\n"
   ]
  },
  {
   "cell_type": "code",
   "execution_count": 247,
   "metadata": {},
   "outputs": [
    {
     "data": {
      "text/html": [
       "<table border=\"1\" class=\"dataframe\">\n",
       "  <thead>\n",
       "    <tr style=\"text-align: right;\">\n",
       "      <th></th>\n",
       "      <th>File_Name</th>\n",
       "      <th>Parent</th>\n",
       "      <th>Created</th>\n",
       "    </tr>\n",
       "  </thead>\n",
       "  <tbody>\n",
       "    <tr>\n",
       "      <th>0</th>\n",
       "      <td>.gitignore</td>\n",
       "      <td>V:\\work\\WorkN\\ComputationalRadiometry\\data</td>\n",
       "      <td>Wed Oct 19 10:16:27 2016</td>\n",
       "    </tr>\n",
       "    <tr>\n",
       "      <th>1</th>\n",
       "      <td>09d-narcsissus.xlsx</td>\n",
       "      <td>V:\\work\\WorkN\\ComputationalRadiometry\\data</td>\n",
       "      <td>Sun Oct 23 11:32:19 2016</td>\n",
       "    </tr>\n",
       "    <tr>\n",
       "      <th>2</th>\n",
       "      <td>emis-800K-MWIR.txt</td>\n",
       "      <td>V:\\work\\WorkN\\ComputationalRadiometry\\data</td>\n",
       "      <td>Wed Oct 19 10:16:27 2016</td>\n",
       "    </tr>\n",
       "    <tr>\n",
       "      <th>3</th>\n",
       "      <td>emis-MWIR-300K.png</td>\n",
       "      <td>V:\\work\\WorkN\\ComputationalRadiometry\\data</td>\n",
       "      <td>Wed Oct 19 10:16:27 2016</td>\n",
       "    </tr>\n",
       "    <tr>\n",
       "      <th>4</th>\n",
       "      <td>emis-MWIR-800K.png</td>\n",
       "      <td>V:\\work\\WorkN\\ComputationalRadiometry\\data</td>\n",
       "      <td>Wed Oct 19 10:16:27 2016</td>\n",
       "    </tr>\n",
       "  </tbody>\n",
       "</table>"
      ],
      "text/plain": [
       "<IPython.core.display.HTML object>"
      ]
     },
     "metadata": {},
     "output_type": "display_data"
    },
    {
     "data": {
      "text/html": [
       "<table border=\"1\" class=\"dataframe\">\n",
       "  <thead>\n",
       "    <tr style=\"text-align: right;\">\n",
       "      <th></th>\n",
       "      <th>File_Name</th>\n",
       "      <th>Parent</th>\n",
       "      <th>Created</th>\n",
       "    </tr>\n",
       "  </thead>\n",
       "  <tbody>\n",
       "    <tr>\n",
       "      <th>56</th>\n",
       "      <td>modin</td>\n",
       "      <td>V:\\work\\WorkN\\ComputationalRadiometry\\data\\wel...</td>\n",
       "      <td>Wed Oct 19 10:16:27 2016</td>\n",
       "    </tr>\n",
       "    <tr>\n",
       "      <th>57</th>\n",
       "      <td>tape5</td>\n",
       "      <td>V:\\work\\WorkN\\ComputationalRadiometry\\data\\wel...</td>\n",
       "      <td>Wed Oct 19 10:16:27 2016</td>\n",
       "    </tr>\n",
       "    <tr>\n",
       "      <th>58</th>\n",
       "      <td>tape6</td>\n",
       "      <td>V:\\work\\WorkN\\ComputationalRadiometry\\data\\wel...</td>\n",
       "      <td>Wed Oct 19 10:16:27 2016</td>\n",
       "    </tr>\n",
       "    <tr>\n",
       "      <th>59</th>\n",
       "      <td>tape7</td>\n",
       "      <td>V:\\work\\WorkN\\ComputationalRadiometry\\data\\wel...</td>\n",
       "      <td>Wed Oct 19 10:16:27 2016</td>\n",
       "    </tr>\n",
       "    <tr>\n",
       "      <th>60</th>\n",
       "      <td>trop5kmUrbantauPrad.ltn</td>\n",
       "      <td>V:\\work\\WorkN\\ComputationalRadiometry\\data\\wel...</td>\n",
       "      <td>Wed Oct 19 10:16:27 2016</td>\n",
       "    </tr>\n",
       "  </tbody>\n",
       "</table>"
      ],
      "text/plain": [
       "<IPython.core.display.HTML object>"
      ]
     },
     "metadata": {},
     "output_type": "display_data"
    }
   ],
   "source": [
    "p = Path(cwd)\n",
    "pstr = './data/**/*'\n",
    "all_files = []\n",
    "for i in p.rglob(pstr):\n",
    "    all_files.append((i.name, i.parent, time.ctime(i.stat().st_ctime)))\n",
    "\n",
    "columns = [\"File_Name\", \"Parent\", \"Created\"]\n",
    "df = pd.DataFrame.from_records(all_files, columns=columns)\n",
    "\n",
    "display(HTML(df.head().to_html()))\n",
    "display(HTML(df.tail().to_html()))"
   ]
  },
  {
   "cell_type": "markdown",
   "metadata": {},
   "source": [
    "The next example defines a function, `tree()`, that will print a visual tree representing the file hierarchy, rooted at a given directory. Here, we want to list subdirectories as well, so we use the `.rglob()` method.\n",
    "Note that we need to know how far away from the root directory a file is located. To do this, we first use `.relative_to()` to represent a path relative to the root directory. Then, we count the number of directories (using the `.parts` property) in the representation. When run, this function creates a visual tree"
   ]
  },
  {
   "cell_type": "code",
   "execution_count": 248,
   "metadata": {},
   "outputs": [
    {
     "name": "stdout",
     "output_type": "stream",
     "text": [
      "+ V:\\work\\WorkN\\ComputationalRadiometry\\data\n",
      "    + .gitignore\n",
      "    + 09d-narcsissus.xlsx\n",
      "    + emis-800K-MWIR.txt\n",
      "    + emis-MWIR-300K.png\n",
      "    + emis-MWIR-800K.png\n",
      "    + FOV-optimisation-parameters.xlsx\n",
      "    + InSb.txt\n",
      "    + mask00.png\n",
      "    + mask01.png\n",
      "    + mirrorerror.npz\n",
      "    + path100\n",
      "        + modin\n",
      "        + tape5\n",
      "        + tape6\n",
      "        + tape7\n",
      "    + path1000\n",
      "        + modin\n",
      "        + tape5\n",
      "        + tape6\n",
      "        + tape7\n",
      "    + path10000\n",
      "        + modin\n",
      "        + tape5\n",
      "        + tape6\n",
      "        + tape7\n",
      "    + plume-015a.PNG\n",
      "    + plume-015b.PNG\n",
      "    + plume-032.PNG\n",
      "    + plume-060.PNG\n",
      "    + plume-116.PNG\n",
      "    + plume-171.PNG\n",
      "    + plume-282.PNG\n",
      "    + plume-394a.PNG\n",
      "    + plume-394b.PNG\n",
      "    + test.csv\n",
      "    + test.db3\n",
      "    + unity3_5.txt\n",
      "    + well-fill\n",
      "        + MLS23km\n",
      "            + MLS23kmUrbantauPrad.ltn\n",
      "            + modin\n",
      "            + modin.ontplt\n",
      "            + tape5\n",
      "            + tape6\n",
      "            + tape7\n",
      "        + radio-MWIR Sensor-SensorA-gen.hdf5\n",
      "        + sensor-definitions.xlsx\n",
      "        + SW31km\n",
      "            + modin\n",
      "            + modin.ontplt\n",
      "            + SW31kmMaritimePrad.ltn\n",
      "            + SW31kmMaritimePrad.ontplt\n",
      "            + tape5\n",
      "            + tape6\n",
      "            + tape7\n",
      "        + tropical5km\n",
      "            + modin\n",
      "            + tape5\n",
      "            + tape6\n",
      "            + tape7\n",
      "            + trop5kmUrbantauPrad.ltn\n"
     ]
    }
   ],
   "source": [
    "def tree(directory):\n",
    "    print(f'+ {directory}')\n",
    "    for path in sorted(directory.rglob('*')):\n",
    "        depth = len(path.relative_to(directory).parts)\n",
    "        spacer = '    ' * depth\n",
    "        print(f'{spacer}+ {path.name}')\n",
    "        \n",
    "tree(Path.cwd() / 'data')"
   ]
  },
  {
   "cell_type": "markdown",
   "metadata": {},
   "source": [
    "Opening files. For example, print the headers in the first markdown file in the current directory.\n",
    "\n",
    "Note that `list(Path(cwd).glob('./*.md'))[0]` comprises the following: `glob` returns a generator to paths, which must be made to generate a list, of which the `0` element is used.\n",
    "\n",
    "When opening the file, the name is already present in `p`."
   ]
  },
  {
   "cell_type": "code",
   "execution_count": 249,
   "metadata": {},
   "outputs": [
    {
     "name": "stdout",
     "output_type": "stream",
     "text": [
      "<class 'pathlib.WindowsPath'>\n",
      "### Computational Optical Radiometry with pyradi\n"
     ]
    }
   ],
   "source": [
    "p = list(Path(cwd).rglob('./*.md'))[0] \n",
    "print(type(p))\n",
    "with p.open(mode='r') as fid:\n",
    "    headers = [line.strip() for line in fid if line.startswith('#')]\n",
    "print('\\n'.join(headers))"
   ]
  },
  {
   "cell_type": "markdown",
   "metadata": {},
   "source": [
    "There are a few different ways to list many files. The simplest is the `.iterdir()` method, which iterates over all files in the given directory. The following example combines `.iterdir()` with the `collections.Counter` class to count how many files there are of each filetype in the current directory.  This code does not recurse into lower level folders, nor is is very accurate with files or folders without extensions:  `.git` and `.gitignore` seem to be counted as  file/folder with no extension/suffix."
   ]
  },
  {
   "cell_type": "code",
   "execution_count": 250,
   "metadata": {},
   "outputs": [
    {
     "data": {
      "text/plain": [
       "Counter({'': 22,\n",
       " '.ipynb': 28,\n",
       " '.log': 3,\n",
       " '.cls': 2,\n",
       " '.pcl': 1,\n",
       " '.txt': 14,\n",
       " '.bin': 1,\n",
       " '.tar': 3,\n",
       " '.tgz': 3,\n",
       " '.png': 2,\n",
       " '.py': 5,\n",
       " '.fl7': 2,\n",
       " '.xlsx': 1,\n",
       " '.md': 1,\n",
       " '.npz': 1})"
      ]
     },
     "execution_count": 250,
     "metadata": {},
     "output_type": "execute_result"
    }
   ],
   "source": [
    "import collections\n",
    "collections.Counter(p.suffix for p in Path.cwd().iterdir())"
   ]
  },
  {
   "cell_type": "code",
   "execution_count": 251,
   "metadata": {},
   "outputs": [
    {
     "data": {
      "text/plain": [
       "Counter({'': 2})"
      ]
     },
     "execution_count": 251,
     "metadata": {},
     "output_type": "execute_result"
    }
   ],
   "source": [
    "collections.Counter(p.suffix for p in Path.cwd().iterdir() if 'git' in p.name)"
   ]
  },
  {
   "cell_type": "code",
   "execution_count": 252,
   "metadata": {},
   "outputs": [
    {
     "data": {
      "text/plain": [
       "Counter({'': 1})"
      ]
     },
     "execution_count": 252,
     "metadata": {},
     "output_type": "execute_result"
    }
   ],
   "source": [
    "collections.Counter(p.suffix for p in Path.cwd().iterdir() if 'ipynb_checkpoints' in p.name)"
   ]
  },
  {
   "cell_type": "markdown",
   "metadata": {},
   "source": [
    "To find the file in a directory that was last modified, you can use the .stat() method to get information about the underlying files. For instance, .stat().st_mtime gives the time of last modification of a file:"
   ]
  },
  {
   "cell_type": "code",
   "execution_count": 253,
   "metadata": {},
   "outputs": [
    {
     "name": "stdout",
     "output_type": "stream",
     "text": [
      "V:\\work\\WorkN\\ComputationalRadiometry\n",
      "2019-07-04 10:46:04.844410 V:\\work\\WorkN\\ComputationalRadiometry\\b.log\n"
     ]
    }
   ],
   "source": [
    "from datetime import datetime\n",
    "directory = Path.cwd()\n",
    "print(directory)\n",
    "time, file_path = max((f.stat().st_mtime, f) for f in directory.iterdir())\n",
    "print(datetime.fromtimestamp(time), file_path)"
   ]
  },
  {
   "cell_type": "markdown",
   "metadata": {},
   "source": [
    "You can even get the contents of the file that was last modified with a similar expression. Here we test for all `.txt` files and print the first ten lines of the most recently changed `.txt` file. "
   ]
  },
  {
   "cell_type": "code",
   "execution_count": 254,
   "metadata": {},
   "outputs": [
    {
     "name": "stdout",
     "output_type": "stream",
     "text": [
      "(1559563198.936, WindowsPath('V:/work/WorkN/ComputationalRadiometry/test.txt'))\n",
      "['This is a test file!', 'It can contain anything I want...', '', '', 'more...', '']\n"
     ]
    }
   ],
   "source": [
    "directory = Path.cwd()\n",
    "filetuple = max((f.stat().st_mtime, f) for f in directory.iterdir() if '.txt' in f.name)\n",
    "\n",
    "print(filetuple)\n",
    "print(filetuple[1].read_text().split('\\n')[:10])"
   ]
  },
  {
   "cell_type": "markdown",
   "metadata": {},
   "source": [
    "This example shows how to construct a unique numbered file name based on a template. First, specify a pattern for the file name, with room for a counter. Then, check the existence of the file path created by joining a directory and the file name (with a value for the counter). If it already exists, increase the counter and try again"
   ]
  },
  {
   "cell_type": "code",
   "execution_count": 255,
   "metadata": {},
   "outputs": [
    {
     "name": "stdout",
     "output_type": "stream",
     "text": [
      "V:\\work\\WorkN\\ComputationalRadiometry\\test001.txt\n"
     ]
    }
   ],
   "source": [
    "def unique_path(directory, name_pattern):\n",
    "    counter = 0\n",
    "    while True:\n",
    "        counter += 1\n",
    "        path = directory / name_pattern.format(counter)\n",
    "        if not path.exists():\n",
    "            return path\n",
    "\n",
    "path = unique_path(Path.cwd(), 'test{:03d}.txt')\n",
    "print(path)\n",
    "with path.open('w') as fout:\n",
    "    fout.write('This is a test file\\n')\n",
    "    fout.write('Line 2\\n')\n",
    "    "
   ]
  },
  {
   "cell_type": "markdown",
   "metadata": {},
   "source": [
    "** Moving and deleting files **\n",
    "\n",
    "Through pathlib, you also have access to basic file system level operations like moving, updating, and even deleting files. For the most part, these methods do not give a warning or wait for confirmation before information or files are lost. Be careful when using these methods.\n",
    "\n",
    "To move a file, use `.replace()`. Note that if the destination already exists, `.replace()` will overwrite it. To avoid possibly overwriting the destination path, the simplest is to test whether the destination exists before replacing:\n",
    "\n",
    "    if not destination.exists():\n",
    "        source.replace(destination)\n",
    "\n",
    "Directories and files can be deleted using `.rmdir()` and `.unlink()` respectively. \n",
    "\n",
    "When you are renaming files, useful methods might be `.with_name()` and `.with_suffix()`. They both return the original path but with the name or the suffix replaced, respectively.  Then call the `.replace()` method\n"
   ]
  },
  {
   "cell_type": "code",
   "execution_count": 256,
   "metadata": {},
   "outputs": [
    {
     "name": "stdout",
     "output_type": "stream",
     "text": [
      "V:\\work\\WorkN\\ComputationalRadiometry\\test001.txt\n",
      "executing .replace()\n"
     ]
    }
   ],
   "source": [
    "path = Path.cwd() / 'test001.txt'\n",
    "print(path)\n",
    "if path.exists():\n",
    "    print('executing .replace()')\n",
    "    path.replace(path.with_suffix('.py'))\n",
    "else:\n",
    "    print(f'{path} does not exist')\n",
    "    "
   ]
  },
  {
   "cell_type": "code",
   "execution_count": null,
   "metadata": {},
   "outputs": [],
   "source": []
  },
  {
   "cell_type": "markdown",
   "metadata": {
    "run_control": {
     "frozen": false,
     "read_only": false
    }
   },
   "source": [
    "## Python Classes"
   ]
  },
  {
   "cell_type": "markdown",
   "metadata": {
    "run_control": {
     "frozen": false,
     "read_only": false
    }
   },
   "source": [
    "Not presently covered here. Please google."
   ]
  },
  {
   "cell_type": "markdown",
   "metadata": {
    "run_control": {
     "frozen": false,
     "read_only": false
    }
   },
   "source": [
    "## Function Objects and Operator Overloading"
   ]
  },
  {
   "cell_type": "markdown",
   "metadata": {
    "run_control": {
     "frozen": false,
     "read_only": false
    }
   },
   "source": [
    "From [wikipedia](https://en.wikipedia.org/wiki/Function_object#In_Python): In Python, functions are first-class objects, just like strings, numbers, lists etc. This feature eliminates the need to write a function object in many cases. Any object with a __call__() method can be called using function-call syntax. An example is this accumulator class (based on Paul Graham's study on programming language syntax and clarity):"
   ]
  },
  {
   "cell_type": "code",
   "execution_count": 257,
   "metadata": {
    "collapsed": true,
    "jupyter": {
     "outputs_hidden": true
    },
    "run_control": {
     "frozen": false,
     "read_only": false
    }
   },
   "outputs": [],
   "source": [
    "class Accumulator(object):\n",
    "    def __init__(self, n):\n",
    "        self.n = n\n",
    "\n",
    "    def __call__(self, x):\n",
    "        self.n += x\n",
    "        return self.n"
   ]
  },
  {
   "cell_type": "code",
   "execution_count": 258,
   "metadata": {
    "run_control": {
     "frozen": false,
     "read_only": false
    }
   },
   "outputs": [
    {
     "name": "stdout",
     "output_type": "stream",
     "text": [
      "7\n",
      "9\n"
     ]
    }
   ],
   "source": [
    "a = Accumulator(4)\n",
    "print(a(3))\n",
    "print(a(2))"
   ]
  },
  {
   "cell_type": "markdown",
   "metadata": {
    "run_control": {
     "frozen": false,
     "read_only": false
    }
   },
   "source": [
    "From <http://www.programiz.com/python-programming/operator-overloading>: Class functions that begins with double underscore (\\_\\_) are called special functions in Python. To overload the + sign, we will need to implement \\_\\_add\\_\\_() function in the class.  What actually happens is that, when you do p1 + p2, Python will call p1.\\_\\_add\\_\\_(p2) which in turn is Point.\\_\\_add\\_\\_(p1,p2).   The reference gives a complete list of operators that can be overloaded, including: Addition + `__add__`, \n",
    "Subtraction - `__sub__`, \n",
    "Multiplication \\* `__mul__`, \n",
    "Power \\*\\* `__pow__`, \n",
    "Division / `__truediv__`, \n",
    "Floor Division // `__floordiv__`, \n",
    "Remainder  (modulo) % `__mod__`, \n",
    "Bitwise Left Shift << `__lshift__`, \n",
    "Bitwise Right Shift >> `__rshift__`, \n",
    "Bitwise AND & `__and__`, \n",
    "Bitwise OR | `__or__`, \n",
    "Bitwise XOR ^ `__xor__`, and \n",
    "Bitwise NOT ~ `__invert__`.\n",
    "\n",
    "Python does not limit operator overloading to arithmetic operators only. We can overload comparison operators as well.  Comparison operators that can be overloaded include:\n",
    "Less than <  `__lt__`,\n",
    "Less than or equal to\t<= `__le__`,\n",
    "Equal to ==  `__eq__`, \n",
    "Not equal to !=  `__ne__`, \n",
    "Greater than > `__gt__`, and  \n",
    "Greater than or equal to >= `__ge__` "
   ]
  },
  {
   "cell_type": "code",
   "execution_count": 259,
   "metadata": {
    "collapsed": true,
    "jupyter": {
     "outputs_hidden": true
    },
    "run_control": {
     "frozen": false,
     "read_only": false
    }
   },
   "outputs": [],
   "source": [
    "class Point:\n",
    "    def __init__(self,x = 0,y = 0):\n",
    "        self.x = x\n",
    "        self.y = y\n",
    "        \n",
    "    def __str__(self):\n",
    "        return \"({0},{1})\".format(self.x,self.y)\n",
    "    \n",
    "    def __lt__(self,other):\n",
    "        self_mag = (self.x ** 2) + (self.y ** 2)\n",
    "        other_mag = (other.x ** 2) + (other.y ** 2)\n",
    "        return self_mag < other_mag\n",
    "    \n",
    "    def __add__(self,other):\n",
    "        x = self.x + other.x\n",
    "        y = self.y + other.y\n",
    "        return Point(x,y)"
   ]
  },
  {
   "cell_type": "code",
   "execution_count": 260,
   "metadata": {
    "run_control": {
     "frozen": false,
     "read_only": false
    }
   },
   "outputs": [
    {
     "name": "stdout",
     "output_type": "stream",
     "text": [
      "(1,5)\n",
      "True\n"
     ]
    }
   ],
   "source": [
    "p1 = Point(2,3)\n",
    "p2 = Point(-1,2)\n",
    "print(p1 + p2)\n",
    "print(Point(1,1) < Point(-2,-3))"
   ]
  },
  {
   "cell_type": "markdown",
   "metadata": {
    "run_control": {
     "frozen": false,
     "read_only": false
    }
   },
   "source": [
    "From here <https://newcircle.com/bookshelf/python_fundamentals_tutorial/functional_programming>:  Functions are first-class objects in Python, meaning they have attributes and can be referenced and assigned to variables.   Python also supports higher-order functions, meaning that functions can accept other functions as arguments and return functions to the caller."
   ]
  },
  {
   "cell_type": "code",
   "execution_count": 261,
   "metadata": {
    "run_control": {
     "frozen": false,
     "read_only": false
    }
   },
   "outputs": [
    {
     "name": "stdout",
     "output_type": "stream",
     "text": [
      "1\n",
      "2\n",
      "<function i_am_an_object at 0x0000000013663598>\n",
      "<function i_am_an_object at 0x0000000013663598>\n",
      "I am a really nice function.\n",
      "        Please be my friend.\n",
      "<function i_am_an_object at 0x0000000013663598>\n"
     ]
    }
   ],
   "source": [
    "def i_am_an_object(myarg):\n",
    "     '''I am a really nice function.\n",
    "        Please be my friend.'''\n",
    "     return myarg\n",
    "\n",
    "an_object_by_any_other_name = i_am_an_object\n",
    "\n",
    "print(i_am_an_object(1))\n",
    "print(an_object_by_any_other_name(2))\n",
    "print(i_am_an_object)\n",
    "print(an_object_by_any_other_name)\n",
    "print(i_am_an_object.__doc__)\n",
    "print(i_am_an_object(i_am_an_object))\n"
   ]
  },
  {
   "cell_type": "markdown",
   "metadata": {
    "run_control": {
     "frozen": false,
     "read_only": false
    }
   },
   "source": [
    "From here <https://newcircle.com/bookshelf/python_fundamentals_tutorial/functional_programming>:  \n",
    "In order to define non-default sorting in Python, both the sorted() function and the list’s .sort() method accept a key argument. The value passed to this argument needs to be a function object that returns the sorting key for any item in the list or iterable. For example, given a list of tuples, Python will sort by default on the first value in each tuple. In order to sort on a different element from each tuple, a function can be passed that returns that element.        "
   ]
  },
  {
   "cell_type": "code",
   "execution_count": 262,
   "metadata": {
    "run_control": {
     "frozen": false,
     "read_only": false
    }
   },
   "outputs": [
    {
     "name": "stdout",
     "output_type": "stream",
     "text": [
      "[('Bass', 'John Paul'), ('Drums', 'John'), ('Guitar', 'Jimmy'), ('Vocals', 'Robert')]\n",
      "[('Guitar', 'Jimmy'), ('Drums', 'John'), ('Bass', 'John Paul'), ('Vocals', 'Robert')]\n"
     ]
    }
   ],
   "source": [
    "def second_element(t):\n",
    "    return t[1]\n",
    "\n",
    "zepp = [('Guitar', 'Jimmy'), ('Vocals', 'Robert'), ('Bass', 'John Paul'), ('Drums', 'John')]\n",
    "print(sorted(zepp))\n",
    "print(sorted(zepp, key=second_element))\n"
   ]
  },
  {
   "cell_type": "markdown",
   "metadata": {
    "run_control": {
     "frozen": false,
     "read_only": false
    }
   },
   "source": [
    "See also here:   \n",
    "<https://www.ics.uci.edu/~pattis/ICS-33/lectures/operatoroverloading1.txt>  \n",
    "<https://docs.python.org/2/c-api/function.html>  \n",
    "<http://python-3-patterns-idioms-test.readthedocs.io/en/latest/FunctionObjects.html>  \n",
    "<https://newcircle.com/bookshelf/python_fundamentals_tutorial/functional_programming>         "
   ]
  },
  {
   "cell_type": "markdown",
   "metadata": {
    "run_control": {
     "frozen": false,
     "read_only": false
    }
   },
   "source": [
    "## Building function parameters as a **kwargs dictionary"
   ]
  },
  {
   "cell_type": "markdown",
   "metadata": {
    "run_control": {
     "frozen": false,
     "read_only": false
    }
   },
   "source": [
    "Requirement: \n",
    "\n",
    "- send  function `fnpassed` as parameter to function `fncall`\n",
    "- send the parameters to the passed to `fnpassed` also as parameters to `fncall`\n",
    "- make it possible to add new `fnpassed`-parameters inside `fncall` before `fnpassed` is called.\n",
    "\n",
    "We want this to have a calling function `fncall` that can call some other function `fnpassed` with a user-supplied list of parameters, but also adding some more parameters in `fncall`.  In other words, the execution of `fnpassed` must be with parameters passed to `fncall` from outside, plus new parameters added inside `fncall`.\n",
    "\n",
    "In the code below the function `testfn` must be executed with four parameters, three of which (1,2,3) are passed as `tryy` parameters , with the fourth (10) added within `fncall`, because the fourth is only available from within `fncall` (not beforehand).\n",
    "\n",
    "The parameters passed to a function can be built up a dictionary and **.  ** is not an operator, so it doesn't really have a name, but it is defined as a \"syntactic rule\". So it should be called: \"the keyword argument unpacking syntax\". It unpacks a dictionary into a function parameter list.\n",
    "\n",
    "So we can build up the dictionary in different places with new information and when complete, present this to the function using the **** unpacking.\n",
    "\n",
    "\n",
    "https://pythontips.com/2013/08/04/args-and-kwargs-in-python-explained/  \n",
    "http://softwareengineering.stackexchange.com/questions/131403/what-is-the-name-of-in-python/131415  \n",
    "http://stackoverflow.com/questions/36901/what-does-double-star-and-star-do-for-parameters  \n",
    "http://stackoverflow.com/questions/1769403/understanding-kwargs-in-python\n"
   ]
  },
  {
   "cell_type": "code",
   "execution_count": 263,
   "metadata": {
    "run_control": {
     "frozen": false,
     "read_only": false
    }
   },
   "outputs": [
    {
     "name": "stdout",
     "output_type": "stream",
     "text": [
      "Building up kwargs: {'a': 1, 'b': 2, 'c': 3, 'd': 10.0}\n",
      "\n",
      "Return value = 0.5, using input values (1, 2, 3, 10.0)\n"
     ]
    }
   ],
   "source": [
    "import numpy as np\n",
    "\n",
    "def fnpassed(a,b,c,d):\n",
    "    # also return the input parameters as a tuple\n",
    "    return (a * b + c) / d, (a,b,c,d)\n",
    "\n",
    "\n",
    "def fncall(fn,kwargs):\n",
    "    # add the fourth parameter\n",
    "    kwargs['d'] = 10.\n",
    "    print('Building up kwargs: {}\\n'.format(kwargs))\n",
    "    aa = fn(**kwargs)\n",
    "    return aa\n",
    "\n",
    "\n",
    "rtnval,inpval = fncall(fnpassed,kwargs={'a':1,'b':2,'c':3})\n",
    "print('Return value = {}, using input values {}'.format(rtnval,inpval))"
   ]
  },
  {
   "cell_type": "markdown",
   "metadata": {
    "run_control": {
     "frozen": false,
     "read_only": false
    }
   },
   "source": [
    "## Inspect"
   ]
  },
  {
   "cell_type": "markdown",
   "metadata": {
    "run_control": {
     "frozen": false,
     "read_only": false
    }
   },
   "source": [
    "The inspect module provides several useful functions to help get information about live objects such as modules, classes, methods, functions, tracebacks, frame objects, and code objects. For example, it can help you examine the contents of a class, retrieve the source code of a method, extract and format the argument list for a function, or get all the information you need to display a detailed traceback.\n",
    "\n",
    "You need to import the module file or create an instance of a class to be able to use inspect.\n",
    "\n",
    "The getmembers() function retrieves the members of an object such as a class or module. The sixteen functions whose names begin with `is` are mainly provided as convenient choices for the second argument to getmembers().\n",
    "\n",
    "\n",
    "https://docs.python.org/2/library/inspect.html  \n",
    "https://stackoverflow.com/questions/12994366/using-inspect-getmembers  \n",
    "https://stackoverflow.com/questions/33204160/listing-all-class-members-with-python-inspect-module"
   ]
  },
  {
   "cell_type": "code",
   "execution_count": 264,
   "metadata": {
    "run_control": {
     "frozen": false,
     "read_only": false
    }
   },
   "outputs": [
    {
     "name": "stdout",
     "output_type": "stream",
     "text": [
      "'analyse_HDF5_image', 'analyse_HDF5_imageFile', 'assigncheck', 'calcLuxEquivalent', 'calcTemperatureEquivalent', 'create_HDF5_image', 'hdf_Raw', 'hdf_Uniform', 'hdf_disk_photon', 'hdf_stairs', \n"
     ]
    }
   ],
   "source": [
    "##\n",
    "# get a list of all functions in a module file\n",
    "\n",
    "import inspect\n",
    "\n",
    "#import the module you want to inspect\n",
    "import pyradi.rytarggen as rytarggen\n",
    "\n",
    "# get all function members of the module\n",
    "all_functions = inspect.getmembers(rytarggen, inspect.isfunction)\n",
    "\n",
    "# build a string with all the functions in quotes with commas separating\n",
    "pstr = \"\"\n",
    "for item in all_functions:\n",
    "    pstr += \"'{}', \".format(item[0])\n",
    "\n",
    "print(pstr)\n"
   ]
  },
  {
   "cell_type": "markdown",
   "metadata": {
    "run_control": {
     "frozen": false,
     "read_only": false
    }
   },
   "source": [
    "## Python: \"is None\" vs \"==None\"\n",
    "\n",
    "PEP 8 says:\n",
    "\"Comparisons to singletons like None should always be done with 'is' or 'is not', never the equality operators.\"\n",
    "\n",
    "http://jaredgrubb.blogspot.co.za/2009/04/python-is-none-vs-none.html  \n",
    "https://stackoverflow.com/questions/2209755/python-operation-vs-is-not  \n",
    "https://stackoverflow.com/questions/23086383/how-to-test-nonetype-in-python   \n",
    "https://stackoverflow.com/questions/14247373/python-none-comparison-should-i-use-is-or   \n",
    "https://stackoverflow.com/questions/2020598/in-python-how-should-i-test-if-a-variable-is-none-true-or-false  \n",
    "https://www.appneta.com/blog/python-none-comparison/  \n",
    "https://graysonkoonce.com/always-use-none-for-default-args-in-python/   \n",
    "\n",
    "\n",
    "`is` is identity testing.   It checks whether the right hand side and the left hand side are the very same object. No methodcalls are done, objects can't influence the is operation.  (e.g. checking to see if var is None).  None is a special singleton object, there can only be one. Just check to see if you have that object.  The operators is and is not test for object identity: x is y is true if and only if x and y are the same object. x is not y yields the inverse truth value.\n",
    "\n",
    "`==` is equality testing.   (e.g. Is var equal to 3?). It checks whether the right hand side and the left hand side are equal objects (according to their __eq__ or __cmp__ methods.)\n",
    "\n",
    "You use is (and is not) for singletons, like None, where you don't care about objects that might want to pretend to be None or where you want to protect against objects breaking when being compared against None.\n",
    "\n",
    "    lst = [1,2,3]\n",
    "    lst == lst[:]  # This is True since the lists are \"equivalent\"\n",
    "    lst is lst[:]  # This is False since they're actually different objects\n",
    "    \n",
    "    \n",
    "PEP-0008: \"beware of writing if x when you really mean if x is not None - e.g. when testing whether a variable or argument that defaults to None was set to some other value. The other value might have a type (such as a container) that could be false in a boolean context!\"\n"
   ]
  },
  {
   "cell_type": "markdown",
   "metadata": {
    "run_control": {
     "frozen": false,
     "read_only": false
    }
   },
   "source": [
    "## What is difference between [None] and [] in python?\n",
    "\n",
    "https://stackoverflow.com/questions/36928602/what-is-difference-between-none-and-in-python  \n",
    "\n",
    "[] is an empty list\n",
    "\n",
    "[None] is a list with one element. that one element is None"
   ]
  },
  {
   "cell_type": "code",
   "execution_count": 265,
   "metadata": {
    "run_control": {
     "frozen": false,
     "read_only": false
    }
   },
   "outputs": [
    {
     "name": "stdout",
     "output_type": "stream",
     "text": [
      "[None, None, None, None, None]\n",
      "[[None], [None], [None]]\n"
     ]
    }
   ],
   "source": [
    "## the following returns a single list with n elements, all None\n",
    "n = 5\n",
    "data = n * [None] \n",
    "print(data)    \n",
    "data2 = [ [None] for i in [1,2,3]]\n",
    "print(data2)"
   ]
  },
  {
   "cell_type": "markdown",
   "metadata": {
    "run_control": {
     "frozen": false,
     "read_only": false
    }
   },
   "source": [
    "## Upright micro symbol\n",
    "In Python 3 all strings are unicode. The upright mu symbol (as required by the SI system to denote 0.000001) is '\\u00B5'"
   ]
  },
  {
   "cell_type": "code",
   "execution_count": 266,
   "metadata": {
    "run_control": {
     "frozen": false,
     "read_only": false
    }
   },
   "outputs": [
    {
     "name": "stdout",
     "output_type": "stream",
     "text": [
      "µm\n"
     ]
    }
   ],
   "source": [
    "##\n",
    "if sys.version_info[0] > 2:\n",
    "    print('\\u00B5m')\n"
   ]
  },
  {
   "cell_type": "markdown",
   "metadata": {
    "run_control": {
     "frozen": false,
     "read_only": false
    }
   },
   "source": [
    "    import matplotlib as mpl\n",
    "\n",
    "    mpl.rcParams['text.latex.preamble'] = [\n",
    "           r'\\usepackage{siunitx}',   # i need upright \\micro symbols, but you need...\n",
    "           r'\\sisetup{detect-all}',   # ...this to force siunitx to actually use your fonts\n",
    "           r'\\usepackage{helvet}',    # set the normal font here\n",
    "           r'\\usepackage{sansmath}',  # load up the sansmath so that math -> helvet\n",
    "           r'\\sansmath'               # <- tricky! -- gotta actually tell tex to use!\n",
    "    ] \n",
    "    mpl.rcParams['text.usetex'] = True\n",
    "\n",
    "    p = ryplot.Plotter(1,1,2,figsize=(12,6))\n",
    "    p.plot(1,spec[:,0],spec[:,1],'Normalised responsivity','Wavelength \\si{\\micro\\metre}','Responsivity')\n"
   ]
  },
  {
   "cell_type": "markdown",
   "metadata": {
    "run_control": {
     "frozen": false,
     "read_only": false
    }
   },
   "source": [
    "## Esoteric Python tidbits"
   ]
  },
  {
   "cell_type": "markdown",
   "metadata": {
    "run_control": {
     "frozen": false,
     "read_only": false
    }
   },
   "source": [
    "<http://nbviewer.ipython.org/github/rasbt/python_reference/blob/master/not_so_obvious_python_stuff.ipynb?create=1>  \n",
    "<http://sahandsaba.com/thirty-python-language-features-and-tricks-you-may-not-know.html>  \n"
   ]
  },
  {
   "cell_type": "markdown",
   "metadata": {
    "run_control": {
     "frozen": false,
     "read_only": false
    }
   },
   "source": [
    "[Python variables can have data types](http://jugad2.blogspot.com/2014/04/python-variables-can-have-types-as.html), see the link for more details."
   ]
  },
  {
   "cell_type": "code",
   "execution_count": 267,
   "metadata": {
    "collapsed": true,
    "jupyter": {
     "outputs_hidden": true
    },
    "run_control": {
     "frozen": false,
     "read_only": false
    }
   },
   "outputs": [],
   "source": [
    "# a = int\n",
    "# print(type(a))\n",
    "# print a('3') + 4\n",
    "\n",
    "# b = str\n",
    "# print b(12) * 5\n",
    "\n",
    "# class Foo:\n",
    "#      def bar(self):\n",
    "#          print \"in Foo.bar()\"\n",
    "\n",
    "# f = Foo\n",
    "# f().bar()"
   ]
  },
  {
   "cell_type": "code",
   "execution_count": 268,
   "metadata": {
    "run_control": {
     "frozen": false,
     "read_only": false
    }
   },
   "outputs": [
    {
     "name": "stdout",
     "output_type": "stream",
     "text": [
      "{'recurse': 1, 'pattern_list': '*.xml;*.py', 'return_folders': 0, 'results': []}\n"
     ]
    }
   ],
   "source": [
    "# Collect input and output arguments into one bunch\n",
    "class Bunch(object):\n",
    "    def __init__(self, **kwds): self.__dict__.update(kwds)\n",
    "        \n",
    "arg = Bunch(recurse=1, pattern_list='*.xml;*.py', return_folders=0, results=[])\n",
    "\n",
    "print(arg.__dict__)\n",
    "\n",
    "\n"
   ]
  },
  {
   "cell_type": "markdown",
   "metadata": {
    "run_control": {
     "frozen": false,
     "read_only": false
    }
   },
   "source": [
    "## Numpy Basics"
   ]
  },
  {
   "cell_type": "markdown",
   "metadata": {
    "run_control": {
     "frozen": false,
     "read_only": false
    }
   },
   "source": [
    "Before numpy can be used it must be imported into the workspace. Note that it is already pre-loaded in IPython, but not in other scipts.  By general convention, it is normally imported as `np`.\n",
    "\n",
    "[Working with NumPy arrays](http://nbviewer.ipython.org/github/LUMC/programming-course/blob/master/numpy.ipynb).  \n",
    "[Numpy performance tricks](http://cyrille.rossant.net/numpy-performance-tricks/)"
   ]
  },
  {
   "cell_type": "code",
   "execution_count": 269,
   "metadata": {
    "collapsed": true,
    "jupyter": {
     "outputs_hidden": true
    },
    "run_control": {
     "frozen": false,
     "read_only": false
    }
   },
   "outputs": [],
   "source": [
    "import numpy as np"
   ]
  },
  {
   "cell_type": "markdown",
   "metadata": {
    "run_control": {
     "frozen": false,
     "read_only": false
    }
   },
   "source": [
    "### Creating Numpy arrays"
   ]
  },
  {
   "cell_type": "markdown",
   "metadata": {
    "run_control": {
     "frozen": false,
     "read_only": false
    }
   },
   "source": [
    "There are many more ways to create arrays we are only using one method.  See <http://docs.scipy.org/doc/numpy/reference/routines.array-creation.html>\n",
    "\n",
    "Numpy essentially provides arrays and matrices. A matrix is the numpy equivalent of a linear algebra matrix, while the array is just a structured set of data. Matrices and arrays both have N-dimensional structure, but the operations on these are different. Numpy arrays perform operations on element-wise level (unless otherwise told), which means that the multiplication of two numpy arrays yield a new array of the same size where each element is the multiplication of the elements in the same location of the two input arrays.\n",
    "\n",
    "Numpy uses the linear algebra term, _rank_ to denote the array number of dimensions. Rank-two arrays can only appear in one guise, that of an MxN array.  A vector (one-dimensional array) can appear in three different guises, each of which is slightly different: (N,) (N,1) or (1,N) - and these different forms don't interoperate very well (as they seem to do in Matlab).\n",
    "\n",
    "For example the transpose of (N,) is still (N,) because (N,) is a rank-one array, for which the transpose is not defined. So when using vectors (and we do use them extensively) be careful of this this difference.\n",
    "\n",
    "Numpy arrays have a `shape` attribute that returns the size of the array. For rank-two arrays, the first value can be interpreted as the number of rows, then columns."
   ]
  },
  {
   "cell_type": "code",
   "execution_count": 270,
   "metadata": {
    "run_control": {
     "frozen": false,
     "read_only": false
    }
   },
   "outputs": [
    {
     "name": "stdout",
     "output_type": "stream",
     "text": [
      "(3,)\n",
      "(3,)\n"
     ]
    }
   ],
   "source": [
    "a = np.asarray([1, 2, 3]) # construct from a list\n",
    "print(a.shape)\n",
    "print(np.ones(a.shape).shape)\n"
   ]
  },
  {
   "cell_type": "code",
   "execution_count": 271,
   "metadata": {
    "run_control": {
     "frozen": false,
     "read_only": false
    }
   },
   "outputs": [
    {
     "name": "stdout",
     "output_type": "stream",
     "text": [
      "(3,)\n",
      "(3,)\n"
     ]
    }
   ],
   "source": [
    "b = np.array(a) #construct from another array\n",
    "print(b.shape)\n",
    "print(np.zeros(a.shape).shape)\n"
   ]
  },
  {
   "cell_type": "code",
   "execution_count": 272,
   "metadata": {
    "run_control": {
     "frozen": false,
     "read_only": false
    }
   },
   "outputs": [
    {
     "name": "stdout",
     "output_type": "stream",
     "text": [
      "(11,)\n"
     ]
    }
   ],
   "source": [
    "c = np.linspace(0,10,11) # 11 elements, ranging from 0 to 10\n",
    "print(c.shape)\n"
   ]
  },
  {
   "cell_type": "code",
   "execution_count": 273,
   "metadata": {
    "run_control": {
     "frozen": false,
     "read_only": false
    }
   },
   "outputs": [
    {
     "name": "stdout",
     "output_type": "stream",
     "text": [
      "(3, 3)\n",
      "[[1. 0. 0.]\n",
      " [0. 1. 0.]\n",
      " [0. 0. 1.]]\n"
     ]
    }
   ],
   "source": [
    "d = np.eye(3)\n",
    "print(d.shape)\n",
    "print(d)"
   ]
  },
  {
   "cell_type": "code",
   "execution_count": 274,
   "metadata": {
    "run_control": {
     "frozen": false,
     "read_only": false
    }
   },
   "outputs": [
    {
     "name": "stdout",
     "output_type": "stream",
     "text": [
      "4\n",
      "<class 'numpy.ndarray'>\n",
      "()\n",
      "[4]\n",
      "<class 'numpy.ndarray'>\n",
      "(1,)\n"
     ]
    }
   ],
   "source": [
    "vis = np.asarray(4)\n",
    "print(vis)\n",
    "print(type(vis))\n",
    "print(vis.shape)\n",
    "visr = vis.reshape(-1,)\n",
    "print(visr)\n",
    "print(type(visr))\n",
    "print(visr.shape)\n"
   ]
  },
  {
   "cell_type": "code",
   "execution_count": 275,
   "metadata": {
    "run_control": {
     "frozen": false,
     "read_only": false
    }
   },
   "outputs": [
    {
     "name": "stdout",
     "output_type": "stream",
     "text": [
      "[4]\n",
      "<class 'numpy.ndarray'>\n",
      "(1,)\n"
     ]
    }
   ],
   "source": [
    "vis = np.asarray([4])\n",
    "print(vis)\n",
    "print(type(vis))\n",
    "print(vis.shape)"
   ]
  },
  {
   "cell_type": "code",
   "execution_count": 276,
   "metadata": {
    "run_control": {
     "frozen": false,
     "read_only": false
    }
   },
   "outputs": [
    {
     "name": "stdout",
     "output_type": "stream",
     "text": [
      "[[4]\n",
      " [6]]\n",
      "<class 'numpy.ndarray'>\n",
      "(2, 1)\n"
     ]
    }
   ],
   "source": [
    "vis = np.asarray([[4],[6]])\n",
    "print(vis)\n",
    "print(type(vis))\n",
    "print(vis.shape)"
   ]
  },
  {
   "cell_type": "markdown",
   "metadata": {
    "run_control": {
     "frozen": false,
     "read_only": false
    }
   },
   "source": [
    "Arrays can be reshaped to different shapes, even ranks, provided the number of elements don't change. This code creates a rank-three array filled with zeros. The first parameter of this function must be a tuple of the required size, in this case 3x3x4.  The array is initially flattened, made into a rank-one array.  Using the `reshape` function it is then reshaped to different sizes (this is only of illustrative use, no real mathematical or physical meaning). If one of the reshape parameters is -1, it is interpreted that this axis must be made whatever value fits the reshaping."
   ]
  },
  {
   "cell_type": "code",
   "execution_count": 277,
   "metadata": {
    "run_control": {
     "frozen": false,
     "read_only": false
    }
   },
   "outputs": [
    {
     "name": "stdout",
     "output_type": "stream",
     "text": [
      "(3, 3, 4)\n",
      "(36,)\n",
      "(18, 2)\n",
      "(3, 4, 3)\n",
      "(36, 1)\n"
     ]
    }
   ],
   "source": [
    "a = np.zeros((3,3,4))\n",
    "print(a.shape)\n",
    "b = a.flatten()\n",
    "print(b.shape)\n",
    "b = b.reshape(18,-1)\n",
    "print(b.shape)\n",
    "b = b.reshape(3,-1,3)\n",
    "print(b.shape)\n",
    "b = b.reshape(-1,1)\n",
    "print(b.shape)\n",
    "            "
   ]
  },
  {
   "cell_type": "markdown",
   "metadata": {
    "run_control": {
     "frozen": false,
     "read_only": false
    }
   },
   "source": [
    "### Sequence ascending or descending?"
   ]
  },
  {
   "cell_type": "code",
   "execution_count": 278,
   "metadata": {
    "run_control": {
     "frozen": false,
     "read_only": false
    }
   },
   "outputs": [
    {
     "name": "stdout",
     "output_type": "stream",
     "text": [
      "True\n",
      "False\n"
     ]
    }
   ],
   "source": [
    "a= np.linspace(1,10,10)\n",
    "print(np.all(a[1:] >= a[:-1]) )\n",
    "a[5] = 2.\n",
    "print(np.all(a[1:] >= a[:-1]) )"
   ]
  },
  {
   "cell_type": "markdown",
   "metadata": {
    "run_control": {
     "frozen": false,
     "read_only": false
    }
   },
   "source": [
    "### Modulus operator on floats"
   ]
  },
  {
   "cell_type": "markdown",
   "metadata": {
    "run_control": {
     "frozen": false,
     "read_only": false
    }
   },
   "source": [
    "The modulus operator (returning the fraction of a division) also works for floats, returning the fractional remainder."
   ]
  },
  {
   "cell_type": "code",
   "execution_count": 279,
   "metadata": {
    "run_control": {
     "frozen": false,
     "read_only": false
    }
   },
   "outputs": [
    {
     "name": "stdout",
     "output_type": "stream",
     "text": [
      "[5.5 6.  6.5 7.  7.5 8.  8.5 9.  9.5]\n",
      "[1.5 0.  0.5 1.  1.5 0.  0.5 1.  1.5]\n",
      "[False  True False False False  True False False False]\n",
      "[6. 8.]\n"
     ]
    }
   ],
   "source": [
    "a = np.linspace(5.5, 9.5, 9)\n",
    "b = a % 2\n",
    "print(a)\n",
    "print(b)\n",
    "print(b==0)\n",
    "print(a[b==0])"
   ]
  },
  {
   "cell_type": "markdown",
   "metadata": {
    "run_control": {
     "frozen": false,
     "read_only": false
    }
   },
   "source": [
    "### Operations on Numpy arrays "
   ]
  },
  {
   "cell_type": "markdown",
   "metadata": {
    "run_control": {
     "frozen": false,
     "read_only": false
    }
   },
   "source": [
    "NumPy operations are usually done on pairs of arrays on an element-by-element basis. In the simplest case, the two arrays must have exactly the same shape, as in the following example.  Normally, broadcasting is transparent and operates as one would intuitively think."
   ]
  },
  {
   "cell_type": "markdown",
   "metadata": {
    "run_control": {
     "frozen": false,
     "read_only": false
    }
   },
   "source": [
    "\n",
    "\n",
    "Broadcasting is where numpy can figure out how to handle arrays of different shape, it the operation is well defined, e.g., adding a constant to an array - the constant is added to all elements. Broadcasting is very important and a rudimentary understanding is necessary.  \n",
    "See <http://docs.scipy.org/doc/numpy/user/basics.broadcasting.html>\n",
    "\n",
    "\n",
    "\n",
    "Note that in this case the transpose had no effect."
   ]
  },
  {
   "cell_type": "code",
   "execution_count": 280,
   "metadata": {
    "run_control": {
     "frozen": false,
     "read_only": false
    }
   },
   "outputs": [
    {
     "name": "stdout",
     "output_type": "stream",
     "text": [
      "(3, 3)\n",
      "[[3. 2. 2.]\n",
      " [2. 3. 2.]\n",
      " [2. 2. 3.]]\n"
     ]
    }
   ],
   "source": [
    "e = (d + 2).T\n",
    "print(e.shape)\n",
    "print(e)"
   ]
  },
  {
   "cell_type": "code",
   "execution_count": 281,
   "metadata": {
    "run_control": {
     "frozen": false,
     "read_only": false
    }
   },
   "outputs": [
    {
     "name": "stdout",
     "output_type": "stream",
     "text": [
      "a * b  =[2. 4. 6.]\n",
      "a - b  =[-1.  0.  1.]\n",
      "[1. 2.] * [2. 2. 2.] is not allowed, broadcasting not possible\n"
     ]
    }
   ],
   "source": [
    "a = np.array([1.0, 2.0, 3.0])\n",
    "b = np.array([2.0, 2.0, 2.0])\n",
    "print('a * b  ={}'.format(a * b))\n",
    "print('a - b  ={}'.format(a - b))\n",
    "a = np.array([1.0, 2.0])\n",
    "b = np.array([2.0, 2.0, 2.0])\n",
    "try:\n",
    "    print('a * b  ={}'.format(a * b))\n",
    "except:\n",
    "    print('{} * {} is not allowed, broadcasting not possible'.format(a,b))\n"
   ]
  },
  {
   "cell_type": "markdown",
   "metadata": {
    "run_control": {
     "frozen": false,
     "read_only": false
    }
   },
   "source": [
    "The following code multiplies two rank-2 arrays, note the different results from different multiplications:"
   ]
  },
  {
   "cell_type": "code",
   "execution_count": 282,
   "metadata": {
    "run_control": {
     "frozen": false,
     "read_only": false
    }
   },
   "outputs": [
    {
     "name": "stdout",
     "output_type": "stream",
     "text": [
      "a=[[0]\n",
      " [1]\n",
      " [2]\n",
      " [3]] a.shape=(4, 1)\n",
      "\n",
      "b=[[0 1 2 3]] b.shape=(1, 4)\n",
      "\n",
      "(N,1) x (N,1)  - element by element product\n",
      "a*a=[[0]\n",
      " [1]\n",
      " [4]\n",
      " [9]] aa.shape=(4, 1)\n",
      "\n",
      "(1,N) x (1,N)  - element by element product\n",
      "b*b=[[0 1 4 9]] bb.shape=(1, 4)\n",
      "\n",
      "(N,1) x (1,N) - this is an outer product\n",
      "a * b=[[0 0 0 0]\n",
      " [0 1 2 3]\n",
      " [0 2 4 6]\n",
      " [0 3 6 9]] ab.shape=(4, 4)\n",
      "\n",
      "(1,N) x (N,1) - this is an outer product\n",
      "b * a=[[0 0 0 0]\n",
      " [0 1 2 3]\n",
      " [0 2 4 6]\n",
      " [0 3 6 9]] ba.shape=(4, 4)\n",
      "\n",
      "(N,1) . (N,1)  - dot product\n",
      "a.b=[[0 0 0 0]\n",
      " [0 1 2 3]\n",
      " [0 2 4 6]\n",
      " [0 3 6 9]] (a.b).shape=(4, 4)\n",
      "\n",
      "(1,N) . (N,1)  - dot product\n",
      "b.a=[[14]] (b.a).shape=(1, 1)\n",
      "\n"
     ]
    }
   ],
   "source": [
    "import numpy as np\n",
    "a = np.asarray([0,1,2,3]).reshape(-1,1)\n",
    "b = a.reshape(1,-1)\n",
    "print('a={} a.shape={}\\n'.format(a, a.shape))\n",
    "print('b={} b.shape={}\\n'.format(b, b.shape))\n",
    "\n",
    "\n",
    "print('(N,1) x (N,1)  - element by element product')\n",
    "aa = a * a\n",
    "print('a*a={} aa.shape={}\\n'.format(aa, aa.shape))\n",
    "print('(1,N) x (1,N)  - element by element product')\n",
    "bb = b * b\n",
    "print('b*b={} bb.shape={}\\n'.format(bb, bb.shape))\n",
    "\n",
    "     \n",
    "print('(N,1) x (1,N) - this is an outer product')\n",
    "ab = a * b\n",
    "print('a * b={} ab.shape={}\\n'.format(ab, ab.shape))\n",
    "\n",
    "\n",
    "print('(1,N) x (N,1) - this is an outer product')\n",
    "ba = b * a\n",
    "print('b * a={} ba.shape={}\\n'.format(ba, ba.shape))\n",
    "\n",
    "\n",
    "print('(N,1) . (N,1)  - dot product')\n",
    "adb = np.dot(a,b)\n",
    "print('a.b={} (a.b).shape={}\\n'.format(adb, adb.shape))\n",
    "\n",
    "print('(1,N) . (N,1)  - dot product')\n",
    "bda = np.dot(b,a)\n",
    "print('b.a={} (b.a).shape={}\\n'.format(bda, bda.shape))\n",
    "\n"
   ]
  },
  {
   "cell_type": "markdown",
   "metadata": {
    "run_control": {
     "frozen": false,
     "read_only": false
    }
   },
   "source": [
    "In the following example a is a rank-one array and b is a rank-two array. The b array can be transposed, but transpose operator is not defined for the rank-one array."
   ]
  },
  {
   "cell_type": "code",
   "execution_count": 283,
   "metadata": {
    "run_control": {
     "frozen": false,
     "read_only": false
    }
   },
   "outputs": [
    {
     "name": "stdout",
     "output_type": "stream",
     "text": [
      "array a has 3 elements, shape (3,)\n",
      "array a.T has 3 elements, shape (3,)\n",
      "a is equal to a.T: True\n",
      " \n",
      "array b has 3 rows and 1 columns, shape (3, 1)\n",
      "array b.T has 1 rows and 3 columns, shape (1, 3)\n",
      "b is equal to b.T: False\n"
     ]
    }
   ],
   "source": [
    "a = np.asarray([1, 2, 3]) # construct from a list\n",
    "print('array a has {} elements, shape {}'.format(a.shape[0],a.shape))\n",
    "print('array a.T has {} elements, shape {}'.format(a.T.shape[0],a.T.shape))\n",
    "print('a is equal to a.T: {}'.format(np.array_equal(a,a.T)))\n",
    "print(' ')\n",
    "b = a.reshape(-1,1)\n",
    "print('array b has {} rows and {} columns, shape {}'.format(b.shape[0], b.shape[1], b.shape))\n",
    "print('array b.T has {} rows and {} columns, shape {}'.format(b.T.shape[0], b.T.shape[1], b.T.shape))\n",
    "print('b is equal to b.T: {}'.format(np.array_equal(b,b.T)))\n"
   ]
  },
  {
   "cell_type": "markdown",
   "metadata": {
    "run_control": {
     "frozen": false,
     "read_only": false
    }
   },
   "source": [
    "### Slicing and Stacking"
   ]
  },
  {
   "cell_type": "markdown",
   "metadata": {
    "run_control": {
     "frozen": false,
     "read_only": false
    }
   },
   "source": [
    "Numpy arrays can be sliced to extract portions of the array. Start by creating a rank-two array with 15 elements, then reshape to a 3 row/5 column array. Then slice different parts from the array. A slice is specified in the form: start:end:stride, where the start value is _included_ but the end value is _excluded_ and the stride definest stride from te starting position (inclusive). \n",
    "\n",
    "<http://docs.scipy.org/doc/numpy/reference/arrays.indexing.html>\n",
    "\n",
    "Observe that the slice `[:,1]` returns a (N,) rank one vector whereas the slice `[:,:1]` returns a (N,1) rank two vector "
   ]
  },
  {
   "cell_type": "code",
   "execution_count": 284,
   "metadata": {
    "run_control": {
     "frozen": false,
     "read_only": false
    }
   },
   "outputs": [
    {
     "name": "stdout",
     "output_type": "stream",
     "text": [
      "[[ 0  1  2  3  4]\n",
      " [ 5  6  7  8  9]\n",
      " [10 11 12 13 14]]\n",
      "Original array: [[ 0  1  2  3  4]\n",
      " [ 5  6  7  8  9]\n",
      " [10 11 12 13 14]] has shape (3, 5)\n",
      "All the rows of second column: [ 1  6 11] has shape (3,)\n",
      "All the colums of second row: [5 6 7 8 9] has shape (5,)\n",
      "Portion of the array: [[1 2]\n",
      " [6 7]] has shape (2, 2)\n",
      "Strided portion of the array: [[0 2 4]\n",
      " [5 7 9]] has shape (2, 3)\n",
      "---------------\n",
      "Sliced by [:,1] all the rows of second column: [ 1  6 11] has shape (3,)\n",
      "Sliced by [:,:1] all the rows of second column: [ 1  6 11] has shape (3, 1)\n"
     ]
    }
   ],
   "source": [
    "a = np.arange(0,15).reshape(3,5)\n",
    "print(a)\n",
    "print('Original array: {} has shape {}'.format(a, a.shape))\n",
    "print('All the rows of second column: {} has shape {}'.format(a[:,1],a[:,1].shape))\n",
    "print('All the colums of second row: {} has shape {}'.format(a[1,:],a[1,:].shape))\n",
    "print('Portion of the array: {} has shape {}'.format(a[0:2,1:3],a[0:2,1:3].shape))\n",
    "print('Strided portion of the array: {} has shape {}'.format(a[0:2,0:5:2],a[0:2,0:5:2].shape))\n",
    "print('---------------')\n",
    "print('Sliced by {} all the rows of second column: {} has shape {}'.format('[:,1]',a[:,1],a[:,1].shape))\n",
    "print('Sliced by {} all the rows of second column: {} has shape {}'.format('[:,:1]',a[:,1],a[:,:1].shape))\n"
   ]
  },
  {
   "cell_type": "markdown",
   "metadata": {
    "run_control": {
     "frozen": false,
     "read_only": false
    }
   },
   "source": [
    "Numpy makes provision to build new arrays by stacking arrays together.  This stacking can be done horizontally or vertically.  In both cases does the function require a tuple as input where the tuple contains the the two or more parts to be stacked. In order to stack the size of the two or more sub-arrays along the stacking direction must be the same.  The results below show that for the purpose of stacking a (N,) array is considered to be the same as a (1,N) array - that is one row with many columns.  "
   ]
  },
  {
   "cell_type": "code",
   "execution_count": 285,
   "metadata": {
    "run_control": {
     "frozen": false,
     "read_only": false
    }
   },
   "outputs": [
    {
     "name": "stdout",
     "output_type": "stream",
     "text": [
      "a: value=[1 2 3 4] shape=(4,)\n",
      "b: value=[5 6 7 8] shape=(4,)\n",
      "c: value=[ 9 10 11 12] shape=(4,)\n",
      "d: value=[ 1  2  3  4  5  6  7  8  9 10 11 12] shape=(12,)\n",
      "e: value=[[ 1  2  3  4]\n",
      " [ 5  6  7  8]\n",
      " [ 9 10 11 12]] shape=(3, 4)\n",
      "---------\n",
      "a: value=[[1 2 3 4]] shape=(1, 4)\n",
      "b: value=[[5 6 7 8]] shape=(1, 4)\n",
      "c: value=[[ 9 10 11 12]] shape=(1, 4)\n",
      "d: value=[[ 1  2  3  4  5  6  7  8  9 10 11 12]] shape=(1, 12)\n",
      "e: value=[[ 1  2  3  4]\n",
      " [ 5  6  7  8]\n",
      " [ 9 10 11 12]] shape=(3, 4)\n",
      "---------\n",
      "a: value=[[1]\n",
      " [2]\n",
      " [3]\n",
      " [4]] shape=(4, 1)\n",
      "b: value=[[5]\n",
      " [6]\n",
      " [7]\n",
      " [8]] shape=(4, 1)\n",
      "c: value=[[ 9]\n",
      " [10]\n",
      " [11]\n",
      " [12]] shape=(4, 1)\n",
      "d: value=[[ 1  5  9]\n",
      " [ 2  6 10]\n",
      " [ 3  7 11]\n",
      " [ 4  8 12]] shape=(4, 3)\n",
      "e: value=[[ 1]\n",
      " [ 2]\n",
      " [ 3]\n",
      " [ 4]\n",
      " [ 5]\n",
      " [ 6]\n",
      " [ 7]\n",
      " [ 8]\n",
      " [ 9]\n",
      " [10]\n",
      " [11]\n",
      " [12]] shape=(12, 1)\n"
     ]
    }
   ],
   "source": [
    "import numpy as np\n",
    "a = np.asarray([1, 2, 3, 4])\n",
    "b = np.asarray([5, 6, 7, 8])\n",
    "c = np.asarray([9, 10, 11, 12])\n",
    "d = np.hstack((a,b,c))\n",
    "e = np.vstack((a,b,c))\n",
    "print('a: value={} shape={}'.format(a, a.shape))\n",
    "print('b: value={} shape={}'.format(b, b.shape))\n",
    "print('c: value={} shape={}'.format(c, c.shape))\n",
    "print('d: value={} shape={}'.format(d, d.shape))\n",
    "print('e: value={} shape={}'.format(e, e.shape))\n",
    "print('---------')\n",
    "\n",
    "a = np.asarray([1, 2, 3, 4]).reshape(1,-1)\n",
    "b = np.asarray([5, 6, 7, 8]).reshape(1,-1)\n",
    "c = np.asarray([9, 10, 11, 12]).reshape(1,-1)\n",
    "d = np.hstack((a,b,c))\n",
    "e = np.vstack((a,b,c))\n",
    "print('a: value={} shape={}'.format(a, a.shape))\n",
    "print('b: value={} shape={}'.format(b, b.shape))\n",
    "print('c: value={} shape={}'.format(c, c.shape))\n",
    "print('d: value={} shape={}'.format(d, d.shape))\n",
    "print('e: value={} shape={}'.format(e, e.shape))\n",
    "print('---------')\n",
    "\n",
    "a = np.asarray([1, 2, 3, 4]).reshape(-1,1)\n",
    "b = np.asarray([5, 6, 7, 8]).reshape(-1,1)\n",
    "c = np.asarray([9, 10, 11, 12]).reshape(-1,1)\n",
    "d = np.hstack((a,b,c))\n",
    "e = np.vstack((a,b,c))\n",
    "print('a: value={} shape={}'.format(a, a.shape))\n",
    "print('b: value={} shape={}'.format(b, b.shape))\n",
    "print('c: value={} shape={}'.format(c, c.shape))\n",
    "print('d: value={} shape={}'.format(d, d.shape))\n",
    "print('e: value={} shape={}'.format(e, e.shape))"
   ]
  },
  {
   "cell_type": "markdown",
   "metadata": {
    "run_control": {
     "frozen": false,
     "read_only": false
    }
   },
   "source": [
    "### Slicing with Ellipsis"
   ]
  },
  {
   "cell_type": "markdown",
   "metadata": {
    "run_control": {
     "frozen": false,
     "read_only": false
    }
   },
   "source": [
    "Ellipsis is a Python object that can appear in slice notation.  Ellipsis is used in numpy to indicate a placeholder for the rest of the array dimensions not specified. Think of it as indicating the full slice `[:]` for all the dimensions in the gap it is placed, so for a 3d array, `a[...,0]` is the same as `a[:,:,0]` and for 4d, `a[:,:,:,0]`. Similarly `a[0,...,0]` is `a[0,:,:,0]` (with however many colons in the middle make up the full number of dimensions in the array).    \n",
    "\n",
    "<http://stackoverflow.com/questions/772124/what-does-the-python-ellipsis-object-do>\n"
   ]
  },
  {
   "cell_type": "code",
   "execution_count": 286,
   "metadata": {
    "run_control": {
     "frozen": false,
     "read_only": false
    }
   },
   "outputs": [
    {
     "name": "stdout",
     "output_type": "stream",
     "text": [
      "a.shape = (2, 3, 4, 5)\n",
      "a[...].shape = (2, 3, 4, 5)\n",
      "a[1,...].shape = (3, 4, 5)\n",
      "a[1,...,1].shape = (3, 4)\n",
      "a[...,1].shape = (2, 3, 4)\n"
     ]
    }
   ],
   "source": [
    "import numpy as np\n",
    "\n",
    "a = np.zeros((2,3,4,5))\n",
    "print('a.shape = {}'.format(a.shape))\n",
    "print('a[...].shape = {}'.format(a[...].shape))\n",
    "print('a[1,...].shape = {}'.format(a[1,...].shape))\n",
    "print('a[1,...,1].shape = {}'.format(a[1,...,1].shape))\n",
    "print('a[...,1].shape = {}'.format(a[...,1].shape))\n"
   ]
  },
  {
   "cell_type": "markdown",
   "metadata": {
    "run_control": {
     "frozen": false,
     "read_only": false
    }
   },
   "source": [
    "In NumPy, there are several flavors of array containing one element. \n",
    "1. A rank-0 array with shape ().\n",
    "1. A rank-1 array with shape (1,).\n",
    "1. A rank-2 array with shape (1,1).\n",
    "\n",
    "Note that using an empty tuple `()` as index/slice gives you all the elements in the dataset, as an array object for rank-1 and higher arrays, and as a scalar element for rank-0 arrays.  \n",
    "\n",
    "The form `[...]` or  `[()]` is in fact the only way you can get the value of a rank-0 array, because [0] is not allowed for a rank-0 array.\n",
    "\n",
    "Expanded from the original writeup in  [Python and HDF5](http://shop.oreilly.com/product/0636920030249.do) by Andrew Collette."
   ]
  },
  {
   "cell_type": "code",
   "execution_count": 287,
   "metadata": {
    "run_control": {
     "frozen": false,
     "read_only": false
    }
   },
   "outputs": [
    {
     "name": "stdout",
     "output_type": "stream",
     "text": [
      "a.shape of a rank-0 array with single element: ()\n",
      "a[0] is not allowed for rank-0 with shape ()\n",
      "a returns the full array with all dimensions included (a scalar): 3\n",
      "a[...] returns the full array with all dimensions included (a scalar): 3\n",
      "a[()] returns the full array with all dimensions included (a scalar): 3\n",
      "\n",
      "a.shape of a rank-1 array with single element: (1,)\n",
      "a[0] returns the value of the 0th element: 5\n",
      "a[...] returns the full array with all dimensions included: [5]\n",
      "a[()] returns the full array with all dimensions included: [5]\n",
      "\n",
      "a.shape of a rank-2 array with single element: (1, 1)\n",
      "a[0] returns the value of the 0th row: [7.]\n",
      "a[0,0] returns the value of the 0th col of the 0th row: 7.0\n",
      "a[...] returns the full array with all dimensions included: [[7.]]\n",
      "a[()] returns the full array with all dimensions included: [[7.]]\n"
     ]
    }
   ],
   "source": [
    "a = 3 * np.array(1) #rank 0\n",
    "print('a.shape of a rank-0 array with single element: {}'.format(a.shape))\n",
    "print('a[0] is not allowed for rank-0 with shape ()')\n",
    "print('a returns the full array with all dimensions included (a scalar): {}'.format(a))\n",
    "print('a[...] returns the full array with all dimensions included (a scalar): {}'.format( a[...]))\n",
    "print('a[()] returns the full array with all dimensions included (a scalar): {}\\n'.format( a[()]))\n",
    "\n",
    "a = 5 * np.array([1])#rank 1\n",
    "print('a.shape of a rank-1 array with single element: {}'.format(a.shape))\n",
    "print('a[0] returns the value of the 0th element: {}'.format( a[0]))\n",
    "print('a[...] returns the full array with all dimensions included: {}'.format( a[...]))\n",
    "print('a[()] returns the full array with all dimensions included: {}\\n'.format( a[()]))\n",
    "\n",
    "a = 7 * np.ones((1,1))#rank 2\n",
    "print('a.shape of a rank-2 array with single element: {}'.format(a.shape))\n",
    "print('a[0] returns the value of the 0th row: {}'.format( a[0]))\n",
    "print('a[0,0] returns the value of the 0th col of the 0th row: {}'.format( a[0,0]))\n",
    "print('a[...] returns the full array with all dimensions included: {}'.format( a[...]))\n",
    "print('a[()] returns the full array with all dimensions included: {}'.format( a[()]))\n"
   ]
  },
  {
   "cell_type": "markdown",
   "metadata": {
    "run_control": {
     "frozen": false,
     "read_only": false
    }
   },
   "source": [
    "In Python 3, you can use the Ellipsis literal ... as a 'nop' placeholder for code:  \n",
    "\n",
    "    def will_do_something():\n",
    "        ..."
   ]
  },
  {
   "cell_type": "markdown",
   "metadata": {
    "run_control": {
     "frozen": false,
     "read_only": false
    }
   },
   "source": [
    "Finally a tongue-in-the-cheek application of ellipsis is found [here](http://blog.brush.co.nz/2009/05/ellipsis/)"
   ]
  },
  {
   "cell_type": "code",
   "execution_count": 288,
   "metadata": {
    "run_control": {
     "frozen": false,
     "read_only": false
    }
   },
   "outputs": [
    {
     "name": "stdout",
     "output_type": "stream",
     "text": [
      "Hello, world!\n"
     ]
    }
   ],
   "source": [
    "# Portable way to get the You-Know-Which object without naming it\n",
    "class __:\n",
    " def __getitem__(__, _):\n",
    "  return _\n",
    "___ = __()[...]\n",
    "\n",
    "# An Ellipsobinary-to-ASCII convertor\n",
    "class __:\n",
    " def __getitem__(__, _):\n",
    "  return chr(sum(1<<i if _[-i-1] is ___ else 0 for i in range(len(_))))\n",
    "_ = __()\n",
    "\n",
    "# Finally, use the That-Which-Must-Not-Be-Named object\n",
    "print (\n",
    " _[...,_,_,...,_,_,_] +\n",
    "  _[...,...,_,_,...,_,...] +\n",
    "   _[...,...,_,...,...,_,_] +\n",
    "    _[...,...,_,...,...,_,_] +\n",
    "     _[...,...,_,...,...,...,...] +\n",
    "      _[...,_,...,...,_,_] +\n",
    "       _[...,_,_,_,_,_] +\n",
    "        _[...,...,...,_,...,...,...] +\n",
    "         _[...,...,_,...,...,...,...] +\n",
    "          _[...,...,...,_,_,...,_] +\n",
    "           _[...,...,_,...,...,_,_] +\n",
    "            _[...,...,_,_,...,_,_] +\n",
    "             _[...,_,_,_,_,...])"
   ]
  },
  {
   "cell_type": "markdown",
   "metadata": {
    "run_control": {
     "frozen": false,
     "read_only": false
    }
   },
   "source": [
    "### Changing the shape of an array"
   ]
  },
  {
   "cell_type": "markdown",
   "metadata": {
    "run_control": {
     "frozen": false,
     "read_only": false
    }
   },
   "source": [
    "<https://docs.scipy.org/doc/numpy-dev/user/quickstart.html#changing-the-shape-of-an-array>   \n",
    "\n",
    "The order of the elements in the array resulting from ravel() is normally 'C-style', that is, the rightmost index 'changes the fastest', so the element after a[0,0] is a[0,1]. If the array is reshaped to some other shape, again the array is treated as 'C-style'. Numpy normally creates arrays stored in this order, so ravel() will usually not need to copy its argument, but if the array was made by taking slices of another array or created with unusual options, it may need to be copied. The functions ravel() and reshape() can also be instructed, using an optional argument, to use FORTRAN-style arrays, in which the leftmost index changes the fastest.\n",
    "  "
   ]
  },
  {
   "cell_type": "code",
   "execution_count": 289,
   "metadata": {
    "run_control": {
     "frozen": false,
     "read_only": false
    }
   },
   "outputs": [
    {
     "name": "stdout",
     "output_type": "stream",
     "text": [
      "[[2. 3. 8. 6.]\n",
      " [8. 9. 2. 7.]\n",
      " [9. 0. 1. 8.]]\n",
      "(3, 4)\n",
      "[2. 3. 8. 6. 8. 9. 2. 7. 9. 0. 1. 8.]\n",
      "[[2. 8. 8. 2. 9. 1.]\n",
      " [3. 6. 9. 7. 0. 8.]]\n",
      "[[2. 3. 8.]\n",
      " [6. 8. 9.]\n",
      " [2. 7. 9.]\n",
      " [0. 1. 8.]]\n"
     ]
    }
   ],
   "source": [
    "import numpy as np\n",
    "a = np.floor(10*np.random.random((3,4)))\n",
    "print(a)\n",
    "print(a.shape)\n",
    "b = a.ravel() # flatten the array\n",
    "print(b)\n",
    "a.shape = (6, 2)\n",
    "print(a.T)\n",
    "a = a.reshape(4,3)\n",
    "print(a)"
   ]
  },
  {
   "cell_type": "markdown",
   "metadata": {
    "run_control": {
     "frozen": false,
     "read_only": false
    }
   },
   "source": [
    "### Numpy array application for spectral calculations"
   ]
  },
  {
   "cell_type": "markdown",
   "metadata": {
    "run_control": {
     "frozen": false,
     "read_only": false
    }
   },
   "source": [
    "Numpy is much more than just array-like containers, there is also a comprehensive number of mathematical and logical operators to process the array contents.  Numpy arrays are used as a basis for other packages such as the image processing library scikit-image and the data analysis package pandas.  Numpy also forms the basis of the pyradi package, but serves mainly as a container for spectral values.\n",
    "\n",
    "In pyradi spectral variables are respresented as arrays (of all ranks).  For example, a set of wavelength values can be represented as an array. Spectral variables such as optics transmittance have values at specific wavelengths. So the transmittance vector and wavelength vector correspond on an element-by-element basis: the value of transmittance at the specific transmittance. The example below defines a wavelength band from 300 nm to 800 nm in 101 samples, and then calculates a filter transmittance using pyradi. The filter response is then plotted. IPython presents the graph in the document itself because the `%matplotlib inline` magic is used."
   ]
  },
  {
   "cell_type": "code",
   "execution_count": 290,
   "metadata": {
    "run_control": {
     "frozen": false,
     "read_only": false
    }
   },
   "outputs": [
    {
     "name": "stdout",
     "output_type": "stream",
     "text": [
      "****  If saveFig does not work inside the notebook please comment out the line \"%matplotlib inline\" \n",
      "To disable ryplot warnings, set doWarning=False\n"
     ]
    },
    {
     "data": {
      "image/png": "[encoded data removed]",
      "text/plain": [
       "<Figure size 648x288 with 1 Axes>"
      ]
     },
     "metadata": {
      "needs_background": "light"
     },
     "output_type": "display_data"
    }
   ],
   "source": [
    "%matplotlib inline\n",
    "import numpy as np\n",
    "import pyradi.ryutils as ryutils\n",
    "import pyradi.ryplot as ryplot\n",
    "\n",
    "wl = np.linspace(0.3, 0.8, 101)\n",
    "sfilter = ryutils.sfilter(wl, 0.5, 0.2, 6, 0.5, 0.1)\n",
    "p = ryplot.Plotter(1,figsize=(9,4))\n",
    "p.plot(1,wl,sfilter,'Filter Transmittance', 'Wavelength $\\mu$m', 'Transmittance')\n",
    "p.saveFig('filter.png')"
   ]
  },
  {
   "cell_type": "markdown",
   "metadata": {
    "run_control": {
     "frozen": false,
     "read_only": false
    }
   },
   "source": [
    "The concept of a single spectral variable, such as the filter above, can be extended to many spectral variables, all sharing the same wavelength values. One such example is the Planck law radiation at different temperatures. In the next example, the radiation is calculated at a range of temperatures and plotted on the graph.  Note in this case that the value returned from the `ryplanck.planck()` function is a rank-two array.  Along the first dimension is the spectral axis and along the second dimension is the radiance for the different temperatures. \n",
    "\n",
    "The plotting functions can plot more than one line if a rank-two array is passed. However many columns there are in the array, so many lines will be drawn.  The only requirement is that the size of the radiance (y) array along the zero axis much match the size of the wavelength (x) array along its zero axis.\n",
    "\n",
    "Observe how the line labels are created using list comprehension, properly formatted with units."
   ]
  },
  {
   "cell_type": "code",
   "execution_count": 291,
   "metadata": {
    "run_control": {
     "frozen": false,
     "read_only": false
    }
   },
   "outputs": [
    {
     "name": "stdout",
     "output_type": "stream",
     "text": [
      "wl.shape = (101,)\n",
      "len(temperatures) = 3\n",
      "radiance.shape = (101, 3)\n",
      "labels = ['5000 K', '6000 K', '8000 K']\n",
      "****  If saveFig does not work inside the notebook please comment out the line \"%matplotlib inline\" \n",
      "To disable ryplot warnings, set doWarning=False\n"
     ]
    },
    {
     "data": {
      "image/png": "[encoded data removed]",
      "text/plain": [
       "<Figure size 648x288 with 1 Axes>"
      ]
     },
     "metadata": {
      "needs_background": "light"
     },
     "output_type": "display_data"
    }
   ],
   "source": [
    "import pyradi.ryplanck as ryplanck\n",
    "\n",
    "temperatures = [5000, 6000, 8000]\n",
    "radiance = ryplanck.planck(wl,temperatures, 'el') / np.pi\n",
    "\n",
    "print('wl.shape = {}'.format(wl.shape))\n",
    "print('len(temperatures) = {}'.format(len(temperatures)))\n",
    "print('radiance.shape = {}'.format(radiance.shape))\n",
    "\n",
    "labels = ['{} K'.format(tmp) for tmp in temperatures]\n",
    "print('labels = {}'.format(labels))\n",
    "\n",
    "p = ryplot.Plotter(1,figsize=(9,4))\n",
    "p.semilogY(1,wl,radiance * sfilter.reshape(-1,1),'Planck Radiance', 'Wavelength $\\mu$m', 'Radiance W/(m$^2$.sr.$\\mu$m)',label=labels)\n",
    "p.saveFig('filtered-planck.png')\n"
   ]
  },
  {
   "cell_type": "code",
   "execution_count": 292,
   "metadata": {
    "run_control": {
     "frozen": false,
     "read_only": false
    }
   },
   "outputs": [
    {
     "name": "stdout",
     "output_type": "stream",
     "text": [
      "Temperature = 5000 K,  Integrated radiance = 1.394e+06 W/(m2.sr)\n",
      "Temperature = 6000 K,  Integrated radiance = 3.618e+06 W/(m2.sr)\n",
      "Temperature = 8000 K,  Integrated radiance = 1.259e+07 W/(m2.sr)\n"
     ]
    }
   ],
   "source": [
    "for i,temperature in enumerate(temperatures):\n",
    "    integral = np.trapz((radiance[:,i]).reshape(-1,1) * sfilter.reshape(-1,1), wl, axis=0)\n",
    "    print('Temperature = {} K,  Integrated radiance = {:.3e} W/(m2.sr)'.format(temperature, integral[0]))"
   ]
  },
  {
   "cell_type": "markdown",
   "metadata": {
    "run_control": {
     "frozen": false,
     "read_only": false
    }
   },
   "source": [
    "### File input/output"
   ]
  },
  {
   "cell_type": "markdown",
   "metadata": {
    "run_control": {
     "frozen": false,
     "read_only": false
    }
   },
   "source": [
    "Numpy can import data from file and write to a file.  The simplest import is `numpy.loadtxt()` and `numpy.savetxt()`. In the following section the spectral data and radiance data from the previous calculation are stacked together, such that the first column is the spectral vector, followed by the radiance in columns 1 and following. For this purpose the horisontal stack function is used: stacking arrays side by side. But there is a problem in that the wavelength variable is rank one (N,) , whereas a rank-two array (N,1) is required - it is reshaped before stacking.  The stacked array is then saved to an ASCII file. Note that the format string requires that the numbers are written to five decimal places. The data can also be saved in binary and compressed binary format.\n",
    "\n",
    "In the next step the data is read back in from the ASCII file.  To confirm that the data is correctly saved, the first five rows are printed: first for the original array and then for the data read in."
   ]
  },
  {
   "cell_type": "code",
   "execution_count": 293,
   "metadata": {
    "run_control": {
     "frozen": false,
     "read_only": false
    }
   },
   "outputs": [
    {
     "name": "stdout",
     "output_type": "stream",
     "text": [
      "[[3.00000000e-01 3.34706158e+06 1.65600612e+07 1.22419349e+08]\n",
      " [3.05000000e-01 3.60633264e+06 1.73819243e+07 1.24379955e+08]\n",
      " [3.10000000e-01 3.87123259e+06 1.81921379e+07 1.26143530e+08]\n",
      " [3.15000000e-01 4.14095423e+06 1.89884038e+07 1.27714698e+08]\n",
      " [3.20000000e-01 4.41468666e+06 1.97686169e+07 1.29098713e+08]]\n",
      " \n",
      "[[3.00000e-01 3.34706e+06 1.65601e+07 1.22419e+08]\n",
      " [3.05000e-01 3.60633e+06 1.73819e+07 1.24380e+08]\n",
      " [3.10000e-01 3.87123e+06 1.81921e+07 1.26144e+08]\n",
      " [3.15000e-01 4.14095e+06 1.89884e+07 1.27715e+08]\n",
      " [3.20000e-01 4.41469e+06 1.97686e+07 1.29099e+08]]\n"
     ]
    }
   ],
   "source": [
    "data = np.hstack((wl.reshape(-1,1), radiance))\n",
    "print(data[:5,:])\n",
    "filename = 'planck.txt'\n",
    "np.savetxt(filename, data, fmt='%.5e', delimiter=' ', newline='\\n', \n",
    "              header='First column is wavelength, rests are radiance values', \n",
    "              footer='', comments='# ')\n",
    "fdata = np.loadtxt(filename, comments='#', usecols=None)\n",
    "print(' ')\n",
    "print(fdata[:5,:])\n",
    "#delete the file        \n",
    "try:\n",
    "    os.remove(filename)\n",
    "except OSError:\n",
    "    pass "
   ]
  },
  {
   "cell_type": "markdown",
   "metadata": {
    "run_control": {
     "frozen": false,
     "read_only": false
    }
   },
   "source": [
    "It is however quite difficult to check every single element in the array we want to compare the two arrays, using Numpy to do the checking.   The `array_equal()` function indicates that the array values differ.  \n",
    "\n",
    "Problem! Why are the two arrays not the same?  \n",
    "The values written to the file has only five decimal places resolution - some of the information is lost on writing to the file!\n",
    "\n",
    "There is another comparison function that allows us to specify a tolerance to be used when comparing two arrays"
   ]
  },
  {
   "cell_type": "code",
   "execution_count": 294,
   "metadata": {
    "run_control": {
     "frozen": false,
     "read_only": false
    }
   },
   "outputs": [
    {
     "name": "stdout",
     "output_type": "stream",
     "text": [
      "The two arrays are exactly the same False\n",
      "The two arrays are the same False to within 1e-06 relative tolerance\n"
     ]
    }
   ],
   "source": [
    "print('The two arrays are exactly the same {}'.format(np.array_equal(data, fdata)))\n",
    "tolerance = 1e-6\n",
    "print('The two arrays are the same {} to within {} relative tolerance'.\\\n",
    "      format(np.allclose(data, fdata,tolerance),tolerance))"
   ]
  },
  {
   "cell_type": "markdown",
   "metadata": {
    "run_control": {
     "frozen": false,
     "read_only": false
    }
   },
   "source": [
    "Numpy arrays can be written to raw binary format using the `array.tofile('filename')` function.  This is not the binary numpy format, but raw bytes with no header. These file are not portable across endian boundaries."
   ]
  },
  {
   "cell_type": "markdown",
   "metadata": {
    "run_control": {
     "frozen": false,
     "read_only": false
    }
   },
   "source": [
    "### Array pre-allocation instead of stacking"
   ]
  },
  {
   "cell_type": "markdown",
   "metadata": {
    "run_control": {
     "frozen": false,
     "read_only": false
    }
   },
   "source": [
    "Stacking is a slow process, use with care for large arrays. Another way would be to calculate the size of the array beforehand and pre-allocate an array of that size. Once the array exists, the values can be assigned by slicing.  In this case the number of rows must remain the same, but a new column will be added to allow space for the spectral vector and the radiance array."
   ]
  },
  {
   "cell_type": "code",
   "execution_count": 295,
   "metadata": {
    "run_control": {
     "frozen": false,
     "read_only": false
    }
   },
   "outputs": [
    {
     "name": "stdout",
     "output_type": "stream",
     "text": [
      "Original data shape is (101, 4)\n",
      "Newly assigned data shape is (101, 4)\n",
      "The stacked and pre-allocated arrays are exactly the same True\n"
     ]
    }
   ],
   "source": [
    "newsize = (radiance.shape[0], radiance.shape[1] + 1)\n",
    "ndata = np.zeros(newsize)\n",
    "\n",
    "print('Original data shape is {}'.format(data.shape))\n",
    "print('Newly assigned data shape is {}'.format(ndata.shape))\n",
    "\n",
    "ndata[:,:1] = wl.reshape(-1,1) #first column\n",
    "ndata[:,1:] = radiance # second column onwards\n",
    "\n",
    "print('The stacked and pre-allocated arrays are exactly the same {}'.format(np.array_equal(data, ndata)))\n"
   ]
  },
  {
   "cell_type": "markdown",
   "metadata": {
    "run_control": {
     "frozen": false,
     "read_only": false
    }
   },
   "source": [
    "### Save multiple numpy arrays to binary file"
   ]
  },
  {
   "cell_type": "code",
   "execution_count": 296,
   "metadata": {
    "run_control": {
     "frozen": false,
     "read_only": false
    }
   },
   "outputs": [
    {
     "name": "stdout",
     "output_type": "stream",
     "text": [
      "[[1 2]\n",
      " [3 4]]\n",
      "[[11 22]\n",
      " [33 44]]\n"
     ]
    }
   ],
   "source": [
    "import numpy as np\n",
    "import os.path\n",
    "arrA = np.asarray([[1,2],[3,4]])\n",
    "arrB = np.asarray([[11,22],[33,44]])\n",
    "npzfilename = 'savearray.npz'\n",
    "np.savez_compressed(npzfilename, arrA=arrA, arrB=arrB)\n",
    "#see if the file exists\n",
    "if os.path.isfile(npzfilename):\n",
    "    arr = np.load(npzfilename)\n",
    "    print(arr['arrA'])\n",
    "    print(arr['arrB'])"
   ]
  },
  {
   "cell_type": "markdown",
   "metadata": {
    "run_control": {
     "frozen": false,
     "read_only": false
    }
   },
   "source": [
    "## Element-wise conditionals with Numpy"
   ]
  },
  {
   "cell_type": "markdown",
   "metadata": {},
   "source": [
    "### Avoid divide-by-zero errors in np.log\n",
    "\n",
    "Use the `where` parameter of numpy's ufuncs:\n",
    "\n",
    "    numpy.log(x, \n",
    "        out=None, where=True, casting='same_kind', order='K', dtype=None, \n",
    "            subok=True[, signature, extobj]) \n",
    "                = <ufunc 'log'>\n",
    "\n",
    "**out** ndarray, None, or tuple of ndarray and None, optional  \n",
    "A location into which the result is stored. If provided, it must have a shape that the inputs broadcast to. If not provided or None, a freshly-allocated array is returned. A tuple (possible only as a keyword argument) must have length equal to the number of outputs.\n",
    "\n",
    "**where** array_like, optional  \n",
    "This condition is broadcast over the input. At locations where the condition is True, the out array will be set to the ufunc result. Elsewhere, the out array will retain its original value. Note that if an uninitialized out array is created via the default out=None, locations within it where the condition is False will remain uninitialized.\n",
    "\n",
    "Use it like this:\n",
    "\n",
    "    res = np.log2(m, out=np.zeros_like(m), where=(m!=0))\n",
    "\n",
    "No RuntimeWarning is raised, and \n",
    "- log(m) [the ufunc] is used for elements where the condition is True\n",
    "- out is assigned to `out=np.zeros_like(m)` for elements where the condition is False (the log is not computed)\n",
    "\n",
    "`out=np.zeros_like(m)` is quite important. The output might look alright when you forget this, but you will be using uninitialized memory.\n",
    "\n",
    "https://stackoverflow.com/questions/21752989/numpy-efficiently-avoid-0s-when-taking-logmatrix/52209380  \n",
    "https://numpy.org/doc/stable/reference/ufuncs.html#optional-keyword-arguments\n"
   ]
  },
  {
   "cell_type": "code",
   "execution_count": 5,
   "metadata": {},
   "outputs": [
    {
     "name": "stderr",
     "output_type": "stream",
     "text": [
      "<ipython-input-5-c2795282fd3b>:3: RuntimeWarning: divide by zero encountered in log2\n",
      "  res = np.log2(m)\n"
     ]
    }
   ],
   "source": [
    "import numpy as np\n",
    "m = np.array([[1., 0], [2, 3]])\n",
    "res = np.log2(m)"
   ]
  },
  {
   "cell_type": "code",
   "execution_count": 6,
   "metadata": {},
   "outputs": [],
   "source": [
    "m = np.array([[1., 0], [2, 3]])\n",
    "res = np.log2(m, out=np.zeros_like(m), where=(m!=0))"
   ]
  },
  {
   "cell_type": "markdown",
   "metadata": {
    "run_control": {
     "frozen": false,
     "read_only": false
    }
   },
   "source": [
    "### Test for NaN in array"
   ]
  },
  {
   "cell_type": "markdown",
   "metadata": {
    "run_control": {
     "frozen": false,
     "read_only": false
    }
   },
   "source": [
    "NaNs may interfere with some operations, e.g. plotting a mesh grid in Matplotlib.  Working with NaNs in Numpy is well supported."
   ]
  },
  {
   "cell_type": "code",
   "execution_count": 297,
   "metadata": {
    "run_control": {
     "frozen": false,
     "read_only": false
    }
   },
   "outputs": [
    {
     "name": "stdout",
     "output_type": "stream",
     "text": [
      "[[ 1. nan]\n",
      " [ 3.  4.]\n",
      " [ 4.  5.]]\n",
      "[[False  True]\n",
      " [False False]\n",
      " [False False]]\n",
      "True\n"
     ]
    }
   ],
   "source": [
    "a = np.asarray([[1, np.nan], [3, 4], [4,5]])\n",
    "print(a)\n",
    "print(np.isnan(a))\n",
    "print(np.isnan(a).any())"
   ]
  },
  {
   "cell_type": "markdown",
   "metadata": {
    "run_control": {
     "frozen": false,
     "read_only": false
    }
   },
   "source": [
    "### Selections into array"
   ]
  },
  {
   "cell_type": "markdown",
   "metadata": {
    "run_control": {
     "frozen": false,
     "read_only": false
    }
   },
   "source": [
    "Numpy has a rich set of functions to support conditional testing on element level. This section only touches on the surface.\n",
    "\n",
    "In the example below a signal is created that only contains the positive values of a sine wave, being zero elsewhere."
   ]
  },
  {
   "cell_type": "code",
   "execution_count": 298,
   "metadata": {
    "run_control": {
     "frozen": false,
     "read_only": false
    }
   },
   "outputs": [
    {
     "data": {
      "text/plain": [
       "<matplotlib.axes._subplots.AxesSubplot at 0x147650b8>"
      ]
     },
     "execution_count": 298,
     "metadata": {},
     "output_type": "execute_result"
    },
    {
     "data": {
      "image/png": "[encoded data removed]",
      "text/plain": [
       "<Figure size 648x288 with 1 Axes>"
      ]
     },
     "metadata": {
      "needs_background": "light"
     },
     "output_type": "display_data"
    }
   ],
   "source": [
    "phase = np.linspace(0, 4 * np.pi, 101)\n",
    "signal = np.sin(phase)\n",
    "signalpos = np.where(signal>0, signal, 0)\n",
    "\n",
    "p = ryplot.Plotter(1,figsize=(9,4))\n",
    "p.plot(1,phase,signal,'', 'Phase rad', 'Signal', label=['Full sine wave'])\n",
    "p.plot(1,phase,signalpos,'', 'Phase rad', 'Signal', label=['Positive sine wave'])\n"
   ]
  },
  {
   "cell_type": "markdown",
   "metadata": {
    "run_control": {
     "frozen": false,
     "read_only": false
    }
   },
   "source": [
    "## Selecting elements with array indices\n",
    "\n",
    "Numpy provides the facility to extract only certain array indices, based on conditional values.  \n",
    "Some experiment requires a gaussian-distributed random number sequence, but with a twist: only values in a specific amplitude range is required.  The following script creates a large number of gaussian random variables, then filters them based on amplitude by selecting a sub set of all values by the logical test `rndAll > 0.4`. This test creates a logical array which selects elements from rndAll. The histograms of the two distributions are then calculated and displayed.\n",
    "\n",
    "The `np.histogram` function can return either the counts in the bins (`density=False`), or the estimated probability function (`density=True`)."
   ]
  },
  {
   "cell_type": "code",
   "execution_count": 299,
   "metadata": {
    "run_control": {
     "frozen": false,
     "read_only": false
    }
   },
   "outputs": [
    {
     "name": "stdout",
     "output_type": "stream",
     "text": [
      "Number of random numbers in input set is 10000\n",
      "Number of random numbers in filtered set is 3334\n",
      "Integrated PDF for all data = 0.9999\n",
      "Integrated PDF for selected data = 0.9998500299940011\n"
     ]
    },
    {
     "data": {
      "image/png": "[encoded data removed]",
      "text/plain": [
       "<Figure size 864x288 with 2 Axes>"
      ]
     },
     "metadata": {
      "needs_background": "light"
     },
     "output_type": "display_data"
    }
   ],
   "source": [
    "import numpy as np\n",
    "import pyradi.ryplot as ryplot\n",
    "%matplotlib inline\n",
    "\n",
    "rndAll = np.random.randn(10000)\n",
    "rndSel = rndAll[rndAll > 0.4]\n",
    "print('Number of random numbers in input set is {}'.format(rndAll.shape[0]))\n",
    "print('Number of random numbers in filtered set is {}'.format(rndSel.shape[0]))\n",
    "\n",
    "hAll, bAll = np.histogram(rndAll,bins=50)\n",
    "hSel, bSel = np.histogram(rndSel,bins=bAll) # use the bins \n",
    "\n",
    "p = ryplot.Plotter(1,1,2,figsize=(12,4))\n",
    "p.plot(1,bAll[1:],hAll,'', 'Amplitude', 'Count', label=['Full dataset'])\n",
    "p.plot(1,bSel[1:],hSel,'', 'Amplitude', 'Count', label=['Filtered dataset'])\n",
    "\n",
    "hAll, bAll = np.histogram(rndAll,bins=50, density=True)\n",
    "hSel, bSel = np.histogram(rndSel,bins=bAll, density=True) # use the bins \n",
    "p.plot(2,bAll[1:],hAll,'', 'Amplitude', 'Probability', label=['Full dataset'])\n",
    "p.plot(2,bSel[1:],hSel,'', 'Amplitude', 'Probability', label=['Filtered dataset'])\n",
    "\n",
    "print('Integrated PDF for all data = {}'.format(np.trapz(hAll,bAll[1:])))\n",
    "print('Integrated PDF for selected data = {}'.format(np.trapz(hSel,bSel[1:])))"
   ]
  },
  {
   "cell_type": "markdown",
   "metadata": {
    "run_control": {
     "frozen": false,
     "read_only": false
    }
   },
   "source": [
    "Further experimentation with array indexes with more complex logical patterns. We first create some data with no real physical significance, but all arrays have the same length, as if these are all time samples on the same timeline `a`.  Two selections are made, the first based only on the value of `b` and the second based on the value of `b` and `c`. These selections are index arrays with zeros where the conditions are not met, and ones where the conditions are met. The `selecx` index arrays are then used to extract only the required values from the `a`, `b`, `c` arrays when plotting.  To make the selected regions easier to spot, they are slightly shifted up or down. The plots are for the following selection filtering definitions:  \n",
    "\n",
    "* All values\n",
    "* b in the range (18,75)\n",
    "* b in the range (18,30) and c in the range [0,infinity]\n",
    "* b in the range (15,75) and c in the range [0,infinity], but at intervals of 1 on a axis.\n",
    "\n",
    "You can stick any number of logical tests inside the `np.all()`.\n"
   ]
  },
  {
   "cell_type": "code",
   "execution_count": 300,
   "metadata": {
    "run_control": {
     "frozen": false,
     "read_only": false
    }
   },
   "outputs": [
    {
     "name": "stdout",
     "output_type": "stream",
     "text": [
      "[False False False ... False False False]\n",
      "a size (2001,)\n",
      "a for (b > 18., b<75) size (884,)\n",
      "a for (b > 18., b<30, c>=0) size (247,)\n",
      "a for (a%1==0, b > 15., b<75, c>0) size (4,)\n",
      "a for (a>1, a<2, d>4, d<5 ) size (597,)\n"
     ]
    },
    {
     "data": {
      "text/plain": [
       "<matplotlib.axes._subplots.AxesSubplot at 0x14823b70>"
      ]
     },
     "execution_count": 300,
     "metadata": {},
     "output_type": "execute_result"
    },
    {
     "data": {
      "image/png": "[encoded data removed]",
      "text/plain": [
       "<Figure size 648x288 with 1 Axes>"
      ]
     },
     "metadata": {
      "needs_background": "light"
     },
     "output_type": "display_data"
    }
   ],
   "source": [
    "%matplotlib inline\n",
    "import numpy as np\n",
    "import pyradi.ryutils as ryutils\n",
    "import pyradi.ryplot as ryplot\n",
    "\n",
    "a = np.linspace(0,10,2001)\n",
    "b = a ** 2.\n",
    "c = 10 * np.sin(b/(5 * np.pi))\n",
    "select0 = np.all([ b > 18., b<75], axis=0)\n",
    "select1 = np.all([ b > 18., b<30, c>=0], axis=0)\n",
    "select2 = np.all([ a%1==0, b > 15., b<75, c>0], axis=0)\n",
    "#the next line builds a complex selection of three sections from the larger set.\n",
    "select3 = np.logical_or(np.logical_or(np.all([ a>1, a<2], axis=0), np.all([ a>4, a<5], axis=0) ), \n",
    "                        np.all([ a>6, a<7], axis=0))\n",
    "\n",
    "print(select3)\n",
    "print('a size {}'.format(a.shape))\n",
    "print('a for (b > 18., b<75) size {}'.format(a[select0].shape))\n",
    "print('a for (b > 18., b<30, c>=0) size {}'.format(a[select1].shape))\n",
    "print('a for (a%1==0, b > 15., b<75, c>0) size {}'.format(a[select2].shape))\n",
    "print('a for (a>1, a<2, d>4, d<5 ) size {}'.format(a[select3].shape))\n",
    "\n",
    "p = ryplot.Plotter(1,figsize=(9,4))\n",
    "p.plot(1,a,b,'', 'a', 'y', label=['b : all values'])\n",
    "p.plot(1,a,c,'', 'a', 'y', label=['c : all values'])\n",
    "p.plot(1,a[select0],b[select0]+2, label=['b+2 :  b > 15., b<75'])\n",
    "p.plot(1,a[select0],c[select0]+2,label=['c+2 :  b > 15., b<75'])\n",
    "p.plot(1,a[select1],b[select1]-2,label=['b-2 : b > 15., b<75, c>0'])\n",
    "p.plot(1,a[select1],c[select1]-2,label=['c-2 : b > 15., b<75, c>0'])\n",
    "p.plot(1,a[select2],b[select2]-4,label=['b-4 : a%1==0, b > 15., b<75, c>0'],markers='x')\n",
    "p.plot(1,a[select2],c[select2]-4,label=['c-4 : a%1==0, b > 15., b<75, c>0'],markers='x')\n",
    "\n",
    "p.plot(1,a,5 * select3 * c-4,label=['c selectively multiplied'])\n"
   ]
  },
  {
   "cell_type": "markdown",
   "metadata": {
    "run_control": {
     "frozen": false,
     "read_only": false
    }
   },
   "source": [
    "## 2D selection after interpolation"
   ]
  },
  {
   "cell_type": "markdown",
   "metadata": {
    "run_control": {
     "frozen": false,
     "read_only": false
    }
   },
   "source": [
    "The code below takes a low-resolution 2D input and interpolates the data to a higher resolution.  The nature of the data, with high value at the edge of the domain, results in a poor interpolation output.   To obtain a better result, I mirrored the data across $x=0$  to obtain better values around $x=0$ (first graph).  The new data set is interpolated but now has values for $x<0$, which were required for interpolation but are not part of the valid result.  These additional values had to be truncated from the data.  This was done in the following code:\n",
    "\n",
    "    select = xnew.__ge__(0)\n",
    "    xnew = xnew[select].reshape(znew.shape[0],-1)\n",
    "    ynew = ynew[select].reshape(znew.shape[0],-1)\n",
    "    znew = znew[select].reshape(znew.shape[0],-1)\n",
    "\n",
    "where the first line returns a binary array with ones where the condition is true and zeros elsewhere.  This binary array is used to slice the mirrored data; but the returned value is a `(-1,)`-shaped array.  The array had to be reshaped to obtain the 2D form required.  The result is shown in the second graph."
   ]
  },
  {
   "cell_type": "code",
   "execution_count": 301,
   "metadata": {
    "run_control": {
     "frozen": false,
     "read_only": false
    }
   },
   "outputs": [
    {
     "name": "stderr",
     "output_type": "stream",
     "text": [
      "C:\\ProgramData\\Anaconda3\\lib\\site-packages\\scipy\\interpolate\\_fitpack_impl.py:976: RuntimeWarning:\n",
      "\n",
      "No more knots can be added because the number of B-spline\n",
      "coefficients already exceeds the number of data points m.\n",
      "Probable causes: either s or m too small. (fp>s)\n",
      "\tkx,ky=3,3 nx,ny=26,43 m=820 fp=221.139521 s=0.000000\n",
      "\n"
     ]
    },
    {
     "data": {
      "image/png": "[encoded data removed]",
      "text/plain": [
       "<Figure size 576x216 with 2 Axes>"
      ]
     },
     "metadata": {
      "needs_background": "light"
     },
     "output_type": "display_data"
    }
   ],
   "source": [
    "from scipy import interpolate\n",
    "p = ryplot.Plotter(1,2,1,figsize=(8,3));\n",
    "z = np.asarray([\n",
    "    [300, 300, 300, 300, 300, 300, 300, 300, 300, 2400, 2400, 300, 300, 300, 300, 300, 300, 300, 300, 300],\n",
    "    [300, 300, 300, 300, 300, 300, 300, 300, 700, 2400, 2400, 700, 300, 300, 300, 300, 300, 300, 300, 300],\n",
    "    [300, 300, 300, 300, 300, 300, 300, 730, 2152, 2400, 2400, 2152, 730, 300, 300, 300, 300, 300, 300, 300],\n",
    "    [300, 300, 300, 300, 300, 300, 300, 1521, 2200, 2350, 2350, 2200, 1521, 300, 300, 300, 300, 300, 300, 300],\n",
    "    [300, 300, 300, 300, 300, 300, 510, 1620, 2050, 2200, 2200, 2050, 1620, 510, 300, 300, 300, 300, 300, 300],\n",
    "    [300, 300, 300, 300, 300, 485, 1000, 1620, 1900, 2050, 2050, 1900, 1620, 1000, 485, 300, 300, 300, 300, 300],\n",
    "    [300, 300, 300, 300, 300, 638, 1120, 1550, 1753, 1895, 1895, 1753, 1550, 1120, 638, 300, 300, 300, 300, 300],\n",
    "    [300, 300, 300, 300, 403, 750, 1150, 1450, 1620, 1728, 1728, 1620, 1450, 1150, 750, 403, 300, 300, 300, 300],\n",
    "    [300, 300, 300, 300, 495, 800, 1100, 1336, 1486, 1580, 1580, 1486, 1336, 1100, 800, 495, 300, 300, 300, 300],\n",
    "    [300, 300, 300, 350, 540, 805, 1009, 1200, 1325, 1393, 1393, 1325, 1200, 1009, 805, 540, 350, 300, 300, 300],\n",
    "    [300, 300, 331, 400, 580, 805, 920, 1025, 1129, 1200, 1200, 1129, 1025, 920, 805, 580, 400, 331, 300, 300],\n",
    "    [300, 300, 360, 429, 600, 760, 830, 900, 950, 1015, 1015, 950, 900, 830, 760, 600, 429, 360, 300, 300],\n",
    "    [300, 315, 380, 440, 570, 680, 760, 807.8, 840, 894, 894, 840, 807.8, 760, 680, 570, 440, 380, 315, 300],\n",
    "    [300, 330, 385, 440, 540, 610, 680, 717.3, 750, 790, 790, 750, 717.3, 680, 610, 540, 440, 385, 330, 300],\n",
    "    [300, 335, 380, 430, 488, 540, 595, 630, 663, 695, 695, 663, 630, 595, 540, 488, 430, 380, 335, 300],\n",
    "    [300, 335, 370, 404, 440, 490, 520, 553, 577.6, 613, 613, 577.6, 553, 520, 490, 440, 404, 370, 335, 300],\n",
    "    [300, 320, 354, 374, 400, 440, 470, 500, 513, 538, 538, 513, 500, 470, 440, 400, 374, 354, 320, 300],\n",
    "    [300, 310, 331, 347, 370, 400, 420, 440, 460, 477, 477, 460, 440, 420, 400, 370, 347, 331, 310, 300],\n",
    "    [300, 300, 300, 320, 340, 360, 370, 385, 400, 414.6, 414.6, 400, 385, 370, 360, 340, 320, 300, 300, 300],\n",
    "    [300, 300, 300, 300, 309, 317.9, 325, 330, 340, 350, 350, 340, 330, 325, 317.9, 309, 300, 300, 300, 300],\n",
    "    [300, 300, 300, 300, 300, 300, 300, 300, 300, 300, 300, 300, 300, 300, 300, 300, 300, 300, 300, 300]\n",
    "    ]).T\n",
    "z = np.hstack((np.fliplr(z)[:,:-1],z))\n",
    "xi = np.linspace(-10,10,z.shape[1])\n",
    "yi = np.linspace(-1,1,z.shape[0])\n",
    "x,y = np.meshgrid(xi,yi)\n",
    "p.meshContour(1, x,y,z);\n",
    "\n",
    "aa = np.hstack((y.reshape(-1,1),x.reshape(-1,1),z.reshape(-1,1) ))\n",
    "ynew, xnew = np.mgrid[-1:1:20j, -10:10:100j]\n",
    "tck = interpolate.bisplrep(aa[:,0], aa[:,1], aa[:,2], s=0 )\n",
    "znew = interpolate.bisplev(ynew[:,0], xnew[0,:], tck)\n",
    "\n",
    "select = xnew.__ge__(0)\n",
    "xnew = xnew[select].reshape(znew.shape[0],-1)\n",
    "ynew = ynew[select].reshape(znew.shape[0],-1)\n",
    "znew = znew[select].reshape(znew.shape[0],-1)\n",
    "\n",
    "p.meshContour(2, xnew, ynew, znew, levels=100, contourLine=False);\n"
   ]
  },
  {
   "cell_type": "markdown",
   "metadata": {
    "run_control": {
     "frozen": false,
     "read_only": false
    }
   },
   "source": [
    "### Piecewise functions and interpolation"
   ]
  },
  {
   "cell_type": "markdown",
   "metadata": {
    "run_control": {
     "frozen": false,
     "read_only": false
    }
   },
   "source": [
    "Suppose you want to construct a lookup table for $q$ given by\n",
    "\n",
    "|$q$ | $V$|\n",
    "|--|--|\n",
    "|1.6 | V$>$50 km|\n",
    "|1.3 | 6 km $>$ $V$ $>$ 50 km|\n",
    "|0.16$V$+0.34 | 1 km $>$ $V$ $>$ 6 km|\n",
    "|$V$-0.5 | 0.5 $>$ $V$ $>$ 1 km|\n",
    "|0 | $V$ $<$ 0.5 m|\n",
    "\n",
    "Note this this data is based on a horribly incorrect model of the atmosphere, the data and model are wrong, but serve to illustrate the numpy concepts.\n",
    "\n",
    "The code below constructs the table (`vis`,`q`), plots the results and create a linear interpolation lookup function.\n"
   ]
  },
  {
   "cell_type": "code",
   "execution_count": 302,
   "metadata": {
    "run_control": {
     "frozen": false,
     "read_only": false
    }
   },
   "outputs": [
    {
     "name": "stdout",
     "output_type": "stream",
     "text": [
      "Lookup value at vis=1 is 0.3815473782707687\n",
      "Lookup value at vis=5 is 1.1400000000000001\n",
      "Lookup value at vis=10 is 1.3\n",
      "Lookup value at vis=60 is 1.6\n"
     ]
    },
    {
     "data": {
      "image/png": "[encoded data removed]",
      "text/plain": [
       "<Figure size 576x288 with 1 Axes>"
      ]
     },
     "metadata": {
      "needs_background": "light"
     },
     "output_type": "display_data"
    }
   ],
   "source": [
    "vis = np.linspace(0.01,80,100)\n",
    "q = np.zeros(vis.shape)\n",
    "q += np.where(vis>50,1.6,0) \n",
    "q += np.where((vis>6)&(vis<=50),1.3,0) \n",
    "q += np.where((vis>1)&(vis<=6),0.16*vis+0.34,0) \n",
    "q += np.where((vis>0.5)&(vis<=1),vis-0.5,0) \n",
    "q += np.where(vis<=0.5,0,0) \n",
    "\n",
    "import pyradi.ryplot as ryplot\n",
    "%matplotlib inline\n",
    "p = ryplot.Plotter(1,1,1,figsize=(8,4))\n",
    "p.semilogX(1,vis,q,'','Visibility [km]','$q$')\n",
    "\n",
    "from scipy import interpolate\n",
    "f = interpolate.interp1d(vis,q)\n",
    "vs = [1,5,10,60]\n",
    "for v in vs:\n",
    "    print('Lookup value at vis={} is {}'.format(v,f(v)))"
   ]
  },
  {
   "cell_type": "markdown",
   "metadata": {
    "run_control": {
     "frozen": false,
     "read_only": false
    }
   },
   "source": [
    "SciPy has a number of interpolation options in `scipy.interpolate`.  The one-dimensional interpolation scheme enables the definition of the lookup table as a function by using `scipy.interpolate.interp1d`.  The user can define the interpolation scheme to be used - the default is `kind='linear'`, to do cubic interpolation use `kind='cubic'`.  In the example below obsserve the difference between the two schemes. This is an ill-posed problem: normally one would have a much denser input data set.  The purpose with using this poor data set it to illustrate the dangers of interpolation."
   ]
  },
  {
   "cell_type": "code",
   "execution_count": 303,
   "metadata": {
    "run_control": {
     "frozen": false,
     "read_only": false
    }
   },
   "outputs": [
    {
     "data": {
      "text/plain": [
       "<matplotlib.axes._subplots.AxesSubplot at 0x14846e80>"
      ]
     },
     "execution_count": 303,
     "metadata": {},
     "output_type": "execute_result"
    },
    {
     "data": {
      "image/png": "[encoded data removed]",
      "text/plain": [
       "<Figure size 576x288 with 1 Axes>"
      ]
     },
     "metadata": {
      "needs_background": "light"
     },
     "output_type": "display_data"
    }
   ],
   "source": [
    "from scipy import interpolate\n",
    "import pyradi.ryplot as ryplot\n",
    "import numpy as np\n",
    "%matplotlib inline\n",
    "\n",
    "# create input data in wavelength and wavenumber domain\n",
    "wl = np.asarray([1, 2, 5, 10])\n",
    "fn = np.asarray([2,3,1, 2])\n",
    "\n",
    "# create the plotting samples - much tighter than input data\n",
    "wli = np.linspace(1,10,100)\n",
    "\n",
    "#create the lookup functions\n",
    "fwll = interpolate.interp1d(wl,fn)\n",
    "fwlc = interpolate.interp1d(wl,fn, kind='cubic')\n",
    "\n",
    "p = ryplot.Plotter(1,1,1,figsize=(8,4))\n",
    "p.plot(1,wli,fwll(wli),label=['linear'])\n",
    "p.plot(1,wli,fwlc(wli),label=['cubic'])"
   ]
  },
  {
   "cell_type": "markdown",
   "metadata": {
    "run_control": {
     "frozen": false,
     "read_only": false
    }
   },
   "source": [
    "### Selective operations on elements in an array: Poisson distribution for large $\\lambda$"
   ]
  },
  {
   "cell_type": "markdown",
   "metadata": {
    "run_control": {
     "frozen": false,
     "read_only": false
    }
   },
   "source": [
    "The Poisson probability distribution describe the arrival/generation of discrete events, e.g., generation or arrival of photons in optical flux.  The noise variance $\\sigma^2$ in such a photon stream is equal to the mean value $\\lambda$.  The Poisson distribution is a discrete distribution and is defined only for integers.  A practical problem arises when the photon count is large: the numerical limits of integer arithmetic is exceeded in the Numpy `np.random.poisson` function.  \n",
    "\n",
    "For mean values exceeding 1000 the Normal distribution with mean and variance equal to $\\lambda$ is a [good approximation](http://en.wikipedia.org/wiki/Poisson_distribution#Related_distributions) to the Poisson distribution.  The Normal distribution is a real valued distribution and is not restricted by integer computation limits.  So we can use the Normal distribution for large $\\lambda$. However, for small $\\lambda$ it is a poor approximation, so we must use both, each in the appropriate case.  This can be done with array code of the form shown here, where `in` is the value of $\\lambda$:\n",
    "\n",
    "    out =  (inp<=1000) * np.random.poisson(inp * (inp<=1000) )\\\n",
    "          + (inp>1000) * np.random.normal(loc=inp, scale=np.sqrt(inp))\n",
    "\n",
    "where `(inp<=1000)` and `(inp>1000)` are boolean arrays of the same size as the input, but with values corresponding with the element-wise conditional truth. The result therefore comprises a combination of Poisson and Normal elements, element-wise conditional on the value of $\\lambda$. \n",
    "To prevent the integer overflow for large $\\lambda$ we also have to scale the value of $\\lambda$ with the conditional in the code `in * (inp<=1000)`, reducing the value to zero where it exceeds the threshold of 1000.\n",
    "\n",
    "The above code works well, provided that $\\lambda$ (`inp`) exceeds zero, because the Normal distribution is not kind to zero variance.  Conceptually it should just return the mean value, but computationally the implementation seems to want to divide by zero.  So we must prevent passing a zero standard deviation value to `np.random.normal`.  This can be done by adding a small value to the standard deviation, say `1e-10`. This should have negligible effect when $\\lambda>1000$, but not when $\\lambda$ is small, near zero.  For catch this condition we modify the code as follows:\n",
    "\n",
    "    out =  (inp<=1000) * np.random.poisson(inp * (inp<=1000) )\\\n",
    "          + ((inp>tpoint) & (inp!=0)) * np.random.normal(loc=inp, scale=np.sqrt(inp+1e-10))\n",
    "\n",
    "Now the Normal distribution value is only added for values exceeding zero.  "
   ]
  },
  {
   "cell_type": "code",
   "execution_count": 304,
   "metadata": {
    "run_control": {
     "frozen": false,
     "read_only": false
    }
   },
   "outputs": [
    {
     "name": "stdout",
     "output_type": "stream",
     "text": [
      "lam=0 mean=0.0 var=0.0 err-mean=nan err-var=nan\n",
      "lam=10 mean=10.00157 var=9.935967535100001 err-mean=-0.00015699999999991833 err-var=0.006403246489999859\n",
      "lam=995 mean=994.85224 var=1002.3970069823998 err-mean=0.00014850251256276218 err-var=-0.007434177871758623\n",
      "lam=999 mean=999.00536 var=998.5022312704001 err-mean=-5.365365365361396e-06 err-var=0.000498266996596494\n",
      "lam=1000 mean=1000.13227 var=1000.1079546471 err-mean=-0.0001322699999999486 err-var=-0.00010795464709997304\n",
      "lam=1001 mean=1001.0788476370413 var=994.0110498739375 err-mean=-7.876886817317594e-05 err-var=0.006981968157904587\n",
      "lam=1005 mean=1004.9567059858896 var=1007.863567028653 err-mean=4.307862100538851e-05 err-var=-0.002849320426520449\n",
      "lam=20000 mean=19999.82855794793 var=20033.282875893714 err-mean=8.572102603466192e-06 err-var=-0.0016641437946856967\n"
     ]
    },
    {
     "name": "stderr",
     "output_type": "stream",
     "text": [
      "C:\\ProgramData\\Anaconda3\\lib\\site-packages\\ipykernel_launcher.py:11: RuntimeWarning:\n",
      "\n",
      "invalid value encountered in double_scalars\n",
      "\n"
     ]
    }
   ],
   "source": [
    "import numpy as np\n",
    "tpoint = 1000\n",
    "sdelta = 1e-10\n",
    "asize = 100000 # you need values of more than 10000000 to get really good stats\n",
    "for lam in [0, 10, tpoint-5, tpoint-1, tpoint, tpoint+1, tpoint+5, 20000]:\n",
    "    inp = lam * np.ones((asize,1))\n",
    "    out =  (inp<=tpoint) * np.random.poisson(inp * (inp<=tpoint) )\\\n",
    "          + ((inp>tpoint) & (inp!=0)) * np.random.normal(loc=inp, scale=np.sqrt(inp+sdelta))\n",
    "        \n",
    "    print('lam={} mean={} var={} err-mean={} err-var={}'.format(lam, \n",
    "       np.mean(out),np.var(out), (lam-np.mean(out))/lam, (lam-np.var(out))/lam))"
   ]
  },
  {
   "cell_type": "markdown",
   "metadata": {
    "run_control": {
     "frozen": false,
     "read_only": false
    }
   },
   "source": [
    "### Numpy meshgrid"
   ]
  },
  {
   "cell_type": "markdown",
   "metadata": {
    "run_control": {
     "frozen": false,
     "read_only": false
    }
   },
   "source": [
    "The `numpy.meshgrid` function takes two vectors and returns two two-dimensional arrays that loop the vector values along the two orthogonal dimensions. The returned arrays are the same for any form of input vectors, (N,), (1,N), or (N,1).\n",
    "This is best illustrated by an example"
   ]
  },
  {
   "cell_type": "code",
   "execution_count": 305,
   "metadata": {
    "run_control": {
     "frozen": false,
     "read_only": false
    }
   },
   "outputs": [
    {
     "name": "stdout",
     "output_type": "stream",
     "text": [
      "valCols vector is  (shape=(5,)) \n",
      "[1 2 3 4 5]\n",
      "valRows vector is  (shape=(3,)) \n",
      "[10 20 30]\n",
      "varCol array is (shape=(3, 5))\n",
      "[[1 2 3 4 5]\n",
      " [1 2 3 4 5]\n",
      " [1 2 3 4 5]]\n",
      "varRow array is  (shape=(3, 5))\n",
      "[[10 10 10 10 10]\n",
      " [20 20 20 20 20]\n",
      " [30 30 30 30 30]]\n"
     ]
    }
   ],
   "source": [
    "valCols = np.asarray([1, 2, 3, 4, 5])\n",
    "valRows = np.asarray([10, 20, 30])\n",
    "varCol, varRow = np.meshgrid(valCols, valRows)\n",
    "print('valCols vector is  (shape={}) \\n{}'.format(valCols.shape,valCols))\n",
    "print('valRows vector is  (shape={}) \\n{}'.format(valRows.shape,valRows))\n",
    "print('varCol array is (shape={})\\n{}'.format(varCol.shape,varCol))\n",
    "print('varRow array is  (shape={})\\n{}'.format(varRow.shape,varRow))"
   ]
  },
  {
   "cell_type": "markdown",
   "metadata": {
    "run_control": {
     "frozen": false,
     "read_only": false
    }
   },
   "source": [
    "The `numpy.meshgrid` function was conceived to create a two-dimensional grid, e.g., for a cartesian grid. Because the two arrays returned contains variations along rows and along columns only, these arrays can be used in any function that requires to operate on two parameters.\n",
    "\n",
    "In the following example a square cartesian grid on [-2,2] is formed.  `numpy.meshgrid` is used to create two arrays for varying x and varying y.  The two arrays are flattened (made into (N,)) and then a relatively complex function is applied to the data. After the function call the data is reshaped back to the original shape.  Note that the calculation over two dimensions is done without any `for` loops."
   ]
  },
  {
   "cell_type": "code",
   "execution_count": 306,
   "metadata": {
    "run_control": {
     "frozen": false,
     "read_only": false
    }
   },
   "outputs": [
    {
     "data": {
      "text/plain": [
       "<matplotlib.axes._subplots.Axes3DSubplot at 0x14baba58>"
      ]
     },
     "execution_count": 306,
     "metadata": {},
     "output_type": "execute_result"
    },
    {
     "data": {
      "image/png": "[encoded data removed]",
      "text/plain": [
       "<Figure size 720x432 with 2 Axes>"
      ]
     },
     "metadata": {
      "needs_background": "light"
     },
     "output_type": "display_data"
    }
   ],
   "source": [
    "import numpy as np\n",
    "import pyradi.ryplot as ryplot\n",
    "from matplotlib import cm\n",
    "\n",
    "def myFunc(x,y):\n",
    "  scale = np.sqrt(np.exp(-(x**2 +y**2)))\n",
    "  return np.sin(2 * x) * np.cos(4 * y) * scale\n",
    "\n",
    "x = np.linspace(-2, 2, 101)\n",
    "y = np.linspace(-2, 2, 101)\n",
    "varx, vary = np.meshgrid(x, y)\n",
    "zdata = myFunc(varx.flatten(), vary.flatten()).reshape(varx.shape)\n",
    "\n",
    "p = ryplot.Plotter(1,1,1,figsize=(10,6))\n",
    "p.mesh3D(1, varx, vary, zdata, ptitle='Title', xlabel='x', ylabel='y', zlabel='z',\n",
    "  rstride=3, cstride=3, linewidth= 0.3, maxNX=5, maxNY=5, maxNZ=0,\n",
    "  drawGrid=True, cbarshow=True, alpha=0.5)"
   ]
  },
  {
   "cell_type": "markdown",
   "metadata": {
    "run_control": {
     "frozen": false,
     "read_only": false
    }
   },
   "source": [
    "### Ranges with complex / imaginary step sizes\n",
    "\n",
    "`numpy.mgrid()`  can be used to construct 1d ranges as a convenient substitute for arange. It also allows the use of complex-numbers in the step-size to indicate the number of points to place between the (inclusive) end-points. The real purpose of this function however is to produce N, N-d arrays which provide coordinate arrays for an N-dimensional volume. \n",
    "\n",
    "If the step length is not a complex number, then the stop is not inclusive and the step size is interpreted as a step increment.  However, if the step length is a complex number (e.g. 5j), then the integer part of its magnitude is interpreted as specifying the number of points to create between the start and stop values, where the stop value is inclusive.\n",
    "\n",
    "http://docs.scipy.org/doc/numpy-1.10.0/reference/generated/numpy.mgrid.html  \n",
    "http://docs.scipy.org/doc/scipy/reference/tutorial/basic.html"
   ]
  },
  {
   "cell_type": "code",
   "execution_count": 307,
   "metadata": {
    "run_control": {
     "frozen": false,
     "read_only": false
    }
   },
   "outputs": [
    {
     "name": "stdout",
     "output_type": "stream",
     "text": [
      "[-5  0]\n",
      "[-5.  -2.5  0.   2.5  5. ]\n"
     ]
    }
   ],
   "source": [
    "import numpy as np\n",
    "a = np.mgrid[-5:5:5]\n",
    "print(a)\n",
    "ai = np.mgrid[-5:5:5j]\n",
    "print(ai)"
   ]
  },
  {
   "cell_type": "markdown",
   "metadata": {
    "run_control": {
     "frozen": false,
     "read_only": false
    }
   },
   "source": [
    "### Numpy integration and meshgrid"
   ]
  },
  {
   "cell_type": "markdown",
   "metadata": {
    "run_control": {
     "frozen": false,
     "read_only": false
    }
   },
   "source": [
    "Integration in Numpy is quite easy, the function `numpy.trapz` does all the work:"
   ]
  },
  {
   "cell_type": "code",
   "execution_count": 308,
   "metadata": {
    "run_control": {
     "frozen": false,
     "read_only": false
    }
   },
   "outputs": [
    {
     "name": "stdout",
     "output_type": "stream",
     "text": [
      "Integral of sin over [0,pi/2] in 4 samples is 0.9770486166568533 \n",
      "Integral of sin over [0,pi/2] in 11 samples is 0.9979429863543573 \n",
      "Integral of sin over [0,pi/2] in 101 samples is 0.9999794382396074 \n",
      "Integral of sin over [0,pi/2] in 1001 samples is 0.999999794383233 \n",
      "Integral of sin over [0,pi/2] in 100001 samples is 0.999999999979438 \n"
     ]
    }
   ],
   "source": [
    "for n in [4, 11, 101, 1001, 100001]:\n",
    "    t = np.linspace(0,  np.pi/2, n)\n",
    "    s = np.sin(t)\n",
    "    int = np.trapz(s, t, axis=0)\n",
    "    print('Integral of sin over [0,pi/2] in {} samples is {} '.format(n,int))"
   ]
  },
  {
   "cell_type": "markdown",
   "metadata": {
    "run_control": {
     "frozen": false,
     "read_only": false
    }
   },
   "source": [
    "A recurring pattern in the use of pyradi is the integration of a two-dimensional dataset along one of the dimensions. In most programming languages, this would require at least one or possibly two loops over the dimensions.  The `numpy.meshgrid` function has the potential of trading the complexity of looping against the complexity of loop abstraction.\n",
    "\n",
    "In the example below the inband blackbody radiance over a spectral detector is calculated using\n",
    "\n",
    "$\n",
    "L_{\\rm inband} = \\int_0^\\infty R_\\lambda L_\\lambda(T) d\\lambda \\approx \\sum_{0.1 \\mu{\\rm m}}^{7 \\mu{\\rm m}} R_\\lambda L_\\lambda(T) d\\lambda \n",
    "$\n",
    "\n",
    "The wavelength spectral domain (shape (S,1)) is calculated from a short wavelength up to 7 $\\mu$m, covering the detector spectral band.  The detector spectral response (shape (S,1)) is calculated using using a function from `pyradi.ryutils`. A range of source temperatures is defined (shape (T,1)).  The same spectral range used to calculate the detector is used to calculate the blackbody radiance, using `pyradi.ryplanck.planck`.  The value returned by `ryplanck.planck` is a two-dimensional (shape (S,T)) array with spectral variation across the rows (axis=0) and temperature variation across the columns (axis=1).  The challenge is now to multiply each column in the radiance table with the spectral responsivity, without using a loop.  The `numpy.meshgrid` function is used to calculate an array with the responsivity variation along the rows, but with exactly the same values in all columns. Once this new array is available, it is multiplied with the radiance array. After multiplication the columns in the new array contain the product of $R_\\lambda L_\\lambda(T)$, with each column at a different temperature.  The summation/integral is then performed by using `numpy.trapz` and integrating along axis=0 (rows), which is the direction of spectral variation.  The resulting vector is the integral over all wavelengths, for the different temperatures."
   ]
  },
  {
   "cell_type": "code",
   "execution_count": 309,
   "metadata": {
    "run_control": {
     "frozen": false,
     "read_only": false
    }
   },
   "outputs": [
    {
     "data": {
      "text/plain": [
       "<matplotlib.axes._subplots.AxesSubplot at 0x14c11278>"
      ]
     },
     "execution_count": 309,
     "metadata": {},
     "output_type": "execute_result"
    },
    {
     "data": {
      "image/png": "[encoded data removed]",
      "text/plain": [
       "<Figure size 1296x288 with 2 Axes>"
      ]
     },
     "metadata": {
      "needs_background": "light"
     },
     "output_type": "display_data"
    }
   ],
   "source": [
    "import pyradi.ryutils as ryutils\n",
    "import pyradi.ryplanck as ryplanck\n",
    "wavelength = np.linspace(0.1, 7, 305).reshape(-1, 1)\n",
    "detector = ryutils.responsivity(wavelength, 6.1, 1, 15, 1.0)\n",
    "temperatures = np.linspace(280, 1000, 41)\n",
    "spectralBaseline = ryplanck.planck(wavelength,temperatures,'el') / np.pi\n",
    "_, detVar = np.meshgrid(temperatures, detector)\n",
    "spectralWeighted = spectralBaseline * detVar\n",
    "inbandRadiance = np.trapz(spectralWeighted, wavelength, axis=0 )\n",
    "\n",
    "p = ryplot.Plotter(2,1,3,figsize=(18,4))\n",
    "p.plot(1,wavelength,detector,'Detector responsivity','Wavelength $\\mu$m', 'Responsivity A/W',pltaxis=[0.5,7,0,0.8])\n",
    "p.plot(2,temperatures,inbandRadiance,'Inband radiance vs temperature','Temperature K', 'Inband radiance W/(m$^2$.sr)')"
   ]
  },
  {
   "cell_type": "markdown",
   "metadata": {
    "run_control": {
     "frozen": false,
     "read_only": false
    }
   },
   "source": [
    "## Row-wise dot product \n",
    "\n",
    "http://stackoverflow.com/questions/26168363/elegant-expression-for-row-wise-dot-product-of-two-matrices\n",
    "\n",
    "Suppose you have two arrays of vectors, both  with shape (N,3).  Each row in each array respresents a 3D coordinate.  The angle between the corresponding 3D vectors can be determined from the dot product along along axis=1."
   ]
  },
  {
   "cell_type": "code",
   "execution_count": 310,
   "metadata": {
    "run_control": {
     "frozen": false,
     "read_only": false
    }
   },
   "outputs": [
    {
     "name": "stdout",
     "output_type": "stream",
     "text": [
      "[[0.80448323 0.19108891 0.56239822]\n",
      " [0.24581628 0.40091136 0.88252163]\n",
      " [0.69804014 0.6162673  0.36462937]\n",
      " [0.68476491 0.17489737 0.70746584]] [1. 1. 1. 1.]\n",
      "[[0.45313605 0.57592591 0.68042418]\n",
      " [0.59690134 0.54071123 0.59273953]\n",
      " [0.68986775 0.17542454 0.7023594 ]\n",
      " [0.72139538 0.0930113  0.68624894]] [1. 1. 1. 1.]\n",
      "[0.5408667  0.48083116 0.56279965 0.09221335]\n"
     ]
    }
   ],
   "source": [
    "#create random arrays and normalise\n",
    "def make3darrays(shp):\n",
    "    a = np.random.random(shp)\n",
    "    a = a / np.linalg.norm(a,axis=1).reshape(-1,1)\n",
    "    return (a)\n",
    "\n",
    "#make two arrays\n",
    "a = make3darrays((4,3))\n",
    "b = make3darrays((4,3))\n",
    "\n",
    "# conform apprpriate shape\n",
    "print(a, np.linalg.norm(a,axis=1))\n",
    "print(b, np.linalg.norm(b,axis=1))\n",
    "\n",
    "ang = np.arccos(np.clip(np.sum(a*b,axis=1),-1,1))\n",
    "\n",
    "print(ang)\n",
    "\n"
   ]
  },
  {
   "cell_type": "markdown",
   "metadata": {
    "run_control": {
     "frozen": false,
     "read_only": false
    }
   },
   "source": [
    "## Overflow errors in Numpy"
   ]
  },
  {
   "cell_type": "markdown",
   "metadata": {
    "run_control": {
     "frozen": false,
     "read_only": false
    }
   },
   "source": [
    "Thanks to Bertus Theron for this input.\n",
    "\n",
    "It refers to the fact that (for older versions of Python) neither exception nor warning is raised by Numpy when an integer overflow is encountered.  Later versions of Python cause an error. Test with this example:\n"
   ]
  },
  {
   "cell_type": "code",
   "execution_count": 311,
   "metadata": {
    "collapsed": true,
    "jupyter": {
     "outputs_hidden": true
    },
    "run_control": {
     "frozen": false,
     "read_only": false
    }
   },
   "outputs": [],
   "source": [
    "#Calculation without neither receiving warning nor exception encountered\n",
    "# a = np.array( [400,  300], dtype = np.int32 )\n",
    "# print(a)\n",
    "# a**4\n",
    "#note that IPython does warn you"
   ]
  },
  {
   "cell_type": "markdown",
   "metadata": {
    "run_control": {
     "frozen": false,
     "read_only": false
    }
   },
   "source": [
    "How to make Numpy raise an exception for the same calculation"
   ]
  },
  {
   "cell_type": "code",
   "execution_count": 312,
   "metadata": {
    "collapsed": true,
    "jupyter": {
     "outputs_hidden": true
    },
    "run_control": {
     "frozen": false,
     "read_only": false
    }
   },
   "outputs": [],
   "source": [
    "# np.seterr( invalid='raise' )\n",
    "# a**4"
   ]
  },
  {
   "cell_type": "markdown",
   "metadata": {
    "run_control": {
     "frozen": false,
     "read_only": false
    }
   },
   "source": [
    "The default NumPy error handling setting is: invalid = \"warn\"  \n",
    "I notice that this warning is correctly trapped for scalar NumPy integers and for single-element NumPy arrays,\n",
    "BUT not trapped for NumPy arrays with 2 or more elements. \n",
    "\n",
    "Regarding numpy.seterr(), the NumPy documentation says  \n",
    "\n",
    "      numpy.seterr(all=None, divide=None, over=None, under=None, invalid=None)[source]\n",
    "       Set how floating-point errors are handled.\n",
    "and  \n",
    "\n",
    "      Note that operations on integer scalar types (such as int16) are handled like floating point, and are affected by these settings.\n",
    " "
   ]
  },
  {
   "cell_type": "markdown",
   "metadata": {
    "run_control": {
     "frozen": false,
     "read_only": false
    }
   },
   "source": [
    "## Algebraic Manipulation with SymPy"
   ]
  },
  {
   "cell_type": "markdown",
   "metadata": {
    "run_control": {
     "frozen": false,
     "read_only": false
    }
   },
   "source": [
    "SymPy performs symbolic mathematical manipulation and evaluation.  The output from SymPy can be displayed in the IPython notebook. \n",
    "\n",
    "<http://nbviewer.ipython.org/github/jrjohansson/scientific-python-lectures/blob/master/Lecture-5-Sympy.ipynb>  \n",
    "<http://docs.sympy.org/dev/tutorial/printing.html>  \n",
    "<https://stackoverflow.com/questions/19470796/ipython-notebook-output-latex-or-mathjax>  "
   ]
  },
  {
   "cell_type": "code",
   "execution_count": 313,
   "metadata": {
    "run_control": {
     "frozen": false,
     "read_only": false
    }
   },
   "outputs": [
    {
     "name": "stdout",
     "output_type": "stream",
     "text": [
      "$\\frac{e_{0}^{3} e_{1}^{2} - e_{0}^{3} e_{1} - e_{0}^{2} e_{1}^{3} + e_{0}^{2} + e_{0} e_{1}^{3} - e_{1}^{2}}{e_{0} e_{1} - e_{0} - e_{1}}$\n"
     ]
    }
   ],
   "source": [
    "from sympy import *\n",
    "init_printing()\n",
    "e0 = Symbol('e0')\n",
    "e1 = Symbol('e1')\n",
    "a = e1 ** 2 * (1- e0) - e0 ** 2 * (1 - e1) + \\\n",
    "     (e1**2-e0**2)*(1-e0) *(1-e1)/ (1-(1-e0)*(1-e1))\n",
    "b = a.simplify()\n",
    "print('$'+latex(b)+'$')"
   ]
  },
  {
   "cell_type": "code",
   "execution_count": 314,
   "metadata": {
    "run_control": {
     "frozen": false,
     "read_only": false
    }
   },
   "outputs": [
    {
     "data": {
      "image/png": "[encoded data removed]",
      "text/latex": [
       "$$- e_{0}^{2} \\left(- e_{1} + 1\\right) + e_{1}^{2} \\left(- e_{0} + 1\\right) + \\frac{\\left(- e_{0} + 1\\right) \\left(- e_{0}^{2} + e_{1}^{2}\\right) \\left(- e_{1} + 1\\right)}{- \\left(- e_{0} + 1\\right) \\left(- e_{1} + 1\\right) + 1}$$"
      ],
      "text/plain": [
       "                                            ⎛    2     2⎞          \n",
       "    2               2             (-e₀ + 1)⋅⎝- e₀  + e₁ ⎠⋅(-e₁ + 1)\n",
       "- e₀ ⋅(-e₁ + 1) + e₁ ⋅(-e₀ + 1) + ─────────────────────────────────\n",
       "                                       -(-e₀ + 1)⋅(-e₁ + 1) + 1    "
      ]
     },
     "execution_count": 314,
     "metadata": {},
     "output_type": "execute_result"
    }
   ],
   "source": [
    "# interactive.printing.init_printing(use_latex=True)\n",
    "a"
   ]
  },
  {
   "cell_type": "code",
   "execution_count": 315,
   "metadata": {
    "run_control": {
     "frozen": false,
     "read_only": false
    }
   },
   "outputs": [
    {
     "data": {
      "image/png": "[encoded data removed]",
      "text/latex": [
       "$$\\frac{e_{0}^{3} e_{1}^{2} - e_{0}^{3} e_{1} - e_{0}^{2} e_{1}^{3} + e_{0}^{2} + e_{0} e_{1}^{3} - e_{1}^{2}}{e_{0} e_{1} - e_{0} - e_{1}}$$"
      ],
      "text/plain": [
       "  3   2     3        2   3     2        3     2\n",
       "e₀ ⋅e₁  - e₀ ⋅e₁ - e₀ ⋅e₁  + e₀  + e₀⋅e₁  - e₁ \n",
       "───────────────────────────────────────────────\n",
       "                e₀⋅e₁ - e₀ - e₁                "
      ]
     },
     "execution_count": 315,
     "metadata": {},
     "output_type": "execute_result"
    }
   ],
   "source": [
    "b"
   ]
  },
  {
   "cell_type": "code",
   "execution_count": 316,
   "metadata": {
    "run_control": {
     "frozen": false,
     "read_only": false
    }
   },
   "outputs": [
    {
     "name": "stdout",
     "output_type": "stream",
     "text": [
      "Matrix([[1, 2, 3], [4, 5, 6], [7, 8, 10]])\n",
      "Matrix([[3], [6], [9]])\n",
      "{(-1, 2, 0)}\n",
      "$\\left[\\begin{matrix}1 & 2 & 3\\\\4 & 5 & 6\\\\7 & 8 & 10\\end{matrix}\\right]$\n",
      "$\\left[\\begin{matrix}3\\\\6\\\\9\\end{matrix}\\right]$\n",
      "$\\left\\{\\left ( -1, \\quad 2, \\quad 0\\right )\\right\\}$\n"
     ]
    }
   ],
   "source": [
    "from sympy.solvers.solveset import linsolve\n",
    "from sympy import Matrix, S\n",
    "from sympy import symbols\n",
    "init_printing()\n",
    "x, y, z = symbols(\"x, y, z\")\n",
    "A = Matrix([[1, 2, 3], [4, 5, 6], [7, 8, 10]])\n",
    "b = Matrix([3, 6, 9])\n",
    "c = linsolve((A, b), [x, y, z])\n",
    "print(A)\n",
    "print(b)\n",
    "print(c)\n",
    "print('$'+latex(A)+'$')\n",
    "print('$'+latex(b)+'$')\n",
    "print('$'+latex(c)+'$')"
   ]
  },
  {
   "cell_type": "code",
   "execution_count": 317,
   "metadata": {
    "run_control": {
     "frozen": false,
     "read_only": false
    }
   },
   "outputs": [
    {
     "data": {
      "image/png": "[encoded data removed]",
      "text/latex": [
       "$$\\left[\\begin{matrix}1 & 2 & 3\\\\4 & 5 & 6\\\\7 & 8 & 10\\end{matrix}\\right]$$"
      ],
      "text/plain": [
       "⎡1  2  3 ⎤\n",
       "⎢        ⎥\n",
       "⎢4  5  6 ⎥\n",
       "⎢        ⎥\n",
       "⎣7  8  10⎦"
      ]
     },
     "execution_count": 317,
     "metadata": {},
     "output_type": "execute_result"
    }
   ],
   "source": [
    "A"
   ]
  },
  {
   "cell_type": "code",
   "execution_count": 318,
   "metadata": {
    "run_control": {
     "frozen": false,
     "read_only": false
    }
   },
   "outputs": [
    {
     "data": {
      "image/png": "[encoded data removed]",
      "text/latex": [
       "$$\\left[\\begin{matrix}3\\\\6\\\\9\\end{matrix}\\right]$$"
      ],
      "text/plain": [
       "⎡3⎤\n",
       "⎢ ⎥\n",
       "⎢6⎥\n",
       "⎢ ⎥\n",
       "⎣9⎦"
      ]
     },
     "execution_count": 318,
     "metadata": {},
     "output_type": "execute_result"
    }
   ],
   "source": [
    "b"
   ]
  },
  {
   "cell_type": "code",
   "execution_count": 319,
   "metadata": {
    "run_control": {
     "frozen": false,
     "read_only": false
    }
   },
   "outputs": [
    {
     "data": {
      "image/png": "[encoded data removed]",
      "text/latex": [
       "$$\\left\\{\\left ( -1, \\quad 2, \\quad 0\\right )\\right\\}$$"
      ],
      "text/plain": [
       "{(-1, 2, 0)}"
      ]
     },
     "execution_count": 319,
     "metadata": {},
     "output_type": "execute_result"
    }
   ],
   "source": [
    "c"
   ]
  },
  {
   "cell_type": "code",
   "execution_count": 320,
   "metadata": {
    "run_control": {
     "frozen": false,
     "read_only": false
    }
   },
   "outputs": [
    {
     "name": "stdout",
     "output_type": "stream",
     "text": [
      "Matrix([[0, 0, 1, 0, 0, 0, 0, 0], [1, 0, 1, 0, 0, 0, -x1, 0], [1, 1, 1, 0, 0, 0, -x2, -x2], [0, 1, 1, 0, 0, 0, 0, -x3], [0, 0, 0, 0, 0, 1, 0, 0], [0, 0, 0, 1, 0, 1, -y1, 0], [0, 0, 0, 1, 1, 1, -y2, -y2], [0, 0, 0, 0, 1, 1, 0, -y3]])\n",
      "\n",
      "Matrix([[a33*x0], [a33*x1], [a33*x2], [a33*x3], [a33*y0], [a33*y1], [a33*y2], [a33*y3]])\n",
      "\n",
      "{(a33*(x0*x2*y1 - x0*x2*y3 - x0*x3*y1 + x0*x3*y2 - x1*x2*y0 + x1*x2*y3 + x1*x3*y0 - x1*x3*y2)/(x1*y2 - x1*y3 - x2*y1 + x2*y3 + x3*y1 - x3*y2), -a33*(x3*((x1 - x2)*(y0 - y1 + y2 - y3) - (y1 - y2)*(x0 - x1 + x2 - x3)) + (x0 - x3)*((x1 - x2)*(y2 - y3) - (x2 - x3)*(y1 - y2)))/((x1 - x2)*(y2 - y3) - (x2 - x3)*(y1 - y2)), a33*x0, a33*(x0*y1*y2 - x0*y1*y3 - x1*y0*y2 + x1*y0*y3 - x2*y0*y3 + x2*y1*y3 + x3*y0*y2 - x3*y1*y2)/(x1*y2 - x1*y3 - x2*y1 + x2*y3 + x3*y1 - x3*y2), a33*(x0*y1*y3 - x0*y2*y3 - x1*y0*y2 + x1*y2*y3 + x2*y0*y1 - x2*y1*y3 - x3*y0*y1 + x3*y0*y2)/(x1*y2 - x1*y3 - x2*y1 + x2*y3 + x3*y1 - x3*y2), a33*y0, a33*(x0*y2 - x0*y3 - x1*y2 + x1*y3 - x2*y0 + x2*y1 + x3*y0 - x3*y1)/(x1*y2 - x1*y3 - x2*y1 + x2*y3 + x3*y1 - x3*y2), a33*(-(x1 - x2)*(y0 - y1 + y2 - y3) + (y1 - y2)*(x0 - x1 + x2 - x3))/((x1 - x2)*(y2 - y3) - (x2 - x3)*(y1 - y2)))}\n",
      "\n",
      "$\\left[\\begin{matrix}0 & 0 & 1 & 0 & 0 & 0 & 0 & 0\\\\1 & 0 & 1 & 0 & 0 & 0 & - x_{1} & 0\\\\1 & 1 & 1 & 0 & 0 & 0 & - x_{2} & - x_{2}\\\\0 & 1 & 1 & 0 & 0 & 0 & 0 & - x_{3}\\\\0 & 0 & 0 & 0 & 0 & 1 & 0 & 0\\\\0 & 0 & 0 & 1 & 0 & 1 & - y_{1} & 0\\\\0 & 0 & 0 & 1 & 1 & 1 & - y_{2} & - y_{2}\\\\0 & 0 & 0 & 0 & 1 & 1 & 0 & - y_{3}\\end{matrix}\\right]$\n",
      "\n",
      "$\\left[\\begin{matrix}a_{33} x_{0}\\\\a_{33} x_{1}\\\\a_{33} x_{2}\\\\a_{33} x_{3}\\\\a_{33} y_{0}\\\\a_{33} y_{1}\\\\a_{33} y_{2}\\\\a_{33} y_{3}\\end{matrix}\\right]$\n",
      "\n",
      "$\\left\\{\\left ( \\frac{a_{33} \\left(x_{0} x_{2} y_{1} - x_{0} x_{2} y_{3} - x_{0} x_{3} y_{1} + x_{0} x_{3} y_{2} - x_{1} x_{2} y_{0} + x_{1} x_{2} y_{3} + x_{1} x_{3} y_{0} - x_{1} x_{3} y_{2}\\right)}{x_{1} y_{2} - x_{1} y_{3} - x_{2} y_{1} + x_{2} y_{3} + x_{3} y_{1} - x_{3} y_{2}}, \\quad - \\frac{a_{33} \\left(x_{3} \\left(\\left(x_{1} - x_{2}\\right) \\left(y_{0} - y_{1} + y_{2} - y_{3}\\right) - \\left(y_{1} - y_{2}\\right) \\left(x_{0} - x_{1} + x_{2} - x_{3}\\right)\\right) + \\left(x_{0} - x_{3}\\right) \\left(\\left(x_{1} - x_{2}\\right) \\left(y_{2} - y_{3}\\right) - \\left(x_{2} - x_{3}\\right) \\left(y_{1} - y_{2}\\right)\\right)\\right)}{\\left(x_{1} - x_{2}\\right) \\left(y_{2} - y_{3}\\right) - \\left(x_{2} - x_{3}\\right) \\left(y_{1} - y_{2}\\right)}, \\quad a_{33} x_{0}, \\quad \\frac{a_{33} \\left(x_{0} y_{1} y_{2} - x_{0} y_{1} y_{3} - x_{1} y_{0} y_{2} + x_{1} y_{0} y_{3} - x_{2} y_{0} y_{3} + x_{2} y_{1} y_{3} + x_{3} y_{0} y_{2} - x_{3} y_{1} y_{2}\\right)}{x_{1} y_{2} - x_{1} y_{3} - x_{2} y_{1} + x_{2} y_{3} + x_{3} y_{1} - x_{3} y_{2}}, \\quad \\frac{a_{33} \\left(x_{0} y_{1} y_{3} - x_{0} y_{2} y_{3} - x_{1} y_{0} y_{2} + x_{1} y_{2} y_{3} + x_{2} y_{0} y_{1} - x_{2} y_{1} y_{3} - x_{3} y_{0} y_{1} + x_{3} y_{0} y_{2}\\right)}{x_{1} y_{2} - x_{1} y_{3} - x_{2} y_{1} + x_{2} y_{3} + x_{3} y_{1} - x_{3} y_{2}}, \\quad a_{33} y_{0}, \\quad \\frac{a_{33} \\left(x_{0} y_{2} - x_{0} y_{3} - x_{1} y_{2} + x_{1} y_{3} - x_{2} y_{0} + x_{2} y_{1} + x_{3} y_{0} - x_{3} y_{1}\\right)}{x_{1} y_{2} - x_{1} y_{3} - x_{2} y_{1} + x_{2} y_{3} + x_{3} y_{1} - x_{3} y_{2}}, \\quad \\frac{a_{33} \\left(- \\left(x_{1} - x_{2}\\right) \\left(y_{0} - y_{1} + y_{2} - y_{3}\\right) + \\left(y_{1} - y_{2}\\right) \\left(x_{0} - x_{1} + x_{2} - x_{3}\\right)\\right)}{\\left(x_{1} - x_{2}\\right) \\left(y_{2} - y_{3}\\right) - \\left(x_{2} - x_{3}\\right) \\left(y_{1} - y_{2}\\right)}\\right )\\right\\}$\n"
     ]
    }
   ],
   "source": [
    "from sympy.solvers.solveset import linsolve\n",
    "from sympy import Matrix, S\n",
    "from sympy import symbols\n",
    "\n",
    "x0, x1, x2, x3, y0, y1, y2, y3 = symbols('x0, x1, x2, x3, y0, y1, y2, y3')\n",
    "a11, a21, a31, a12, a22, a32, a13, a23, a33 = symbols('a11, a21, a31, a12, a22, a32, a13, a23, a33')\n",
    "\n",
    "A = Matrix([\n",
    "\t[0,0,1,0,0,0,  0,  0],\n",
    "\t[1,0,1,0,0,0,-x1,  0],\n",
    "\t[1,1,1,0,0,0,-x2,-x2],\n",
    "\t[0,1,1,0,0,0,  0,-x3],\n",
    "\t[0,0,0,0,0,1,  0,  0],\n",
    "\t[0,0,0,1,0,1,-y1,  0],\n",
    "\t[0,0,0,1,1,1,-y2,-y2],\n",
    "\t[0,0,0,0,1,1,  0,-y3]\n",
    "\t])\n",
    "b = Matrix([a33*x0,a33*x1,a33*x2,a33*x3,a33*y0,a33*y1,a33*y2,a33*y3])\n",
    "# b = Matrix([x0,x1,x2,x3,y0,y1,y2,y3])\n",
    "a = linsolve((A, b), [a11,a21,a31,a12,a22,a32,a13,a23])\n",
    "print(A)\n",
    "print('')\n",
    "print(b)\n",
    "print('')\n",
    "print(a)\n",
    "print('')\n",
    "print('$'+latex(A)+'$')\n",
    "print('')\n",
    "print('$'+latex(b)+'$')\n",
    "print('')\n",
    "print('$'+latex(a)+'$')"
   ]
  },
  {
   "cell_type": "code",
   "execution_count": 321,
   "metadata": {
    "run_control": {
     "frozen": false,
     "read_only": false
    }
   },
   "outputs": [
    {
     "data": {
      "image/png": "[encoded data removed]",
      "text/latex": [
       "$$\\left[\\begin{matrix}0 & 0 & 1 & 0 & 0 & 0 & 0 & 0\\\\1 & 0 & 1 & 0 & 0 & 0 & - x_{1} & 0\\\\1 & 1 & 1 & 0 & 0 & 0 & - x_{2} & - x_{2}\\\\0 & 1 & 1 & 0 & 0 & 0 & 0 & - x_{3}\\\\0 & 0 & 0 & 0 & 0 & 1 & 0 & 0\\\\0 & 0 & 0 & 1 & 0 & 1 & - y_{1} & 0\\\\0 & 0 & 0 & 1 & 1 & 1 & - y_{2} & - y_{2}\\\\0 & 0 & 0 & 0 & 1 & 1 & 0 & - y_{3}\\end{matrix}\\right]$$"
      ],
      "text/plain": [
       "⎡0  0  1  0  0  0   0    0 ⎤\n",
       "⎢                          ⎥\n",
       "⎢1  0  1  0  0  0  -x₁   0 ⎥\n",
       "⎢                          ⎥\n",
       "⎢1  1  1  0  0  0  -x₂  -x₂⎥\n",
       "⎢                          ⎥\n",
       "⎢0  1  1  0  0  0   0   -x₃⎥\n",
       "⎢                          ⎥\n",
       "⎢0  0  0  0  0  1   0    0 ⎥\n",
       "⎢                          ⎥\n",
       "⎢0  0  0  1  0  1  -y₁   0 ⎥\n",
       "⎢                          ⎥\n",
       "⎢0  0  0  1  1  1  -y₂  -y₂⎥\n",
       "⎢                          ⎥\n",
       "⎣0  0  0  0  1  1   0   -y₃⎦"
      ]
     },
     "execution_count": 321,
     "metadata": {},
     "output_type": "execute_result"
    }
   ],
   "source": [
    "A"
   ]
  },
  {
   "cell_type": "code",
   "execution_count": 322,
   "metadata": {
    "run_control": {
     "frozen": false,
     "read_only": false
    }
   },
   "outputs": [
    {
     "data": {
      "image/png": "[encoded data removed]",
      "text/latex": [
       "$$\\left[\\begin{matrix}a_{33} x_{0}\\\\a_{33} x_{1}\\\\a_{33} x_{2}\\\\a_{33} x_{3}\\\\a_{33} y_{0}\\\\a_{33} y_{1}\\\\a_{33} y_{2}\\\\a_{33} y_{3}\\end{matrix}\\right]$$"
      ],
      "text/plain": [
       "⎡a₃₃⋅x₀⎤\n",
       "⎢      ⎥\n",
       "⎢a₃₃⋅x₁⎥\n",
       "⎢      ⎥\n",
       "⎢a₃₃⋅x₂⎥\n",
       "⎢      ⎥\n",
       "⎢a₃₃⋅x₃⎥\n",
       "⎢      ⎥\n",
       "⎢a₃₃⋅y₀⎥\n",
       "⎢      ⎥\n",
       "⎢a₃₃⋅y₁⎥\n",
       "⎢      ⎥\n",
       "⎢a₃₃⋅y₂⎥\n",
       "⎢      ⎥\n",
       "⎣a₃₃⋅y₃⎦"
      ]
     },
     "execution_count": 322,
     "metadata": {},
     "output_type": "execute_result"
    }
   ],
   "source": [
    "b"
   ]
  },
  {
   "cell_type": "code",
   "execution_count": 323,
   "metadata": {
    "run_control": {
     "frozen": false,
     "read_only": false
    }
   },
   "outputs": [
    {
     "data": {
      "image/png": "[encoded data removed]",
      "text/latex": [
       "$$\\left\\{\\left ( \\frac{a_{33} \\left(x_{0} x_{2} y_{1} - x_{0} x_{2} y_{3} - x_{0} x_{3} y_{1} + x_{0} x_{3} y_{2} - x_{1} x_{2} y_{0} + x_{1} x_{2} y_{3} + x_{1} x_{3} y_{0} - x_{1} x_{3} y_{2}\\right)}{x_{1} y_{2} - x_{1} y_{3} - x_{2} y_{1} + x_{2} y_{3} + x_{3} y_{1} - x_{3} y_{2}}, \\quad - \\frac{a_{33} \\left(x_{3} \\left(\\left(x_{1} - x_{2}\\right) \\left(y_{0} - y_{1} + y_{2} - y_{3}\\right) - \\left(y_{1} - y_{2}\\right) \\left(x_{0} - x_{1} + x_{2} - x_{3}\\right)\\right) + \\left(x_{0} - x_{3}\\right) \\left(\\left(x_{1} - x_{2}\\right) \\left(y_{2} - y_{3}\\right) - \\left(x_{2} - x_{3}\\right) \\left(y_{1} - y_{2}\\right)\\right)\\right)}{\\left(x_{1} - x_{2}\\right) \\left(y_{2} - y_{3}\\right) - \\left(x_{2} - x_{3}\\right) \\left(y_{1} - y_{2}\\right)}, \\quad a_{33} x_{0}, \\quad \\frac{a_{33} \\left(x_{0} y_{1} y_{2} - x_{0} y_{1} y_{3} - x_{1} y_{0} y_{2} + x_{1} y_{0} y_{3} - x_{2} y_{0} y_{3} + x_{2} y_{1} y_{3} + x_{3} y_{0} y_{2} - x_{3} y_{1} y_{2}\\right)}{x_{1} y_{2} - x_{1} y_{3} - x_{2} y_{1} + x_{2} y_{3} + x_{3} y_{1} - x_{3} y_{2}}, \\quad \\frac{a_{33} \\left(x_{0} y_{1} y_{3} - x_{0} y_{2} y_{3} - x_{1} y_{0} y_{2} + x_{1} y_{2} y_{3} + x_{2} y_{0} y_{1} - x_{2} y_{1} y_{3} - x_{3} y_{0} y_{1} + x_{3} y_{0} y_{2}\\right)}{x_{1} y_{2} - x_{1} y_{3} - x_{2} y_{1} + x_{2} y_{3} + x_{3} y_{1} - x_{3} y_{2}}, \\quad a_{33} y_{0}, \\quad \\frac{a_{33} \\left(x_{0} y_{2} - x_{0} y_{3} - x_{1} y_{2} + x_{1} y_{3} - x_{2} y_{0} + x_{2} y_{1} + x_{3} y_{0} - x_{3} y_{1}\\right)}{x_{1} y_{2} - x_{1} y_{3} - x_{2} y_{1} + x_{2} y_{3} + x_{3} y_{1} - x_{3} y_{2}}, \\quad \\frac{a_{33} \\left(- \\left(x_{1} - x_{2}\\right) \\left(y_{0} - y_{1} + y_{2} - y_{3}\\right) + \\left(y_{1} - y_{2}\\right) \\left(x_{0} - x_{1} + x_{2} - x_{3}\\right)\\right)}{\\left(x_{1} - x_{2}\\right) \\left(y_{2} - y_{3}\\right) - \\left(x_{2} - x_{3}\\right) \\left(y_{1} - y_{2}\\right)}\\right )\\right\\}$$"
      ],
      "text/plain": [
       "⎧⎛a₃₃⋅(x₀⋅x₂⋅y₁ - x₀⋅x₂⋅y₃ - x₀⋅x₃⋅y₁ + x₀⋅x₃⋅y₂ - x₁⋅x₂⋅y₀ + x₁⋅x₂⋅y₃ + x₁⋅x₃\n",
       "⎨⎜────────────────────────────────────────────────────────────────────────────\n",
       "⎩⎝                       x₁⋅y₂ - x₁⋅y₃ - x₂⋅y₁ + x₂⋅y₃ + x₃⋅y₁ - x₃⋅y₂        \n",
       "\n",
       "⋅y₀ - x₁⋅x₃⋅y₂)  -a₃₃⋅(x₃⋅((x₁ - x₂)⋅(y₀ - y₁ + y₂ - y₃) - (y₁ - y₂)⋅(x₀ - x₁ \n",
       "───────────────, ─────────────────────────────────────────────────────────────\n",
       "                                                             (x₁ - x₂)⋅(y₂ - y\n",
       "\n",
       "+ x₂ - x₃)) + (x₀ - x₃)⋅((x₁ - x₂)⋅(y₂ - y₃) - (x₂ - x₃)⋅(y₁ - y₂)))          \n",
       "─────────────────────────────────────────────────────────────────────, a₃₃⋅x₀,\n",
       "₃) - (x₂ - x₃)⋅(y₁ - y₂)                                                      \n",
       "\n",
       " a₃₃⋅(x₀⋅y₁⋅y₂ - x₀⋅y₁⋅y₃ - x₁⋅y₀⋅y₂ + x₁⋅y₀⋅y₃ - x₂⋅y₀⋅y₃ + x₂⋅y₁⋅y₃ + x₃⋅y₀⋅\n",
       " ─────────────────────────────────────────────────────────────────────────────\n",
       "                        x₁⋅y₂ - x₁⋅y₃ - x₂⋅y₁ + x₂⋅y₃ + x₃⋅y₁ - x₃⋅y₂         \n",
       "\n",
       "y₂ - x₃⋅y₁⋅y₂)  a₃₃⋅(x₀⋅y₁⋅y₃ - x₀⋅y₂⋅y₃ - x₁⋅y₀⋅y₂ + x₁⋅y₂⋅y₃ + x₂⋅y₀⋅y₁ - x₂\n",
       "──────────────, ──────────────────────────────────────────────────────────────\n",
       "                                       x₁⋅y₂ - x₁⋅y₃ - x₂⋅y₁ + x₂⋅y₃ + x₃⋅y₁ -\n",
       "\n",
       "⋅y₁⋅y₃ - x₃⋅y₀⋅y₁ + x₃⋅y₀⋅y₂)          a₃₃⋅(x₀⋅y₂ - x₀⋅y₃ - x₁⋅y₂ + x₁⋅y₃ - x₂\n",
       "─────────────────────────────, a₃₃⋅y₀, ───────────────────────────────────────\n",
       " x₃⋅y₂                                            x₁⋅y₂ - x₁⋅y₃ - x₂⋅y₁ + x₂⋅y\n",
       "\n",
       "⋅y₀ + x₂⋅y₁ + x₃⋅y₀ - x₃⋅y₁)  a₃₃⋅(-(x₁ - x₂)⋅(y₀ - y₁ + y₂ - y₃) + (y₁ - y₂)⋅\n",
       "────────────────────────────, ────────────────────────────────────────────────\n",
       "₃ + x₃⋅y₁ - x₃⋅y₂                          (x₁ - x₂)⋅(y₂ - y₃) - (x₂ - x₃)⋅(y₁\n",
       "\n",
       "(x₀ - x₁ + x₂ - x₃))⎞⎫\n",
       "────────────────────⎟⎬\n",
       " - y₂)              ⎠⎭"
      ]
     },
     "execution_count": 323,
     "metadata": {},
     "output_type": "execute_result"
    }
   ],
   "source": [
    "a"
   ]
  },
  {
   "cell_type": "markdown",
   "metadata": {
    "run_control": {
     "frozen": false,
     "read_only": false
    }
   },
   "source": [
    "### Euler angle sequence rotation\n",
    "\n",
    "The next few cells calculate the rotation matrix for a sequence of Euler angle object-fixed (passive) rotations.  In these rotations the axes or frame for the rotation moves with the object that rotates.\n",
    "\n",
    "These rotation matrices assume the coordinate to be a row vector that is post-multiplied by the transformation matrix:\n",
    "\n",
    "$$\n",
    "v^\\prime = (v_x, v_y,v_z)\n",
    "\\left[\\begin{array}\n",
    "a_{11}&a_{12}&a_{13}\\\\\n",
    "a_{21}&a_{22}&a_{23}\\\\\n",
    "a_{31}&a_{32}&a_{33}\\\\\n",
    "\\end{array} \\right]\n",
    "$$"
   ]
  },
  {
   "cell_type": "code",
   "execution_count": 324,
   "metadata": {
    "collapsed": true,
    "jupyter": {
     "outputs_hidden": true
    },
    "run_control": {
     "frozen": false,
     "read_only": false
    }
   },
   "outputs": [],
   "source": [
    "## \n",
    "import sympy\n",
    "# Symbolic version of rotation matrices\n",
    "def Rx_s(sym=r'psi'):\n",
    "    ''' Symbolic rotation matrix about the x-axis, by an angle sym '''\n",
    "    symR = sympy.Symbol(sym)\n",
    "    return sympy.Matrix([[1,0,0],\n",
    "    [0, sympy.cos(symR), -sympy.sin(symR)],\n",
    "    [0, sympy.sin(symR), sympy.cos(symR)]])\n",
    "\n",
    "def Ry_s(sym=r'phi'):\n",
    "    ''' Symbolic rotation matrix about the y-axis, by an angle sym '''\n",
    "    symR = sympy.Symbol(sym)\n",
    "    return sympy.Matrix([[sympy.cos(symR),0, sympy.sin(symR)],\n",
    "    [0,1,0],\n",
    "    [-sympy.sin(symR), 0, sympy.cos(symR)]])\n",
    "\n",
    "def Rz_s(sym=r'theta'):\n",
    "    ''' Symbolic rotation matrix about the z-axis, by an angle sym '''\n",
    "    symR = sympy.Symbol(sym)\n",
    "    return sympy.Matrix([[sympy.cos(symR), -sympy.sin(symR), 0],\n",
    "    [sympy.sin(symR), sympy.cos(symR), 0],\n",
    "    [0, 0, 1]])\n"
   ]
  },
  {
   "cell_type": "markdown",
   "metadata": {
    "run_control": {
     "frozen": false,
     "read_only": false
    }
   },
   "source": [
    "Rotation around the $x$ axis:"
   ]
  },
  {
   "cell_type": "code",
   "execution_count": 325,
   "metadata": {
    "run_control": {
     "frozen": false,
     "read_only": false
    }
   },
   "outputs": [
    {
     "data": {
      "image/png": "[encoded data removed]",
      "text/latex": [
       "$$\\left[\\begin{matrix}1 & 0 & 0\\\\0 & \\cos{\\left (\\psi \\right )} & - \\sin{\\left (\\psi \\right )}\\\\0 & \\sin{\\left (\\psi \\right )} & \\cos{\\left (\\psi \\right )}\\end{matrix}\\right]$$"
      ],
      "text/plain": [
       "⎡1    0        0   ⎤\n",
       "⎢                  ⎥\n",
       "⎢0  cos(ψ)  -sin(ψ)⎥\n",
       "⎢                  ⎥\n",
       "⎣0  sin(ψ)  cos(ψ) ⎦"
      ]
     },
     "execution_count": 325,
     "metadata": {},
     "output_type": "execute_result"
    }
   ],
   "source": [
    "Rx_s('psi')"
   ]
  },
  {
   "cell_type": "markdown",
   "metadata": {
    "run_control": {
     "frozen": false,
     "read_only": false
    }
   },
   "source": [
    "Rotation around the $y$ axis:"
   ]
  },
  {
   "cell_type": "code",
   "execution_count": 326,
   "metadata": {
    "run_control": {
     "frozen": false,
     "read_only": false
    }
   },
   "outputs": [
    {
     "data": {
      "image/png": "[encoded data removed]",
      "text/latex": [
       "$$\\left[\\begin{matrix}\\cos{\\left (\\phi \\right )} & 0 & \\sin{\\left (\\phi \\right )}\\\\0 & 1 & 0\\\\- \\sin{\\left (\\phi \\right )} & 0 & \\cos{\\left (\\phi \\right )}\\end{matrix}\\right]$$"
      ],
      "text/plain": [
       "⎡cos(φ)   0  sin(φ)⎤\n",
       "⎢                  ⎥\n",
       "⎢   0     1    0   ⎥\n",
       "⎢                  ⎥\n",
       "⎣-sin(φ)  0  cos(φ)⎦"
      ]
     },
     "execution_count": 326,
     "metadata": {},
     "output_type": "execute_result"
    }
   ],
   "source": [
    "Ry_s('phi')"
   ]
  },
  {
   "cell_type": "markdown",
   "metadata": {
    "run_control": {
     "frozen": false,
     "read_only": false
    }
   },
   "source": [
    "Rotation around the $z$ axis:"
   ]
  },
  {
   "cell_type": "code",
   "execution_count": 327,
   "metadata": {
    "run_control": {
     "frozen": false,
     "read_only": false
    }
   },
   "outputs": [
    {
     "data": {
      "image/png": "[encoded data removed]",
      "text/latex": [
       "$$\\left[\\begin{matrix}\\cos{\\left (\\theta \\right )} & - \\sin{\\left (\\theta \\right )} & 0\\\\\\sin{\\left (\\theta \\right )} & \\cos{\\left (\\theta \\right )} & 0\\\\0 & 0 & 1\\end{matrix}\\right]$$"
      ],
      "text/plain": [
       "⎡cos(θ)  -sin(θ)  0⎤\n",
       "⎢                  ⎥\n",
       "⎢sin(θ)  cos(θ)   0⎥\n",
       "⎢                  ⎥\n",
       "⎣  0        0     1⎦"
      ]
     },
     "execution_count": 327,
     "metadata": {},
     "output_type": "execute_result"
    }
   ],
   "source": [
    "Rz_s('theta')"
   ]
  },
  {
   "cell_type": "markdown",
   "metadata": {
    "run_control": {
     "frozen": false,
     "read_only": false
    }
   },
   "source": [
    "The Fick rotation sequence rotates first around the $z$ axis, then the $y$ axis and finally the $x$ axis.  "
   ]
  },
  {
   "cell_type": "code",
   "execution_count": 328,
   "metadata": {
    "run_control": {
     "frozen": false,
     "read_only": false
    }
   },
   "outputs": [
    {
     "data": {
      "image/png": "[encoded data removed]",
      "text/latex": [
       "$$\\left[\\begin{matrix}\\cos{\\left (\\phi \\right )} \\cos{\\left (\\theta \\right )} & \\sin{\\left (\\phi \\right )} \\sin{\\left (\\psi \\right )} \\cos{\\left (\\theta \\right )} - \\sin{\\left (\\theta \\right )} \\cos{\\left (\\psi \\right )} & \\sin{\\left (\\phi \\right )} \\cos{\\left (\\psi \\right )} \\cos{\\left (\\theta \\right )} + \\sin{\\left (\\psi \\right )} \\sin{\\left (\\theta \\right )}\\\\\\sin{\\left (\\theta \\right )} \\cos{\\left (\\phi \\right )} & \\sin{\\left (\\phi \\right )} \\sin{\\left (\\psi \\right )} \\sin{\\left (\\theta \\right )} + \\cos{\\left (\\psi \\right )} \\cos{\\left (\\theta \\right )} & \\sin{\\left (\\phi \\right )} \\sin{\\left (\\theta \\right )} \\cos{\\left (\\psi \\right )} - \\sin{\\left (\\psi \\right )} \\cos{\\left (\\theta \\right )}\\\\- \\sin{\\left (\\phi \\right )} & \\sin{\\left (\\psi \\right )} \\cos{\\left (\\phi \\right )} & \\cos{\\left (\\phi \\right )} \\cos{\\left (\\psi \\right )}\\end{matrix}\\right]$$"
      ],
      "text/plain": [
       "⎡cos(φ)⋅cos(θ)  sin(φ)⋅sin(ψ)⋅cos(θ) - sin(θ)⋅cos(ψ)  sin(φ)⋅cos(ψ)⋅cos(θ) + s\n",
       "⎢                                                                             \n",
       "⎢sin(θ)⋅cos(φ)  sin(φ)⋅sin(ψ)⋅sin(θ) + cos(ψ)⋅cos(θ)  sin(φ)⋅sin(θ)⋅cos(ψ) - s\n",
       "⎢                                                                             \n",
       "⎣   -sin(φ)                sin(ψ)⋅cos(φ)                         cos(φ)⋅cos(ψ)\n",
       "\n",
       "in(ψ)⋅sin(θ)⎤\n",
       "            ⎥\n",
       "in(ψ)⋅cos(θ)⎥\n",
       "            ⎥\n",
       "            ⎦"
      ]
     },
     "execution_count": 328,
     "metadata": {},
     "output_type": "execute_result"
    }
   ],
   "source": [
    "Rz_s()*Ry_s()*Rx_s()"
   ]
  },
  {
   "cell_type": "markdown",
   "metadata": {
    "run_control": {
     "frozen": false,
     "read_only": false
    }
   },
   "source": [
    "Calculate the inverse of the Fick matrix. Rotation matrices are symmetrical, hence the inverse is the same as the transpose.\n",
    "\n",
    "The product of three inverse matrices does not calculate correctly, so it was necessary to simplify the inverse. A second simplification was necessary to simplify the equations to the results shown below."
   ]
  },
  {
   "cell_type": "code",
   "execution_count": 329,
   "metadata": {
    "run_control": {
     "frozen": false,
     "read_only": false
    }
   },
   "outputs": [
    {
     "data": {
      "image/png": "[encoded data removed]",
      "text/latex": [
       "$$\\left[\\begin{matrix}\\cos{\\left (\\phi \\right )} \\cos{\\left (\\theta \\right )} & \\sin{\\left (\\theta \\right )} \\cos{\\left (\\phi \\right )} & - \\sin{\\left (\\phi \\right )}\\\\\\sin{\\left (\\phi \\right )} \\sin{\\left (\\psi \\right )} \\cos{\\left (\\theta \\right )} - \\sin{\\left (\\theta \\right )} \\cos{\\left (\\psi \\right )} & \\sin{\\left (\\phi \\right )} \\sin{\\left (\\psi \\right )} \\sin{\\left (\\theta \\right )} + \\cos{\\left (\\psi \\right )} \\cos{\\left (\\theta \\right )} & \\sin{\\left (\\psi \\right )} \\cos{\\left (\\phi \\right )}\\\\\\sin{\\left (\\phi \\right )} \\cos{\\left (\\psi \\right )} \\cos{\\left (\\theta \\right )} + \\sin{\\left (\\psi \\right )} \\sin{\\left (\\theta \\right )} & \\sin{\\left (\\phi \\right )} \\sin{\\left (\\theta \\right )} \\cos{\\left (\\psi \\right )} - \\sin{\\left (\\psi \\right )} \\cos{\\left (\\theta \\right )} & \\cos{\\left (\\phi \\right )} \\cos{\\left (\\psi \\right )}\\end{matrix}\\right]$$"
      ],
      "text/plain": [
       "⎡           cos(φ)⋅cos(θ)                         sin(θ)⋅cos(φ)               \n",
       "⎢                                                                             \n",
       "⎢sin(φ)⋅sin(ψ)⋅cos(θ) - sin(θ)⋅cos(ψ)  sin(φ)⋅sin(ψ)⋅sin(θ) + cos(ψ)⋅cos(θ)  s\n",
       "⎢                                                                             \n",
       "⎣sin(φ)⋅cos(ψ)⋅cos(θ) + sin(ψ)⋅sin(θ)  sin(φ)⋅sin(θ)⋅cos(ψ) - sin(ψ)⋅cos(θ)  c\n",
       "\n",
       "  -sin(φ)   ⎤\n",
       "            ⎥\n",
       "in(ψ)⋅cos(φ)⎥\n",
       "            ⎥\n",
       "os(φ)⋅cos(ψ)⎦"
      ]
     },
     "execution_count": 329,
     "metadata": {},
     "output_type": "execute_result"
    }
   ],
   "source": [
    "R3I =   sympy.trigsimp(sympy.trigsimp(sympy.Inverse(Rz_s())))\n",
    "R2I =   sympy.trigsimp(sympy.trigsimp(sympy.Inverse(Ry_s())))\n",
    "R1I =   sympy.trigsimp(sympy.trigsimp(sympy.Inverse(Rx_s())))\n",
    "\n",
    "\n",
    "R1I * R2I * R3I"
   ]
  },
  {
   "cell_type": "markdown",
   "metadata": {
    "run_control": {
     "frozen": false,
     "read_only": false
    }
   },
   "source": [
    "The array can also be output as LaTeX for inclusion in a report:"
   ]
  },
  {
   "cell_type": "code",
   "execution_count": 330,
   "metadata": {
    "run_control": {
     "frozen": false,
     "read_only": false
    }
   },
   "outputs": [
    {
     "data": {
      "text/plain": [
       "'\\\\left[\\\\begin{matrix}\\\\cos{\\\\left (\\\\phi \\\\right )} \\\\cos{\\\\left (\\\\theta \\\\right )} & \\\\sin{\\\\left (\\\\theta \\\\right )} \\\\cos{\\\\left (\\\\phi \\\\right )} & - \\\\sin{\\\\left (\\\\phi \\\\right )}\\\\\\\\\\\\sin{\\\\left (\\\\phi \\\\right )} \\\\sin{\\\\left (\\\\psi \\\\right )} \\\\cos{\\\\left (\\\\theta \\\\right )} - \\\\sin{\\\\left (\\\\theta \\\\right )} \\\\cos{\\\\left (\\\\psi \\\\right )} & \\\\sin{\\\\left (\\\\phi \\\\right )} \\\\sin{\\\\left (\\\\psi \\\\right )} \\\\sin{\\\\left (\\\\theta \\\\right )} + \\\\cos{\\\\left (\\\\psi \\\\right )} \\\\cos{\\\\left (\\\\theta \\\\right )} & \\\\sin{\\\\left (\\\\psi \\\\right )} \\\\cos{\\\\left (\\\\phi \\\\right )}\\\\\\\\\\\\sin{\\\\left (\\\\phi \\\\right )} \\\\cos{\\\\left (\\\\psi \\\\right )} \\\\cos{\\\\left (\\\\theta \\\\right )} + \\\\sin{\\\\left (\\\\psi \\\\right )} \\\\sin{\\\\left (\\\\theta \\\\right )} & \\\\sin{\\\\left (\\\\phi \\\\right )} \\\\sin{\\\\left (\\\\theta \\\\right )} \\\\cos{\\\\left (\\\\psi \\\\right )} - \\\\sin{\\\\left (\\\\psi \\\\right )} \\\\cos{\\\\left (\\\\theta \\\\right )} & \\\\cos{\\\\left (\\\\phi \\\\right )} \\\\cos{\\\\left (\\\\psi \\\\right )}\\\\end{matrix}\\\\right]'"
      ]
     },
     "execution_count": 330,
     "metadata": {},
     "output_type": "execute_result"
    }
   ],
   "source": [
    "sympy.latex(R1I * R2I * R3I)"
   ]
  },
  {
   "cell_type": "markdown",
   "metadata": {
    "run_control": {
     "frozen": false,
     "read_only": false
    }
   },
   "source": [
    "## Regular Expressions"
   ]
  },
  {
   "cell_type": "markdown",
   "metadata": {
    "run_control": {
     "frozen": false,
     "read_only": false
    }
   },
   "source": [
    "<https://www3.ntu.edu.sg/home/ehchua/programming/howto/Regexe.html>  \n",
    "    \n",
    "    "
   ]
  },
  {
   "cell_type": "markdown",
   "metadata": {
    "run_control": {
     "frozen": false,
     "read_only": false
    }
   },
   "source": [
    "## Optimizing and performance tricks"
   ]
  },
  {
   "cell_type": "markdown",
   "metadata": {
    "run_control": {
     "frozen": false,
     "read_only": false
    }
   },
   "source": [
    "[The Top Mistakes Developers Make When Using Python for Big Data Analytics](https://www.airpair.com/python/posts/top-mistakes-python-big-data-analytics)  \n",
    "\n"
   ]
  },
  {
   "cell_type": "markdown",
   "metadata": {
    "run_control": {
     "frozen": false,
     "read_only": false
    }
   },
   "source": [
    "## References and garbage collection"
   ]
  },
  {
   "cell_type": "markdown",
   "metadata": {
    "run_control": {
     "frozen": false,
     "read_only": false
    }
   },
   "source": [
    "Python has built-in garbage collection, which for most tasks appear to work reasonably well.  In some cases however the standard garbage collection methodology may not suffice and user intervention may be required.\n",
    "Python's garbage collection and its intricacies requires a complete, separate notebook, but here is a summary.  What follows is my present understanding, which is incomplete and may even be wrong in places.\n",
    "\n",
    "Python's memory model uses a reference-to-a-data-item with associated [reference counting](http://edcjones.tripod.com/refcount.html) approach.  Some data item is allocated memory and a reference to that memory is given when you 'assign' the data item to a name. So,\n",
    "\n",
    "    a = ['gg','hh']\n",
    "\n",
    "creates the data item (the list) and allocates a reference to this data item to the variable `a`. Note that the data item and the variable are two different things, `a` merely refers to the data item, it isn't the data item.\n",
    "\n",
    "An object is automatically marked to be collected when its reference count drops to zero.\n",
    "\n",
    "\n",
    "[gc – Python's Garbage Collector](https://pymotw.com/2/gc/)\n",
    "\n",
    "[Memory Management and Limits](https://pymotw.com/2/sys/limits.html)\n",
    "\n",
    "http://stackoverflow.com/questions/9617001/python-garbage-collection-fails\n",
    "\n",
    "http://python.6.x6.nabble.com/question-about-garbage-collection-td1661865.html\n",
    "\n",
    "http://stackoverflow.com/questions/16261240/releasing-memory-of-huge-numpy-array-in-ipython\n",
    "\n",
    "The `sys.getrefcount()` function shows the number of references attached/assigned to the data item. The count is [actually one higher](https://docs.python.org/2/library/sys.html#sys.getrefcount) than expected because there is a temporary reference to the object held by getrefcount() itself. \n",
    "\n",
    "References are removed by assigning the value `None` to the variable.  \n"
   ]
  },
  {
   "cell_type": "code",
   "execution_count": 331,
   "metadata": {
    "run_control": {
     "frozen": false,
     "read_only": false
    }
   },
   "outputs": [
    {
     "name": "stdout",
     "output_type": "stream",
     "text": [
      "before assigning ref  a  211714\n",
      "after  assigning ref  a  2\n",
      "after  assigning ref  b  3\n",
      "after  removing  ref  b  2\n",
      "after  removing  ref  a  211722\n"
     ]
    }
   ],
   "source": [
    "import sys\n",
    "a = None\n",
    "print('before assigning ref  a  {}'.format(sys.getrefcount(a)))\n",
    "a = ['gg','hh']\n",
    "print('after  assigning ref  a  {}'.format(sys.getrefcount(a)))\n",
    "b = a\n",
    "print('after  assigning ref  b  {}'.format(sys.getrefcount(a)))\n",
    "b = None\n",
    "print('after  removing  ref  b  {}'.format(sys.getrefcount(a)))\n",
    "a = None\n",
    "print('after  removing  ref  a  {}'.format(sys.getrefcount(a)))   "
   ]
  },
  {
   "cell_type": "markdown",
   "metadata": {
    "run_control": {
     "frozen": false,
     "read_only": false
    }
   },
   "source": [
    "When all references to a data item are removed, the data item still remains in memory, until removed by the Python garbage collector.  This may take place at any time (perhaps never at all during a short session) when the Python runtime feels like it.  The garbage collector is not able to remove all data items (I seem to recall that lists of floats and ints are not removed).\n",
    "\n",
    "You can force the garbage collector to clean up the memory by using [gc – Python's Garbage Collector](https://pymotw.com/2/gc/)"
   ]
  },
  {
   "cell_type": "code",
   "execution_count": 332,
   "metadata": {
    "run_control": {
     "frozen": false,
     "read_only": false
    }
   },
   "outputs": [
    {
     "data": {
      "image/png": "[encoded data removed]",
      "text/latex": [
       "$$1306$$"
      ],
      "text/plain": [
       "1306"
      ]
     },
     "execution_count": 332,
     "metadata": {},
     "output_type": "execute_result"
    }
   ],
   "source": [
    "import gc\n",
    "gc.collect()"
   ]
  },
  {
   "cell_type": "markdown",
   "metadata": {
    "run_control": {
     "frozen": false,
     "read_only": false
    }
   },
   "source": [
    "## Context Managers"
   ]
  },
  {
   "cell_type": "markdown",
   "metadata": {
    "run_control": {
     "frozen": false,
     "read_only": false
    }
   },
   "source": [
    "From <http://jeffknupp.com/blog/2016/03/07/python-with-context-managers/>:\n",
    "\n",
    "\"We need a convenient method for indicating a particular variable has some cleanup associated with it, and to guarantee that cleanup happens, no matter what. Given that requirement, the syntax for using context managers makes a lot of sense:\n",
    "\n",
    "    with something_that_returns_a_context_manager() as my_resource:\n",
    "        do_something(my_resource)\n",
    "        ...\n",
    "        print('done using my_resource')\n",
    "\n",
    "That's it! Using with, we can call anything that returns a context manager (like the built-in `open()` function). We assign it to a variable using `... as <variable_name>`. Crucially, the variable only exists within the indented block below the with statement. Think of with as creating a mini-function: we can use the variable freely in the indented portion, but once that block ends, the variable goes out of scope. When the variable goes out of scope, it automatically calls a special method that contains the code to clean up the resource.\"\n",
    "\n"
   ]
  },
  {
   "cell_type": "markdown",
   "metadata": {
    "run_control": {
     "frozen": false,
     "read_only": false
    }
   },
   "source": [
    "## HTTP server"
   ]
  },
  {
   "cell_type": "markdown",
   "metadata": {
    "run_control": {
     "frozen": false,
     "read_only": false
    }
   },
   "source": [
    "The following starts a simple HTTP server in the current working directory.\n",
    "\n",
    "    # Python 3.x\n",
    "    $ python3 -m http.server\n",
    "\n",
    "    # Python 2.x\n",
    "    $ python -m SimpleHTTPServer 8000\n",
    "\n",
    "See also here:  \n",
    "https://docs.python.org/3/library/http.server.html  \n",
    "https://docs.python.org/2.7/library/basehttpserver.html  \n",
    "and here:  \n",
    "https://gist.github.com/bradmontgomery/2219997   \n",
    "https://www.acmesystems.it/python_httpd   \n",
    "\n",
    "For more sophisticated applications consider one of the many full stack Python web frameworks such as Django, or a microframework such as Flask.  \n",
    "https://wiki.python.org/moin/WebFrameworks   \n",
    "https://www.airpair.com/python/posts/django-flask-pyramid  \n"
   ]
  },
  {
   "cell_type": "markdown",
   "metadata": {
    "run_control": {
     "frozen": false,
     "read_only": false
    }
   },
   "source": [
    "## Hardware interfacing"
   ]
  },
  {
   "cell_type": "markdown",
   "metadata": {
    "run_control": {
     "frozen": false,
     "read_only": false
    }
   },
   "source": [
    "### Serial ports\n",
    "\n",
    "Python can be used to interface to hardware, one such example investigated here is using the serial port to communicate.  The `pyserial` module provides this capability, see the [documentation](https://pyserial.readthedocs.org/en/latest/). It is on the Anaconda distribution but not included in the standard download.  To install type `conda install pyserial`  at the prompt in a command window.\n",
    "\n",
    "A simple example is shown  [here](http://www.varesano.net/blog/fabio/serial%20rs232%20connections%20python>). In [another example](http://lucsmall.com/2015/02/23/homebrew-esp8266-breakout/) `pyserial` is used to communicate with an ESP8266.  A detailed example is given [here](http://petrimaki.com/2013/04/28/reading-arduino-serial-ports-in-windows-7/).\n",
    "See this [example to read and plot data](https://www.lebsanft.org/?p=48). [This example](https://github.com/mba7/SerialPort-RealTime-Data-Plotter) gets data via a serial interface and then plot it in a GUI.\n",
    "\n",
    "\n",
    "\n",
    "It turns out that you need to run the Python code with Administrator rights, otherwise it will not grant you access to the COM port. \n",
    "\n",
    "### Communicating with an Arduino /ESP\n",
    "\n",
    "See these pages:\n",
    "\n",
    "1. http://fab.cba.mit.edu/classes/863.14/people/guy_zyskind/notebook.html\n",
    "1. http://lucsmall.com/2015/02/23/homebrew-esp8266-breakout/\n",
    "1. http://fab.cba.mit.edu/classes/863.14/people/guy_zyskind/week12.html\n",
    "1. https://github.com/guyz/interactive-arduino-programming\n",
    "\n"
   ]
  },
  {
   "cell_type": "markdown",
   "metadata": {
    "run_control": {
     "frozen": false,
     "read_only": false
    }
   },
   "source": [
    "## Python and module versions, and dates"
   ]
  },
  {
   "cell_type": "code",
   "execution_count": 333,
   "metadata": {
    "run_control": {
     "frozen": false,
     "read_only": false
    }
   },
   "outputs": [
    {
     "name": "stdout",
     "output_type": "stream",
     "text": [
      "last updated: 2019-07-04 2019-07-04T10:46:21+02:00\n",
      "\n",
      "CPython 3.7.3\n",
      "IPython 7.4.0\n",
      "\n",
      "numpy 1.16.2\n",
      "scipy 1.2.1\n",
      "pyradi 1.1.4\n",
      "pandas 0.24.2\n",
      "\n",
      "compiler   : MSC v.1915 64 bit (AMD64)\n",
      "system     : Windows\n",
      "release    : 7\n",
      "machine    : AMD64\n",
      "processor  : Intel64 Family 6 Model 94 Stepping 3, GenuineIntel\n",
      "CPU cores  : 8\n",
      "interpreter: 64bit\n",
      "Git hash   : d4801f54dae757c0581bf42c6667ba2d34151b55\n",
      "Git repo   : https://github.com/NelisW/ComputationalRadiometry.git\n",
      "Git branch : master\n"
     ]
    }
   ],
   "source": [
    "# to get software versions\n",
    "# https://github.com/rasbt/watermark\n",
    "# An IPython magic extension for printing date and time stamps, version numbers, and hardware information. \n",
    "# you only need to do this once\n",
    "# !pip install watermark\n",
    "# conda install -c conda-forge watermark\n",
    "\n",
    "# %load_ext watermark\n",
    "%watermark -v -m -p numpy,scipy,pyradi,pandas -g -r -u -d -b -i\n"
   ]
  },
  {
   "cell_type": "code",
   "execution_count": null,
   "metadata": {
    "collapsed": true,
    "jupyter": {
     "outputs_hidden": true
    },
    "run_control": {
     "frozen": false,
     "read_only": false
    }
   },
   "outputs": [],
   "source": []
  }
 ],
 "metadata": {
  "anaconda-cloud": {},
  "kernelspec": {
   "display_name": "Python 3",
   "language": "python",
   "name": "python3"
  },
  "language_info": {
   "codemirror_mode": {
    "name": "ipython",
    "version": 3
   },
   "file_extension": ".py",
   "mimetype": "text/x-python",
   "name": "python",
   "nbconvert_exporter": "python",
   "pygments_lexer": "ipython3",
   "version": "3.8.3"
  }
 },
 "nbformat": 4,
 "nbformat_minor": 4
}
